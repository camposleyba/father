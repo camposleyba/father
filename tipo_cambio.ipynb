{
 "cells": [
  {
   "cell_type": "code",
   "execution_count": 26,
   "id": "a99ebd3f-970c-4d55-af2a-da181cd511fe",
   "metadata": {},
   "outputs": [
    {
     "name": "stdout",
     "output_type": "stream",
     "text": [
      "Dolar U.S.A: \n",
      "------------\n",
      "Compra: 117,0000 \n",
      "Venta: 123,0000\n"
     ]
    }
   ],
   "source": [
    "import requests\n",
    "import re\n",
    "\n",
    "r = requests.get(\"https://www.bna.com.ar/Personas\")\n",
    "search_text = r.text\n",
    "dolar = re.search(r'<td class=\"tit\">Dolar U.S.A</td>',search_text)\n",
    "pos0 = dolar.span()[0]\n",
    "new_search_text = search_text[pos0:]\n",
    "fin_dolar = re.search(r'</tr>',new_search_text)\n",
    "pos1 = fin_dolar.span()[0]\n",
    "new_string = new_search_text[:pos1]\n",
    "tit = re.search(r'Dolar U.S.A',new_string)\n",
    "tit_ = new_string[16:27]\n",
    "compra = re.search(r'<td>',new_string)\n",
    "compra_ = new_string[66:74]\n",
    "new_str_venta = new_string[78:]\n",
    "venta = re.search(r'<td>',new_str_venta)\n",
    "venta_ = new_str_compra[35:43]\n",
    "\n",
    "print_str = \"{}: \\n------------\\nCompra: {} \\nVenta: {}\".format(tit_,compra_,venta_)\n",
    "print(print_str)\n"
   ]
  },
  {
   "cell_type": "code",
   "execution_count": null,
   "id": "9c54fce8-a012-4d77-a689-53bf1ca4d515",
   "metadata": {},
   "outputs": [],
   "source": []
  }
 ],
 "metadata": {
  "kernelspec": {
   "display_name": "Python 3 (ipykernel)",
   "language": "python",
   "name": "python3"
  },
  "language_info": {
   "codemirror_mode": {
    "name": "ipython",
    "version": 3
   },
   "file_extension": ".py",
   "mimetype": "text/x-python",
   "name": "python",
   "nbconvert_exporter": "python",
   "pygments_lexer": "ipython3",
   "version": "3.9.7"
  }
 },
 "nbformat": 4,
 "nbformat_minor": 5
}
