{
 "cells": [
  {
   "cell_type": "code",
   "execution_count": 28,
   "id": "a09c3e70-4e1e-4a6d-8f4a-793fe6d4f368",
   "metadata": {},
   "outputs": [
    {
     "data": {
      "text/plain": [
       "{'chuasw@my.ibm.com',\n",
       " 'fst@us.ibm.com',\n",
       " 'fuchanc@my.ibm.com',\n",
       " 'ivan_vajcik@sk.ibm.com',\n",
       " 'jana.palkova@sk.ibm.com',\n",
       " 'kristina.celigova@sk.ibm.com',\n",
       " 'limshun@my.ibm.com',\n",
       " 'livia.kacianova@sk.ibm.com',\n",
       " 'nizam@my.ibm.com',\n",
       " 'sona.hockova@sk.ibm.com',\n",
       " 'sotomar@ar.ibm.com'}"
      ]
     },
     "execution_count": 28,
     "metadata": {},
     "output_type": "execute_result"
    }
   ],
   "source": [
    "from urllib import request as req\n",
    "import json\n",
    "list_mgrs = []\n",
    "list_dsls = ['jakub.oravec@sk.ibm.com', 'vmakary@us.ibm.com', 'semeren@my.ibm.com',\n",
    "             'henrich_hostak@sk.ibm.com', 'katarina.predajnianska@ibm.com', 'jareb@my.ibm.com',\n",
    "             'tanbms@my.ibm.com', 'umana@ar.ibm.com', 'evinder@my.ibm.com', 'miroslava.tothova1@ibm.com',\n",
    "             'gabriela@sk.ibm.com', 'matus.miklas@sk.ibm.com']\n",
    "\n",
    "for dsl in list_dsls:\n",
    "    request = req.urlopen(\"https://w3-services1.w3-969.ibm.com/myw3/unified-profile/v1/docs/instances/masterByEmail?email=\"+dsl)\n",
    "    datos = request.read().decode()\n",
    "    dictdatos = json.loads(datos)\n",
    "    list_mgrs.append(dictdatos['content']['identity_info']['functionalManager']['preferredIdentity'])\n",
    "sindups = set(list_mgrs)\n",
    "sindups"
   ]
  },
  {
   "cell_type": "code",
   "execution_count": null,
   "id": "c4a74e38-8629-4d9a-b3d8-70200868267c",
   "metadata": {},
   "outputs": [],
   "source": []
  }
 ],
 "metadata": {
  "kernelspec": {
   "display_name": "Python 3 (ipykernel)",
   "language": "python",
   "name": "python3"
  },
  "language_info": {
   "codemirror_mode": {
    "name": "ipython",
    "version": 3
   },
   "file_extension": ".py",
   "mimetype": "text/x-python",
   "name": "python",
   "nbconvert_exporter": "python",
   "pygments_lexer": "ipython3",
   "version": "3.9.7"
  }
 },
 "nbformat": 4,
 "nbformat_minor": 5
}
