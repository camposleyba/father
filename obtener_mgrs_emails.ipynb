{
 "cells": [
  {
   "cell_type": "code",
   "execution_count": 28,
   "id": "a09c3e70-4e1e-4a6d-8f4a-793fe6d4f368",
   "metadata": {},
   "outputs": [
    {
     "data": {
      "text/plain": [
       "{'chuasw@my.ibm.com',\n",
       " 'fst@us.ibm.com',\n",
       " 'fuchanc@my.ibm.com',\n",
       " 'ivan_vajcik@sk.ibm.com',\n",
       " 'jana.palkova@sk.ibm.com',\n",
       " 'kristina.celigova@sk.ibm.com',\n",
       " 'limshun@my.ibm.com',\n",
       " 'livia.kacianova@sk.ibm.com',\n",
       " 'nizam@my.ibm.com',\n",
       " 'sona.hockova@sk.ibm.com',\n",
       " 'sotomar@ar.ibm.com'}"
      ]
     },
     "execution_count": 28,
     "metadata": {},
     "output_type": "execute_result"
    }
   ],
   "source": [
    "from urllib import request as req\n",
    "import json\n",
    "list_mgrs = []\n",
    "list_dsls = ['jakub.oravec@sk.ibm.com', 'vmakary@us.ibm.com', 'semeren@my.ibm.com',\n",
    "             'henrich_hostak@sk.ibm.com', 'katarina.predajnianska@ibm.com', 'jareb@my.ibm.com',\n",
    "             'tanbms@my.ibm.com', 'umana@ar.ibm.com', 'evinder@my.ibm.com', 'miroslava.tothova1@ibm.com',\n",
    "             'gabriela@sk.ibm.com', 'matus.miklas@sk.ibm.com']\n",
    "\n",
    "for dsl in list_dsls:\n",
    "    request = req.urlopen(\"https://w3-services1.w3-969.ibm.com/myw3/unified-profile/v1/docs/instances/masterByEmail?email=\"+dsl)\n",
    "    datos = request.read().decode()\n",
    "    dictdatos = json.loads(datos)\n",
    "    list_mgrs.append(dictdatos['content']['identity_info']['functionalManager']['preferredIdentity'])\n",
    "sindups = set(list_mgrs)\n",
    "sindups"
   ]
  },
  {
   "cell_type": "code",
   "execution_count": 36,
   "id": "c4a74e38-8629-4d9a-b3d8-70200868267c",
   "metadata": {},
   "outputs": [
    {
     "data": {
      "text/plain": [
       "{'Martin Campos': ['Dario Cesar Atach',\n",
       "  'Maria Laura Bisaccia',\n",
       "  'Florencia  Castelvero',\n",
       "  'Ezequiel Ricardo Ferlauto',\n",
       "  'Pablo (Paul) Iacovone',\n",
       "  'Santiago Akira Kitashima',\n",
       "  'Andrés Lopez Grosman',\n",
       "  'Bruno Secchiari',\n",
       "  'Martin Spadoni',\n",
       "  'Martin Ezequiel Williner'],\n",
       " 'Marek Tarkos': ['Viera Babčancová',\n",
       "  'Milan Babčanec',\n",
       "  'Adam Balák',\n",
       "  'Peter Blahut',\n",
       "  'Viera Csiaki',\n",
       "  'Barbora Depešová',\n",
       "  'Richard Hantke',\n",
       "  'Lenka Holáňová',\n",
       "  'Andrea Hrčková',\n",
       "  'Miroslav Kocian',\n",
       "  'Kristína Margetinová',\n",
       "  'Lucia Mikuš',\n",
       "  'Soňa Olšová',\n",
       "  'Marta Pancotti',\n",
       "  'Nina Tadlánková',\n",
       "  'Ivan Trubač',\n",
       "  'Kristína Vojtová',\n",
       "  'Lubomir Cmiko (Lubo)',\n",
       "  'Radomíra Šulová'],\n",
       " 'Andrej Csiaki': ['Marián Chrást',\n",
       "  'Massimo Cireddu',\n",
       "  'Katarina Kadlecova',\n",
       "  'Marta Kapolková',\n",
       "  'Nikolaj Kniha',\n",
       "  'Veronika Krchnáková',\n",
       "  'Michele Lobina',\n",
       "  'Vladimír Maťo',\n",
       "  'Veronika Miklovičová',\n",
       "  'Richard Nerodolík',\n",
       "  \"Micheál O'Reilly\",\n",
       "  'Michala Ožóg',\n",
       "  'Branislav Podoba',\n",
       "  'Andre Daniel Rodrigues',\n",
       "  'Terézia Straková',\n",
       "  'Lenka Tarkošová',\n",
       "  'Valentína Vargová',\n",
       "  'Marek Štípala']}"
      ]
     },
     "execution_count": 36,
     "metadata": {},
     "output_type": "execute_result"
    }
   ],
   "source": [
    "from urllib import request as req\n",
    "import json\n",
    "\n",
    "mgrserials = ['016434613','A01130693','A51733693']\n",
    "mgrname = {'016434613':'Martin Campos','A01130693':'Marek Tarkos','A51733693':'Andrej Csiaki'}\n",
    "devnames = {}\n",
    "for mgr in mgrserials:\n",
    "    request = req.urlopen(\"https://unified-profile-api.us-south-k8s.intranet.ibm.com/v3/profiles/\" + mgr + \"/teamResolved\")\n",
    "    datos = request.read().decode()\n",
    "    dictdatos = json.loads(datos)\n",
    "    devlist = dictdatos['content']['functional']['reports']\n",
    "    for dev in devlist:\n",
    "        #method setdefault(key,[]) sirve para poner una primera key con una lista vacia, si no, tira error de que no existe la key\n",
    "        devnames.setdefault(mgrname[mgr], []).append(dev['nameDisplay'])\n",
    "devnames"
   ]
  },
  {
   "cell_type": "code",
   "execution_count": null,
   "id": "0d9c5249-b7b9-4fe4-a815-439298c090c7",
   "metadata": {},
   "outputs": [],
   "source": []
  }
 ],
 "metadata": {
  "kernelspec": {
   "display_name": "Python 3 (ipykernel)",
   "language": "python",
   "name": "python3"
  },
  "language_info": {
   "codemirror_mode": {
    "name": "ipython",
    "version": 3
   },
   "file_extension": ".py",
   "mimetype": "text/x-python",
   "name": "python",
   "nbconvert_exporter": "python",
   "pygments_lexer": "ipython3",
   "version": "3.9.7"
  }
 },
 "nbformat": 4,
 "nbformat_minor": 5
}
