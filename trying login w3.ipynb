{
 "cells": [
  {
   "cell_type": "code",
   "execution_count": 46,
   "id": "0edf5f91-3e95-4e13-8cb6-57cd706539ef",
   "metadata": {},
   "outputs": [
    {
     "data": {
      "text/plain": [
       "False"
      ]
     },
     "execution_count": 46,
     "metadata": {},
     "output_type": "execute_result"
    }
   ],
   "source": [
    "import requests\n",
    "\n",
    "cert=r\"C:\\Users\\016434613\\Python39\\Lib\\site-packages\\certs\\ibm_certs.pem\"\n",
    "params = {\"username\":\"marcamp@ar.ibm.com\",\n",
    "          \"password\":\"MyNporsiempre2026.\"}\n",
    "\n",
    "#/api/v1/auth/signin\n",
    "#r = requests.post(\"https://progress.us1a.cirrus.ibm.com/api/v1/auth/signin\", allow_redirects=False, data=params)\n",
    "r = requests.get(\"https://progress.us1a.cirrus.ibm.com/api/v1/auth/signin\", params=params)\n",
    "r.ok"
   ]
  },
  {
   "cell_type": "code",
   "execution_count": 13,
   "id": "159e8dd5-2d56-4380-861d-969f11c587c1",
   "metadata": {},
   "outputs": [],
   "source": [
    "# Import important stuff...\n",
    "import os, sys\n",
    "import json\n",
    "import requests\n",
    "import urllib\n",
    "import getpass\n",
    "\n",
    "# Allow HTTPS requests with IBM certificates\n",
    "# cwd = __file__ if '__file__' in locals() or '__file__' in globals() else sys.argv[0]\n",
    "IBM_ROOT_CERT = os.path.join(os.getcwd(), 'ibm_certs.pem')\n",
    "if not os.path.isfile(IBM_ROOT_CERT):\n",
    "    print('(E):  Could not find IBM root certificate file. HTTPS will not work.', file=sys.stderr)\n",
    "\n",
    "# http.socket_timeout = 9999\n",
    "# s=requests.session();"
   ]
  },
  {
   "cell_type": "code",
   "execution_count": 38,
   "id": "afd3e905-f836-4568-b1c5-1e94aea6bd0f",
   "metadata": {},
   "outputs": [
    {
     "name": "stdin",
     "output_type": "stream",
     "text": [
      "Enter w3 username: marcamp@ar.ibm.com\n"
     ]
    },
    {
     "name": "stdout",
     "output_type": "stream",
     "text": [
      "Enter w3 password\n"
     ]
    },
    {
     "name": "stdin",
     "output_type": "stream",
     "text": [
      " ··················\n"
     ]
    },
    {
     "ename": "KeyError",
     "evalue": "\"name='access_token', domain=None, path=None\"",
     "output_type": "error",
     "traceback": [
      "\u001b[1;31m---------------------------------------------------------------------------\u001b[0m",
      "\u001b[1;31mKeyError\u001b[0m                                  Traceback (most recent call last)",
      "\u001b[1;32mC:\\Users\\016434~1\\AppData\\Local\\Temp/ipykernel_13652/173270929.py\u001b[0m in \u001b[0;36m<module>\u001b[1;34m\u001b[0m\n\u001b[0;32m     22\u001b[0m     \u001b[1;32mraise\u001b[0m \u001b[0mRuntimeError\u001b[0m\u001b[1;33m(\u001b[0m\u001b[1;34m'Invalid username/password:  w3id credentials given are invalid.'\u001b[0m\u001b[1;33m)\u001b[0m\u001b[1;33m\u001b[0m\u001b[1;33m\u001b[0m\u001b[0m\n\u001b[0;32m     23\u001b[0m \u001b[1;33m\u001b[0m\u001b[0m\n\u001b[1;32m---> 24\u001b[1;33m \u001b[0maccess_token\u001b[0m \u001b[1;33m=\u001b[0m \u001b[0mr\u001b[0m\u001b[1;33m.\u001b[0m\u001b[0mcookies\u001b[0m\u001b[1;33m[\u001b[0m\u001b[1;34m'access_token'\u001b[0m\u001b[1;33m]\u001b[0m\u001b[1;33m\u001b[0m\u001b[1;33m\u001b[0m\u001b[0m\n\u001b[0m\u001b[0;32m     25\u001b[0m \u001b[0mprint\u001b[0m\u001b[1;33m(\u001b[0m\u001b[1;34m'/auth_login completed'\u001b[0m\u001b[1;33m)\u001b[0m\u001b[1;33m\u001b[0m\u001b[1;33m\u001b[0m\u001b[0m\n\u001b[0;32m     26\u001b[0m \u001b[0mprint\u001b[0m\u001b[1;33m(\u001b[0m\u001b[1;34m'(I): access_token='\u001b[0m\u001b[1;33m,\u001b[0m \u001b[0maccess_token\u001b[0m\u001b[1;33m)\u001b[0m\u001b[1;33m;\u001b[0m\u001b[1;33m\u001b[0m\u001b[1;33m\u001b[0m\u001b[0m\n",
      "\u001b[1;32m~\\Python39\\lib\\site-packages\\requests\\cookies.py\u001b[0m in \u001b[0;36m__getitem__\u001b[1;34m(self, name)\u001b[0m\n\u001b[0;32m    326\u001b[0m         \u001b[1;33m.\u001b[0m\u001b[1;33m.\u001b[0m \u001b[0mwarning\u001b[0m\u001b[1;33m:\u001b[0m\u001b[1;33m:\u001b[0m \u001b[0moperation\u001b[0m \u001b[1;32mis\u001b[0m \u001b[0mO\u001b[0m\u001b[1;33m(\u001b[0m\u001b[0mn\u001b[0m\u001b[1;33m)\u001b[0m\u001b[1;33m,\u001b[0m \u001b[1;32mnot\u001b[0m \u001b[0mO\u001b[0m\u001b[1;33m(\u001b[0m\u001b[1;36m1\u001b[0m\u001b[1;33m)\u001b[0m\u001b[1;33m.\u001b[0m\u001b[1;33m\u001b[0m\u001b[1;33m\u001b[0m\u001b[0m\n\u001b[0;32m    327\u001b[0m         \"\"\"\n\u001b[1;32m--> 328\u001b[1;33m         \u001b[1;32mreturn\u001b[0m \u001b[0mself\u001b[0m\u001b[1;33m.\u001b[0m\u001b[0m_find_no_duplicates\u001b[0m\u001b[1;33m(\u001b[0m\u001b[0mname\u001b[0m\u001b[1;33m)\u001b[0m\u001b[1;33m\u001b[0m\u001b[1;33m\u001b[0m\u001b[0m\n\u001b[0m\u001b[0;32m    329\u001b[0m \u001b[1;33m\u001b[0m\u001b[0m\n\u001b[0;32m    330\u001b[0m     \u001b[1;32mdef\u001b[0m \u001b[0m__setitem__\u001b[0m\u001b[1;33m(\u001b[0m\u001b[0mself\u001b[0m\u001b[1;33m,\u001b[0m \u001b[0mname\u001b[0m\u001b[1;33m,\u001b[0m \u001b[0mvalue\u001b[0m\u001b[1;33m)\u001b[0m\u001b[1;33m:\u001b[0m\u001b[1;33m\u001b[0m\u001b[1;33m\u001b[0m\u001b[0m\n",
      "\u001b[1;32m~\\Python39\\lib\\site-packages\\requests\\cookies.py\u001b[0m in \u001b[0;36m_find_no_duplicates\u001b[1;34m(self, name, domain, path)\u001b[0m\n\u001b[0;32m    397\u001b[0m         \u001b[1;32mif\u001b[0m \u001b[0mtoReturn\u001b[0m\u001b[1;33m:\u001b[0m\u001b[1;33m\u001b[0m\u001b[1;33m\u001b[0m\u001b[0m\n\u001b[0;32m    398\u001b[0m             \u001b[1;32mreturn\u001b[0m \u001b[0mtoReturn\u001b[0m\u001b[1;33m\u001b[0m\u001b[1;33m\u001b[0m\u001b[0m\n\u001b[1;32m--> 399\u001b[1;33m         \u001b[1;32mraise\u001b[0m \u001b[0mKeyError\u001b[0m\u001b[1;33m(\u001b[0m\u001b[1;34m'name=%r, domain=%r, path=%r'\u001b[0m \u001b[1;33m%\u001b[0m \u001b[1;33m(\u001b[0m\u001b[0mname\u001b[0m\u001b[1;33m,\u001b[0m \u001b[0mdomain\u001b[0m\u001b[1;33m,\u001b[0m \u001b[0mpath\u001b[0m\u001b[1;33m)\u001b[0m\u001b[1;33m)\u001b[0m\u001b[1;33m\u001b[0m\u001b[1;33m\u001b[0m\u001b[0m\n\u001b[0m\u001b[0;32m    400\u001b[0m \u001b[1;33m\u001b[0m\u001b[0m\n\u001b[0;32m    401\u001b[0m     \u001b[1;32mdef\u001b[0m \u001b[0m__getstate__\u001b[0m\u001b[1;33m(\u001b[0m\u001b[0mself\u001b[0m\u001b[1;33m)\u001b[0m\u001b[1;33m:\u001b[0m\u001b[1;33m\u001b[0m\u001b[1;33m\u001b[0m\u001b[0m\n",
      "\u001b[1;31mKeyError\u001b[0m: \"name='access_token', domain=None, path=None\""
     ]
    }
   ],
   "source": [
    "## REFERENCE -- Sample login with w3id credentials\n",
    "#\n",
    "# Query w3 credentials and authenticate\n",
    "#  This is needed to determine the set of graphs which a user can access\n",
    "#\n",
    "\n",
    "uname = input(\"Enter w3 username:\")\n",
    "print(\"Enter w3 password\")\n",
    "pwd = getpass.getpass();\n",
    "w3creds = {\n",
    "    'username': uname,\n",
    "    'password': pwd\n",
    "}\n",
    "LOGIN_URL=\"https://progress.us1a.cirrus.ibm.com/digital-transformation/filter/rfd\"\n",
    "r=requests.post(LOGIN_URL, data=w3creds, allow_redirects=False)\n",
    "res_text = urllib.parse.unquote(r.text)\n",
    "if 'Missing credentials' in res_text:\n",
    "    print('(E):  Missing credentials:  w3id credentials missing from request.', file=sys.stderr)\n",
    "    raise RuntimeError('Missing Credentials:  w3id credentials missing from request.')\n",
    "elif 'Invalid username/password' in res_text:\n",
    "    print('(E):  Invalid username/password:  w3id credentials given are invalid.', file=sys.stderr)\n",
    "    raise RuntimeError('Invalid username/password:  w3id credentials given are invalid.')\n",
    "\n",
    "access_token = r.cookies['access_token']\n",
    "print('/auth_login completed')\n",
    "print('(I): access_token=', access_token);\n",
    "print (r.status_code)"
   ]
  },
  {
   "cell_type": "code",
   "execution_count": 41,
   "id": "532d0254-3014-4fc6-b05e-9b8fd64af050",
   "metadata": {},
   "outputs": [
    {
     "data": {
      "text/plain": [
       "{'Access-Control-Allow-Origin': '*', 'Cross-Origin-Embedder-Policy': 'require-corp', 'Cross-Origin-Opener-Policy': 'same-origin', 'Cross-Origin-Resource-Policy': 'same-origin', 'X-DNS-Prefetch-Control': 'off', 'Expect-CT': 'max-age=0', 'X-Frame-Options': 'SAMEORIGIN', 'Strict-Transport-Security': 'max-age=15552000; includeSubDomains', 'X-Download-Options': 'noopen', 'X-Content-Type-Options': 'nosniff', 'Origin-Agent-Cluster': '?1', 'X-Permitted-Cross-Domain-Policies': 'none', 'Referrer-Policy': 'no-referrer', 'X-XSS-Protection': '0', 'Location': '/login', 'Vary': 'Accept, Accept-Encoding', 'Content-Type': 'text/plain; charset=utf-8', 'Content-Length': '28', 'Set-Cookie': 'connect.sid=s%3AT9_oI4jjF7KzraGrd7zRzB0tVwYw_c4I.2VXoGIqIEZMK9t%2BhKB%2BVbVq8i2ankqXkKw9FZwp3LXE; Path=/; Expires=Mon, 09 May 2022 19:38:47 GMT; HttpOnly, 709e5a8666bec8e2e79b9d3d5258b568=a16782725752cfe1f6147719954c1a7e; path=/; HttpOnly; Secure; SameSite=None', 'Date': 'Mon, 09 May 2022 15:38:47 GMT', 'Keep-Alive': 'timeout=5'}"
      ]
     },
     "execution_count": 41,
     "metadata": {},
     "output_type": "execute_result"
    }
   ],
   "source": [
    "r.headers"
   ]
  },
  {
   "cell_type": "code",
   "execution_count": null,
   "id": "3c836132-25d7-4201-b475-91885884bfd8",
   "metadata": {},
   "outputs": [],
   "source": []
  }
 ],
 "metadata": {
  "kernelspec": {
   "display_name": "Python 3 (ipykernel)",
   "language": "python",
   "name": "python3"
  },
  "language_info": {
   "codemirror_mode": {
    "name": "ipython",
    "version": 3
   },
   "file_extension": ".py",
   "mimetype": "text/x-python",
   "name": "python",
   "nbconvert_exporter": "python",
   "pygments_lexer": "ipython3",
   "version": "3.9.7"
  }
 },
 "nbformat": 4,
 "nbformat_minor": 5
}
