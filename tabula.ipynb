{
 "cells": [
  {
   "cell_type": "code",
   "execution_count": 1,
   "id": "19a252a3-c7d4-40ed-9d4e-f974f677966d",
   "metadata": {},
   "outputs": [
    {
     "name": "stderr",
     "output_type": "stream",
     "text": [
      "Got stderr: dic 15, 2021 6:19:13 PM org.apache.pdfbox.pdmodel.font.PDFont loadUnicodeCmap\n",
      "ADVERTENCIA: Invalid ToUnicode CMap in font C0B03241_T1001300_0\n",
      "dic 15, 2021 6:19:13 PM org.apache.pdfbox.pdmodel.font.PDSimpleFont toUnicode\n",
      "ADVERTENCIA: No Unicode mapping for a136 (136) in font C0B03241_T1001300_0\n",
      "dic 15, 2021 6:19:13 PM org.apache.pdfbox.pdmodel.font.PDSimpleFont toUnicode\n",
      "ADVERTENCIA: No Unicode mapping for a139 (139) in font C0B03241_T1001300_0\n",
      "dic 15, 2021 6:19:13 PM org.apache.pdfbox.pdmodel.font.PDSimpleFont toUnicode\n",
      "ADVERTENCIA: No Unicode mapping for a138 (138) in font C0B03241_T1001300_0\n",
      "dic 15, 2021 6:19:13 PM org.apache.pdfbox.pdmodel.font.PDSimpleFont toUnicode\n",
      "ADVERTENCIA: No Unicode mapping for a131 (131) in font C0B03241_T1001300_0\n",
      "dic 15, 2021 6:19:13 PM org.apache.pdfbox.pdmodel.font.PDSimpleFont toUnicode\n",
      "ADVERTENCIA: No Unicode mapping for a142 (142) in font C0B03241_T1001300_0\n",
      "dic 15, 2021 6:19:13 PM org.apache.pdfbox.pdmodel.font.PDSimpleFont toUnicode\n",
      "ADVERTENCIA: No Unicode mapping for a130 (130) in font C0B03241_T1001300_0\n",
      "dic 15, 2021 6:19:13 PM org.apache.pdfbox.pdmodel.font.PDSimpleFont toUnicode\n",
      "ADVERTENCIA: No Unicode mapping for a128 (128) in font C0B03241_T1001300_0\n",
      "dic 15, 2021 6:19:13 PM org.apache.pdfbox.pdmodel.font.FileSystemFontProvider loadDiskCache\n",
      "ADVERTENCIA: New fonts found, font cache will be re-built\n",
      "dic 15, 2021 6:19:13 PM org.apache.pdfbox.pdmodel.font.FileSystemFontProvider <init>\n",
      "ADVERTENCIA: Building on-disk font cache, this may take a while\n",
      "dic 15, 2021 6:19:16 PM org.apache.pdfbox.pdmodel.font.FileSystemFontProvider <init>\n",
      "ADVERTENCIA: Finished building on-disk font cache, found 333 fonts\n",
      "dic 15, 2021 6:19:18 PM org.apache.pdfbox.pdmodel.font.PDFont loadUnicodeCmap\n",
      "ADVERTENCIA: Invalid ToUnicode CMap in font C0B03241_T1001300_0\n",
      "\n"
     ]
    }
   ],
   "source": [
    "import tabula as tb\n",
    "df = tb.read_pdf(r'C:\\Users\\016434613\\Downloads\\RESUMEN_TARJETA VISA25-11-2021.pdf', pages='all')\n"
   ]
  },
  {
   "cell_type": "code",
   "execution_count": 2,
   "id": "2bdf18e8-5d80-45ff-80b0-2499b2d9e577",
   "metadata": {},
   "outputs": [
    {
     "name": "stderr",
     "output_type": "stream",
     "text": [
      "Got stderr: dic 15, 2021 6:21:06 PM org.apache.pdfbox.pdmodel.font.PDFont loadUnicodeCmap\n",
      "ADVERTENCIA: Invalid ToUnicode CMap in font C0B03241_T1001300_0\n",
      "dic 15, 2021 6:21:06 PM org.apache.pdfbox.pdmodel.font.PDSimpleFont toUnicode\n",
      "ADVERTENCIA: No Unicode mapping for a136 (136) in font C0B03241_T1001300_0\n",
      "dic 15, 2021 6:21:06 PM org.apache.pdfbox.pdmodel.font.PDSimpleFont toUnicode\n",
      "ADVERTENCIA: No Unicode mapping for a139 (139) in font C0B03241_T1001300_0\n",
      "dic 15, 2021 6:21:06 PM org.apache.pdfbox.pdmodel.font.PDSimpleFont toUnicode\n",
      "ADVERTENCIA: No Unicode mapping for a138 (138) in font C0B03241_T1001300_0\n",
      "dic 15, 2021 6:21:06 PM org.apache.pdfbox.pdmodel.font.PDSimpleFont toUnicode\n",
      "ADVERTENCIA: No Unicode mapping for a131 (131) in font C0B03241_T1001300_0\n",
      "dic 15, 2021 6:21:06 PM org.apache.pdfbox.pdmodel.font.PDSimpleFont toUnicode\n",
      "ADVERTENCIA: No Unicode mapping for a142 (142) in font C0B03241_T1001300_0\n",
      "dic 15, 2021 6:21:06 PM org.apache.pdfbox.pdmodel.font.PDSimpleFont toUnicode\n",
      "ADVERTENCIA: No Unicode mapping for a130 (130) in font C0B03241_T1001300_0\n",
      "dic 15, 2021 6:21:06 PM org.apache.pdfbox.pdmodel.font.PDSimpleFont toUnicode\n",
      "ADVERTENCIA: No Unicode mapping for a128 (128) in font C0B03241_T1001300_0\n",
      "dic 15, 2021 6:21:08 PM org.apache.pdfbox.pdmodel.font.PDFont loadUnicodeCmap\n",
      "ADVERTENCIA: Invalid ToUnicode CMap in font C0B03241_T1001300_0\n",
      "\n"
     ]
    }
   ],
   "source": [
    "tb.convert_into(r'C:\\Users\\016434613\\Downloads\\RESUMEN_TARJETA VISA25-11-2021.pdf', r'C:\\Users\\016434613\\Desktop\\test.csv' , output_format=\"csv\",pages='all', stream=True)"
   ]
  },
  {
   "cell_type": "code",
   "execution_count": null,
   "id": "b6530b1d-0a21-4bcf-b352-beb43441dad5",
   "metadata": {},
   "outputs": [],
   "source": []
  }
 ],
 "metadata": {
  "kernelspec": {
   "display_name": "Python 3 (ipykernel)",
   "language": "python",
   "name": "python3"
  },
  "language_info": {
   "codemirror_mode": {
    "name": "ipython",
    "version": 3
   },
   "file_extension": ".py",
   "mimetype": "text/x-python",
   "name": "python",
   "nbconvert_exporter": "python",
   "pygments_lexer": "ipython3",
   "version": "3.9.7"
  }
 },
 "nbformat": 4,
 "nbformat_minor": 5
}
