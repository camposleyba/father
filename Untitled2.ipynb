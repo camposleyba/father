{
 "cells": [
  {
   "cell_type": "code",
   "execution_count": null,
   "id": "b2db098d-e928-49cb-9205-7f3e0fee99a7",
   "metadata": {},
   "outputs": [],
   "source": [
    "final_CSV = pd.DataFrame(columns = Column_Names)\n",
    "for i in range():\n",
    "    data = pd.read_sql(sql, conn)\n",
    "    final_CSV = final_CSV.append(data)\n",
    "    CTRYNUM = str(CTRYNUM)"
   ]
  }
 ],
 "metadata": {
  "kernelspec": {
   "display_name": "Python 3 (ipykernel)",
   "language": "python",
   "name": "python3"
  },
  "language_info": {
   "codemirror_mode": {
    "name": "ipython",
    "version": 3
   },
   "file_extension": ".py",
   "mimetype": "text/x-python",
   "name": "python",
   "nbconvert_exporter": "python",
   "pygments_lexer": "ipython3",
   "version": "3.9.7"
  }
 },
 "nbformat": 4,
 "nbformat_minor": 5
}
