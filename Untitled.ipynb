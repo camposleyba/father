{
 "cells": [
  {
   "cell_type": "code",
   "execution_count": 29,
   "id": "0b27cfa3-d97e-40f1-bd5d-9ff10c626fd0",
   "metadata": {},
   "outputs": [
    {
     "data": {
      "text/plain": [
       "['async-generator',\n",
       " 'attrs',\n",
       " 'beautifulsoup4',\n",
       " 'certifi',\n",
       " 'cffi',\n",
       " 'charset-normalizer',\n",
       " 'cryptography',\n",
       " 'distro',\n",
       " 'et-xmlfile',\n",
       " 'h11',\n",
       " 'idna',\n",
       " 'numpy',\n",
       " 'openpyxl',\n",
       " 'outcome',\n",
       " 'pandas',\n",
       " 'ply',\n",
       " 'pycparser',\n",
       " 'pyOpenSSL',\n",
       " 'python-dateutil',\n",
       " 'pytz',\n",
       " 'pywin32',\n",
       " 'pywinpty',\n",
       " 'pyzmq',\n",
       " 'requests',\n",
       " 'requests-unixsocket',\n",
       " 'selenium',\n",
       " 'Send2Trash',\n",
       " 'six',\n",
       " 'sniffio',\n",
       " 'sortedcontainers',\n",
       " 'soupsieve',\n",
       " 'sqlparse',\n",
       " 'stone',\n",
       " 'tabula',\n",
       " 'tabula-py',\n",
       " 'terminado',\n",
       " 'testpath',\n",
       " 'tornado',\n",
       " 'traitlets',\n",
       " 'trio',\n",
       " 'trio-websocket',\n",
       " 'urllib3',\n",
       " 'wcwidth',\n",
       " 'webencodings',\n",
       " 'websocket-client',\n",
       " 'wikipedia',\n",
       " 'wsproto']"
      ]
     },
     "execution_count": 29,
     "metadata": {},
     "output_type": "execute_result"
    }
   ],
   "source": [
    "import codecs\n",
    "reqFile = r\"C:\\Users\\016434613\\Desktop\\requirements.txt\"\n",
    "\n",
    "package_list = []\n",
    "\n",
    "fp = codecs.open(reqFile, \"r\", \"utf-16\")\n",
    "installed_packages = fp.readlines()\n",
    "for package in installed_packages:\n",
    "    p = package[:-2].split(\"=\")\n",
    "    package_list.append(p[0])\n",
    "\n",
    "with open('your_file.txt', 'w') as f:\n",
    "    for item in my_list:\n",
    "        f.write(\"%s\\n\" % item)"
   ]
  },
  {
   "cell_type": "code",
   "execution_count": null,
   "id": "94034258-3e5e-4928-8162-d71ad33bb84b",
   "metadata": {},
   "outputs": [],
   "source": []
  }
 ],
 "metadata": {
  "kernelspec": {
   "display_name": "Python 3 (ipykernel)",
   "language": "python",
   "name": "python3"
  },
  "language_info": {
   "codemirror_mode": {
    "name": "ipython",
    "version": 3
   },
   "file_extension": ".py",
   "mimetype": "text/x-python",
   "name": "python",
   "nbconvert_exporter": "python",
   "pygments_lexer": "ipython3",
   "version": "3.9.7"
  }
 },
 "nbformat": 4,
 "nbformat_minor": 5
}
