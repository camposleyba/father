{
 "cells": [
  {
   "cell_type": "code",
   "execution_count": 3,
   "id": "a0a65a74-2370-418c-aa2e-239daadf0e83",
   "metadata": {},
   "outputs": [
    {
     "ename": "Exception",
     "evalue": "[IBM][CLI Driver] SQL30081N  A communication error has been detected. Communication protocol being used: \"TCP/IP\".  Communication API being used: \"SOCKETS\".  Location where the error was detected: \"9.214.130.69\".  Communication function detecting the error: \"recv\".  Protocol specific error code(s): \"10054\", \"*\", \"0\".  SQLSTATE=08001\r SQLCODE=-30081",
     "output_type": "error",
     "traceback": [
      "\u001b[1;31m---------------------------------------------------------------------------\u001b[0m",
      "\u001b[1;31mException\u001b[0m                                 Traceback (most recent call last)",
      "\u001b[1;32mC:\\Users\\016434~1\\AppData\\Local\\Temp/ipykernel_6728/1289973131.py\u001b[0m in \u001b[0;36m<module>\u001b[1;34m\u001b[0m\n\u001b[0;32m      1\u001b[0m \u001b[1;32mimport\u001b[0m \u001b[0mibm_db\u001b[0m\u001b[1;33m\u001b[0m\u001b[1;33m\u001b[0m\u001b[0m\n\u001b[0;32m      2\u001b[0m \u001b[1;33m\u001b[0m\u001b[0m\n\u001b[1;32m----> 3\u001b[1;33m \u001b[0mconn\u001b[0m\u001b[1;33m=\u001b[0m\u001b[0mibm_db\u001b[0m\u001b[1;33m.\u001b[0m\u001b[0mconnect\u001b[0m\u001b[1;33m(\u001b[0m\u001b[1;34m\"DSN=DP1H;HOSTNAME=usibmvrdp1h.ssiplex.pok.ibm.com;PORT=5520;UID=ar16434;PWD=No_tengocovid23\"\u001b[0m\u001b[1;33m,\u001b[0m\u001b[1;34m''\u001b[0m\u001b[1;33m,\u001b[0m\u001b[1;34m''\u001b[0m\u001b[1;33m)\u001b[0m\u001b[1;33m\u001b[0m\u001b[1;33m\u001b[0m\u001b[0m\n\u001b[0m\u001b[0;32m      4\u001b[0m \u001b[1;33m\u001b[0m\u001b[0m\n\u001b[0;32m      5\u001b[0m \u001b[0msql\u001b[0m \u001b[1;33m=\u001b[0m \u001b[1;34m\"select cty, lc,maj,minor,smin,amtloc from lrpcc.ladetail_cm_d where cty='613'\"\u001b[0m\u001b[1;33m\u001b[0m\u001b[1;33m\u001b[0m\u001b[0m\n",
      "\u001b[1;31mException\u001b[0m: [IBM][CLI Driver] SQL30081N  A communication error has been detected. Communication protocol being used: \"TCP/IP\".  Communication API being used: \"SOCKETS\".  Location where the error was detected: \"9.214.130.69\".  Communication function detecting the error: \"recv\".  Protocol specific error code(s): \"10054\", \"*\", \"0\".  SQLSTATE=08001\r SQLCODE=-30081"
     ]
    }
   ],
   "source": [
    "import ibm_db\n",
    "\n",
    "conn=ibm_db.connect(\"DSN=DP1H;HOSTNAME=usibmvrdp1h.ssiplex.pok.ibm.com;PORT=5520;UID=ar16434;PWD=No_tengocovid23\",'','')\n",
    "\n",
    "sql = \"select cty, lc,maj,minor,smin,amtloc from lrpcc.ladetail_cm_d where cty='613'\"\n",
    "stmt = ibm_db.exec_immediate(conn, sql)\n",
    "\n",
    "row = ibm_db.fetch_tuple(stmt)\n",
    "while ( row ):\n",
    "    for i in row:\n",
    "         print(i)\n",
    "    row = ibm_db.fetch_tuple(stmt)\n",
    "ibm_db.close(conn)"
   ]
  },
  {
   "cell_type": "code",
   "execution_count": null,
   "id": "a1773eaa-535b-4685-8e41-bc4e61da08ae",
   "metadata": {},
   "outputs": [],
   "source": []
  }
 ],
 "metadata": {
  "kernelspec": {
   "display_name": "Python 3 (ipykernel)",
   "language": "python",
   "name": "python3"
  },
  "language_info": {
   "codemirror_mode": {
    "name": "ipython",
    "version": 3
   },
   "file_extension": ".py",
   "mimetype": "text/x-python",
   "name": "python",
   "nbconvert_exporter": "python",
   "pygments_lexer": "ipython3",
   "version": "3.9.7"
  }
 },
 "nbformat": 4,
 "nbformat_minor": 5
}
