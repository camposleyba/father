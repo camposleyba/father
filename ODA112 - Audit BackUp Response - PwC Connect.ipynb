{
 "cells": [
  {
   "cell_type": "markdown",
   "metadata": {},
   "source": [
    "### ODA112 - Audit BackUp Response - PwC Connect"
   ]
  },
  {
   "cell_type": "markdown",
   "metadata": {},
   "source": [
    "First, we import all the libraries we're going to work with across the application."
   ]
  },
  {
   "cell_type": "code",
   "execution_count": 47,
   "metadata": {},
   "outputs": [],
   "source": [
    "from boxsdk import OAuth2, Client\n",
    "import numpy\n",
    "import pandas\n",
    "import re\n",
    "from selenium.webdriver import ActionChains\n",
    "from selenium.webdriver.common.keys import Keys\n",
    "from selenium import webdriver\n",
    "import tkinter as tk\n",
    "import tkinter.font as font\n",
    "from tkinter import ttk"
   ]
  },
  {
   "cell_type": "markdown",
   "metadata": {},
   "source": [
    "Then we log into our personal BOX account, through the ```Client ID```, ```Client Secret``` and ```Developer Token```. All of this variables are picked up from the application that was created in the BOX Developer Console."
   ]
  },
  {
   "cell_type": "code",
   "execution_count": 63,
   "metadata": {},
   "outputs": [],
   "source": [
    "authentication_method = OAuth2(client_id = '0voy64ajgdt0rxxibmeib0elopx7pufu', \n",
    "                               client_secret = 'S1mRvfAhutoGs4CTr8ffIMeQeRgEYJpg', \n",
    "                               access_token = 'q5634gw47tSMI34oONLUAN9hA3rFF8hF')\n",
    "\n",
    "my_client = Client(authentication_method)"
   ]
  },
  {
   "cell_type": "markdown",
   "metadata": {},
   "source": [
    "Then we obtain the Authentication URL for the BOX folder we've created in our personal BOX repository."
   ]
  },
  {
   "cell_type": "code",
   "execution_count": 64,
   "metadata": {},
   "outputs": [
    {
     "name": "stdout",
     "output_type": "stream",
     "text": [
      "https://account.box.com/api/oauth2/authorize?state=box_csrf_token_3w7UIXfQOfhoJRwJ&response_type=code&client_id=0voy64ajgdt0rxxibmeib0elopx7pufu&redirect_uri=https%3A%2F%2Fapp.box.com%2Ffolder%2F140701906674\n"
     ]
    }
   ],
   "source": [
    "box_folder_link = 'https://app.box.com/folder/140701906674'\n",
    "authentication_url, csrf_token = authentication_method.get_authorization_url(box_folder_link)\n",
    "print(authentication_url)"
   ]
  },
  {
   "cell_type": "markdown",
   "metadata": {},
   "source": [
    "Interacting with Selenium, we open a new browser session - in this case with Google Chrome application - and refer to the Authentication URL. Through this course of action, we can automatically obtain the code that will be needed to retrieve the ```Access Token``` in the following step.  "
   ]
  },
  {
   "cell_type": "code",
   "execution_count": 65,
   "metadata": {},
   "outputs": [
    {
     "name": "stdout",
     "output_type": "stream",
     "text": [
      "kTGcR59hvdxigPukb0lU4rnACDoCCmvr\n"
     ]
    }
   ],
   "source": [
    "chrome = webdriver.Chrome(r\"C:\\Users\\BrunoSecchiari\\Desktop\\ODA112 - Audit Backup Response - PwC Connect\\Chrome Drive\\chromedriver.exe\")\n",
    "\n",
    "chrome.get(authentication_url)\n",
    "\n",
    "login = chrome.find_element_by_name(\"login\")\n",
    "login.send_keys(\"brunosecchiari95@gmail.com\")\n",
    "password = chrome.find_element_by_name(\"password\")\n",
    "password.send_keys(\"vwjpnz95\")\n",
    "login_submit_button = chrome.find_element_by_name(\"login_submit\")\n",
    "login_submit_button.click()\n",
    "consent_accept_button = chrome.find_element_by_name(\"consent_accept\")\n",
    "consent_accept_button.click()\n",
    "\n",
    "login = chrome.find_element_by_name(\"login\")\n",
    "login.send_keys(\"brunosecchiari95@gmail.com\")\n",
    "login_submit_button = chrome.find_element_by_id(\"login-submit\")\n",
    "login_submit_button.click()\n",
    "password = chrome.find_element_by_name(\"password\")\n",
    "password.send_keys(\"vwjpnz95\")\n",
    "password_submit_button = chrome.find_element_by_id(\"login-submit-password\")\n",
    "password_submit_button.click()\n",
    "\n",
    "my_string = chrome.current_url\n",
    "position1 = re.search('code=', my_string)\n",
    "starting_position = position1.span()\n",
    "position2 = re.search('&state=', my_string)\n",
    "ending_position = position2.span()\n",
    "my_finalized_string = my_string[starting_position[1]:ending_position[0]]\n",
    "print(my_finalized_string)\n",
    "\n",
    "chrome.close()"
   ]
  },
  {
   "cell_type": "markdown",
   "metadata": {},
   "source": [
    "We exchange the code that was part of the Authentication URL for the ```Access Token```, meaning we're now able to interact with BOX API."
   ]
  },
  {
   "cell_type": "code",
   "execution_count": 66,
   "metadata": {},
   "outputs": [],
   "source": [
    "authentication_code = my_finalized_string\n",
    "access_token, refresh_token = authentication_method.authenticate(authentication_code)"
   ]
  },
  {
   "cell_type": "markdown",
   "metadata": {},
   "source": [
    "Finally, we'll create all the functions that we're going to work with along the application."
   ]
  },
  {
   "cell_type": "markdown",
   "metadata": {},
   "source": [
    "##### Retrieve File ID Function"
   ]
  },
  {
   "cell_type": "code",
   "execution_count": 6,
   "metadata": {},
   "outputs": [],
   "source": [
    "def get_file_id(client, file_name, folder_id):\n",
    "    \n",
    "    file_id = None\n",
    "    \n",
    "    file_name_with_extension = file_name.split('.')\n",
    "    file_name = file_name_with_extension[0]\n",
    "    file_extension = file_name_with_extension[1]\n",
    "    \n",
    "    my_list = my_client.search().query(query = f'\"{file_name}\"', extension = [f'{file_extension}'], limit = 1)\n",
    "    \n",
    "    for i in my_list:\n",
    "        file_id = i.id\n",
    "    if not file_id:\n",
    "        raise Exception(f'File was not found in Folder ID: {folder_id}.')\n",
    "    return file_id"
   ]
  },
  {
   "cell_type": "code",
   "execution_count": 36,
   "metadata": {},
   "outputs": [
    {
     "data": {
      "text/plain": [
       "'844872746386'"
      ]
     },
     "execution_count": 36,
     "metadata": {},
     "output_type": "execute_result"
    }
   ],
   "source": [
    "my_file_id = get_file_id(my_client, 'List of Entity - Batch 1.xlsx', '140701906674')\n",
    "my_file_id"
   ]
  },
  {
   "cell_type": "markdown",
   "metadata": {},
   "source": [
    "##### Create Shared Link Function"
   ]
  },
  {
   "cell_type": "code",
   "execution_count": 67,
   "metadata": {},
   "outputs": [],
   "source": [
    "def create_shared_link(client, file_id):\n",
    "    \n",
    "    my_shared_link = None\n",
    "    \n",
    "    try:\n",
    "        my_shared_link = client.file(file_id).get_shared_link(access = 'open', allow_download = True)\n",
    "        print(f\"Shared Link was successfully created for File ID '{file_id}'.\")\n",
    "        return my_shared_link\n",
    "    \n",
    "    except BoxAPIException as Error:\n",
    "        raise Exception(f\"An error ocurred while trying to create the Shared Link for File ID: '{file_id}'.\")"
   ]
  },
  {
   "cell_type": "code",
   "execution_count": 38,
   "metadata": {},
   "outputs": [
    {
     "name": "stdout",
     "output_type": "stream",
     "text": [
      "Shared Link was successfully created for File ID '844872746386'.\n"
     ]
    },
    {
     "data": {
      "text/plain": [
       "'https://app.box.com/s/6il3yk7dxi7dadzaynezam2jhndv8lle'"
      ]
     },
     "execution_count": 38,
     "metadata": {},
     "output_type": "execute_result"
    }
   ],
   "source": [
    "create_shared_link(my_client, my_file_id)"
   ]
  },
  {
   "cell_type": "markdown",
   "metadata": {},
   "source": [
    "##### Retrieve Shared Link Function"
   ]
  },
  {
   "cell_type": "code",
   "execution_count": 68,
   "metadata": {},
   "outputs": [],
   "source": [
    "def get_shared_link(client, file_id):\n",
    "    \n",
    "    my_shared_link = None\n",
    "    \n",
    "    try:\n",
    "        my_shared_link = client.file(file_id).get().shared_link\n",
    "        print(f\"The Shared Link for File ID '{file_id}' is the following: \")\n",
    "        return my_shared_link['download_url']\n",
    "    \n",
    "    except BoxAPIException as Error:\n",
    "        raise Exception(f\"An error ocurred while trying to obtain the Shared Link for File ID '{file_id}'.\")"
   ]
  },
  {
   "cell_type": "code",
   "execution_count": 40,
   "metadata": {},
   "outputs": [
    {
     "name": "stdout",
     "output_type": "stream",
     "text": [
      "The Shared Link for File ID '844872746386' is the following: \n"
     ]
    },
    {
     "data": {
      "text/plain": [
       "'https://app.box.com/shared/static/6il3yk7dxi7dadzaynezam2jhndv8lle.xlsx'"
      ]
     },
     "execution_count": 40,
     "metadata": {},
     "output_type": "execute_result"
    }
   ],
   "source": [
    "get_shared_link(my_client, my_file_id)"
   ]
  },
  {
   "cell_type": "markdown",
   "metadata": {},
   "source": [
    "##### Upload Function"
   ]
  },
  {
   "cell_type": "code",
   "execution_count": 69,
   "metadata": {},
   "outputs": [],
   "source": [
    "def upload_file(client, folder_id, file_path):\n",
    "    \n",
    "    file_for_upload = None\n",
    "    \n",
    "    try:\n",
    "        file_for_upload = client.folder(folder_id).upload(file_path)\n",
    "        print(f\"File was successfully uploaded to BOX Folder '{folder_id}' with the following File ID '{file_for_upload.id}'.\")\n",
    "    \n",
    "    except BoxAPIException as Error:\n",
    "        raise Exception(f\"An error ocurred while trying to upload the file to BOX Folder '{folder_id}'.\")"
   ]
  },
  {
   "cell_type": "code",
   "execution_count": 26,
   "metadata": {},
   "outputs": [
    {
     "name": "stdout",
     "output_type": "stream",
     "text": [
      "File was successfully uploaded to BOX Folder '140701906674' with the following File ID '841995560519'.\n"
     ]
    }
   ],
   "source": [
    "upload_file(my_client, '140701906674', \n",
    "            r\"C:\\Users\\BrunoSecchiari\\Desktop\\ODA112 - Audit Backup Response - PwC Connect\\List of Entity - Batch 1.xlsx\")"
   ]
  },
  {
   "cell_type": "markdown",
   "metadata": {},
   "source": [
    "##### Download Function"
   ]
  },
  {
   "cell_type": "code",
   "execution_count": 70,
   "metadata": {},
   "outputs": [],
   "source": [
    "def download_file(client, file_id, file_path):\n",
    "    \n",
    "    download_path = None\n",
    "    \n",
    "    try:\n",
    "        download_path = open(file_path, 'wb')\n",
    "        client.file(file_id).download_to(download_path)\n",
    "        print(f\"File ID '{file_id}' was successfully downloaded.\")\n",
    "        \n",
    "    except BoxAPIException as Error:\n",
    "        raise Exception(f\"An error ocurred while trying to download File ID '{file_id}'.\")"
   ]
  },
  {
   "cell_type": "code",
   "execution_count": 20,
   "metadata": {},
   "outputs": [
    {
     "name": "stdout",
     "output_type": "stream",
     "text": [
      "File ID '841995560519' was successfully downloaded.\n"
     ]
    }
   ],
   "source": [
    "download_file(my_client, my_file_id, r\"C:\\Users\\BrunoSecchiari\\Desktop\\List of Entity - Batch 1.xlsx\")"
   ]
  },
  {
   "cell_type": "markdown",
   "metadata": {},
   "source": [
    "### Step By Step"
   ]
  },
  {
   "cell_type": "code",
   "execution_count": 71,
   "metadata": {},
   "outputs": [
    {
     "data": {
      "text/plain": [
       "'844872746386'"
      ]
     },
     "execution_count": 71,
     "metadata": {},
     "output_type": "execute_result"
    }
   ],
   "source": [
    "list_of_entity_file_id = get_file_id(my_client, 'List of Entity - Batch 1.xlsx', '143056046187')\n",
    "list_of_entity_file_id"
   ]
  },
  {
   "cell_type": "code",
   "execution_count": 72,
   "metadata": {},
   "outputs": [
    {
     "name": "stdout",
     "output_type": "stream",
     "text": [
      "File ID '844872746386' was successfully downloaded.\n"
     ]
    }
   ],
   "source": [
    "download_file(my_client, list_of_entity_file_id, r\"C:\\Users\\BrunoSecchiari\\Desktop\\List of Entity - Batch 1.xlsx\")"
   ]
  },
  {
   "cell_type": "code",
   "execution_count": 73,
   "metadata": {},
   "outputs": [
    {
     "data": {
      "text/html": [
       "<div>\n",
       "<style scoped>\n",
       "    .dataframe tbody tr th:only-of-type {\n",
       "        vertical-align: middle;\n",
       "    }\n",
       "\n",
       "    .dataframe tbody tr th {\n",
       "        vertical-align: top;\n",
       "    }\n",
       "\n",
       "    .dataframe thead th {\n",
       "        text-align: right;\n",
       "    }\n",
       "</style>\n",
       "<table border=\"1\" class=\"dataframe\">\n",
       "  <thead>\n",
       "    <tr style=\"text-align: right;\">\n",
       "      <th></th>\n",
       "      <th>Entity Name as per PwC Connect</th>\n",
       "      <th>Entity Name as per IBM BOX</th>\n",
       "      <th>Entity backup BOX Link</th>\n",
       "    </tr>\n",
       "  </thead>\n",
       "  <tbody>\n",
       "    <tr>\n",
       "      <th>0</th>\n",
       "      <td>IBM (China) Investment Company Limited</td>\n",
       "      <td>IBM (China) Investment Company Limited</td>\n",
       "      <td>https://ibm.ent.box.com/folder/127121561693</td>\n",
       "    </tr>\n",
       "    <tr>\n",
       "      <th>1</th>\n",
       "      <td>IBM - General CAS/Info</td>\n",
       "      <td>IBM - General CAS &amp; Info</td>\n",
       "      <td>https://ibm.ent.box.com/folder/129034587915</td>\n",
       "    </tr>\n",
       "    <tr>\n",
       "      <th>2</th>\n",
       "      <td>IBM A/NZ Holdings</td>\n",
       "      <td>IBM ANZ Holdings</td>\n",
       "      <td>https://ibm.ent.box.com/folder/126302246731</td>\n",
       "    </tr>\n",
       "  </tbody>\n",
       "</table>\n",
       "</div>"
      ],
      "text/plain": [
       "           Entity Name as per PwC Connect  \\\n",
       "0  IBM (China) Investment Company Limited   \n",
       "1                  IBM - General CAS/Info   \n",
       "2                       IBM A/NZ Holdings   \n",
       "\n",
       "               Entity Name as per IBM BOX  \\\n",
       "0  IBM (China) Investment Company Limited   \n",
       "1                IBM - General CAS & Info   \n",
       "2                        IBM ANZ Holdings   \n",
       "\n",
       "                        Entity backup BOX Link  \n",
       "0  https://ibm.ent.box.com/folder/127121561693  \n",
       "1  https://ibm.ent.box.com/folder/129034587915  \n",
       "2  https://ibm.ent.box.com/folder/126302246731  "
      ]
     },
     "execution_count": 73,
     "metadata": {},
     "output_type": "execute_result"
    }
   ],
   "source": [
    "list_of_entity = pandas.read_excel(r\"C:\\Users\\BrunoSecchiari\\Desktop\\List of Entity - Batch 1.xlsx\",\n",
    "                                              sheet_name = 'Audit 2019',\n",
    "                                              headers = 0)\n",
    "list_of_entity.head(3)"
   ]
  },
  {
   "cell_type": "code",
   "execution_count": 74,
   "metadata": {},
   "outputs": [
    {
     "name": "stdout",
     "output_type": "stream",
     "text": [
      "Entity Name as per PwC Connect    0\n",
      "Entity Name as per IBM BOX        3\n",
      "Entity backup BOX Link            3\n",
      "dtype: int64\n",
      "\n",
      "Entity Name as per PwC Connect    0\n",
      "Entity Name as per IBM BOX        0\n",
      "Entity backup BOX Link            0\n",
      "dtype: int64\n"
     ]
    }
   ],
   "source": [
    "print(list_of_entity.isnull().sum())\n",
    "print()\n",
    "\n",
    "list_of_entity = list_of_entity.dropna()\n",
    "print(list_of_entity.isnull().sum())"
   ]
  },
  {
   "cell_type": "code",
   "execution_count": 75,
   "metadata": {},
   "outputs": [],
   "source": [
    "def get_backup_box_link(dataframe, serie):\n",
    "    \n",
    "    backup_box_link = []\n",
    "    \n",
    "    try:      \n",
    "        for i in dataframe.loc[:, serie]:\n",
    "            backup_box_link.append(i)\n",
    "        return backup_box_link\n",
    "    \n",
    "    except:\n",
    "        raise Exception(f\"An error ocurred while trying to parse through the DataFrame '{dataframe}'.\")"
   ]
  },
  {
   "cell_type": "code",
   "execution_count": 76,
   "metadata": {},
   "outputs": [
    {
     "data": {
      "text/plain": [
       "['https://ibm.ent.box.com/folder/127121561693',\n",
       " 'https://ibm.ent.box.com/folder/129034587915',\n",
       " 'https://ibm.ent.box.com/folder/126302246731',\n",
       " 'https://ibm.ent.box.com/folder/123060631068',\n",
       " 'https://ibm.ent.box.com/folder/126095157878',\n",
       " 'https://ibm.ent.box.com/folder/119755987746',\n",
       " 'https://ibm.ent.box.com/folder/121468561047',\n",
       " 'https://ibm.ent.box.com/folder/130526260244',\n",
       " 'https://ibm.ent.box.com/folder/118002107225',\n",
       " 'https://ibm.ent.box.com/folder/123246726397',\n",
       " 'https://ibm.ent.box.com/folder/125069499764',\n",
       " 'https://ibm.ent.box.com/folder/126473281134',\n",
       " 'https://ibm.ent.box.com/folder/126472252124',\n",
       " 'https://ibm.ent.box.com/folder/119754677723',\n",
       " 'https://ibm.ent.box.com/folder/121471907428',\n",
       " 'https://ibm.ent.box.com/folder/121473104525',\n",
       " 'https://ibm.ent.box.com/folder/126473097672',\n",
       " 'https://ibm.ent.box.com/folder/121475746460',\n",
       " 'https://ibm.ent.box.com/folder/126293419252',\n",
       " 'https://ibm.ent.box.com/folder/118494305662',\n",
       " 'https://ibm.ent.box.com/folder/127171339369',\n",
       " 'https://ibm.ent.box.com/folder/126732205164',\n",
       " 'https://ibm.ent.box.com/folder/121154461798',\n",
       " 'https://ibm.ent.box.com/folder/126444421704',\n",
       " 'https://ibm.ent.box.com/folder/126690635559',\n",
       " 'https://ibm.ent.box.com/folder/126305279988',\n",
       " 'https://ibm.ent.box.com/folder/126002926074',\n",
       " 'https://ibm.ent.box.com/folder/126683991839',\n",
       " 'https://ibm.ent.box.com/folder/119510287216',\n",
       " 'https://ibm.ent.box.com/folder/118065281660',\n",
       " 'https://ibm.ent.box.com/folder/125494399662',\n",
       " 'https://ibm.ent.box.com/folder/130531964825',\n",
       " 'https://ibm.ent.box.com/folder/125059250472',\n",
       " 'https://ibm.ent.box.com/folder/119284855199',\n",
       " 'https://ibm.ent.box.com/folder/121032215319',\n",
       " 'https://ibm.ent.box.com/folder/126507758355',\n",
       " 'https://ibm.ent.box.com/folder/119766987475',\n",
       " 'https://ibm.ent.box.com/folder/126448365689',\n",
       " 'https://ibm.ent.box.com/folder/126763744887',\n",
       " 'https://ibm.ent.box.com/folder/124475856239?s=qlr01i1f2g8s5xi77woqgj18bvgykdxw',\n",
       " 'https://ibm.ent.box.com/folder/129036871389',\n",
       " 'https://ibm.ent.box.com/folder/119492559429',\n",
       " 'https://ibm.ent.box.com/folder/129037781161',\n",
       " 'https://ibm.ent.box.com/folder/129038255441',\n",
       " 'https://ibm.ent.box.com/folder/126736499766',\n",
       " 'https://ibm.ent.box.com/folder/126673329694',\n",
       " 'https://ibm.ent.box.com/folder/126623584560',\n",
       " 'https://ibm.ent.box.com/folder/120236770366',\n",
       " 'https://ibm.ent.box.com/folder/117926649753',\n",
       " 'https://ibm.ent.box.com/folder/123060631068',\n",
       " 'https://ibm.ent.box.com/folder/119755987746',\n",
       " 'https://ibm.ent.box.com/folder/129118164434',\n",
       " 'https://ibm.ent.box.com/folder/126896637205',\n",
       " 'https://ibm.ent.box.com/folder/126913994195',\n",
       " 'https://ibm.ent.box.com/folder/119509230985',\n",
       " 'https://ibm.ent.box.com/folder/126806717697',\n",
       " 'https://ibm.ent.box.com/folder/126805149957',\n",
       " 'https://ibm.ent.box.com/folder/126804555681']"
      ]
     },
     "execution_count": 76,
     "metadata": {},
     "output_type": "execute_result"
    }
   ],
   "source": [
    "backup_box_link = get_backup_box_link(list_of_entity, 'Entity backup BOX Link')\n",
    "backup_box_link"
   ]
  },
  {
   "cell_type": "code",
   "execution_count": 77,
   "metadata": {},
   "outputs": [
    {
     "data": {
      "text/plain": [
       "['127121561693',\n",
       " '129034587915',\n",
       " '126302246731',\n",
       " '123060631068',\n",
       " '126095157878',\n",
       " '119755987746',\n",
       " '121468561047',\n",
       " '130526260244',\n",
       " '118002107225',\n",
       " '123246726397',\n",
       " '125069499764',\n",
       " '126473281134',\n",
       " '126472252124',\n",
       " '119754677723',\n",
       " '121471907428',\n",
       " '121473104525',\n",
       " '126473097672',\n",
       " '121475746460',\n",
       " '126293419252',\n",
       " '118494305662',\n",
       " '127171339369',\n",
       " '126732205164',\n",
       " '121154461798',\n",
       " '126444421704',\n",
       " '126690635559',\n",
       " '126305279988',\n",
       " '126002926074',\n",
       " '126683991839',\n",
       " '119510287216',\n",
       " '118065281660',\n",
       " '125494399662',\n",
       " '130531964825',\n",
       " '125059250472',\n",
       " '119284855199',\n",
       " '121032215319',\n",
       " '126507758355',\n",
       " '119766987475',\n",
       " '126448365689',\n",
       " '126763744887',\n",
       " '124475856239?s=qlr01i1f2g8s5xi77woqgj18bvgykdxw',\n",
       " '129036871389',\n",
       " '119492559429',\n",
       " '129037781161',\n",
       " '129038255441',\n",
       " '126736499766',\n",
       " '126673329694',\n",
       " '126623584560',\n",
       " '120236770366',\n",
       " '117926649753',\n",
       " '123060631068',\n",
       " '119755987746',\n",
       " '129118164434',\n",
       " '126896637205',\n",
       " '126913994195',\n",
       " '119509230985',\n",
       " '126806717697',\n",
       " '126805149957',\n",
       " '126804555681']"
      ]
     },
     "execution_count": 77,
     "metadata": {},
     "output_type": "execute_result"
    }
   ],
   "source": [
    "backup_box_folder = []\n",
    "\n",
    "for i in range(len(backup_box_link)):\n",
    "    j = backup_box_link[i].split('/')[4]\n",
    "    backup_box_folder.append(j)\n",
    "    \n",
    "backup_box_folder"
   ]
  },
  {
   "cell_type": "code",
   "execution_count": 78,
   "metadata": {},
   "outputs": [
    {
     "data": {
      "text/plain": [
       "'844875688650'"
      ]
     },
     "execution_count": 78,
     "metadata": {},
     "output_type": "execute_result"
    }
   ],
   "source": [
    "my_file_id = get_file_id(my_client, \n",
    "                         'IBM World Trade Corporation - Brunei Darussalam Operations FY2019 - Connect Request Details - 06.Aug.2020.xlsx', \n",
    "                         '143055972076')\n",
    "my_file_id"
   ]
  },
  {
   "cell_type": "code",
   "execution_count": 79,
   "metadata": {},
   "outputs": [
    {
     "name": "stdout",
     "output_type": "stream",
     "text": [
      "File ID '844875688650' was successfully downloaded.\n"
     ]
    }
   ],
   "source": [
    "download_file(my_client, \n",
    "              my_file_id, \n",
    "              r'C:\\Users\\BrunoSecchiari\\Desktop\\IBM World Trade Corporation - Brunei Darussalam Operations FY2019 - Connect Request Details - 06.Aug.2020.xlsx')"
   ]
  },
  {
   "cell_type": "code",
   "execution_count": 80,
   "metadata": {},
   "outputs": [
    {
     "data": {
      "text/html": [
       "<div>\n",
       "<style scoped>\n",
       "    .dataframe tbody tr th:only-of-type {\n",
       "        vertical-align: middle;\n",
       "    }\n",
       "\n",
       "    .dataframe tbody tr th {\n",
       "        vertical-align: top;\n",
       "    }\n",
       "\n",
       "    .dataframe thead th {\n",
       "        text-align: right;\n",
       "    }\n",
       "</style>\n",
       "<table border=\"1\" class=\"dataframe\">\n",
       "  <thead>\n",
       "    <tr style=\"text-align: right;\">\n",
       "      <th></th>\n",
       "      <th>Engagement</th>\n",
       "      <th>Request ID</th>\n",
       "      <th>Type of testing</th>\n",
       "      <th>Interim/Final</th>\n",
       "      <th>FSLI</th>\n",
       "      <th>Request</th>\n",
       "      <th>Matching Criterion with BOX</th>\n",
       "      <th>Description</th>\n",
       "      <th>Status</th>\n",
       "      <th>Due Date</th>\n",
       "      <th>...</th>\n",
       "      <th>Secondary Owners</th>\n",
       "      <th>Primary Requestee</th>\n",
       "      <th>Secondary Requestees</th>\n",
       "      <th>Access Restricted to PwC Admins, Owners &amp; Requestees Only?</th>\n",
       "      <th>Reassignment Restricted?</th>\n",
       "      <th>Response Document Download Restricted?</th>\n",
       "      <th>Template Documents</th>\n",
       "      <th>Response Documents</th>\n",
       "      <th>Discussions</th>\n",
       "      <th>Hyperlink to CAS Response</th>\n",
       "    </tr>\n",
       "  </thead>\n",
       "  <tbody>\n",
       "    <tr>\n",
       "      <th>0</th>\n",
       "      <td>Process A - Services Accounting</td>\n",
       "      <td>11</td>\n",
       "      <td>Substantive Testing</td>\n",
       "      <td>Interim</td>\n",
       "      <td>NaN</td>\n",
       "      <td>SVS Tod TSS Sample 11(June'19) (Invoice number...</td>\n",
       "      <td>11 - SVS Tod TSS Sample 11(June'19) (Invoice n...</td>\n",
       "      <td>Kindly provide the following items:\\n1) Advise...</td>\n",
       "      <td>Accepted</td>\n",
       "      <td>2019-08-14</td>\n",
       "      <td>...</td>\n",
       "      <td>NaN</td>\n",
       "      <td>Nurfatin Shuhaimi</td>\n",
       "      <td>Erica Nyssa T Jose, Robert Adrian T Cruz, Mari...</td>\n",
       "      <td>No</td>\n",
       "      <td>No</td>\n",
       "      <td>No</td>\n",
       "      <td>NaN</td>\n",
       "      <td>BR0671+-+SSpremium+-+Bank+Islam+Brunei.pdf, IR...</td>\n",
       "      <td>Item #s 1, 3 &amp; 7</td>\n",
       "      <td>https://ibm.ent.box.com/folder/121095780672</td>\n",
       "    </tr>\n",
       "    <tr>\n",
       "      <th>1</th>\n",
       "      <td>Process A - Services Accounting</td>\n",
       "      <td>10</td>\n",
       "      <td>Substantive Testing</td>\n",
       "      <td>Interim</td>\n",
       "      <td>NaN</td>\n",
       "      <td>SVS Tod TSS Sample 10(May'19) (Invoice number:...</td>\n",
       "      <td>10 - SVS Tod TSS Sample 10(May'19) (Invoice nu...</td>\n",
       "      <td>Kindly provide the following items:\\n1) Advise...</td>\n",
       "      <td>Accepted</td>\n",
       "      <td>2019-10-04</td>\n",
       "      <td>...</td>\n",
       "      <td>NaN</td>\n",
       "      <td>Nurfatin Shuhaimi</td>\n",
       "      <td>Erica Nyssa T Jose, Robert Adrian T Cruz, Mari...</td>\n",
       "      <td>No</td>\n",
       "      <td>No</td>\n",
       "      <td>No</td>\n",
       "      <td>NaN</td>\n",
       "      <td>The billing for Contract BR0645 BR0650 BR0651....</td>\n",
       "      <td>Item #s 1, 3 &amp; 7, Amount in invoice #5U1191 in...</td>\n",
       "      <td>https://ibm.ent.box.com/folder/121095775426</td>\n",
       "    </tr>\n",
       "    <tr>\n",
       "      <th>2</th>\n",
       "      <td>Process A - Services Accounting</td>\n",
       "      <td>9</td>\n",
       "      <td>Substantive Testing</td>\n",
       "      <td>Interim</td>\n",
       "      <td>NaN</td>\n",
       "      <td>SVS Tod TSS Sample 9(May'19) (Invoice number:5...</td>\n",
       "      <td>9 - SVS Tod TSS Sample 9(May'19) (Invoice numb...</td>\n",
       "      <td>Kindly provide the following items:\\n1) Advise...</td>\n",
       "      <td>Accepted</td>\n",
       "      <td>2019-10-22</td>\n",
       "      <td>...</td>\n",
       "      <td>NaN</td>\n",
       "      <td>Afeeqa Aiyeesha Asli</td>\n",
       "      <td>Nurfahana Abu Bakar</td>\n",
       "      <td>No</td>\n",
       "      <td>No</td>\n",
       "      <td>No</td>\n",
       "      <td>NaN</td>\n",
       "      <td>5A1295.xlsx, 9 (643,02) TSS Accountant Respons...</td>\n",
       "      <td>Kindly provide signed contract #BR0645, Revenu...</td>\n",
       "      <td>https://ibm.ent.box.com/folder/121092592841</td>\n",
       "    </tr>\n",
       "  </tbody>\n",
       "</table>\n",
       "<p>3 rows × 28 columns</p>\n",
       "</div>"
      ],
      "text/plain": [
       "                        Engagement  Request ID      Type of testing  \\\n",
       "0  Process A - Services Accounting          11  Substantive Testing   \n",
       "1  Process A - Services Accounting          10  Substantive Testing   \n",
       "2  Process A - Services Accounting           9  Substantive Testing   \n",
       "\n",
       "  Interim/Final  FSLI                                            Request  \\\n",
       "0       Interim   NaN  SVS Tod TSS Sample 11(June'19) (Invoice number...   \n",
       "1       Interim   NaN  SVS Tod TSS Sample 10(May'19) (Invoice number:...   \n",
       "2       Interim   NaN  SVS Tod TSS Sample 9(May'19) (Invoice number:5...   \n",
       "\n",
       "                         Matching Criterion with BOX  \\\n",
       "0  11 - SVS Tod TSS Sample 11(June'19) (Invoice n...   \n",
       "1  10 - SVS Tod TSS Sample 10(May'19) (Invoice nu...   \n",
       "2  9 - SVS Tod TSS Sample 9(May'19) (Invoice numb...   \n",
       "\n",
       "                                         Description    Status   Due Date  \\\n",
       "0  Kindly provide the following items:\\n1) Advise...  Accepted 2019-08-14   \n",
       "1  Kindly provide the following items:\\n1) Advise...  Accepted 2019-10-04   \n",
       "2  Kindly provide the following items:\\n1) Advise...  Accepted 2019-10-22   \n",
       "\n",
       "   ... Secondary Owners    Primary Requestee   \\\n",
       "0  ...              NaN     Nurfatin Shuhaimi   \n",
       "1  ...              NaN     Nurfatin Shuhaimi   \n",
       "2  ...              NaN  Afeeqa Aiyeesha Asli   \n",
       "\n",
       "                                Secondary Requestees  \\\n",
       "0  Erica Nyssa T Jose, Robert Adrian T Cruz, Mari...   \n",
       "1  Erica Nyssa T Jose, Robert Adrian T Cruz, Mari...   \n",
       "2                                Nurfahana Abu Bakar   \n",
       "\n",
       "  Access Restricted to PwC Admins, Owners & Requestees Only?  \\\n",
       "0                                                 No           \n",
       "1                                                 No           \n",
       "2                                                 No           \n",
       "\n",
       "   Reassignment Restricted?  Response Document Download Restricted?  \\\n",
       "0                        No                                      No   \n",
       "1                        No                                      No   \n",
       "2                        No                                      No   \n",
       "\n",
       "   Template Documents                                 Response Documents  \\\n",
       "0                 NaN  BR0671+-+SSpremium+-+Bank+Islam+Brunei.pdf, IR...   \n",
       "1                 NaN  The billing for Contract BR0645 BR0650 BR0651....   \n",
       "2                 NaN  5A1295.xlsx, 9 (643,02) TSS Accountant Respons...   \n",
       "\n",
       "                                         Discussions  \\\n",
       "0                                   Item #s 1, 3 & 7   \n",
       "1  Item #s 1, 3 & 7, Amount in invoice #5U1191 in...   \n",
       "2  Kindly provide signed contract #BR0645, Revenu...   \n",
       "\n",
       "                     Hyperlink to CAS Response  \n",
       "0  https://ibm.ent.box.com/folder/121095780672  \n",
       "1  https://ibm.ent.box.com/folder/121095775426  \n",
       "2  https://ibm.ent.box.com/folder/121092592841  \n",
       "\n",
       "[3 rows x 28 columns]"
      ]
     },
     "execution_count": 80,
     "metadata": {},
     "output_type": "execute_result"
    }
   ],
   "source": [
    "brunei_darussalam = pandas.read_excel(r'C:\\Users\\BrunoSecchiari\\Desktop\\IBM World Trade Corporation - Brunei Darussalam Operations FY2019 - Connect Request Details - 06.Aug.2020.xlsx', \n",
    "                                      sheet_name = 'Requests', \n",
    "                                      skiprows = 6)\n",
    "brunei_darussalam.head(3)"
   ]
  },
  {
   "cell_type": "code",
   "execution_count": 81,
   "metadata": {},
   "outputs": [
    {
     "data": {
      "text/html": [
       "<div>\n",
       "<style scoped>\n",
       "    .dataframe tbody tr th:only-of-type {\n",
       "        vertical-align: middle;\n",
       "    }\n",
       "\n",
       "    .dataframe tbody tr th {\n",
       "        vertical-align: top;\n",
       "    }\n",
       "\n",
       "    .dataframe thead th {\n",
       "        text-align: right;\n",
       "    }\n",
       "</style>\n",
       "<table border=\"1\" class=\"dataframe\">\n",
       "  <thead>\n",
       "    <tr style=\"text-align: right;\">\n",
       "      <th></th>\n",
       "      <th>Engagement</th>\n",
       "      <th>Request ID</th>\n",
       "      <th>Type of testing</th>\n",
       "      <th>Interim/Final</th>\n",
       "      <th>FSLI</th>\n",
       "      <th>Request</th>\n",
       "      <th>Matching Criterion with BOX</th>\n",
       "      <th>Description</th>\n",
       "      <th>Status</th>\n",
       "      <th>Due Date</th>\n",
       "      <th>...</th>\n",
       "      <th>Primary Requestee</th>\n",
       "      <th>Secondary Requestees</th>\n",
       "      <th>Access Restricted to PwC Admins, Owners &amp; Requestees Only?</th>\n",
       "      <th>Reassignment Restricted?</th>\n",
       "      <th>Response Document Download Restricted?</th>\n",
       "      <th>Template Documents</th>\n",
       "      <th>Response Documents</th>\n",
       "      <th>Discussions</th>\n",
       "      <th>Hyperlink to CAS Response</th>\n",
       "      <th>Matching Criterion with BOX - Updated</th>\n",
       "    </tr>\n",
       "  </thead>\n",
       "  <tbody>\n",
       "    <tr>\n",
       "      <th>0</th>\n",
       "      <td>Process A - Services Accounting</td>\n",
       "      <td>11</td>\n",
       "      <td>Substantive Testing</td>\n",
       "      <td>Interim</td>\n",
       "      <td>NaN</td>\n",
       "      <td>SVS Tod TSS Sample 11(June'19) (Invoice number...</td>\n",
       "      <td>11 - SVS Tod TSS Sample 11(June'19) (Invoice n...</td>\n",
       "      <td>Kindly provide the following items:\\n1) Advise...</td>\n",
       "      <td>Accepted</td>\n",
       "      <td>2019-08-14</td>\n",
       "      <td>...</td>\n",
       "      <td>Nurfatin Shuhaimi</td>\n",
       "      <td>Erica Nyssa T Jose, Robert Adrian T Cruz, Mari...</td>\n",
       "      <td>No</td>\n",
       "      <td>No</td>\n",
       "      <td>No</td>\n",
       "      <td>NaN</td>\n",
       "      <td>BR0671+-+SSpremium+-+Bank+Islam+Brunei.pdf, IR...</td>\n",
       "      <td>Item #s 1, 3 &amp; 7</td>\n",
       "      <td>https://ibm.ent.box.com/folder/121095780672</td>\n",
       "      <td>11 - SVS Tod TSS Sample 11(June'19) (Invoice n...</td>\n",
       "    </tr>\n",
       "    <tr>\n",
       "      <th>1</th>\n",
       "      <td>Process A - Services Accounting</td>\n",
       "      <td>10</td>\n",
       "      <td>Substantive Testing</td>\n",
       "      <td>Interim</td>\n",
       "      <td>NaN</td>\n",
       "      <td>SVS Tod TSS Sample 10(May'19) (Invoice number:...</td>\n",
       "      <td>10 - SVS Tod TSS Sample 10(May'19) (Invoice nu...</td>\n",
       "      <td>Kindly provide the following items:\\n1) Advise...</td>\n",
       "      <td>Accepted</td>\n",
       "      <td>2019-10-04</td>\n",
       "      <td>...</td>\n",
       "      <td>Nurfatin Shuhaimi</td>\n",
       "      <td>Erica Nyssa T Jose, Robert Adrian T Cruz, Mari...</td>\n",
       "      <td>No</td>\n",
       "      <td>No</td>\n",
       "      <td>No</td>\n",
       "      <td>NaN</td>\n",
       "      <td>The billing for Contract BR0645 BR0650 BR0651....</td>\n",
       "      <td>Item #s 1, 3 &amp; 7, Amount in invoice #5U1191 in...</td>\n",
       "      <td>https://ibm.ent.box.com/folder/121095775426</td>\n",
       "      <td>10 - SVS Tod TSS Sample 10(May'19) (Invoice nu...</td>\n",
       "    </tr>\n",
       "    <tr>\n",
       "      <th>2</th>\n",
       "      <td>Process A - Services Accounting</td>\n",
       "      <td>9</td>\n",
       "      <td>Substantive Testing</td>\n",
       "      <td>Interim</td>\n",
       "      <td>NaN</td>\n",
       "      <td>SVS Tod TSS Sample 9(May'19) (Invoice number:5...</td>\n",
       "      <td>9 - SVS Tod TSS Sample 9(May'19) (Invoice numb...</td>\n",
       "      <td>Kindly provide the following items:\\n1) Advise...</td>\n",
       "      <td>Accepted</td>\n",
       "      <td>2019-10-22</td>\n",
       "      <td>...</td>\n",
       "      <td>Afeeqa Aiyeesha Asli</td>\n",
       "      <td>Nurfahana Abu Bakar</td>\n",
       "      <td>No</td>\n",
       "      <td>No</td>\n",
       "      <td>No</td>\n",
       "      <td>NaN</td>\n",
       "      <td>5A1295.xlsx, 9 (643,02) TSS Accountant Respons...</td>\n",
       "      <td>Kindly provide signed contract #BR0645, Revenu...</td>\n",
       "      <td>https://ibm.ent.box.com/folder/121092592841</td>\n",
       "      <td>9 - SVS Tod TSS Sample 9(May'19) (Invoice numb...</td>\n",
       "    </tr>\n",
       "  </tbody>\n",
       "</table>\n",
       "<p>3 rows × 29 columns</p>\n",
       "</div>"
      ],
      "text/plain": [
       "                        Engagement  Request ID      Type of testing  \\\n",
       "0  Process A - Services Accounting          11  Substantive Testing   \n",
       "1  Process A - Services Accounting          10  Substantive Testing   \n",
       "2  Process A - Services Accounting           9  Substantive Testing   \n",
       "\n",
       "  Interim/Final  FSLI                                            Request  \\\n",
       "0       Interim   NaN  SVS Tod TSS Sample 11(June'19) (Invoice number...   \n",
       "1       Interim   NaN  SVS Tod TSS Sample 10(May'19) (Invoice number:...   \n",
       "2       Interim   NaN  SVS Tod TSS Sample 9(May'19) (Invoice number:5...   \n",
       "\n",
       "                         Matching Criterion with BOX  \\\n",
       "0  11 - SVS Tod TSS Sample 11(June'19) (Invoice n...   \n",
       "1  10 - SVS Tod TSS Sample 10(May'19) (Invoice nu...   \n",
       "2  9 - SVS Tod TSS Sample 9(May'19) (Invoice numb...   \n",
       "\n",
       "                                         Description    Status   Due Date  \\\n",
       "0  Kindly provide the following items:\\n1) Advise...  Accepted 2019-08-14   \n",
       "1  Kindly provide the following items:\\n1) Advise...  Accepted 2019-10-04   \n",
       "2  Kindly provide the following items:\\n1) Advise...  Accepted 2019-10-22   \n",
       "\n",
       "   ...    Primary Requestee   \\\n",
       "0  ...     Nurfatin Shuhaimi   \n",
       "1  ...     Nurfatin Shuhaimi   \n",
       "2  ...  Afeeqa Aiyeesha Asli   \n",
       "\n",
       "                                Secondary Requestees  \\\n",
       "0  Erica Nyssa T Jose, Robert Adrian T Cruz, Mari...   \n",
       "1  Erica Nyssa T Jose, Robert Adrian T Cruz, Mari...   \n",
       "2                                Nurfahana Abu Bakar   \n",
       "\n",
       "  Access Restricted to PwC Admins, Owners & Requestees Only?  \\\n",
       "0                                                 No           \n",
       "1                                                 No           \n",
       "2                                                 No           \n",
       "\n",
       "  Reassignment Restricted?  Response Document Download Restricted?  \\\n",
       "0                       No                                      No   \n",
       "1                       No                                      No   \n",
       "2                       No                                      No   \n",
       "\n",
       "   Template Documents                                 Response Documents  \\\n",
       "0                 NaN  BR0671+-+SSpremium+-+Bank+Islam+Brunei.pdf, IR...   \n",
       "1                 NaN  The billing for Contract BR0645 BR0650 BR0651....   \n",
       "2                 NaN  5A1295.xlsx, 9 (643,02) TSS Accountant Respons...   \n",
       "\n",
       "                                         Discussions  \\\n",
       "0                                   Item #s 1, 3 & 7   \n",
       "1  Item #s 1, 3 & 7, Amount in invoice #5U1191 in...   \n",
       "2  Kindly provide signed contract #BR0645, Revenu...   \n",
       "\n",
       "                     Hyperlink to CAS Response  \\\n",
       "0  https://ibm.ent.box.com/folder/121095780672   \n",
       "1  https://ibm.ent.box.com/folder/121095775426   \n",
       "2  https://ibm.ent.box.com/folder/121092592841   \n",
       "\n",
       "               Matching Criterion with BOX - Updated  \n",
       "0  11 - SVS Tod TSS Sample 11(June'19) (Invoice n...  \n",
       "1  10 - SVS Tod TSS Sample 10(May'19) (Invoice nu...  \n",
       "2  9 - SVS Tod TSS Sample 9(May'19) (Invoice numb...  \n",
       "\n",
       "[3 rows x 29 columns]"
      ]
     },
     "execution_count": 81,
     "metadata": {},
     "output_type": "execute_result"
    }
   ],
   "source": [
    "brunei_darussalam['Matching Criterion with BOX - Updated'] = brunei_darussalam.apply(lambda x: str(x['Request ID']) + ' - ' + \\\n",
    "                                                                           x['Request'], axis = 1)\n",
    "brunei_darussalam.head(3)"
   ]
  },
  {
   "cell_type": "code",
   "execution_count": 82,
   "metadata": {},
   "outputs": [
    {
     "data": {
      "text/html": [
       "<div>\n",
       "<style scoped>\n",
       "    .dataframe tbody tr th:only-of-type {\n",
       "        vertical-align: middle;\n",
       "    }\n",
       "\n",
       "    .dataframe tbody tr th {\n",
       "        vertical-align: top;\n",
       "    }\n",
       "\n",
       "    .dataframe thead th {\n",
       "        text-align: right;\n",
       "    }\n",
       "</style>\n",
       "<table border=\"1\" class=\"dataframe\">\n",
       "  <thead>\n",
       "    <tr style=\"text-align: right;\">\n",
       "      <th></th>\n",
       "      <th>Engagement</th>\n",
       "      <th>Request ID</th>\n",
       "      <th>Type of testing</th>\n",
       "      <th>Interim/Final</th>\n",
       "      <th>FSLI</th>\n",
       "      <th>Request</th>\n",
       "      <th>Matching Criterion with BOX</th>\n",
       "      <th>Description</th>\n",
       "      <th>Status</th>\n",
       "      <th>Due Date</th>\n",
       "      <th>...</th>\n",
       "      <th>Secondary Requestees</th>\n",
       "      <th>Access Restricted to PwC Admins, Owners &amp; Requestees Only?</th>\n",
       "      <th>Reassignment Restricted?</th>\n",
       "      <th>Response Document Download Restricted?</th>\n",
       "      <th>Template Documents</th>\n",
       "      <th>Response Documents</th>\n",
       "      <th>Discussions</th>\n",
       "      <th>Hyperlink to CAS Response</th>\n",
       "      <th>Matching Criterion with BOX - Updated</th>\n",
       "      <th>Matching Criterion with BOX - Finalized</th>\n",
       "    </tr>\n",
       "  </thead>\n",
       "  <tbody>\n",
       "    <tr>\n",
       "      <th>0</th>\n",
       "      <td>Process A - Services Accounting</td>\n",
       "      <td>11</td>\n",
       "      <td>Substantive Testing</td>\n",
       "      <td>Interim</td>\n",
       "      <td>NaN</td>\n",
       "      <td>SVS Tod TSS Sample 11(June'19) (Invoice number...</td>\n",
       "      <td>11 - SVS Tod TSS Sample 11(June'19) (Invoice n...</td>\n",
       "      <td>Kindly provide the following items:\\n1) Advise...</td>\n",
       "      <td>Accepted</td>\n",
       "      <td>2019-08-14</td>\n",
       "      <td>...</td>\n",
       "      <td>Erica Nyssa T Jose, Robert Adrian T Cruz, Mari...</td>\n",
       "      <td>No</td>\n",
       "      <td>No</td>\n",
       "      <td>No</td>\n",
       "      <td>NaN</td>\n",
       "      <td>BR0671+-+SSpremium+-+Bank+Islam+Brunei.pdf, IR...</td>\n",
       "      <td>Item #s 1, 3 &amp; 7</td>\n",
       "      <td>https://ibm.ent.box.com/folder/121095780672</td>\n",
       "      <td>11 - SVS Tod TSS Sample 11(June'19) (Invoice n...</td>\n",
       "      <td>11 - SVS Tod TSS Sample 11(June'19) (Invoice n...</td>\n",
       "    </tr>\n",
       "    <tr>\n",
       "      <th>1</th>\n",
       "      <td>Process A - Services Accounting</td>\n",
       "      <td>10</td>\n",
       "      <td>Substantive Testing</td>\n",
       "      <td>Interim</td>\n",
       "      <td>NaN</td>\n",
       "      <td>SVS Tod TSS Sample 10(May'19) (Invoice number:...</td>\n",
       "      <td>10 - SVS Tod TSS Sample 10(May'19) (Invoice nu...</td>\n",
       "      <td>Kindly provide the following items:\\n1) Advise...</td>\n",
       "      <td>Accepted</td>\n",
       "      <td>2019-10-04</td>\n",
       "      <td>...</td>\n",
       "      <td>Erica Nyssa T Jose, Robert Adrian T Cruz, Mari...</td>\n",
       "      <td>No</td>\n",
       "      <td>No</td>\n",
       "      <td>No</td>\n",
       "      <td>NaN</td>\n",
       "      <td>The billing for Contract BR0645 BR0650 BR0651....</td>\n",
       "      <td>Item #s 1, 3 &amp; 7, Amount in invoice #5U1191 in...</td>\n",
       "      <td>https://ibm.ent.box.com/folder/121095775426</td>\n",
       "      <td>10 - SVS Tod TSS Sample 10(May'19) (Invoice nu...</td>\n",
       "      <td>10 - SVS Tod TSS Sample 10(May'19) (Invoice nu...</td>\n",
       "    </tr>\n",
       "    <tr>\n",
       "      <th>2</th>\n",
       "      <td>Process A - Services Accounting</td>\n",
       "      <td>9</td>\n",
       "      <td>Substantive Testing</td>\n",
       "      <td>Interim</td>\n",
       "      <td>NaN</td>\n",
       "      <td>SVS Tod TSS Sample 9(May'19) (Invoice number:5...</td>\n",
       "      <td>9 - SVS Tod TSS Sample 9(May'19) (Invoice numb...</td>\n",
       "      <td>Kindly provide the following items:\\n1) Advise...</td>\n",
       "      <td>Accepted</td>\n",
       "      <td>2019-10-22</td>\n",
       "      <td>...</td>\n",
       "      <td>Nurfahana Abu Bakar</td>\n",
       "      <td>No</td>\n",
       "      <td>No</td>\n",
       "      <td>No</td>\n",
       "      <td>NaN</td>\n",
       "      <td>5A1295.xlsx, 9 (643,02) TSS Accountant Respons...</td>\n",
       "      <td>Kindly provide signed contract #BR0645, Revenu...</td>\n",
       "      <td>https://ibm.ent.box.com/folder/121092592841</td>\n",
       "      <td>9 - SVS Tod TSS Sample 9(May'19) (Invoice numb...</td>\n",
       "      <td>9 - SVS Tod TSS Sample 9(May'19) (Invoice numb...</td>\n",
       "    </tr>\n",
       "  </tbody>\n",
       "</table>\n",
       "<p>3 rows × 30 columns</p>\n",
       "</div>"
      ],
      "text/plain": [
       "                        Engagement  Request ID      Type of testing  \\\n",
       "0  Process A - Services Accounting          11  Substantive Testing   \n",
       "1  Process A - Services Accounting          10  Substantive Testing   \n",
       "2  Process A - Services Accounting           9  Substantive Testing   \n",
       "\n",
       "  Interim/Final  FSLI                                            Request  \\\n",
       "0       Interim   NaN  SVS Tod TSS Sample 11(June'19) (Invoice number...   \n",
       "1       Interim   NaN  SVS Tod TSS Sample 10(May'19) (Invoice number:...   \n",
       "2       Interim   NaN  SVS Tod TSS Sample 9(May'19) (Invoice number:5...   \n",
       "\n",
       "                         Matching Criterion with BOX  \\\n",
       "0  11 - SVS Tod TSS Sample 11(June'19) (Invoice n...   \n",
       "1  10 - SVS Tod TSS Sample 10(May'19) (Invoice nu...   \n",
       "2  9 - SVS Tod TSS Sample 9(May'19) (Invoice numb...   \n",
       "\n",
       "                                         Description    Status   Due Date  \\\n",
       "0  Kindly provide the following items:\\n1) Advise...  Accepted 2019-08-14   \n",
       "1  Kindly provide the following items:\\n1) Advise...  Accepted 2019-10-04   \n",
       "2  Kindly provide the following items:\\n1) Advise...  Accepted 2019-10-22   \n",
       "\n",
       "   ...                               Secondary Requestees  \\\n",
       "0  ...  Erica Nyssa T Jose, Robert Adrian T Cruz, Mari...   \n",
       "1  ...  Erica Nyssa T Jose, Robert Adrian T Cruz, Mari...   \n",
       "2  ...                                Nurfahana Abu Bakar   \n",
       "\n",
       "  Access Restricted to PwC Admins, Owners & Requestees Only?  \\\n",
       "0                                                 No           \n",
       "1                                                 No           \n",
       "2                                                 No           \n",
       "\n",
       "  Reassignment Restricted? Response Document Download Restricted?  \\\n",
       "0                       No                                     No   \n",
       "1                       No                                     No   \n",
       "2                       No                                     No   \n",
       "\n",
       "   Template Documents                                 Response Documents  \\\n",
       "0                 NaN  BR0671+-+SSpremium+-+Bank+Islam+Brunei.pdf, IR...   \n",
       "1                 NaN  The billing for Contract BR0645 BR0650 BR0651....   \n",
       "2                 NaN  5A1295.xlsx, 9 (643,02) TSS Accountant Respons...   \n",
       "\n",
       "                                         Discussions  \\\n",
       "0                                   Item #s 1, 3 & 7   \n",
       "1  Item #s 1, 3 & 7, Amount in invoice #5U1191 in...   \n",
       "2  Kindly provide signed contract #BR0645, Revenu...   \n",
       "\n",
       "                     Hyperlink to CAS Response  \\\n",
       "0  https://ibm.ent.box.com/folder/121095780672   \n",
       "1  https://ibm.ent.box.com/folder/121095775426   \n",
       "2  https://ibm.ent.box.com/folder/121092592841   \n",
       "\n",
       "               Matching Criterion with BOX - Updated  \\\n",
       "0  11 - SVS Tod TSS Sample 11(June'19) (Invoice n...   \n",
       "1  10 - SVS Tod TSS Sample 10(May'19) (Invoice nu...   \n",
       "2  9 - SVS Tod TSS Sample 9(May'19) (Invoice numb...   \n",
       "\n",
       "             Matching Criterion with BOX - Finalized  \n",
       "0  11 - SVS Tod TSS Sample 11(June'19) (Invoice n...  \n",
       "1  10 - SVS Tod TSS Sample 10(May'19) (Invoice nu...  \n",
       "2  9 - SVS Tod TSS Sample 9(May'19) (Invoice numb...  \n",
       "\n",
       "[3 rows x 30 columns]"
      ]
     },
     "execution_count": 82,
     "metadata": {},
     "output_type": "execute_result"
    }
   ],
   "source": [
    "brunei_darussalam['Matching Criterion with BOX - Finalized'] = brunei_darussalam['Matching Criterion with BOX - Updated']\n",
    "brunei_darussalam.head(3)"
   ]
  },
  {
   "cell_type": "code",
   "execution_count": 83,
   "metadata": {},
   "outputs": [],
   "source": [
    "character = ['<', '>', ':', '\"', '/', '|', '\\?', '\\*']\n",
    "\n",
    "for i in character:\n",
    "    brunei_darussalam['Matching Criterion with BOX - Finalized'] = \\\n",
    "    brunei_darussalam['Matching Criterion with BOX - Finalized'].replace(i, '', regex = True)"
   ]
  },
  {
   "cell_type": "code",
   "execution_count": 84,
   "metadata": {},
   "outputs": [
    {
     "name": "stdout",
     "output_type": "stream",
     "text": [
      "11 - SVS Tod TSS Sample 11(June'19) (Invoice number:5A1300)\n",
      "-----VERSUS-----\n",
      "11 - SVS Tod TSS Sample 11(June'19) (Invoice number5A1300)\n"
     ]
    }
   ],
   "source": [
    "print(brunei_darussalam['Matching Criterion with BOX - Updated'][0])\n",
    "print('-----VERSUS-----')\n",
    "print(brunei_darussalam['Matching Criterion with BOX - Finalized'][0])"
   ]
  },
  {
   "cell_type": "code",
   "execution_count": 85,
   "metadata": {},
   "outputs": [
    {
     "name": "stdout",
     "output_type": "stream",
     "text": [
      "18 - Request ES Number/ Supporting Documents of Selected Contracts Q1\n",
      "-----VERSUS-----\n",
      "18 - Request ES Number Supporting Documents of Selected Contracts Q1\n"
     ]
    }
   ],
   "source": [
    "print(brunei_darussalam['Matching Criterion with BOX - Updated'][14])\n",
    "print('-----VERSUS-----')\n",
    "print(brunei_darussalam['Matching Criterion with BOX - Finalized'][14])"
   ]
  },
  {
   "cell_type": "code",
   "execution_count": 86,
   "metadata": {},
   "outputs": [],
   "source": [
    "brunei_darussalam['Matching Criterion with BOX - Finalized'] = \\\n",
    "brunei_darussalam['Matching Criterion with BOX - Finalized'].apply(lambda x: x[0:54])"
   ]
  },
  {
   "cell_type": "code",
   "execution_count": 87,
   "metadata": {},
   "outputs": [
    {
     "name": "stdout",
     "output_type": "stream",
     "text": [
      "11 - SVS Tod TSS Sample 11(June'19) (Invoice number:5A1300)\n",
      "-----VERSUS-----\n",
      "11 - SVS Tod TSS Sample 11(June'19) (Invoice number5A1\n"
     ]
    }
   ],
   "source": [
    "print(brunei_darussalam['Matching Criterion with BOX - Updated'][0])\n",
    "print('-----VERSUS-----')\n",
    "print(brunei_darussalam['Matching Criterion with BOX - Finalized'][0])"
   ]
  },
  {
   "cell_type": "code",
   "execution_count": 88,
   "metadata": {},
   "outputs": [
    {
     "name": "stdout",
     "output_type": "stream",
     "text": [
      "18 - Request ES Number/ Supporting Documents of Selected Contracts Q1\n",
      "-----VERSUS-----\n",
      "18 - Request ES Number Supporting Documents of Selecte\n"
     ]
    }
   ],
   "source": [
    "print(brunei_darussalam['Matching Criterion with BOX - Updated'][14])\n",
    "print('-----VERSUS-----')\n",
    "print(brunei_darussalam['Matching Criterion with BOX - Finalized'][14])"
   ]
  },
  {
   "cell_type": "code",
   "execution_count": 89,
   "metadata": {},
   "outputs": [
    {
     "data": {
      "text/plain": [
       "{\"11 - SVS Tod TSS Sample 11(June'19) (Invoice number5A1\": '143133022750',\n",
       " '6 - STG TOD Samples (Nov) - Summary (Geodis) Upon Amor': '143577220423',\n",
       " '66 - SVS ToD Others Samples Dec - Summary (STS)': '143577350295',\n",
       " '75 - Unpredictability -SWG Feb 2020 Samples (Geodis Sum': '143577359852',\n",
       " '96 - SVS TSS Jan Cut-Off Top Up Samples - STS Summary': '143576750833'}"
      ]
     },
     "execution_count": 89,
     "metadata": {},
     "output_type": "execute_result"
    }
   ],
   "source": [
    "box_folder_dictionary = {}\n",
    "box_folder = my_client.folder(folder_id = '143056160663').get_items()\n",
    "\n",
    "for i in box_folder:\n",
    "    box_folder_dictionary.update({i.name: i.id})\n",
    "    \n",
    "box_folder_dictionary"
   ]
  },
  {
   "cell_type": "code",
   "execution_count": 90,
   "metadata": {},
   "outputs": [
    {
     "data": {
      "text/plain": [
       "'143133022750'"
      ]
     },
     "execution_count": 90,
     "metadata": {},
     "output_type": "execute_result"
    }
   ],
   "source": [
    "box_folder_dictionary[brunei_darussalam['Matching Criterion with BOX - Finalized'][0]]"
   ]
  },
  {
   "cell_type": "code",
   "execution_count": 91,
   "metadata": {},
   "outputs": [
    {
     "data": {
      "text/html": [
       "<div>\n",
       "<style scoped>\n",
       "    .dataframe tbody tr th:only-of-type {\n",
       "        vertical-align: middle;\n",
       "    }\n",
       "\n",
       "    .dataframe tbody tr th {\n",
       "        vertical-align: top;\n",
       "    }\n",
       "\n",
       "    .dataframe thead th {\n",
       "        text-align: right;\n",
       "    }\n",
       "</style>\n",
       "<table border=\"1\" class=\"dataframe\">\n",
       "  <thead>\n",
       "    <tr style=\"text-align: right;\">\n",
       "      <th></th>\n",
       "      <th>Matching Criterion with BOX - Finalized</th>\n",
       "      <th>BOX Folder ID</th>\n",
       "    </tr>\n",
       "  </thead>\n",
       "  <tbody>\n",
       "    <tr>\n",
       "      <th>0</th>\n",
       "      <td>11 - SVS Tod TSS Sample 11(June'19) (Invoice n...</td>\n",
       "      <td>143133022750</td>\n",
       "    </tr>\n",
       "    <tr>\n",
       "      <th>1</th>\n",
       "      <td>6 - STG TOD Samples (Nov) - Summary (Geodis) U...</td>\n",
       "      <td>143577220423</td>\n",
       "    </tr>\n",
       "    <tr>\n",
       "      <th>2</th>\n",
       "      <td>66 - SVS ToD Others Samples Dec - Summary (STS)</td>\n",
       "      <td>143577350295</td>\n",
       "    </tr>\n",
       "    <tr>\n",
       "      <th>3</th>\n",
       "      <td>75 - Unpredictability -SWG Feb 2020 Samples (G...</td>\n",
       "      <td>143577359852</td>\n",
       "    </tr>\n",
       "    <tr>\n",
       "      <th>4</th>\n",
       "      <td>96 - SVS TSS Jan Cut-Off Top Up Samples - STS ...</td>\n",
       "      <td>143576750833</td>\n",
       "    </tr>\n",
       "  </tbody>\n",
       "</table>\n",
       "</div>"
      ],
      "text/plain": [
       "             Matching Criterion with BOX - Finalized BOX Folder ID\n",
       "0  11 - SVS Tod TSS Sample 11(June'19) (Invoice n...  143133022750\n",
       "1  6 - STG TOD Samples (Nov) - Summary (Geodis) U...  143577220423\n",
       "2    66 - SVS ToD Others Samples Dec - Summary (STS)  143577350295\n",
       "3  75 - Unpredictability -SWG Feb 2020 Samples (G...  143577359852\n",
       "4  96 - SVS TSS Jan Cut-Off Top Up Samples - STS ...  143576750833"
      ]
     },
     "execution_count": 91,
     "metadata": {},
     "output_type": "execute_result"
    }
   ],
   "source": [
    "box_folder_dictionary_key = []\n",
    "\n",
    "for i in box_folder_dictionary.keys():\n",
    "    box_folder_dictionary_key.append(i)\n",
    "    \n",
    "box_folder_dictionary_value = []\n",
    "\n",
    "for i in box_folder_dictionary.values():\n",
    "    box_folder_dictionary_value.append(i)    \n",
    "\n",
    "box_folder = pandas.DataFrame({'Matching Criterion with BOX - Finalized': box_folder_dictionary_key, \n",
    "                                         'BOX Folder ID': box_folder_dictionary_value})\n",
    "box_folder"
   ]
  },
  {
   "cell_type": "code",
   "execution_count": 92,
   "metadata": {},
   "outputs": [
    {
     "data": {
      "text/html": [
       "<div>\n",
       "<style scoped>\n",
       "    .dataframe tbody tr th:only-of-type {\n",
       "        vertical-align: middle;\n",
       "    }\n",
       "\n",
       "    .dataframe tbody tr th {\n",
       "        vertical-align: top;\n",
       "    }\n",
       "\n",
       "    .dataframe thead th {\n",
       "        text-align: right;\n",
       "    }\n",
       "</style>\n",
       "<table border=\"1\" class=\"dataframe\">\n",
       "  <thead>\n",
       "    <tr style=\"text-align: right;\">\n",
       "      <th></th>\n",
       "      <th>Matching Criterion with BOX - Finalized</th>\n",
       "      <th>BOX Folder ID</th>\n",
       "      <th>BOX Folder ID - Format</th>\n",
       "    </tr>\n",
       "  </thead>\n",
       "  <tbody>\n",
       "    <tr>\n",
       "      <th>0</th>\n",
       "      <td>11 - SVS Tod TSS Sample 11(June'19) (Invoice n...</td>\n",
       "      <td>143133022750</td>\n",
       "      <td>https://ibm.ent.box.com/folder/143133022750</td>\n",
       "    </tr>\n",
       "    <tr>\n",
       "      <th>1</th>\n",
       "      <td>6 - STG TOD Samples (Nov) - Summary (Geodis) U...</td>\n",
       "      <td>143577220423</td>\n",
       "      <td>https://ibm.ent.box.com/folder/143577220423</td>\n",
       "    </tr>\n",
       "    <tr>\n",
       "      <th>2</th>\n",
       "      <td>66 - SVS ToD Others Samples Dec - Summary (STS)</td>\n",
       "      <td>143577350295</td>\n",
       "      <td>https://ibm.ent.box.com/folder/143577350295</td>\n",
       "    </tr>\n",
       "    <tr>\n",
       "      <th>3</th>\n",
       "      <td>75 - Unpredictability -SWG Feb 2020 Samples (G...</td>\n",
       "      <td>143577359852</td>\n",
       "      <td>https://ibm.ent.box.com/folder/143577359852</td>\n",
       "    </tr>\n",
       "    <tr>\n",
       "      <th>4</th>\n",
       "      <td>96 - SVS TSS Jan Cut-Off Top Up Samples - STS ...</td>\n",
       "      <td>143576750833</td>\n",
       "      <td>https://ibm.ent.box.com/folder/143576750833</td>\n",
       "    </tr>\n",
       "  </tbody>\n",
       "</table>\n",
       "</div>"
      ],
      "text/plain": [
       "             Matching Criterion with BOX - Finalized BOX Folder ID  \\\n",
       "0  11 - SVS Tod TSS Sample 11(June'19) (Invoice n...  143133022750   \n",
       "1  6 - STG TOD Samples (Nov) - Summary (Geodis) U...  143577220423   \n",
       "2    66 - SVS ToD Others Samples Dec - Summary (STS)  143577350295   \n",
       "3  75 - Unpredictability -SWG Feb 2020 Samples (G...  143577359852   \n",
       "4  96 - SVS TSS Jan Cut-Off Top Up Samples - STS ...  143576750833   \n",
       "\n",
       "                        BOX Folder ID - Format  \n",
       "0  https://ibm.ent.box.com/folder/143133022750  \n",
       "1  https://ibm.ent.box.com/folder/143577220423  \n",
       "2  https://ibm.ent.box.com/folder/143577350295  \n",
       "3  https://ibm.ent.box.com/folder/143577359852  \n",
       "4  https://ibm.ent.box.com/folder/143576750833  "
      ]
     },
     "execution_count": 92,
     "metadata": {},
     "output_type": "execute_result"
    }
   ],
   "source": [
    "box_folder['BOX Folder ID - Format'] = box_folder['BOX Folder ID'].apply(lambda x: 'https://ibm.ent.box.com/folder/' + str(x))\n",
    "box_folder"
   ]
  },
  {
   "cell_type": "code",
   "execution_count": 93,
   "metadata": {},
   "outputs": [
    {
     "data": {
      "text/html": [
       "<div>\n",
       "<style scoped>\n",
       "    .dataframe tbody tr th:only-of-type {\n",
       "        vertical-align: middle;\n",
       "    }\n",
       "\n",
       "    .dataframe tbody tr th {\n",
       "        vertical-align: top;\n",
       "    }\n",
       "\n",
       "    .dataframe thead th {\n",
       "        text-align: right;\n",
       "    }\n",
       "</style>\n",
       "<table border=\"1\" class=\"dataframe\">\n",
       "  <thead>\n",
       "    <tr style=\"text-align: right;\">\n",
       "      <th></th>\n",
       "      <th>Engagement</th>\n",
       "      <th>Request ID</th>\n",
       "      <th>Type of testing</th>\n",
       "      <th>Interim/Final</th>\n",
       "      <th>FSLI</th>\n",
       "      <th>Request</th>\n",
       "      <th>Matching Criterion with BOX</th>\n",
       "      <th>Description</th>\n",
       "      <th>Status</th>\n",
       "      <th>Due Date</th>\n",
       "      <th>...</th>\n",
       "      <th>Reassignment Restricted?</th>\n",
       "      <th>Response Document Download Restricted?</th>\n",
       "      <th>Template Documents</th>\n",
       "      <th>Response Documents</th>\n",
       "      <th>Discussions</th>\n",
       "      <th>Hyperlink to CAS Response</th>\n",
       "      <th>Matching Criterion with BOX - Updated</th>\n",
       "      <th>Matching Criterion with BOX - Finalized</th>\n",
       "      <th>BOX Folder ID</th>\n",
       "      <th>BOX Folder ID - Format</th>\n",
       "    </tr>\n",
       "  </thead>\n",
       "  <tbody>\n",
       "    <tr>\n",
       "      <th>0</th>\n",
       "      <td>Process A - Services Accounting</td>\n",
       "      <td>11</td>\n",
       "      <td>Substantive Testing</td>\n",
       "      <td>Interim</td>\n",
       "      <td>NaN</td>\n",
       "      <td>SVS Tod TSS Sample 11(June'19) (Invoice number...</td>\n",
       "      <td>11 - SVS Tod TSS Sample 11(June'19) (Invoice n...</td>\n",
       "      <td>Kindly provide the following items:\\n1) Advise...</td>\n",
       "      <td>Accepted</td>\n",
       "      <td>2019-08-14</td>\n",
       "      <td>...</td>\n",
       "      <td>No</td>\n",
       "      <td>No</td>\n",
       "      <td>NaN</td>\n",
       "      <td>BR0671+-+SSpremium+-+Bank+Islam+Brunei.pdf, IR...</td>\n",
       "      <td>Item #s 1, 3 &amp; 7</td>\n",
       "      <td>https://ibm.ent.box.com/folder/121095780672</td>\n",
       "      <td>11 - SVS Tod TSS Sample 11(June'19) (Invoice n...</td>\n",
       "      <td>11 - SVS Tod TSS Sample 11(June'19) (Invoice n...</td>\n",
       "      <td>143133022750</td>\n",
       "      <td>https://ibm.ent.box.com/folder/143133022750</td>\n",
       "    </tr>\n",
       "    <tr>\n",
       "      <th>1</th>\n",
       "      <td>Process A - Services Accounting</td>\n",
       "      <td>10</td>\n",
       "      <td>Substantive Testing</td>\n",
       "      <td>Interim</td>\n",
       "      <td>NaN</td>\n",
       "      <td>SVS Tod TSS Sample 10(May'19) (Invoice number:...</td>\n",
       "      <td>10 - SVS Tod TSS Sample 10(May'19) (Invoice nu...</td>\n",
       "      <td>Kindly provide the following items:\\n1) Advise...</td>\n",
       "      <td>Accepted</td>\n",
       "      <td>2019-10-04</td>\n",
       "      <td>...</td>\n",
       "      <td>No</td>\n",
       "      <td>No</td>\n",
       "      <td>NaN</td>\n",
       "      <td>The billing for Contract BR0645 BR0650 BR0651....</td>\n",
       "      <td>Item #s 1, 3 &amp; 7, Amount in invoice #5U1191 in...</td>\n",
       "      <td>https://ibm.ent.box.com/folder/121095775426</td>\n",
       "      <td>10 - SVS Tod TSS Sample 10(May'19) (Invoice nu...</td>\n",
       "      <td>10 - SVS Tod TSS Sample 10(May'19) (Invoice nu...</td>\n",
       "      <td>NaN</td>\n",
       "      <td>NaN</td>\n",
       "    </tr>\n",
       "    <tr>\n",
       "      <th>2</th>\n",
       "      <td>Process A - Services Accounting</td>\n",
       "      <td>9</td>\n",
       "      <td>Substantive Testing</td>\n",
       "      <td>Interim</td>\n",
       "      <td>NaN</td>\n",
       "      <td>SVS Tod TSS Sample 9(May'19) (Invoice number:5...</td>\n",
       "      <td>9 - SVS Tod TSS Sample 9(May'19) (Invoice numb...</td>\n",
       "      <td>Kindly provide the following items:\\n1) Advise...</td>\n",
       "      <td>Accepted</td>\n",
       "      <td>2019-10-22</td>\n",
       "      <td>...</td>\n",
       "      <td>No</td>\n",
       "      <td>No</td>\n",
       "      <td>NaN</td>\n",
       "      <td>5A1295.xlsx, 9 (643,02) TSS Accountant Respons...</td>\n",
       "      <td>Kindly provide signed contract #BR0645, Revenu...</td>\n",
       "      <td>https://ibm.ent.box.com/folder/121092592841</td>\n",
       "      <td>9 - SVS Tod TSS Sample 9(May'19) (Invoice numb...</td>\n",
       "      <td>9 - SVS Tod TSS Sample 9(May'19) (Invoice numb...</td>\n",
       "      <td>NaN</td>\n",
       "      <td>NaN</td>\n",
       "    </tr>\n",
       "  </tbody>\n",
       "</table>\n",
       "<p>3 rows × 32 columns</p>\n",
       "</div>"
      ],
      "text/plain": [
       "                        Engagement  Request ID      Type of testing  \\\n",
       "0  Process A - Services Accounting          11  Substantive Testing   \n",
       "1  Process A - Services Accounting          10  Substantive Testing   \n",
       "2  Process A - Services Accounting           9  Substantive Testing   \n",
       "\n",
       "  Interim/Final  FSLI                                            Request  \\\n",
       "0       Interim   NaN  SVS Tod TSS Sample 11(June'19) (Invoice number...   \n",
       "1       Interim   NaN  SVS Tod TSS Sample 10(May'19) (Invoice number:...   \n",
       "2       Interim   NaN  SVS Tod TSS Sample 9(May'19) (Invoice number:5...   \n",
       "\n",
       "                         Matching Criterion with BOX  \\\n",
       "0  11 - SVS Tod TSS Sample 11(June'19) (Invoice n...   \n",
       "1  10 - SVS Tod TSS Sample 10(May'19) (Invoice nu...   \n",
       "2  9 - SVS Tod TSS Sample 9(May'19) (Invoice numb...   \n",
       "\n",
       "                                         Description    Status   Due Date  \\\n",
       "0  Kindly provide the following items:\\n1) Advise...  Accepted 2019-08-14   \n",
       "1  Kindly provide the following items:\\n1) Advise...  Accepted 2019-10-04   \n",
       "2  Kindly provide the following items:\\n1) Advise...  Accepted 2019-10-22   \n",
       "\n",
       "   ... Reassignment Restricted? Response Document Download Restricted?  \\\n",
       "0  ...                       No                                     No   \n",
       "1  ...                       No                                     No   \n",
       "2  ...                       No                                     No   \n",
       "\n",
       "  Template Documents                                 Response Documents  \\\n",
       "0                NaN  BR0671+-+SSpremium+-+Bank+Islam+Brunei.pdf, IR...   \n",
       "1                NaN  The billing for Contract BR0645 BR0650 BR0651....   \n",
       "2                NaN  5A1295.xlsx, 9 (643,02) TSS Accountant Respons...   \n",
       "\n",
       "                                         Discussions  \\\n",
       "0                                   Item #s 1, 3 & 7   \n",
       "1  Item #s 1, 3 & 7, Amount in invoice #5U1191 in...   \n",
       "2  Kindly provide signed contract #BR0645, Revenu...   \n",
       "\n",
       "                     Hyperlink to CAS Response  \\\n",
       "0  https://ibm.ent.box.com/folder/121095780672   \n",
       "1  https://ibm.ent.box.com/folder/121095775426   \n",
       "2  https://ibm.ent.box.com/folder/121092592841   \n",
       "\n",
       "               Matching Criterion with BOX - Updated  \\\n",
       "0  11 - SVS Tod TSS Sample 11(June'19) (Invoice n...   \n",
       "1  10 - SVS Tod TSS Sample 10(May'19) (Invoice nu...   \n",
       "2  9 - SVS Tod TSS Sample 9(May'19) (Invoice numb...   \n",
       "\n",
       "             Matching Criterion with BOX - Finalized BOX Folder ID  \\\n",
       "0  11 - SVS Tod TSS Sample 11(June'19) (Invoice n...  143133022750   \n",
       "1  10 - SVS Tod TSS Sample 10(May'19) (Invoice nu...           NaN   \n",
       "2  9 - SVS Tod TSS Sample 9(May'19) (Invoice numb...           NaN   \n",
       "\n",
       "                        BOX Folder ID - Format  \n",
       "0  https://ibm.ent.box.com/folder/143133022750  \n",
       "1                                          NaN  \n",
       "2                                          NaN  \n",
       "\n",
       "[3 rows x 32 columns]"
      ]
     },
     "execution_count": 93,
     "metadata": {},
     "output_type": "execute_result"
    }
   ],
   "source": [
    "brunei_darussalam = brunei_darussalam.merge(box_folder, \n",
    "                                            how = 'left', \n",
    "                                            on = 'Matching Criterion with BOX - Finalized')\n",
    "brunei_darussalam.head(3)"
   ]
  },
  {
   "cell_type": "code",
   "execution_count": 94,
   "metadata": {},
   "outputs": [],
   "source": [
    "brunei_darussalam['Matching Criterion with BOX'] = brunei_darussalam['Matching Criterion with BOX - Finalized']\n",
    "brunei_darussalam['Hyperlink to CAS Response'] = brunei_darussalam['BOX Folder ID - Format']\n",
    "\n",
    "brunei_darussalam.drop(['Matching Criterion with BOX - Updated', \n",
    "                        'Matching Criterion with BOX - Finalized', \n",
    "                        'BOX Folder ID', \n",
    "                        'BOX Folder ID - Format'], axis = 1, inplace = True)"
   ]
  },
  {
   "cell_type": "code",
   "execution_count": 95,
   "metadata": {},
   "outputs": [],
   "source": [
    "brunei_darussalam.to_excel(r'C:\\Users\\BrunoSecchiari\\Desktop\\Trial&Error.xlsx',\n",
    "                          sheet_name = 'Requests',\n",
    "                          index = False)"
   ]
  },
  {
   "cell_type": "code",
   "execution_count": null,
   "metadata": {},
   "outputs": [],
   "source": []
  },
  {
   "cell_type": "code",
   "execution_count": null,
   "metadata": {},
   "outputs": [],
   "source": []
  },
  {
   "cell_type": "code",
   "execution_count": null,
   "metadata": {},
   "outputs": [],
   "source": []
  }
 ],
 "metadata": {
  "kernelspec": {
   "display_name": "Python 3 (ipykernel)",
   "language": "python",
   "name": "python3"
  },
  "language_info": {
   "codemirror_mode": {
    "name": "ipython",
    "version": 3
   },
   "file_extension": ".py",
   "mimetype": "text/x-python",
   "name": "python",
   "nbconvert_exporter": "python",
   "pygments_lexer": "ipython3",
   "version": "3.9.7"
  }
 },
 "nbformat": 4,
 "nbformat_minor": 4
}
