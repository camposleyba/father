{
 "cells": [
  {
   "cell_type": "code",
   "execution_count": 23,
   "id": "af91e233-d6cb-4089-93f5-9aa02c770b60",
   "metadata": {},
   "outputs": [],
   "source": [
    "import os\n",
    "from shutil import copyfile\n",
    "\n",
    "srcpath = \"C:/Users/016434613/Desktop\"\n",
    "dstpath = \"C:/Users/016434613/Desktop/Todo/\"\n",
    "\n",
    "lista = os.listdir(path)\n",
    "listaext = ['.bat','.ini']\n",
    "\n",
    "\n",
    "for file in lista:\n",
    "    #hay que chequear si es file, porque el metodo listdir, te trae tanto files como carpetas en el directorio\n",
    "    if os.path.isfile(path + \"/\" + file):\n",
    "        extension = os.path.splitext(file)\n",
    "        if extension[1] not in listaext:\n",
    "            copyfile(path + \"/\" + file, dstpath + file)\n",
    "            os.remove(path + \"/\" + file)"
   ]
  },
  {
   "cell_type": "code",
   "execution_count": null,
   "id": "27233493-cc27-4cd5-9a70-d5b0187151eb",
   "metadata": {},
   "outputs": [],
   "source": []
  }
 ],
 "metadata": {
  "kernelspec": {
   "display_name": "Python 3 (ipykernel)",
   "language": "python",
   "name": "python3"
  },
  "language_info": {
   "codemirror_mode": {
    "name": "ipython",
    "version": 3
   },
   "file_extension": ".py",
   "mimetype": "text/x-python",
   "name": "python",
   "nbconvert_exporter": "python",
   "pygments_lexer": "ipython3",
   "version": "3.9.7"
  }
 },
 "nbformat": 4,
 "nbformat_minor": 5
}
