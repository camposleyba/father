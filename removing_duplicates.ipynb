{
 "cells": [
  {
   "cell_type": "code",
   "execution_count": 47,
   "id": "29d169a1-293e-454d-a90d-6a42eb376c7a",
   "metadata": {},
   "outputs": [
    {
     "data": {
      "text/plain": [
       "['&LLXP.&LLXT804',\n",
       " '&LLXP.&LLXT151',\n",
       " '&LLXP.&LLXT162',\n",
       " '&LLXP.&LLXT455',\n",
       " '&LLXP.&LLXT802',\n",
       " '&LLXP.&LLXTX455',\n",
       " '&LLXP.&LLXT580',\n",
       " '&LLXP.&LLXT001',\n",
       " '&LLXP.&LLXT144',\n",
       " '&TREK_FLAG',\n",
       " '&LLXP.&LLXT015',\n",
       " '&LLXP.&LLXT882',\n",
       " '&LLXP.&LLXT007',\n",
       " '&LLXP.&LLXTH802',\n",
       " '&LLXP.&LLXT100',\n",
       " '&LLXP.&LLXT884']"
      ]
     },
     "execution_count": 47,
     "metadata": {},
     "output_type": "execute_result"
    }
   ],
   "source": [
    "import re\n",
    "variables_list = []\n",
    "r_file=r\"C:\\Users\\016434613\\Desktop\\varables.txt\"\n",
    "with open(r_file,\"r\") as f:\n",
    "    lines = f.readlines()\n",
    "for line in lines:\n",
    "    char_ = re.search(r\"&\",line)\n",
    "    if char_ is not None:\n",
    "        posini = char_.span()[0]\n",
    "        new_line = line[posini:]\n",
    "        space_ = re.search(r' +',new_line)\n",
    "        if space_ is not None:\n",
    "            posfin = space_.span()[0]\n",
    "            new_line_ = new_line[:posfin]\n",
    "            variables_list.append(new_line_)\n",
    "\n",
    "sin_dups = list(set(variables_list))\n",
    "sin_dups\n",
    "#variables_list"
   ]
  },
  {
   "cell_type": "code",
   "execution_count": null,
   "id": "1f3db4c4-7929-4fc1-a083-f3db6c6635ab",
   "metadata": {},
   "outputs": [],
   "source": [
    "            pos = char_.span()[0]\n",
    "            space_ = re.search(r\" \",line[pos:])\n",
    "            if space_ is not None:\n",
    "                posf = space_.span()[0]\n",
    "                variables_list.append(line[pos:posf])"
   ]
  }
 ],
 "metadata": {
  "kernelspec": {
   "display_name": "Python 3 (ipykernel)",
   "language": "python",
   "name": "python3"
  },
  "language_info": {
   "codemirror_mode": {
    "name": "ipython",
    "version": 3
   },
   "file_extension": ".py",
   "mimetype": "text/x-python",
   "name": "python",
   "nbconvert_exporter": "python",
   "pygments_lexer": "ipython3",
   "version": "3.9.7"
  }
 },
 "nbformat": 4,
 "nbformat_minor": 5
}
