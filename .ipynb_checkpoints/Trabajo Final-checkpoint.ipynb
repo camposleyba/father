{
 "cells": [
  {
   "cell_type": "markdown",
   "id": "0618d7c1",
   "metadata": {},
   "source": [
    "<img src='Logo_DH.png' align='left' width=35%/>"
   ]
  },
  {
   "cell_type": "markdown",
   "id": "e5079dc7",
   "metadata": {},
   "source": [
    "# <h1><center><ins>PROYECTO FINAL INTEGRADOR</ins></center></h1>\n",
    "<h1><center><b>ANALISIS DE RIESGO CREDITICIO </b></center></h1>\n",
    "<h1><center>Grupo 6</center></h1>"
   ]
  },
  {
   "cell_type": "markdown",
   "id": "b34d3ba2",
   "metadata": {},
   "source": [
    "<div class=\"alert alert-block alert-info\">\n",
    "<b>Integrantes:</b> \n",
    "\n",
    " - Adrian Rodriguez \n",
    " - Bruno Secchiari\n",
    " - Cecilia Bocchino\n",
    " - Gabriela Sa\n",
    " - Guillermo Garbers\n",
    " - Manuel Gonzalez\n",
    "    \n",
    "</div>"
   ]
  },
  {
   "cell_type": "markdown",
   "id": "f020b9d1",
   "metadata": {},
   "source": [
    "## Sección 1 - Introducción\n",
    "---"
   ]
  },
  {
   "cell_type": "markdown",
   "id": "828a366b",
   "metadata": {},
   "source": [
    "<b>Introducción</b>\n",
    "\n",
    "A raíz de la crisis financiera de 2008, los diferentes bancos centrales han puesto énfasis en el uso de herramientas estadísticas y de recolección de datos  con el fin de impulsar las medidas de control y la adopción de las políticas establecidas por dichas entidades.\n",
    "\n",
    "Estas medidas, han favorecido la diponibilidad de datos para su análisis y modelado que permiten ayudar a la toma de decisiones financieras.\n",
    "Por lo tanto, se abre una oportunidad muy interesante para aplicar modelos de Machine Learning para el estudio del riesgo de default crediticio en una cartera de clientes determinada.\n",
    "\n",
    "<b>Planteo del Problema</b>\n",
    "\n",
    "Una importante entidad financiera bancaria del país contrata a nuestro equipo consultor de Data Science para analizar y resolver una problemática dentro de su departamento de créditos.\n",
    "\n",
    "La misión consiste en llevar a cabo un estudio de los perfiles de clientes, a fin de contar con un modelo que pueda predecir la probabilidad de caer en default por incumplimientos en los pagos de las cuotas de tarjetas de crédito / líneas crediticias.\n",
    "\n",
    "En otras palabras, necesitan contar con un modelo que les permita predicir y clasificar a los clientes con diferentes scores, para poder brindar un producto/servicio adecuado a sus posibilidades, minimizando el riesgo de caer en default por incumplimiento de pagos. "
   ]
  },
  {
   "cell_type": "markdown",
   "id": "cd7ba712",
   "metadata": {},
   "source": [
    "## Sección 2 - Descripción\n",
    "\n",
    "-------"
   ]
  },
  {
   "cell_type": "markdown",
   "id": "7a17ec29",
   "metadata": {},
   "source": [
    "### 2.1 Técnicas a Utilizar"
   ]
  },
  {
   "cell_type": "markdown",
   "id": "445c8aeb",
   "metadata": {},
   "source": [
    "La secuencia de pasos que vamos a seguir, es la siguiente:\n",
    "\n",
    " - <b>DataSets</b>\n",
    " - <b>Limpieza de Datos y Data Wrangling</b>\n",
    " - <b>Matriz de Features y Variable Target</b>\n",
    " - <b>Training & Test Set</b>\n",
    " - <b>Modelos de ML</b>\n",
    "     * Gaussian\n",
    "     * KNN\n",
    "     * Decision Tree\n",
    "     * Modelo de Ensamble\n",
    " - <b>Evaluacion de Modelos</b>\n",
    " - <b>Clases Desbalanceadas & Feature Selection</b>\n",
    " - <b>Pipeline + GridSearch</b>"
   ]
  },
  {
   "cell_type": "markdown",
   "id": "41dfdbfd",
   "metadata": {},
   "source": [
    "### 2.2 Datasets"
   ]
  },
  {
   "cell_type": "markdown",
   "id": "da2c432f",
   "metadata": {},
   "source": [
    "El DataSet 1 se compone de las siguientes variables:\n",
    "    \n",
    "*  <b>ID: </b> Número de identificación de cliente - Int64\n",
    "*  <b>CODE_GENDER: </b> Variable categórica que indica: {M = Male; F = Famale} - Object\n",
    "*  <b>FLAG_OWN_CAR: </b> Variable categórica que indica: {Y = Yes; N = No} - Object\n",
    "*  <b>FLAG_OWN_REALITY: </b> Variable categórica que indica: {Y = Yes; N = No} - Object\n",
    "*  <b>CNT_CHILDREN: </b> Variable numérica que indica la cantidad de hijos - Int64\n",
    "*  <b>AMT_INCOME_TOTAL: </b> Variable numérica que indica ingreso total anual - Int64\n",
    "*  <b>NAME_INCOME_TYPE: </b> Variable categórica que indica categoría proviene el ingreso {Working; Commercial associate; Pensioner; State Servant; Student} - Object\n",
    "*  <b>NAME_EDUCATION_TYPE: </b> Nivel de educación {Secondary/Secondary special; Higher education; Incomplete higher; Lower secondary; Academic degree} - Object\n",
    "*  <b>NAME_FAMILY_STATUS: </b> Variable categórica que indica estado civil: {Married: Single; Civil Marriage; Separated; Widow} - Object\n",
    "*  <b>NAME_HOUSING_TYPE: </b> Variable cat. indica donde vive: {House/apartment; With parents; Municipal apartment; Rented apartment; Office apartment} - Object\n",
    "*  <b>DAYS_BIRTH: </b> Variable numérica que indica fecha de nacimiento en días contados hacia atrás. Ejemplo: -1 = yesterday, 0=today. - float\n",
    "*  <b>DAYS_EMPLOYED: </b> Variable numérica que indica dias que está empleado contados hacia atrás. Si es positivo, significa \"Unemployed\". - float\n",
    "*  <b>FLAG_MOBILE: </b> Variable numérica binaria que indica si tiene celular: {0: no tiene, 1= tiene} - int64\n",
    "*  <b>FLAG_WORK_PHONE: </b> Variable numérica que indica si tiene teléfono de trabajo: {0: no tiene, 1= tiene} - int64\n",
    "*  <b>FLAG_EMAIL: </b> Variable numérica que indica si tiene email: {0: no tiene, 1= tiene} - Int64\n",
    "*  <b>OCUPATION_TYPE: </b> Variable categórica que indica tipo de ocupación: {} - Object\n",
    "*  <b>CANT_FAMILY_MEMBERS: </b> Variable numérica que indica cantidad de miembros de familia - Int64\n",
    "\n",
    "El DataSet 2 se compone de las siguientes variables:\n",
    "\n",
    "*  <b>ID: </b> Variable numérica que indica el número de identificación de cliente - Int64\n",
    "*  <b>MONTHS_BALANCE: </b> Variable numérica que indica de cuantos meses es el prestamo, contados hacia atrás. - float\n",
    "*  <b>STATUS: </b> Variable que indica el status de un cliente en cada mes de balance - Object.\n",
    "    - C: Pagado ese mes\n",
    "    - X: Sin préstamos para le mes\n",
    "    - 0: 1-29 días de atraso en el pago\n",
    "    - 1: 30-59 días de atraso en el pago\n",
    "    - 2: 60-89 días de atraso en el pago\n",
    "    - 3: 90-119 días de atraso en el pago\n",
    "    - 4: 120-149 días de atraso en el pago\n",
    "    - 5: +150 días de atraso en el pago\n"
   ]
  },
  {
   "cell_type": "markdown",
   "id": "81c25f16",
   "metadata": {},
   "source": [
    "## Sección 3 - Desarrollo\n",
    "---\n",
    "\n",
    "### Sección 3.1 - Unificación de DataSets.\n",
    "    1. Importamos las librerías con las que vamos a trabajar.\n",
    "    2. Leemos el DataSet 1 y revisamos la información general que contiene el mismo: tamaño, tipo de datos, cantidad de valores nulos.\n",
    "    3. Revisamos la cantidad de valores unicos para la variable 'ID'.\n",
    "    4. Trabajamos sobre los valores nulos.\n",
    "    5. Discriminamos entre variables cuantitativas y cualitativas, y trabajamos sobre las cualitativas transformandolas en datos numéricos.\n",
    "    6. Re-clasificamos la variable 'STATUS' y luego agrupamos el DataFrame por 'ID'.\n",
    "    7. Unimos el DataFrame 1 y el DataFrame 2 para obtener un DataFrame único que cuente con la siguiente información:\n",
    "        a) Columnas: Columnas del DataFrame 1 + Columnas del DataFrame 2\n",
    "        b) Filas: Un único registro por 'ID'."
   ]
  },
  {
   "cell_type": "code",
   "execution_count": 2,
   "id": "5393d1cd",
   "metadata": {},
   "outputs": [],
   "source": [
    "import numpy as np\n",
    "import pandas as pd\n",
    "\n",
    "import os\n",
    "\n",
    "import matplotlib.pyplot as plt\n",
    "import seaborn as sns\n",
    "\n",
    "from sklearn import tree\n",
    "from sklearn.base import BaseEstimator, TransformerMixin\n",
    "from sklearn.feature_selection import f_classif, SelectKBest\n",
    "from sklearn.metrics import accuracy_score, confusion_matrix, roc_auc_score, plot_confusion_matrix, classification_report, precision_recall_curve, auc\n",
    "from sklearn.model_selection import GridSearchCV, StratifiedKFold, train_test_split\n",
    "from sklearn.naive_bayes import GaussianNB\n",
    "from sklearn.neighbors import KNeighborsClassifier\n",
    "from sklearn.pipeline import Pipeline, make_pipeline, make_union\n",
    "from sklearn.preprocessing import MinMaxScaler, StandardScaler, OneHotEncoder\n",
    "from imblearn.over_sampling import RandomOverSampler, SMOTENC"
   ]
  },
  {
   "cell_type": "markdown",
   "id": "2bdf564d",
   "metadata": {},
   "source": [
    "Procedemos a cargar la informacion proveniente de dos fuentes diferentes, cada una de las que necesitaremos evaluar."
   ]
  },
  {
   "cell_type": "markdown",
   "id": "f970b88d",
   "metadata": {},
   "source": [
    "##### 3.1.1 - Carga de los DataSets"
   ]
  },
  {
   "cell_type": "code",
   "execution_count": 3,
   "id": "0ff89c44",
   "metadata": {},
   "outputs": [],
   "source": [
    "df1 = pd.read_csv('../DataSet/application_record.csv')\n",
    "df2 = pd.read_csv('../DataSet/credit_record.csv')"
   ]
  },
  {
   "cell_type": "markdown",
   "id": "df2ddb33",
   "metadata": {},
   "source": [
    "* Usaremos diferentes métodos para comprender la informacion presente en ambos archivos.\n",
    "* Los datos son complejos y ambos DataSets necesitan algún tipo de transformación antes de proceder con el análisis de los mismos.\n",
    "* Los DataSets se tratarán de manera individual y luego seran compilados en un mismo DataFrame."
   ]
  },
  {
   "cell_type": "markdown",
   "id": "d35e4205",
   "metadata": {},
   "source": [
    "##### 3.1.2 - Informacion General de los DataSets"
   ]
  },
  {
   "cell_type": "code",
   "execution_count": 57,
   "id": "49dfb96b",
   "metadata": {},
   "outputs": [
    {
     "name": "stdout",
     "output_type": "stream",
     "text": [
      "Tamaño del df1: (438557, 18) \n",
      "\n",
      "<class 'pandas.core.frame.DataFrame'>\n",
      "RangeIndex: 438557 entries, 0 to 438556\n",
      "Data columns (total 18 columns):\n",
      " #   Column               Non-Null Count   Dtype  \n",
      "---  ------               --------------   -----  \n",
      " 0   ID                   438557 non-null  int64  \n",
      " 1   CODE_GENDER          438557 non-null  object \n",
      " 2   FLAG_OWN_CAR         438557 non-null  object \n",
      " 3   FLAG_OWN_REALTY      438557 non-null  object \n",
      " 4   CNT_CHILDREN         438557 non-null  int64  \n",
      " 5   AMT_INCOME_TOTAL     438557 non-null  float64\n",
      " 6   NAME_INCOME_TYPE     438557 non-null  object \n",
      " 7   NAME_EDUCATION_TYPE  438557 non-null  object \n",
      " 8   NAME_FAMILY_STATUS   438557 non-null  object \n",
      " 9   NAME_HOUSING_TYPE    438557 non-null  object \n",
      " 10  DAYS_BIRTH           438557 non-null  int64  \n",
      " 11  DAYS_EMPLOYED        438557 non-null  int64  \n",
      " 12  FLAG_MOBIL           438557 non-null  int64  \n",
      " 13  FLAG_WORK_PHONE      438557 non-null  int64  \n",
      " 14  FLAG_PHONE           438557 non-null  int64  \n",
      " 15  FLAG_EMAIL           438557 non-null  int64  \n",
      " 16  OCCUPATION_TYPE      304354 non-null  object \n",
      " 17  CNT_FAM_MEMBERS      438557 non-null  float64\n",
      "dtypes: float64(2), int64(8), object(8)\n",
      "memory usage: 60.2+ MB\n"
     ]
    }
   ],
   "source": [
    "print(f'Tamaño del df1: {df1.shape} \\n')\n",
    "df1.info()"
   ]
  },
  {
   "cell_type": "code",
   "execution_count": 58,
   "id": "5220d3f9",
   "metadata": {},
   "outputs": [
    {
     "name": "stdout",
     "output_type": "stream",
     "text": [
      "Tamaño del df2: (1048575, 3) \n",
      "\n",
      "<class 'pandas.core.frame.DataFrame'>\n",
      "RangeIndex: 1048575 entries, 0 to 1048574\n",
      "Data columns (total 3 columns):\n",
      " #   Column          Non-Null Count    Dtype \n",
      "---  ------          --------------    ----- \n",
      " 0   ID              1048575 non-null  int64 \n",
      " 1   MONTHS_BALANCE  1048575 non-null  int64 \n",
      " 2   STATUS          1048575 non-null  object\n",
      "dtypes: int64(2), object(1)\n",
      "memory usage: 24.0+ MB\n"
     ]
    }
   ],
   "source": [
    "print(f'Tamaño del df2: {df2.shape} \\n')\n",
    "df2.info()"
   ]
  },
  {
   "cell_type": "markdown",
   "id": "4d4818cc",
   "metadata": {},
   "source": [
    "##### 3.1.3 - Cantidad de Clientes Únicos en cada DataFrame"
   ]
  },
  {
   "cell_type": "code",
   "execution_count": 59,
   "id": "e9621b3e",
   "metadata": {},
   "outputs": [
    {
     "name": "stdout",
     "output_type": "stream",
     "text": [
      " Valores ID únicos en DF1: 438510 \n",
      "\n"
     ]
    }
   ],
   "source": [
    "# vemos cuántos clientes únicos hay en df1\n",
    "\n",
    "print(f' Valores ID únicos en DF1: {sum(pd.value_counts(df1[\"ID\"].unique()))} \\n') # de un total 438,557. Esto significa que hay duplicados."
   ]
  },
  {
   "cell_type": "code",
   "execution_count": 60,
   "id": "2d41a069",
   "metadata": {},
   "outputs": [
    {
     "name": "stdout",
     "output_type": "stream",
     "text": [
      " Valores ID únicos en DF2: 45985 de un total de 1048575\n"
     ]
    }
   ],
   "source": [
    "# vemos cuántos clientes únicos hay en df2\n",
    "\n",
    "print(f' Valores ID únicos en DF2: {df2[\"ID\"].nunique()} de un total de {df2.shape[0]}') # hay duplicados"
   ]
  },
  {
   "cell_type": "code",
   "execution_count": 61,
   "id": "2a7ff0a9",
   "metadata": {},
   "outputs": [
    {
     "data": {
      "text/plain": [
       "36457"
      ]
     },
     "execution_count": 61,
     "metadata": {},
     "output_type": "execute_result"
    }
   ],
   "source": [
    "# miremos la intersección de ambos conjuntos de datos.\n",
    "\n",
    "len(set(df2['ID']).intersection(set(df1['ID']))) # calcula la longitud de la intersección (o elementos comunes) en ambos datasets."
   ]
  },
  {
   "cell_type": "markdown",
   "id": "ed64a951",
   "metadata": {},
   "source": [
    "En principio, si quisieramos unir ambos DataFrames tendríamos un DataSet unificado por ID con **36.457** registros. Pero ahora, debemos revisar la presencia de valores nulos. Un primera aproximación puede derivarse del metodo `.info` que fue utilizado con anterioridad."
   ]
  },
  {
   "cell_type": "markdown",
   "id": "2f8e0b35",
   "metadata": {},
   "source": [
    "##### 3.1.4 - Valores Nulos de cada DataFrame"
   ]
  },
  {
   "cell_type": "code",
   "execution_count": 62,
   "id": "da760356",
   "metadata": {},
   "outputs": [
    {
     "data": {
      "text/plain": [
       "ID                          0\n",
       "CODE_GENDER                 0\n",
       "FLAG_OWN_CAR                0\n",
       "FLAG_OWN_REALTY             0\n",
       "CNT_CHILDREN                0\n",
       "AMT_INCOME_TOTAL            0\n",
       "NAME_INCOME_TYPE            0\n",
       "NAME_EDUCATION_TYPE         0\n",
       "NAME_FAMILY_STATUS          0\n",
       "NAME_HOUSING_TYPE           0\n",
       "DAYS_BIRTH                  0\n",
       "DAYS_EMPLOYED               0\n",
       "FLAG_MOBIL                  0\n",
       "FLAG_WORK_PHONE             0\n",
       "FLAG_PHONE                  0\n",
       "FLAG_EMAIL                  0\n",
       "OCCUPATION_TYPE        134203\n",
       "CNT_FAM_MEMBERS             0\n",
       "dtype: int64"
      ]
     },
     "execution_count": 62,
     "metadata": {},
     "output_type": "execute_result"
    }
   ],
   "source": [
    "# Revisamos si hay valores nulos en df1\n",
    "\n",
    "df1.isnull().sum()"
   ]
  },
  {
   "cell_type": "code",
   "execution_count": 63,
   "id": "0bec4625",
   "metadata": {},
   "outputs": [
    {
     "data": {
      "text/plain": [
       "ID                0\n",
       "MONTHS_BALANCE    0\n",
       "STATUS            0\n",
       "dtype: int64"
      ]
     },
     "execution_count": 63,
     "metadata": {},
     "output_type": "execute_result"
    }
   ],
   "source": [
    "# Revisamos si hay valores nulos en df2\n",
    "\n",
    "df2.isnull().sum()"
   ]
  },
  {
   "cell_type": "code",
   "execution_count": 64,
   "id": "71bff35c",
   "metadata": {},
   "outputs": [],
   "source": [
    "df1 = df1.dropna()      #elimina nulos en 'occupation_type'"
   ]
  },
  {
   "cell_type": "code",
   "execution_count": 65,
   "id": "1a068303",
   "metadata": {},
   "outputs": [
    {
     "name": "stdout",
     "output_type": "stream",
     "text": [
      "cantidad de filas en df1 despues de eliminar nulos: 304354\n"
     ]
    }
   ],
   "source": [
    "# Checkeamos como queda df1\n",
    "\n",
    "print(\"cantidad de filas en df1 despues de eliminar nulos: \" + str(df1.shape[0]))"
   ]
  },
  {
   "cell_type": "markdown",
   "id": "4af91766",
   "metadata": {},
   "source": [
    "##### 3.1.5 - Variables Cuantitativas y Cualitativas"
   ]
  },
  {
   "cell_type": "markdown",
   "id": "bf00688b",
   "metadata": {},
   "source": [
    "**DataFrame 1**"
   ]
  },
  {
   "cell_type": "code",
   "execution_count": 66,
   "id": "956892af",
   "metadata": {},
   "outputs": [
    {
     "name": "stdout",
     "output_type": "stream",
     "text": [
      "CODE_GENDER: ['M' 'F']\n",
      "F    190412\n",
      "M    113942\n",
      "Name: CODE_GENDER, dtype: int64 \n",
      "\n",
      "FLAG_OWN_CAR: ['Y' 'N']\n",
      "N    178244\n",
      "Y    126110\n",
      "Name: FLAG_OWN_CAR, dtype: int64 \n",
      "\n",
      "FLAG_OWN_REALTY: ['Y' 'N']\n",
      "Y    207670\n",
      "N     96684\n",
      "Name: FLAG_OWN_REALTY, dtype: int64 \n",
      "\n",
      "NAME_INCOME_TYPE: ['Working' 'Commercial associate' 'State servant' 'Student' 'Pensioner']\n",
      "Working                 190218\n",
      "Commercial associate     84012\n",
      "State servant            29976\n",
      "Pensioner                  136\n",
      "Student                     12\n",
      "Name: NAME_INCOME_TYPE, dtype: int64 \n",
      "\n",
      "NAME_EDUCATION_TYPE: ['Secondary / secondary special' 'Higher education' 'Incomplete higher'\n",
      " 'Lower secondary' 'Academic degree']\n",
      "Secondary / secondary special    204792\n",
      "Higher education                  85663\n",
      "Incomplete higher                 11635\n",
      "Lower secondary                    2039\n",
      "Academic degree                     225\n",
      "Name: NAME_EDUCATION_TYPE, dtype: int64 \n",
      "\n",
      "NAME_FAMILY_STATUS: ['Married' 'Single / not married' 'Civil marriage' 'Separated' 'Widow']\n",
      "Married                 212721\n",
      "Single / not married     39649\n",
      "Civil marriage           26802\n",
      "Separated                18470\n",
      "Widow                     6712\n",
      "Name: NAME_FAMILY_STATUS, dtype: int64 \n",
      "\n",
      "NAME_HOUSING_TYPE: ['House / apartment' 'Rented apartment' 'Municipal apartment'\n",
      " 'With parents' 'Co-op apartment' 'Office apartment']\n",
      "House / apartment      270017\n",
      "With parents            15641\n",
      "Municipal apartment      9663\n",
      "Rented apartment         4819\n",
      "Office apartment         3006\n",
      "Co-op apartment          1208\n",
      "Name: NAME_HOUSING_TYPE, dtype: int64 \n",
      "\n",
      "OCCUPATION_TYPE: ['Security staff' 'Sales staff' 'Accountants' 'Laborers' 'Managers'\n",
      " 'Drivers' 'Core staff' 'High skill tech staff' 'Cleaning staff'\n",
      " 'Private service staff' 'Cooking staff' 'Low-skill Laborers'\n",
      " 'Medicine staff' 'Secretaries' 'Waiters/barmen staff' 'HR staff'\n",
      " 'Realty agents' 'IT staff']\n",
      "Laborers                 78240\n",
      "Core staff               43007\n",
      "Sales staff              41098\n",
      "Managers                 35487\n",
      "Drivers                  26090\n",
      "High skill tech staff    17289\n",
      "Accountants              15985\n",
      "Medicine staff           13520\n",
      "Cooking staff             8076\n",
      "Security staff            7993\n",
      "Cleaning staff            5845\n",
      "Private service staff     3456\n",
      "Low-skill Laborers        2140\n",
      "Secretaries               2044\n",
      "Waiters/barmen staff      1665\n",
      "Realty agents             1041\n",
      "HR staff                   774\n",
      "IT staff                   604\n",
      "Name: OCCUPATION_TYPE, dtype: int64 \n",
      "\n"
     ]
    }
   ],
   "source": [
    "# Discriminamos las variables categóricas de df1 y vemos las distintas categorías y cantidades de cada variable categórica.\n",
    "\n",
    "categorical = (df1.dtypes == 'object').values\n",
    "numerical  = np.logical_not(categorical)\n",
    "\n",
    "for i in df1.loc[:, categorical].columns:\n",
    "    print(f'{i}: {df1[i].unique()}')\n",
    "    print(f'{df1[i].value_counts()} \\n')"
   ]
  },
  {
   "cell_type": "code",
   "execution_count": 67,
   "id": "8ab45380",
   "metadata": {},
   "outputs": [
    {
     "data": {
      "text/plain": [
       "0                   ID\n",
       "4         CNT_CHILDREN\n",
       "5     AMT_INCOME_TOTAL\n",
       "10          DAYS_BIRTH\n",
       "11       DAYS_EMPLOYED\n",
       "12          FLAG_MOBIL\n",
       "13     FLAG_WORK_PHONE\n",
       "14          FLAG_PHONE\n",
       "15          FLAG_EMAIL\n",
       "17     CNT_FAM_MEMBERS\n",
       "Name: index, dtype: object"
      ]
     },
     "execution_count": 67,
     "metadata": {},
     "output_type": "execute_result"
    }
   ],
   "source": [
    "# Obtenemos las variables numéricas y registramos su índice.\n",
    "numerical = pd.DataFrame(df1.dtypes != 'object').reset_index().rename(columns =  {0:'yes/no'})\n",
    "numerical = numerical[numerical['yes/no'] ==True]['index']\n",
    "numerical"
   ]
  },
  {
   "cell_type": "code",
   "execution_count": 68,
   "id": "070065f6",
   "metadata": {},
   "outputs": [
    {
     "data": {
      "text/html": [
       "<div>\n",
       "<style scoped>\n",
       "    .dataframe tbody tr th:only-of-type {\n",
       "        vertical-align: middle;\n",
       "    }\n",
       "\n",
       "    .dataframe tbody tr th {\n",
       "        vertical-align: top;\n",
       "    }\n",
       "\n",
       "    .dataframe thead th {\n",
       "        text-align: right;\n",
       "    }\n",
       "</style>\n",
       "<table border=\"1\" class=\"dataframe\">\n",
       "  <thead>\n",
       "    <tr style=\"text-align: right;\">\n",
       "      <th></th>\n",
       "      <th>ID</th>\n",
       "      <th>CODE_GENDER</th>\n",
       "      <th>FLAG_OWN_CAR</th>\n",
       "      <th>FLAG_OWN_REALTY</th>\n",
       "      <th>CNT_CHILDREN</th>\n",
       "      <th>AMT_INCOME_TOTAL</th>\n",
       "      <th>NAME_INCOME_TYPE</th>\n",
       "      <th>NAME_EDUCATION_TYPE</th>\n",
       "      <th>NAME_FAMILY_STATUS</th>\n",
       "      <th>NAME_HOUSING_TYPE</th>\n",
       "      <th>DAYS_BIRTH</th>\n",
       "      <th>DAYS_EMPLOYED</th>\n",
       "      <th>FLAG_MOBIL</th>\n",
       "      <th>FLAG_WORK_PHONE</th>\n",
       "      <th>FLAG_PHONE</th>\n",
       "      <th>FLAG_EMAIL</th>\n",
       "      <th>OCCUPATION_TYPE</th>\n",
       "      <th>CNT_FAM_MEMBERS</th>\n",
       "    </tr>\n",
       "  </thead>\n",
       "  <tbody>\n",
       "    <tr>\n",
       "      <th>2</th>\n",
       "      <td>5008806</td>\n",
       "      <td>M</td>\n",
       "      <td>Y</td>\n",
       "      <td>Y</td>\n",
       "      <td>0</td>\n",
       "      <td>112500.0</td>\n",
       "      <td>Working</td>\n",
       "      <td>Secondary / secondary special</td>\n",
       "      <td>Married</td>\n",
       "      <td>House / apartment</td>\n",
       "      <td>-21474</td>\n",
       "      <td>-1134</td>\n",
       "      <td>1</td>\n",
       "      <td>0</td>\n",
       "      <td>0</td>\n",
       "      <td>0</td>\n",
       "      <td>Security staff</td>\n",
       "      <td>2.0</td>\n",
       "    </tr>\n",
       "    <tr>\n",
       "      <th>3</th>\n",
       "      <td>5008808</td>\n",
       "      <td>F</td>\n",
       "      <td>N</td>\n",
       "      <td>Y</td>\n",
       "      <td>0</td>\n",
       "      <td>270000.0</td>\n",
       "      <td>Commercial associate</td>\n",
       "      <td>Secondary / secondary special</td>\n",
       "      <td>Single / not married</td>\n",
       "      <td>House / apartment</td>\n",
       "      <td>-19110</td>\n",
       "      <td>-3051</td>\n",
       "      <td>1</td>\n",
       "      <td>0</td>\n",
       "      <td>1</td>\n",
       "      <td>1</td>\n",
       "      <td>Sales staff</td>\n",
       "      <td>1.0</td>\n",
       "    </tr>\n",
       "    <tr>\n",
       "      <th>4</th>\n",
       "      <td>5008809</td>\n",
       "      <td>F</td>\n",
       "      <td>N</td>\n",
       "      <td>Y</td>\n",
       "      <td>0</td>\n",
       "      <td>270000.0</td>\n",
       "      <td>Commercial associate</td>\n",
       "      <td>Secondary / secondary special</td>\n",
       "      <td>Single / not married</td>\n",
       "      <td>House / apartment</td>\n",
       "      <td>-19110</td>\n",
       "      <td>-3051</td>\n",
       "      <td>1</td>\n",
       "      <td>0</td>\n",
       "      <td>1</td>\n",
       "      <td>1</td>\n",
       "      <td>Sales staff</td>\n",
       "      <td>1.0</td>\n",
       "    </tr>\n",
       "    <tr>\n",
       "      <th>5</th>\n",
       "      <td>5008810</td>\n",
       "      <td>F</td>\n",
       "      <td>N</td>\n",
       "      <td>Y</td>\n",
       "      <td>0</td>\n",
       "      <td>270000.0</td>\n",
       "      <td>Commercial associate</td>\n",
       "      <td>Secondary / secondary special</td>\n",
       "      <td>Single / not married</td>\n",
       "      <td>House / apartment</td>\n",
       "      <td>-19110</td>\n",
       "      <td>-3051</td>\n",
       "      <td>1</td>\n",
       "      <td>0</td>\n",
       "      <td>1</td>\n",
       "      <td>1</td>\n",
       "      <td>Sales staff</td>\n",
       "      <td>1.0</td>\n",
       "    </tr>\n",
       "    <tr>\n",
       "      <th>6</th>\n",
       "      <td>5008811</td>\n",
       "      <td>F</td>\n",
       "      <td>N</td>\n",
       "      <td>Y</td>\n",
       "      <td>0</td>\n",
       "      <td>270000.0</td>\n",
       "      <td>Commercial associate</td>\n",
       "      <td>Secondary / secondary special</td>\n",
       "      <td>Single / not married</td>\n",
       "      <td>House / apartment</td>\n",
       "      <td>-19110</td>\n",
       "      <td>-3051</td>\n",
       "      <td>1</td>\n",
       "      <td>0</td>\n",
       "      <td>1</td>\n",
       "      <td>1</td>\n",
       "      <td>Sales staff</td>\n",
       "      <td>1.0</td>\n",
       "    </tr>\n",
       "  </tbody>\n",
       "</table>\n",
       "</div>"
      ],
      "text/plain": [
       "        ID CODE_GENDER FLAG_OWN_CAR FLAG_OWN_REALTY  CNT_CHILDREN  \\\n",
       "2  5008806           M            Y               Y             0   \n",
       "3  5008808           F            N               Y             0   \n",
       "4  5008809           F            N               Y             0   \n",
       "5  5008810           F            N               Y             0   \n",
       "6  5008811           F            N               Y             0   \n",
       "\n",
       "   AMT_INCOME_TOTAL      NAME_INCOME_TYPE            NAME_EDUCATION_TYPE  \\\n",
       "2          112500.0               Working  Secondary / secondary special   \n",
       "3          270000.0  Commercial associate  Secondary / secondary special   \n",
       "4          270000.0  Commercial associate  Secondary / secondary special   \n",
       "5          270000.0  Commercial associate  Secondary / secondary special   \n",
       "6          270000.0  Commercial associate  Secondary / secondary special   \n",
       "\n",
       "     NAME_FAMILY_STATUS  NAME_HOUSING_TYPE  DAYS_BIRTH  DAYS_EMPLOYED  \\\n",
       "2               Married  House / apartment      -21474          -1134   \n",
       "3  Single / not married  House / apartment      -19110          -3051   \n",
       "4  Single / not married  House / apartment      -19110          -3051   \n",
       "5  Single / not married  House / apartment      -19110          -3051   \n",
       "6  Single / not married  House / apartment      -19110          -3051   \n",
       "\n",
       "   FLAG_MOBIL  FLAG_WORK_PHONE  FLAG_PHONE  FLAG_EMAIL OCCUPATION_TYPE  \\\n",
       "2           1                0           0           0  Security staff   \n",
       "3           1                0           1           1     Sales staff   \n",
       "4           1                0           1           1     Sales staff   \n",
       "5           1                0           1           1     Sales staff   \n",
       "6           1                0           1           1     Sales staff   \n",
       "\n",
       "   CNT_FAM_MEMBERS  \n",
       "2              2.0  \n",
       "3              1.0  \n",
       "4              1.0  \n",
       "5              1.0  \n",
       "6              1.0  "
      ]
     },
     "execution_count": 68,
     "metadata": {},
     "output_type": "execute_result"
    }
   ],
   "source": [
    "df1.head(5)"
   ]
  },
  {
   "cell_type": "code",
   "execution_count": 69,
   "id": "fd95a0b2",
   "metadata": {},
   "outputs": [
    {
     "data": {
      "text/html": [
       "<div>\n",
       "<style scoped>\n",
       "    .dataframe tbody tr th:only-of-type {\n",
       "        vertical-align: middle;\n",
       "    }\n",
       "\n",
       "    .dataframe tbody tr th {\n",
       "        vertical-align: top;\n",
       "    }\n",
       "\n",
       "    .dataframe thead th {\n",
       "        text-align: right;\n",
       "    }\n",
       "</style>\n",
       "<table border=\"1\" class=\"dataframe\">\n",
       "  <thead>\n",
       "    <tr style=\"text-align: right;\">\n",
       "      <th></th>\n",
       "      <th>ID</th>\n",
       "      <th>CNT_CHILDREN</th>\n",
       "      <th>AMT_INCOME_TOTAL</th>\n",
       "      <th>DAYS_BIRTH</th>\n",
       "      <th>DAYS_EMPLOYED</th>\n",
       "      <th>FLAG_MOBIL</th>\n",
       "      <th>FLAG_WORK_PHONE</th>\n",
       "      <th>FLAG_PHONE</th>\n",
       "      <th>FLAG_EMAIL</th>\n",
       "      <th>CNT_FAM_MEMBERS</th>\n",
       "    </tr>\n",
       "  </thead>\n",
       "  <tbody>\n",
       "    <tr>\n",
       "      <th>2</th>\n",
       "      <td>5008806</td>\n",
       "      <td>0</td>\n",
       "      <td>112500.0</td>\n",
       "      <td>-21474</td>\n",
       "      <td>-1134</td>\n",
       "      <td>1</td>\n",
       "      <td>0</td>\n",
       "      <td>0</td>\n",
       "      <td>0</td>\n",
       "      <td>2.0</td>\n",
       "    </tr>\n",
       "    <tr>\n",
       "      <th>3</th>\n",
       "      <td>5008808</td>\n",
       "      <td>0</td>\n",
       "      <td>270000.0</td>\n",
       "      <td>-19110</td>\n",
       "      <td>-3051</td>\n",
       "      <td>1</td>\n",
       "      <td>0</td>\n",
       "      <td>1</td>\n",
       "      <td>1</td>\n",
       "      <td>1.0</td>\n",
       "    </tr>\n",
       "    <tr>\n",
       "      <th>4</th>\n",
       "      <td>5008809</td>\n",
       "      <td>0</td>\n",
       "      <td>270000.0</td>\n",
       "      <td>-19110</td>\n",
       "      <td>-3051</td>\n",
       "      <td>1</td>\n",
       "      <td>0</td>\n",
       "      <td>1</td>\n",
       "      <td>1</td>\n",
       "      <td>1.0</td>\n",
       "    </tr>\n",
       "    <tr>\n",
       "      <th>5</th>\n",
       "      <td>5008810</td>\n",
       "      <td>0</td>\n",
       "      <td>270000.0</td>\n",
       "      <td>-19110</td>\n",
       "      <td>-3051</td>\n",
       "      <td>1</td>\n",
       "      <td>0</td>\n",
       "      <td>1</td>\n",
       "      <td>1</td>\n",
       "      <td>1.0</td>\n",
       "    </tr>\n",
       "    <tr>\n",
       "      <th>6</th>\n",
       "      <td>5008811</td>\n",
       "      <td>0</td>\n",
       "      <td>270000.0</td>\n",
       "      <td>-19110</td>\n",
       "      <td>-3051</td>\n",
       "      <td>1</td>\n",
       "      <td>0</td>\n",
       "      <td>1</td>\n",
       "      <td>1</td>\n",
       "      <td>1.0</td>\n",
       "    </tr>\n",
       "  </tbody>\n",
       "</table>\n",
       "</div>"
      ],
      "text/plain": [
       "        ID  CNT_CHILDREN  AMT_INCOME_TOTAL  DAYS_BIRTH  DAYS_EMPLOYED  \\\n",
       "2  5008806             0          112500.0      -21474          -1134   \n",
       "3  5008808             0          270000.0      -19110          -3051   \n",
       "4  5008809             0          270000.0      -19110          -3051   \n",
       "5  5008810             0          270000.0      -19110          -3051   \n",
       "6  5008811             0          270000.0      -19110          -3051   \n",
       "\n",
       "   FLAG_MOBIL  FLAG_WORK_PHONE  FLAG_PHONE  FLAG_EMAIL  CNT_FAM_MEMBERS  \n",
       "2           1                0           0           0              2.0  \n",
       "3           1                0           1           1              1.0  \n",
       "4           1                0           1           1              1.0  \n",
       "5           1                0           1           1              1.0  \n",
       "6           1                0           1           1              1.0  "
      ]
     },
     "execution_count": 69,
     "metadata": {},
     "output_type": "execute_result"
    }
   ],
   "source": [
    "# Miremos en las columnas numéricas y vemos si hay algo que necesite cambiarse.\n",
    "\n",
    "df1[numerical].head() # vemos los valores negativos que luego los converiremos en positivo."
   ]
  },
  {
   "cell_type": "code",
   "execution_count": 70,
   "id": "b4c44093",
   "metadata": {},
   "outputs": [
    {
     "data": {
      "text/plain": [
       "2         21474\n",
       "3         19110\n",
       "4         19110\n",
       "5         19110\n",
       "6         19110\n",
       "          ...  \n",
       "438541    13510\n",
       "438548    12569\n",
       "438553    15939\n",
       "438554     8169\n",
       "438556    18858\n",
       "Name: DAYS_BIRTH, Length: 304354, dtype: int64"
      ]
     },
     "execution_count": 70,
     "metadata": {},
     "output_type": "execute_result"
    }
   ],
   "source": [
    "df1['DAYS_BIRTH'] = df1['DAYS_BIRTH'].apply(lambda x: x * -1)\n",
    "df1['DAYS_BIRTH']"
   ]
  },
  {
   "cell_type": "code",
   "execution_count": 71,
   "id": "35641b9e",
   "metadata": {},
   "outputs": [
    {
     "data": {
      "text/plain": [
       "2         1134\n",
       "3         3051\n",
       "4         3051\n",
       "5         3051\n",
       "6         3051\n",
       "          ... \n",
       "438541    2309\n",
       "438548    2095\n",
       "438553    3007\n",
       "438554     372\n",
       "438556    1201\n",
       "Name: DAYS_EMPLOYED, Length: 304354, dtype: int64"
      ]
     },
     "execution_count": 71,
     "metadata": {},
     "output_type": "execute_result"
    }
   ],
   "source": [
    "df1['DAYS_EMPLOYED'] = df1['DAYS_EMPLOYED'].apply(lambda x: x * -1)\n",
    "df1['DAYS_EMPLOYED']"
   ]
  },
  {
   "cell_type": "markdown",
   "id": "dc7e0d1a",
   "metadata": {},
   "source": [
    "**DataFrame 2**"
   ]
  },
  {
   "cell_type": "code",
   "execution_count": 72,
   "id": "5d20a2cd",
   "metadata": {},
   "outputs": [
    {
     "data": {
      "text/html": [
       "<div>\n",
       "<style scoped>\n",
       "    .dataframe tbody tr th:only-of-type {\n",
       "        vertical-align: middle;\n",
       "    }\n",
       "\n",
       "    .dataframe tbody tr th {\n",
       "        vertical-align: top;\n",
       "    }\n",
       "\n",
       "    .dataframe thead th {\n",
       "        text-align: right;\n",
       "    }\n",
       "</style>\n",
       "<table border=\"1\" class=\"dataframe\">\n",
       "  <thead>\n",
       "    <tr style=\"text-align: right;\">\n",
       "      <th></th>\n",
       "      <th>ID</th>\n",
       "      <th>MONTHS_BALANCE</th>\n",
       "      <th>STATUS</th>\n",
       "      <th>MONTHS</th>\n",
       "    </tr>\n",
       "  </thead>\n",
       "  <tbody>\n",
       "    <tr>\n",
       "      <th>0</th>\n",
       "      <td>5001711</td>\n",
       "      <td>0</td>\n",
       "      <td>X</td>\n",
       "      <td>0</td>\n",
       "    </tr>\n",
       "    <tr>\n",
       "      <th>1</th>\n",
       "      <td>5001711</td>\n",
       "      <td>-1</td>\n",
       "      <td>0</td>\n",
       "      <td>1</td>\n",
       "    </tr>\n",
       "    <tr>\n",
       "      <th>2</th>\n",
       "      <td>5001711</td>\n",
       "      <td>-2</td>\n",
       "      <td>0</td>\n",
       "      <td>2</td>\n",
       "    </tr>\n",
       "    <tr>\n",
       "      <th>3</th>\n",
       "      <td>5001711</td>\n",
       "      <td>-3</td>\n",
       "      <td>0</td>\n",
       "      <td>3</td>\n",
       "    </tr>\n",
       "    <tr>\n",
       "      <th>4</th>\n",
       "      <td>5001712</td>\n",
       "      <td>0</td>\n",
       "      <td>C</td>\n",
       "      <td>0</td>\n",
       "    </tr>\n",
       "    <tr>\n",
       "      <th>5</th>\n",
       "      <td>5001712</td>\n",
       "      <td>-1</td>\n",
       "      <td>C</td>\n",
       "      <td>1</td>\n",
       "    </tr>\n",
       "    <tr>\n",
       "      <th>6</th>\n",
       "      <td>5001712</td>\n",
       "      <td>-2</td>\n",
       "      <td>C</td>\n",
       "      <td>2</td>\n",
       "    </tr>\n",
       "    <tr>\n",
       "      <th>7</th>\n",
       "      <td>5001712</td>\n",
       "      <td>-3</td>\n",
       "      <td>C</td>\n",
       "      <td>3</td>\n",
       "    </tr>\n",
       "    <tr>\n",
       "      <th>8</th>\n",
       "      <td>5001712</td>\n",
       "      <td>-4</td>\n",
       "      <td>C</td>\n",
       "      <td>4</td>\n",
       "    </tr>\n",
       "    <tr>\n",
       "      <th>9</th>\n",
       "      <td>5001712</td>\n",
       "      <td>-5</td>\n",
       "      <td>C</td>\n",
       "      <td>5</td>\n",
       "    </tr>\n",
       "  </tbody>\n",
       "</table>\n",
       "</div>"
      ],
      "text/plain": [
       "        ID  MONTHS_BALANCE STATUS  MONTHS\n",
       "0  5001711               0      X       0\n",
       "1  5001711              -1      0       1\n",
       "2  5001711              -2      0       2\n",
       "3  5001711              -3      0       3\n",
       "4  5001712               0      C       0\n",
       "5  5001712              -1      C       1\n",
       "6  5001712              -2      C       2\n",
       "7  5001712              -3      C       3\n",
       "8  5001712              -4      C       4\n",
       "9  5001712              -5      C       5"
      ]
     },
     "execution_count": 72,
     "metadata": {},
     "output_type": "execute_result"
    }
   ],
   "source": [
    "# Reemplazamos la columna MONTHS_BALANCE por una nueva llamada MONTHS que toma los mismos valores pero positivos.\n",
    "# La columna MONTHS da cuenta de hace cuantos meses se tomó el crédito.\n",
    "# Los ordenamos de forma ascendente de acuerdo a ID y MONTHS.\n",
    "\n",
    "df2['MONTHS'] = df2['MONTHS_BALANCE']*-1\n",
    "df2 = df2.sort_values(['ID','MONTHS'], ascending=True)\n",
    "df2.drop(['MONTHS_BALANCE'], axis=1, inplace=False)\n",
    "df2.head(10)"
   ]
  },
  {
   "cell_type": "markdown",
   "id": "d5a5d0b8",
   "metadata": {},
   "source": [
    "##### 3.1.6 - Variable Target"
   ]
  },
  {
   "cell_type": "code",
   "execution_count": 73,
   "id": "502b5d5a",
   "metadata": {},
   "outputs": [
    {
     "data": {
      "text/plain": [
       "C    442031\n",
       "0    383120\n",
       "X    209230\n",
       "1     11090\n",
       "5      1693\n",
       "2       868\n",
       "3       320\n",
       "4       223\n",
       "Name: STATUS, dtype: int64"
      ]
     },
     "execution_count": 73,
     "metadata": {},
     "output_type": "execute_result"
    }
   ],
   "source": [
    "# Primero realizamos un value_Count sobre STATUS para ver cuantos valores de cada tipo.\n",
    "\n",
    "a = df2['STATUS'].value_counts()\n",
    "a"
   ]
  },
  {
   "cell_type": "code",
   "execution_count": 74,
   "id": "248ce446",
   "metadata": {},
   "outputs": [
    {
     "data": {
      "image/png": "[encoded data removed]",
      "text/plain": [
       "<Figure size 432x288 with 1 Axes>"
      ]
     },
     "metadata": {
      "needs_background": "light"
     },
     "output_type": "display_data"
    }
   ],
   "source": [
    "#Grafico la distribución inicial\n",
    "\n",
    "x = np.arange(8)\n",
    "values = a\n",
    "\n",
    "fig, ax = plt.subplots()\n",
    "plt.bar(x, values)\n",
    "plt.xticks(x, ('C', '0', 'X', '1', '5', '2', '3', '4'))\n",
    "plt.title('Distribución de STATUS')\n",
    "plt.xlabel('STATUS')\n",
    "plt.ylabel(' Num. Clientes')\n",
    "plt.show()"
   ]
  },
  {
   "cell_type": "code",
   "execution_count": 75,
   "id": "3b9f6444",
   "metadata": {},
   "outputs": [
    {
     "data": {
      "text/plain": [
       "C    0.421554\n",
       "1    0.378909\n",
       "X    0.199537\n",
       "Name: STATUS, dtype: float64"
      ]
     },
     "execution_count": 75,
     "metadata": {},
     "output_type": "execute_result"
    }
   ],
   "source": [
    "# Reemplazamos los valores 0,1,2,3,4,5 con 1, ya que perteneces a la misma categoría: deudor.\n",
    "# Estas serán nuestras etiquetas / resultados de la predicción para nuestro modelo.\n",
    "\n",
    "to_replace1 = {'0': '1',\n",
    "              '2': '1', \n",
    "              '3': '1',\n",
    "              '4':'1',\n",
    "              '5':'1'}\n",
    "\n",
    "df2.replace(to_replace1, inplace = True)\n",
    "\n",
    "df2['STATUS'].value_counts(normalize=True)"
   ]
  },
  {
   "cell_type": "code",
   "execution_count": 76,
   "id": "19e57235",
   "metadata": {},
   "outputs": [],
   "source": [
    "# Ahora reemplazamos los valores de C and X con 0 ya que son del mismo tipo e indican lo mismo: cliente al día.\n",
    "to_replace2 = {'C': '0',\n",
    "              'X':'0'}\n",
    "\n",
    "df2.replace(to_replace2, inplace = True)\n",
    "\n",
    "df2['STATUS'] = df2['STATUS'].apply(lambda x: int(x))"
   ]
  },
  {
   "cell_type": "code",
   "execution_count": 77,
   "id": "78ad7d07",
   "metadata": {},
   "outputs": [
    {
     "data": {
      "text/plain": [
       "0    0.621091\n",
       "1    0.378909\n",
       "Name: STATUS, dtype: float64"
      ]
     },
     "execution_count": 77,
     "metadata": {},
     "output_type": "execute_result"
    }
   ],
   "source": [
    "df2['STATUS'].value_counts(normalize=True)"
   ]
  },
  {
   "cell_type": "markdown",
   "id": "36289e80",
   "metadata": {},
   "source": [
    "- <b>Clase 0:</b> 62%\n",
    "- <b>Clase 1:</b> 37%"
   ]
  },
  {
   "cell_type": "code",
   "execution_count": 78,
   "id": "43f6fb62",
   "metadata": {},
   "outputs": [
    {
     "data": {
      "image/png": "[encoded data removed]",
      "text/plain": [
       "<Figure size 432x288 with 1 Axes>"
      ]
     },
     "metadata": {},
     "output_type": "display_data"
    }
   ],
   "source": [
    "# Graficamos la nueva distribución de la variable STATUS\n",
    "\n",
    "labels = '0', '1'\n",
    "sizes = [0.62, 0.38]\n",
    "\n",
    "fig1, ax1 = plt.subplots()\n",
    "ax1.pie(sizes, labels=labels, autopct='%1.1f%%',\n",
    "        shadow=True, startangle=90)\n",
    "ax1.axis('equal')\n",
    "\n",
    "plt.show()"
   ]
  },
  {
   "cell_type": "markdown",
   "id": "ae4bb74b",
   "metadata": {},
   "source": [
    "##### 3.1.7 - Creacion de Nuevas Variables"
   ]
  },
  {
   "cell_type": "code",
   "execution_count": 79,
   "id": "832cb5e0",
   "metadata": {},
   "outputs": [
    {
     "data": {
      "text/html": [
       "<div>\n",
       "<style scoped>\n",
       "    .dataframe tbody tr th:only-of-type {\n",
       "        vertical-align: middle;\n",
       "    }\n",
       "\n",
       "    .dataframe tbody tr th {\n",
       "        vertical-align: top;\n",
       "    }\n",
       "\n",
       "    .dataframe thead tr th {\n",
       "        text-align: left;\n",
       "    }\n",
       "\n",
       "    .dataframe thead tr:last-of-type th {\n",
       "        text-align: right;\n",
       "    }\n",
       "</style>\n",
       "<table border=\"1\" class=\"dataframe\">\n",
       "  <thead>\n",
       "    <tr>\n",
       "      <th></th>\n",
       "      <th>sum</th>\n",
       "      <th>count</th>\n",
       "    </tr>\n",
       "    <tr>\n",
       "      <th></th>\n",
       "      <th>STATUS</th>\n",
       "      <th>STATUS</th>\n",
       "    </tr>\n",
       "    <tr>\n",
       "      <th>ID</th>\n",
       "      <th></th>\n",
       "      <th></th>\n",
       "    </tr>\n",
       "  </thead>\n",
       "  <tbody>\n",
       "    <tr>\n",
       "      <th>5001711</th>\n",
       "      <td>3</td>\n",
       "      <td>4</td>\n",
       "    </tr>\n",
       "    <tr>\n",
       "      <th>5001712</th>\n",
       "      <td>10</td>\n",
       "      <td>19</td>\n",
       "    </tr>\n",
       "    <tr>\n",
       "      <th>5001713</th>\n",
       "      <td>0</td>\n",
       "      <td>22</td>\n",
       "    </tr>\n",
       "    <tr>\n",
       "      <th>5001714</th>\n",
       "      <td>0</td>\n",
       "      <td>15</td>\n",
       "    </tr>\n",
       "    <tr>\n",
       "      <th>5001715</th>\n",
       "      <td>0</td>\n",
       "      <td>60</td>\n",
       "    </tr>\n",
       "    <tr>\n",
       "      <th>...</th>\n",
       "      <td>...</td>\n",
       "      <td>...</td>\n",
       "    </tr>\n",
       "    <tr>\n",
       "      <th>5150482</th>\n",
       "      <td>12</td>\n",
       "      <td>18</td>\n",
       "    </tr>\n",
       "    <tr>\n",
       "      <th>5150483</th>\n",
       "      <td>0</td>\n",
       "      <td>18</td>\n",
       "    </tr>\n",
       "    <tr>\n",
       "      <th>5150484</th>\n",
       "      <td>12</td>\n",
       "      <td>13</td>\n",
       "    </tr>\n",
       "    <tr>\n",
       "      <th>5150485</th>\n",
       "      <td>2</td>\n",
       "      <td>2</td>\n",
       "    </tr>\n",
       "    <tr>\n",
       "      <th>5150487</th>\n",
       "      <td>0</td>\n",
       "      <td>30</td>\n",
       "    </tr>\n",
       "  </tbody>\n",
       "</table>\n",
       "<p>45985 rows × 2 columns</p>\n",
       "</div>"
      ],
      "text/plain": [
       "           sum  count\n",
       "        STATUS STATUS\n",
       "ID                   \n",
       "5001711      3      4\n",
       "5001712     10     19\n",
       "5001713      0     22\n",
       "5001714      0     15\n",
       "5001715      0     60\n",
       "...        ...    ...\n",
       "5150482     12     18\n",
       "5150483      0     18\n",
       "5150484     12     13\n",
       "5150485      2      2\n",
       "5150487      0     30\n",
       "\n",
       "[45985 rows x 2 columns]"
      ]
     },
     "execution_count": 79,
     "metadata": {},
     "output_type": "execute_result"
    }
   ],
   "source": [
    "df2_group = df2.pivot_table(index = 'ID',  \n",
    "                            values = 'STATUS', \n",
    "                            aggfunc = ['sum', 'count'])\n",
    "\n",
    "df2_group"
   ]
  },
  {
   "cell_type": "code",
   "execution_count": 80,
   "id": "9f56f573",
   "metadata": {},
   "outputs": [
    {
     "data": {
      "text/html": [
       "<div>\n",
       "<style scoped>\n",
       "    .dataframe tbody tr th:only-of-type {\n",
       "        vertical-align: middle;\n",
       "    }\n",
       "\n",
       "    .dataframe tbody tr th {\n",
       "        vertical-align: top;\n",
       "    }\n",
       "\n",
       "    .dataframe thead tr th {\n",
       "        text-align: left;\n",
       "    }\n",
       "\n",
       "    .dataframe thead tr:last-of-type th {\n",
       "        text-align: right;\n",
       "    }\n",
       "</style>\n",
       "<table border=\"1\" class=\"dataframe\">\n",
       "  <thead>\n",
       "    <tr>\n",
       "      <th></th>\n",
       "      <th>sum</th>\n",
       "      <th>count</th>\n",
       "      <th>SCORING</th>\n",
       "    </tr>\n",
       "    <tr>\n",
       "      <th></th>\n",
       "      <th>STATUS</th>\n",
       "      <th>STATUS</th>\n",
       "      <th></th>\n",
       "    </tr>\n",
       "    <tr>\n",
       "      <th>ID</th>\n",
       "      <th></th>\n",
       "      <th></th>\n",
       "      <th></th>\n",
       "    </tr>\n",
       "  </thead>\n",
       "  <tbody>\n",
       "    <tr>\n",
       "      <th>5001711</th>\n",
       "      <td>3</td>\n",
       "      <td>4</td>\n",
       "      <td>0.750000</td>\n",
       "    </tr>\n",
       "    <tr>\n",
       "      <th>5001712</th>\n",
       "      <td>10</td>\n",
       "      <td>19</td>\n",
       "      <td>0.526316</td>\n",
       "    </tr>\n",
       "    <tr>\n",
       "      <th>5001713</th>\n",
       "      <td>0</td>\n",
       "      <td>22</td>\n",
       "      <td>0.000000</td>\n",
       "    </tr>\n",
       "  </tbody>\n",
       "</table>\n",
       "</div>"
      ],
      "text/plain": [
       "           sum  count   SCORING\n",
       "        STATUS STATUS          \n",
       "ID                             \n",
       "5001711      3      4  0.750000\n",
       "5001712     10     19  0.526316\n",
       "5001713      0     22  0.000000"
      ]
     },
     "execution_count": 80,
     "metadata": {},
     "output_type": "execute_result"
    }
   ],
   "source": [
    "df2_group['SCORING'] = df2_group['sum']['STATUS'] / df2_group['count']['STATUS'] \n",
    "\n",
    "df2_group.head(3) "
   ]
  },
  {
   "cell_type": "code",
   "execution_count": 81,
   "id": "106abe20",
   "metadata": {},
   "outputs": [
    {
     "name": "stdout",
     "output_type": "stream",
     "text": [
      "Scoring Categories: \n",
      "ID\n",
      "5001711         High\n",
      "5001712         High\n",
      "5001713          Low\n",
      "5001714          Low\n",
      "5001715          Low\n",
      "             ...    \n",
      "5150482         High\n",
      "5150483          Low\n",
      "5150484    Very High\n",
      "5150485    Very High\n",
      "5150487          Low\n",
      "Name: SCORING, Length: 45985, dtype: category\n",
      "Categories (4, object): ['Low' < 'Medium' < 'High' < 'Very High'] \n",
      "\n",
      "Scoring Bins: \n",
      "[0.         0.15517241 0.42857143 0.83333333 1.        ]\n"
     ]
    }
   ],
   "source": [
    "scoring_categories, scoring_bins = pd.qcut(df2_group['SCORING'], 4, labels = ['Low', 'Medium', 'High', 'Very High'], retbins = True) \n",
    "\n",
    "print(f'Scoring Categories: \\n{scoring_categories} \\n') \n",
    "\n",
    "print(f'Scoring Bins: \\n{scoring_bins}') "
   ]
  },
  {
   "cell_type": "code",
   "execution_count": 82,
   "id": "84084a9d",
   "metadata": {},
   "outputs": [
    {
     "data": {
      "text/html": [
       "<div>\n",
       "<style scoped>\n",
       "    .dataframe tbody tr th:only-of-type {\n",
       "        vertical-align: middle;\n",
       "    }\n",
       "\n",
       "    .dataframe tbody tr th {\n",
       "        vertical-align: top;\n",
       "    }\n",
       "\n",
       "    .dataframe thead th {\n",
       "        text-align: right;\n",
       "    }\n",
       "</style>\n",
       "<table border=\"1\" class=\"dataframe\">\n",
       "  <thead>\n",
       "    <tr style=\"text-align: right;\">\n",
       "      <th></th>\n",
       "      <th>(sum, STATUS)</th>\n",
       "      <th>(count, STATUS)</th>\n",
       "      <th>(SCORING, )</th>\n",
       "      <th>Scoring Categories</th>\n",
       "    </tr>\n",
       "    <tr>\n",
       "      <th>ID</th>\n",
       "      <th></th>\n",
       "      <th></th>\n",
       "      <th></th>\n",
       "      <th></th>\n",
       "    </tr>\n",
       "  </thead>\n",
       "  <tbody>\n",
       "    <tr>\n",
       "      <th>5001711</th>\n",
       "      <td>3</td>\n",
       "      <td>4</td>\n",
       "      <td>0.750000</td>\n",
       "      <td>High</td>\n",
       "    </tr>\n",
       "    <tr>\n",
       "      <th>5001712</th>\n",
       "      <td>10</td>\n",
       "      <td>19</td>\n",
       "      <td>0.526316</td>\n",
       "      <td>High</td>\n",
       "    </tr>\n",
       "    <tr>\n",
       "      <th>5001713</th>\n",
       "      <td>0</td>\n",
       "      <td>22</td>\n",
       "      <td>0.000000</td>\n",
       "      <td>Low</td>\n",
       "    </tr>\n",
       "  </tbody>\n",
       "</table>\n",
       "</div>"
      ],
      "text/plain": [
       "         (sum, STATUS)  (count, STATUS)  (SCORING, ) Scoring Categories\n",
       "ID                                                                     \n",
       "5001711              3                4     0.750000               High\n",
       "5001712             10               19     0.526316               High\n",
       "5001713              0               22     0.000000                Low"
      ]
     },
     "execution_count": 82,
     "metadata": {},
     "output_type": "execute_result"
    }
   ],
   "source": [
    "scoring_categories.name = 'Scoring Categories' \n",
    "df2_concat = pd.concat([df2_group, scoring_categories], axis = 1) \n",
    "df2_concat.head(3) "
   ]
  },
  {
   "cell_type": "code",
   "execution_count": 83,
   "id": "19949e3c",
   "metadata": {},
   "outputs": [
    {
     "data": {
      "text/html": [
       "<div>\n",
       "<style scoped>\n",
       "    .dataframe tbody tr th:only-of-type {\n",
       "        vertical-align: middle;\n",
       "    }\n",
       "\n",
       "    .dataframe tbody tr th {\n",
       "        vertical-align: top;\n",
       "    }\n",
       "\n",
       "    .dataframe thead th {\n",
       "        text-align: right;\n",
       "    }\n",
       "</style>\n",
       "<table border=\"1\" class=\"dataframe\">\n",
       "  <thead>\n",
       "    <tr style=\"text-align: right;\">\n",
       "      <th></th>\n",
       "      <th>ID</th>\n",
       "      <th>(sum, STATUS)</th>\n",
       "      <th>(count, STATUS)</th>\n",
       "      <th>(SCORING, )</th>\n",
       "      <th>Scoring Categories</th>\n",
       "    </tr>\n",
       "  </thead>\n",
       "  <tbody>\n",
       "    <tr>\n",
       "      <th>0</th>\n",
       "      <td>5001711</td>\n",
       "      <td>3</td>\n",
       "      <td>4</td>\n",
       "      <td>0.750000</td>\n",
       "      <td>High</td>\n",
       "    </tr>\n",
       "    <tr>\n",
       "      <th>1</th>\n",
       "      <td>5001712</td>\n",
       "      <td>10</td>\n",
       "      <td>19</td>\n",
       "      <td>0.526316</td>\n",
       "      <td>High</td>\n",
       "    </tr>\n",
       "    <tr>\n",
       "      <th>2</th>\n",
       "      <td>5001713</td>\n",
       "      <td>0</td>\n",
       "      <td>22</td>\n",
       "      <td>0.000000</td>\n",
       "      <td>Low</td>\n",
       "    </tr>\n",
       "  </tbody>\n",
       "</table>\n",
       "</div>"
      ],
      "text/plain": [
       "        ID  (sum, STATUS)  (count, STATUS)  (SCORING, ) Scoring Categories\n",
       "0  5001711              3                4     0.750000               High\n",
       "1  5001712             10               19     0.526316               High\n",
       "2  5001713              0               22     0.000000                Low"
      ]
     },
     "execution_count": 83,
     "metadata": {},
     "output_type": "execute_result"
    }
   ],
   "source": [
    "df2_concat.reset_index(inplace = True) \n",
    "\n",
    "df2_concat.head(3) "
   ]
  },
  {
   "cell_type": "code",
   "execution_count": 84,
   "id": "06bbf5a7",
   "metadata": {},
   "outputs": [
    {
     "data": {
      "text/html": [
       "<div>\n",
       "<style scoped>\n",
       "    .dataframe tbody tr th:only-of-type {\n",
       "        vertical-align: middle;\n",
       "    }\n",
       "\n",
       "    .dataframe tbody tr th {\n",
       "        vertical-align: top;\n",
       "    }\n",
       "\n",
       "    .dataframe thead th {\n",
       "        text-align: right;\n",
       "    }\n",
       "</style>\n",
       "<table border=\"1\" class=\"dataframe\">\n",
       "  <thead>\n",
       "    <tr style=\"text-align: right;\">\n",
       "      <th></th>\n",
       "      <th>ID</th>\n",
       "      <th>sum_STATUS</th>\n",
       "      <th>count_STATUS</th>\n",
       "      <th>SCORING_</th>\n",
       "      <th>Scoring Categories</th>\n",
       "    </tr>\n",
       "  </thead>\n",
       "  <tbody>\n",
       "    <tr>\n",
       "      <th>0</th>\n",
       "      <td>5001711</td>\n",
       "      <td>3</td>\n",
       "      <td>4</td>\n",
       "      <td>0.750000</td>\n",
       "      <td>High</td>\n",
       "    </tr>\n",
       "    <tr>\n",
       "      <th>1</th>\n",
       "      <td>5001712</td>\n",
       "      <td>10</td>\n",
       "      <td>19</td>\n",
       "      <td>0.526316</td>\n",
       "      <td>High</td>\n",
       "    </tr>\n",
       "    <tr>\n",
       "      <th>2</th>\n",
       "      <td>5001713</td>\n",
       "      <td>0</td>\n",
       "      <td>22</td>\n",
       "      <td>0.000000</td>\n",
       "      <td>Low</td>\n",
       "    </tr>\n",
       "  </tbody>\n",
       "</table>\n",
       "</div>"
      ],
      "text/plain": [
       "        ID  sum_STATUS  count_STATUS  SCORING_ Scoring Categories\n",
       "0  5001711           3             4  0.750000               High\n",
       "1  5001712          10            19  0.526316               High\n",
       "2  5001713           0            22  0.000000                Low"
      ]
     },
     "execution_count": 84,
     "metadata": {},
     "output_type": "execute_result"
    }
   ],
   "source": [
    "df2_concat.columns = ['_'.join(column) if type(column) is tuple else column for column in df2_concat.columns.values] \n",
    "\n",
    "df2_concat.head(3) "
   ]
  },
  {
   "cell_type": "code",
   "execution_count": 85,
   "id": "744bfbb4",
   "metadata": {},
   "outputs": [
    {
     "data": {
      "text/html": [
       "<div>\n",
       "<style scoped>\n",
       "    .dataframe tbody tr th:only-of-type {\n",
       "        vertical-align: middle;\n",
       "    }\n",
       "\n",
       "    .dataframe tbody tr th {\n",
       "        vertical-align: top;\n",
       "    }\n",
       "\n",
       "    .dataframe thead th {\n",
       "        text-align: right;\n",
       "    }\n",
       "</style>\n",
       "<table border=\"1\" class=\"dataframe\">\n",
       "  <thead>\n",
       "    <tr style=\"text-align: right;\">\n",
       "      <th></th>\n",
       "      <th>ID</th>\n",
       "      <th>Status (SUM)</th>\n",
       "      <th>Status (COUNT)</th>\n",
       "      <th>Scoring</th>\n",
       "      <th>Scoring Categories</th>\n",
       "    </tr>\n",
       "  </thead>\n",
       "  <tbody>\n",
       "    <tr>\n",
       "      <th>0</th>\n",
       "      <td>5001711</td>\n",
       "      <td>3</td>\n",
       "      <td>4</td>\n",
       "      <td>0.750000</td>\n",
       "      <td>High</td>\n",
       "    </tr>\n",
       "    <tr>\n",
       "      <th>1</th>\n",
       "      <td>5001712</td>\n",
       "      <td>10</td>\n",
       "      <td>19</td>\n",
       "      <td>0.526316</td>\n",
       "      <td>High</td>\n",
       "    </tr>\n",
       "    <tr>\n",
       "      <th>2</th>\n",
       "      <td>5001713</td>\n",
       "      <td>0</td>\n",
       "      <td>22</td>\n",
       "      <td>0.000000</td>\n",
       "      <td>Low</td>\n",
       "    </tr>\n",
       "  </tbody>\n",
       "</table>\n",
       "</div>"
      ],
      "text/plain": [
       "        ID  Status (SUM)  Status (COUNT)   Scoring Scoring Categories\n",
       "0  5001711             3               4  0.750000               High\n",
       "1  5001712            10              19  0.526316               High\n",
       "2  5001713             0              22  0.000000                Low"
      ]
     },
     "execution_count": 85,
     "metadata": {},
     "output_type": "execute_result"
    }
   ],
   "source": [
    "df2_concat.rename(columns = {'sum_STATUS': 'Status (SUM)',  \n",
    "                             'count_STATUS': 'Status (COUNT)',  \n",
    "                             'SCORING_': 'Scoring'},  \n",
    "                  inplace = True) \n",
    "\n",
    "df2_concat.head(3) "
   ]
  },
  {
   "cell_type": "code",
   "execution_count": 86,
   "id": "21530620",
   "metadata": {},
   "outputs": [
    {
     "data": {
      "text/html": [
       "<div>\n",
       "<style scoped>\n",
       "    .dataframe tbody tr th:only-of-type {\n",
       "        vertical-align: middle;\n",
       "    }\n",
       "\n",
       "    .dataframe tbody tr th {\n",
       "        vertical-align: top;\n",
       "    }\n",
       "\n",
       "    .dataframe thead th {\n",
       "        text-align: right;\n",
       "    }\n",
       "</style>\n",
       "<table border=\"1\" class=\"dataframe\">\n",
       "  <thead>\n",
       "    <tr style=\"text-align: right;\">\n",
       "      <th></th>\n",
       "      <th>ID</th>\n",
       "      <th>MONTHS_BALANCE</th>\n",
       "      <th>STATUS</th>\n",
       "      <th>MONTHS</th>\n",
       "      <th>Status (SUM)</th>\n",
       "      <th>Status (COUNT)</th>\n",
       "      <th>Scoring</th>\n",
       "      <th>Scoring Categories</th>\n",
       "    </tr>\n",
       "  </thead>\n",
       "  <tbody>\n",
       "    <tr>\n",
       "      <th>0</th>\n",
       "      <td>5001711</td>\n",
       "      <td>0</td>\n",
       "      <td>0</td>\n",
       "      <td>0</td>\n",
       "      <td>3</td>\n",
       "      <td>4</td>\n",
       "      <td>0.75</td>\n",
       "      <td>High</td>\n",
       "    </tr>\n",
       "    <tr>\n",
       "      <th>1</th>\n",
       "      <td>5001711</td>\n",
       "      <td>-1</td>\n",
       "      <td>1</td>\n",
       "      <td>1</td>\n",
       "      <td>3</td>\n",
       "      <td>4</td>\n",
       "      <td>0.75</td>\n",
       "      <td>High</td>\n",
       "    </tr>\n",
       "    <tr>\n",
       "      <th>2</th>\n",
       "      <td>5001711</td>\n",
       "      <td>-2</td>\n",
       "      <td>1</td>\n",
       "      <td>2</td>\n",
       "      <td>3</td>\n",
       "      <td>4</td>\n",
       "      <td>0.75</td>\n",
       "      <td>High</td>\n",
       "    </tr>\n",
       "  </tbody>\n",
       "</table>\n",
       "</div>"
      ],
      "text/plain": [
       "        ID  MONTHS_BALANCE  STATUS  MONTHS  Status (SUM)  Status (COUNT)  \\\n",
       "0  5001711               0       0       0             3               4   \n",
       "1  5001711              -1       1       1             3               4   \n",
       "2  5001711              -2       1       2             3               4   \n",
       "\n",
       "   Scoring Scoring Categories  \n",
       "0     0.75               High  \n",
       "1     0.75               High  \n",
       "2     0.75               High  "
      ]
     },
     "execution_count": 86,
     "metadata": {},
     "output_type": "execute_result"
    }
   ],
   "source": [
    "df2_merge = df2.merge(df2_concat, \n",
    "                            how = 'inner', \n",
    "                            on = 'ID', \n",
    "                            suffixes = ('_1', '_2'))\n",
    "\n",
    "df2_merge.head(3)"
   ]
  },
  {
   "cell_type": "code",
   "execution_count": 87,
   "id": "61459063",
   "metadata": {},
   "outputs": [],
   "source": [
    "# eliminamos Status SUM y Status COUNT\n",
    "\n",
    "df2 = df2_merge.drop(columns=['Status (SUM)', 'Status (COUNT)'])"
   ]
  },
  {
   "cell_type": "code",
   "execution_count": 88,
   "id": "f87d36d3",
   "metadata": {},
   "outputs": [
    {
     "data": {
      "text/html": [
       "<div>\n",
       "<style scoped>\n",
       "    .dataframe tbody tr th:only-of-type {\n",
       "        vertical-align: middle;\n",
       "    }\n",
       "\n",
       "    .dataframe tbody tr th {\n",
       "        vertical-align: top;\n",
       "    }\n",
       "\n",
       "    .dataframe thead th {\n",
       "        text-align: right;\n",
       "    }\n",
       "</style>\n",
       "<table border=\"1\" class=\"dataframe\">\n",
       "  <thead>\n",
       "    <tr style=\"text-align: right;\">\n",
       "      <th></th>\n",
       "      <th>ID</th>\n",
       "      <th>MONTHS_BALANCE</th>\n",
       "      <th>STATUS</th>\n",
       "      <th>MONTHS</th>\n",
       "      <th>Scoring</th>\n",
       "      <th>Scoring Categories</th>\n",
       "    </tr>\n",
       "  </thead>\n",
       "  <tbody>\n",
       "    <tr>\n",
       "      <th>0</th>\n",
       "      <td>5001711</td>\n",
       "      <td>0</td>\n",
       "      <td>0</td>\n",
       "      <td>0</td>\n",
       "      <td>0.750000</td>\n",
       "      <td>High</td>\n",
       "    </tr>\n",
       "    <tr>\n",
       "      <th>1</th>\n",
       "      <td>5001711</td>\n",
       "      <td>-1</td>\n",
       "      <td>1</td>\n",
       "      <td>1</td>\n",
       "      <td>0.750000</td>\n",
       "      <td>High</td>\n",
       "    </tr>\n",
       "    <tr>\n",
       "      <th>2</th>\n",
       "      <td>5001711</td>\n",
       "      <td>-2</td>\n",
       "      <td>1</td>\n",
       "      <td>2</td>\n",
       "      <td>0.750000</td>\n",
       "      <td>High</td>\n",
       "    </tr>\n",
       "    <tr>\n",
       "      <th>3</th>\n",
       "      <td>5001711</td>\n",
       "      <td>-3</td>\n",
       "      <td>1</td>\n",
       "      <td>3</td>\n",
       "      <td>0.750000</td>\n",
       "      <td>High</td>\n",
       "    </tr>\n",
       "    <tr>\n",
       "      <th>4</th>\n",
       "      <td>5001712</td>\n",
       "      <td>0</td>\n",
       "      <td>0</td>\n",
       "      <td>0</td>\n",
       "      <td>0.526316</td>\n",
       "      <td>High</td>\n",
       "    </tr>\n",
       "    <tr>\n",
       "      <th>5</th>\n",
       "      <td>5001712</td>\n",
       "      <td>-1</td>\n",
       "      <td>0</td>\n",
       "      <td>1</td>\n",
       "      <td>0.526316</td>\n",
       "      <td>High</td>\n",
       "    </tr>\n",
       "    <tr>\n",
       "      <th>6</th>\n",
       "      <td>5001712</td>\n",
       "      <td>-2</td>\n",
       "      <td>0</td>\n",
       "      <td>2</td>\n",
       "      <td>0.526316</td>\n",
       "      <td>High</td>\n",
       "    </tr>\n",
       "    <tr>\n",
       "      <th>7</th>\n",
       "      <td>5001712</td>\n",
       "      <td>-3</td>\n",
       "      <td>0</td>\n",
       "      <td>3</td>\n",
       "      <td>0.526316</td>\n",
       "      <td>High</td>\n",
       "    </tr>\n",
       "    <tr>\n",
       "      <th>8</th>\n",
       "      <td>5001712</td>\n",
       "      <td>-4</td>\n",
       "      <td>0</td>\n",
       "      <td>4</td>\n",
       "      <td>0.526316</td>\n",
       "      <td>High</td>\n",
       "    </tr>\n",
       "    <tr>\n",
       "      <th>9</th>\n",
       "      <td>5001712</td>\n",
       "      <td>-5</td>\n",
       "      <td>0</td>\n",
       "      <td>5</td>\n",
       "      <td>0.526316</td>\n",
       "      <td>High</td>\n",
       "    </tr>\n",
       "  </tbody>\n",
       "</table>\n",
       "</div>"
      ],
      "text/plain": [
       "        ID  MONTHS_BALANCE  STATUS  MONTHS   Scoring Scoring Categories\n",
       "0  5001711               0       0       0  0.750000               High\n",
       "1  5001711              -1       1       1  0.750000               High\n",
       "2  5001711              -2       1       2  0.750000               High\n",
       "3  5001711              -3       1       3  0.750000               High\n",
       "4  5001712               0       0       0  0.526316               High\n",
       "5  5001712              -1       0       1  0.526316               High\n",
       "6  5001712              -2       0       2  0.526316               High\n",
       "7  5001712              -3       0       3  0.526316               High\n",
       "8  5001712              -4       0       4  0.526316               High\n",
       "9  5001712              -5       0       5  0.526316               High"
      ]
     },
     "execution_count": 88,
     "metadata": {},
     "output_type": "execute_result"
    }
   ],
   "source": [
    "df2.head(10)"
   ]
  },
  {
   "cell_type": "markdown",
   "id": "1f5446a7",
   "metadata": {},
   "source": [
    "Como se observa en el DataFrame 2, aún existe un mismo numero de `ID` con diferentes valores de `STATUS`. El caso **5001711** es un buen ejemplo de esta situacion. Tanto el primer como el segundo renglón tienen valores de `STATUS` diferentes, más alla de que comparten un mismo `ID`.\n",
    "\n",
    "Como nuestro objetivo es quedarnos con un único valor de `ID` que se corresponda con un único valor de `STATUS`, debemos transformar todos aquellas observaciones de `STATUS` que no sean casos puros de 0 ó casos puros de 1.\n",
    "\n",
    "Para ello, una forma de hacerlo es agrupar por `ID` y corroborar la media. La media de todos los 0 será siempre 0, y la media de todos 1 será 1.\n",
    "Cuando un cliente tome diferentes valores de `STATUS`, el promedio arrojará un valor entre 0 y 1. Eso indicaría que ese cliente en algún momento del préstamo no cumplió con el pago a término.\n",
    "\n",
    "**Criterio**: Todo aquel cliente que alguna vez tuvo `STATUS` 1, sera clasificado como 1."
   ]
  },
  {
   "cell_type": "code",
   "execution_count": 89,
   "id": "2e18b9df",
   "metadata": {},
   "outputs": [
    {
     "data": {
      "text/html": [
       "<div>\n",
       "<style scoped>\n",
       "    .dataframe tbody tr th:only-of-type {\n",
       "        vertical-align: middle;\n",
       "    }\n",
       "\n",
       "    .dataframe tbody tr th {\n",
       "        vertical-align: top;\n",
       "    }\n",
       "\n",
       "    .dataframe thead th {\n",
       "        text-align: right;\n",
       "    }\n",
       "</style>\n",
       "<table border=\"1\" class=\"dataframe\">\n",
       "  <thead>\n",
       "    <tr style=\"text-align: right;\">\n",
       "      <th></th>\n",
       "      <th>STATUS</th>\n",
       "    </tr>\n",
       "    <tr>\n",
       "      <th>ID</th>\n",
       "      <th></th>\n",
       "    </tr>\n",
       "  </thead>\n",
       "  <tbody>\n",
       "    <tr>\n",
       "      <th>5115415</th>\n",
       "      <td>0.565217</td>\n",
       "    </tr>\n",
       "    <tr>\n",
       "      <th>5117502</th>\n",
       "      <td>0.000000</td>\n",
       "    </tr>\n",
       "    <tr>\n",
       "      <th>5091460</th>\n",
       "      <td>0.400000</td>\n",
       "    </tr>\n",
       "    <tr>\n",
       "      <th>5088286</th>\n",
       "      <td>1.000000</td>\n",
       "    </tr>\n",
       "    <tr>\n",
       "      <th>5090001</th>\n",
       "      <td>0.909091</td>\n",
       "    </tr>\n",
       "    <tr>\n",
       "      <th>5053107</th>\n",
       "      <td>0.500000</td>\n",
       "    </tr>\n",
       "    <tr>\n",
       "      <th>5120541</th>\n",
       "      <td>0.072727</td>\n",
       "    </tr>\n",
       "    <tr>\n",
       "      <th>5005028</th>\n",
       "      <td>0.964286</td>\n",
       "    </tr>\n",
       "    <tr>\n",
       "      <th>5010044</th>\n",
       "      <td>0.111111</td>\n",
       "    </tr>\n",
       "    <tr>\n",
       "      <th>5113206</th>\n",
       "      <td>1.000000</td>\n",
       "    </tr>\n",
       "  </tbody>\n",
       "</table>\n",
       "</div>"
      ],
      "text/plain": [
       "           STATUS\n",
       "ID               \n",
       "5115415  0.565217\n",
       "5117502  0.000000\n",
       "5091460  0.400000\n",
       "5088286  1.000000\n",
       "5090001  0.909091\n",
       "5053107  0.500000\n",
       "5120541  0.072727\n",
       "5005028  0.964286\n",
       "5010044  0.111111\n",
       "5113206  1.000000"
      ]
     },
     "execution_count": 89,
     "metadata": {},
     "output_type": "execute_result"
    }
   ],
   "source": [
    "# Agrupamos por ID y vemos aquellos casos que la media (valor por default en la pivot table) es un decimal entre 0 y 1.\n",
    "\n",
    "df2_group = df2.pivot_table(index = 'ID', values = 'STATUS')\n",
    "df2_group.sort_values(['STATUS'], ascending = True)\n",
    "df2_group.sample(10)"
   ]
  },
  {
   "cell_type": "markdown",
   "id": "99644898",
   "metadata": {},
   "source": [
    "Arriba vemos que existen clientes con diferentes valores de `STATUS`, ya que el promedio usado en la `pivot_table` muestra valores entre 0 y 1.\n",
    "Por lo tanto, hay que utilizar algun criterio que nos permita llevarlo a 0 o a 1."
   ]
  },
  {
   "cell_type": "code",
   "execution_count": 90,
   "id": "df722f10",
   "metadata": {},
   "outputs": [
    {
     "data": {
      "text/html": [
       "<div>\n",
       "<style scoped>\n",
       "    .dataframe tbody tr th:only-of-type {\n",
       "        vertical-align: middle;\n",
       "    }\n",
       "\n",
       "    .dataframe tbody tr th {\n",
       "        vertical-align: top;\n",
       "    }\n",
       "\n",
       "    .dataframe thead th {\n",
       "        text-align: right;\n",
       "    }\n",
       "</style>\n",
       "<table border=\"1\" class=\"dataframe\">\n",
       "  <thead>\n",
       "    <tr style=\"text-align: right;\">\n",
       "      <th></th>\n",
       "      <th>ID</th>\n",
       "      <th>MONTHS_BALANCE</th>\n",
       "      <th>STATUS</th>\n",
       "      <th>MONTHS</th>\n",
       "      <th>Scoring</th>\n",
       "      <th>Scoring Categories</th>\n",
       "    </tr>\n",
       "  </thead>\n",
       "  <tbody>\n",
       "    <tr>\n",
       "      <th>0</th>\n",
       "      <td>5001711</td>\n",
       "      <td>0</td>\n",
       "      <td>1</td>\n",
       "      <td>3</td>\n",
       "      <td>0.750000</td>\n",
       "      <td>High</td>\n",
       "    </tr>\n",
       "    <tr>\n",
       "      <th>1</th>\n",
       "      <td>5001712</td>\n",
       "      <td>0</td>\n",
       "      <td>1</td>\n",
       "      <td>18</td>\n",
       "      <td>0.526316</td>\n",
       "      <td>High</td>\n",
       "    </tr>\n",
       "    <tr>\n",
       "      <th>2</th>\n",
       "      <td>5001713</td>\n",
       "      <td>0</td>\n",
       "      <td>0</td>\n",
       "      <td>21</td>\n",
       "      <td>0.000000</td>\n",
       "      <td>Low</td>\n",
       "    </tr>\n",
       "    <tr>\n",
       "      <th>3</th>\n",
       "      <td>5001714</td>\n",
       "      <td>0</td>\n",
       "      <td>0</td>\n",
       "      <td>14</td>\n",
       "      <td>0.000000</td>\n",
       "      <td>Low</td>\n",
       "    </tr>\n",
       "    <tr>\n",
       "      <th>4</th>\n",
       "      <td>5001715</td>\n",
       "      <td>0</td>\n",
       "      <td>0</td>\n",
       "      <td>59</td>\n",
       "      <td>0.000000</td>\n",
       "      <td>Low</td>\n",
       "    </tr>\n",
       "    <tr>\n",
       "      <th>5</th>\n",
       "      <td>5001717</td>\n",
       "      <td>0</td>\n",
       "      <td>1</td>\n",
       "      <td>21</td>\n",
       "      <td>0.772727</td>\n",
       "      <td>High</td>\n",
       "    </tr>\n",
       "    <tr>\n",
       "      <th>6</th>\n",
       "      <td>5001718</td>\n",
       "      <td>0</td>\n",
       "      <td>1</td>\n",
       "      <td>38</td>\n",
       "      <td>0.666667</td>\n",
       "      <td>High</td>\n",
       "    </tr>\n",
       "    <tr>\n",
       "      <th>7</th>\n",
       "      <td>5001719</td>\n",
       "      <td>0</td>\n",
       "      <td>1</td>\n",
       "      <td>42</td>\n",
       "      <td>0.046512</td>\n",
       "      <td>Low</td>\n",
       "    </tr>\n",
       "    <tr>\n",
       "      <th>8</th>\n",
       "      <td>5001720</td>\n",
       "      <td>0</td>\n",
       "      <td>1</td>\n",
       "      <td>35</td>\n",
       "      <td>1.000000</td>\n",
       "      <td>Very High</td>\n",
       "    </tr>\n",
       "    <tr>\n",
       "      <th>9</th>\n",
       "      <td>5001723</td>\n",
       "      <td>0</td>\n",
       "      <td>1</td>\n",
       "      <td>30</td>\n",
       "      <td>0.258065</td>\n",
       "      <td>Medium</td>\n",
       "    </tr>\n",
       "  </tbody>\n",
       "</table>\n",
       "</div>"
      ],
      "text/plain": [
       "        ID  MONTHS_BALANCE  STATUS  MONTHS   Scoring Scoring Categories\n",
       "0  5001711               0       1       3  0.750000               High\n",
       "1  5001712               0       1      18  0.526316               High\n",
       "2  5001713               0       0      21  0.000000                Low\n",
       "3  5001714               0       0      14  0.000000                Low\n",
       "4  5001715               0       0      59  0.000000                Low\n",
       "5  5001717               0       1      21  0.772727               High\n",
       "6  5001718               0       1      38  0.666667               High\n",
       "7  5001719               0       1      42  0.046512                Low\n",
       "8  5001720               0       1      35  1.000000          Very High\n",
       "9  5001723               0       1      30  0.258065             Medium"
      ]
     },
     "execution_count": 90,
     "metadata": {},
     "output_type": "execute_result"
    }
   ],
   "source": [
    "# Agrupamos la data en df2 por ID tomando el maximo valor de las columnas STATUS y MONTHS.\n",
    "# al usar la función agg(max), aquellos ID que contengan valores en STATUS que se encuentren entre 0 y 1, lo lleva a 1. \n",
    "# lo mismo sucede con los valores de MONTHS_BALANCE, agarra el máximo.\n",
    "\n",
    "df2 = df2.groupby('ID').agg(max).reset_index()\n",
    "df2.head(10) "
   ]
  },
  {
   "cell_type": "markdown",
   "id": "f20249ae",
   "metadata": {},
   "source": [
    "**De esta forma, nos queda un DataFrame con un solo registro por `ID`, que a su vez, se corresponde con un único valor de `STATUS` y `MONTHS`.**"
   ]
  },
  {
   "cell_type": "markdown",
   "id": "e409be63",
   "metadata": {},
   "source": [
    "##### 3.1.8 - Unión de ambos DataFrames"
   ]
  },
  {
   "cell_type": "code",
   "execution_count": 91,
   "id": "18001e1f",
   "metadata": {},
   "outputs": [
    {
     "data": {
      "text/html": [
       "<div>\n",
       "<style scoped>\n",
       "    .dataframe tbody tr th:only-of-type {\n",
       "        vertical-align: middle;\n",
       "    }\n",
       "\n",
       "    .dataframe tbody tr th {\n",
       "        vertical-align: top;\n",
       "    }\n",
       "\n",
       "    .dataframe thead th {\n",
       "        text-align: right;\n",
       "    }\n",
       "</style>\n",
       "<table border=\"1\" class=\"dataframe\">\n",
       "  <thead>\n",
       "    <tr style=\"text-align: right;\">\n",
       "      <th></th>\n",
       "      <th>ID</th>\n",
       "      <th>CODE_GENDER</th>\n",
       "      <th>FLAG_OWN_CAR</th>\n",
       "      <th>FLAG_OWN_REALTY</th>\n",
       "      <th>CNT_CHILDREN</th>\n",
       "      <th>AMT_INCOME_TOTAL</th>\n",
       "      <th>NAME_INCOME_TYPE</th>\n",
       "      <th>NAME_EDUCATION_TYPE</th>\n",
       "      <th>NAME_FAMILY_STATUS</th>\n",
       "      <th>NAME_HOUSING_TYPE</th>\n",
       "      <th>...</th>\n",
       "      <th>FLAG_MOBIL</th>\n",
       "      <th>FLAG_WORK_PHONE</th>\n",
       "      <th>FLAG_PHONE</th>\n",
       "      <th>FLAG_EMAIL</th>\n",
       "      <th>OCCUPATION_TYPE</th>\n",
       "      <th>CNT_FAM_MEMBERS</th>\n",
       "      <th>STATUS</th>\n",
       "      <th>MONTHS</th>\n",
       "      <th>Scoring</th>\n",
       "      <th>Scoring Categories</th>\n",
       "    </tr>\n",
       "  </thead>\n",
       "  <tbody>\n",
       "    <tr>\n",
       "      <th>2</th>\n",
       "      <td>5008806</td>\n",
       "      <td>M</td>\n",
       "      <td>Y</td>\n",
       "      <td>Y</td>\n",
       "      <td>0</td>\n",
       "      <td>112500.0</td>\n",
       "      <td>Working</td>\n",
       "      <td>Secondary / secondary special</td>\n",
       "      <td>Married</td>\n",
       "      <td>House / apartment</td>\n",
       "      <td>...</td>\n",
       "      <td>1</td>\n",
       "      <td>0</td>\n",
       "      <td>0</td>\n",
       "      <td>0</td>\n",
       "      <td>Security staff</td>\n",
       "      <td>2.0</td>\n",
       "      <td>1</td>\n",
       "      <td>29</td>\n",
       "      <td>0.233333</td>\n",
       "      <td>Medium</td>\n",
       "    </tr>\n",
       "    <tr>\n",
       "      <th>3</th>\n",
       "      <td>5008808</td>\n",
       "      <td>F</td>\n",
       "      <td>N</td>\n",
       "      <td>Y</td>\n",
       "      <td>0</td>\n",
       "      <td>270000.0</td>\n",
       "      <td>Commercial associate</td>\n",
       "      <td>Secondary / secondary special</td>\n",
       "      <td>Single / not married</td>\n",
       "      <td>House / apartment</td>\n",
       "      <td>...</td>\n",
       "      <td>1</td>\n",
       "      <td>0</td>\n",
       "      <td>1</td>\n",
       "      <td>1</td>\n",
       "      <td>Sales staff</td>\n",
       "      <td>1.0</td>\n",
       "      <td>1</td>\n",
       "      <td>4</td>\n",
       "      <td>0.400000</td>\n",
       "      <td>Medium</td>\n",
       "    </tr>\n",
       "    <tr>\n",
       "      <th>4</th>\n",
       "      <td>5008809</td>\n",
       "      <td>F</td>\n",
       "      <td>N</td>\n",
       "      <td>Y</td>\n",
       "      <td>0</td>\n",
       "      <td>270000.0</td>\n",
       "      <td>Commercial associate</td>\n",
       "      <td>Secondary / secondary special</td>\n",
       "      <td>Single / not married</td>\n",
       "      <td>House / apartment</td>\n",
       "      <td>...</td>\n",
       "      <td>1</td>\n",
       "      <td>0</td>\n",
       "      <td>1</td>\n",
       "      <td>1</td>\n",
       "      <td>Sales staff</td>\n",
       "      <td>1.0</td>\n",
       "      <td>0</td>\n",
       "      <td>26</td>\n",
       "      <td>0.000000</td>\n",
       "      <td>Low</td>\n",
       "    </tr>\n",
       "    <tr>\n",
       "      <th>5</th>\n",
       "      <td>5008810</td>\n",
       "      <td>F</td>\n",
       "      <td>N</td>\n",
       "      <td>Y</td>\n",
       "      <td>0</td>\n",
       "      <td>270000.0</td>\n",
       "      <td>Commercial associate</td>\n",
       "      <td>Secondary / secondary special</td>\n",
       "      <td>Single / not married</td>\n",
       "      <td>House / apartment</td>\n",
       "      <td>...</td>\n",
       "      <td>1</td>\n",
       "      <td>0</td>\n",
       "      <td>1</td>\n",
       "      <td>1</td>\n",
       "      <td>Sales staff</td>\n",
       "      <td>1.0</td>\n",
       "      <td>1</td>\n",
       "      <td>26</td>\n",
       "      <td>0.222222</td>\n",
       "      <td>Medium</td>\n",
       "    </tr>\n",
       "    <tr>\n",
       "      <th>6</th>\n",
       "      <td>5008811</td>\n",
       "      <td>F</td>\n",
       "      <td>N</td>\n",
       "      <td>Y</td>\n",
       "      <td>0</td>\n",
       "      <td>270000.0</td>\n",
       "      <td>Commercial associate</td>\n",
       "      <td>Secondary / secondary special</td>\n",
       "      <td>Single / not married</td>\n",
       "      <td>House / apartment</td>\n",
       "      <td>...</td>\n",
       "      <td>1</td>\n",
       "      <td>0</td>\n",
       "      <td>1</td>\n",
       "      <td>1</td>\n",
       "      <td>Sales staff</td>\n",
       "      <td>1.0</td>\n",
       "      <td>1</td>\n",
       "      <td>38</td>\n",
       "      <td>0.153846</td>\n",
       "      <td>Low</td>\n",
       "    </tr>\n",
       "  </tbody>\n",
       "</table>\n",
       "<p>5 rows × 22 columns</p>\n",
       "</div>"
      ],
      "text/plain": [
       "        ID CODE_GENDER FLAG_OWN_CAR FLAG_OWN_REALTY  CNT_CHILDREN  \\\n",
       "2  5008806           M            Y               Y             0   \n",
       "3  5008808           F            N               Y             0   \n",
       "4  5008809           F            N               Y             0   \n",
       "5  5008810           F            N               Y             0   \n",
       "6  5008811           F            N               Y             0   \n",
       "\n",
       "   AMT_INCOME_TOTAL      NAME_INCOME_TYPE            NAME_EDUCATION_TYPE  \\\n",
       "2          112500.0               Working  Secondary / secondary special   \n",
       "3          270000.0  Commercial associate  Secondary / secondary special   \n",
       "4          270000.0  Commercial associate  Secondary / secondary special   \n",
       "5          270000.0  Commercial associate  Secondary / secondary special   \n",
       "6          270000.0  Commercial associate  Secondary / secondary special   \n",
       "\n",
       "     NAME_FAMILY_STATUS  NAME_HOUSING_TYPE  ...  FLAG_MOBIL  FLAG_WORK_PHONE  \\\n",
       "2               Married  House / apartment  ...           1                0   \n",
       "3  Single / not married  House / apartment  ...           1                0   \n",
       "4  Single / not married  House / apartment  ...           1                0   \n",
       "5  Single / not married  House / apartment  ...           1                0   \n",
       "6  Single / not married  House / apartment  ...           1                0   \n",
       "\n",
       "   FLAG_PHONE  FLAG_EMAIL  OCCUPATION_TYPE  CNT_FAM_MEMBERS STATUS  MONTHS  \\\n",
       "2           0           0   Security staff              2.0      1      29   \n",
       "3           1           1      Sales staff              1.0      1       4   \n",
       "4           1           1      Sales staff              1.0      0      26   \n",
       "5           1           1      Sales staff              1.0      1      26   \n",
       "6           1           1      Sales staff              1.0      1      38   \n",
       "\n",
       "    Scoring  Scoring Categories  \n",
       "2  0.233333              Medium  \n",
       "3  0.400000              Medium  \n",
       "4  0.000000                 Low  \n",
       "5  0.222222              Medium  \n",
       "6  0.153846                 Low  \n",
       "\n",
       "[5 rows x 22 columns]"
      ]
     },
     "execution_count": 91,
     "metadata": {},
     "output_type": "execute_result"
    }
   ],
   "source": [
    "# Unimos ambos fataframes por ID.\n",
    "\n",
    "df = df1.join(df2.set_index('ID'), on='ID', how='inner')\n",
    "df.drop(['MONTHS_BALANCE'], axis=1, inplace=True)\n",
    "df.head()"
   ]
  },
  {
   "cell_type": "code",
   "execution_count": 92,
   "id": "65e3ccb4",
   "metadata": {},
   "outputs": [
    {
     "data": {
      "text/plain": [
       "1    0.87694\n",
       "0    0.12306\n",
       "Name: STATUS, dtype: float64"
      ]
     },
     "execution_count": 92,
     "metadata": {},
     "output_type": "execute_result"
    }
   ],
   "source": [
    "df['STATUS'].value_counts(normalize=True)"
   ]
  },
  {
   "cell_type": "markdown",
   "id": "56951c07",
   "metadata": {},
   "source": [
    "Una vez finalizado el proceso de Data Wrangling, se observa claramente que el DataSet contiene un problema de clases desbalanceadas. Esto se debe a que un **87%** de las observaciones pertenecen a la **Clase 1** y unicamente un **12%** a la **Clase 0**."
   ]
  },
  {
   "cell_type": "code",
   "execution_count": 93,
   "id": "894c4d79",
   "metadata": {},
   "outputs": [
    {
     "data": {
      "text/plain": [
       "(25134, 22)"
      ]
     },
     "execution_count": 93,
     "metadata": {},
     "output_type": "execute_result"
    }
   ],
   "source": [
    "df.shape"
   ]
  },
  {
   "cell_type": "code",
   "execution_count": 94,
   "id": "f209dde1",
   "metadata": {},
   "outputs": [
    {
     "name": "stdout",
     "output_type": "stream",
     "text": [
      "<class 'pandas.core.frame.DataFrame'>\n",
      "Int64Index: 25134 entries, 2 to 434812\n",
      "Data columns (total 22 columns):\n",
      " #   Column               Non-Null Count  Dtype   \n",
      "---  ------               --------------  -----   \n",
      " 0   ID                   25134 non-null  int64   \n",
      " 1   CODE_GENDER          25134 non-null  object  \n",
      " 2   FLAG_OWN_CAR         25134 non-null  object  \n",
      " 3   FLAG_OWN_REALTY      25134 non-null  object  \n",
      " 4   CNT_CHILDREN         25134 non-null  int64   \n",
      " 5   AMT_INCOME_TOTAL     25134 non-null  float64 \n",
      " 6   NAME_INCOME_TYPE     25134 non-null  object  \n",
      " 7   NAME_EDUCATION_TYPE  25134 non-null  object  \n",
      " 8   NAME_FAMILY_STATUS   25134 non-null  object  \n",
      " 9   NAME_HOUSING_TYPE    25134 non-null  object  \n",
      " 10  DAYS_BIRTH           25134 non-null  int64   \n",
      " 11  DAYS_EMPLOYED        25134 non-null  int64   \n",
      " 12  FLAG_MOBIL           25134 non-null  int64   \n",
      " 13  FLAG_WORK_PHONE      25134 non-null  int64   \n",
      " 14  FLAG_PHONE           25134 non-null  int64   \n",
      " 15  FLAG_EMAIL           25134 non-null  int64   \n",
      " 16  OCCUPATION_TYPE      25134 non-null  object  \n",
      " 17  CNT_FAM_MEMBERS      25134 non-null  float64 \n",
      " 18  STATUS               25134 non-null  int64   \n",
      " 19  MONTHS               25134 non-null  int64   \n",
      " 20  Scoring              25134 non-null  float64 \n",
      " 21  Scoring Categories   25134 non-null  category\n",
      "dtypes: category(1), float64(3), int64(10), object(8)\n",
      "memory usage: 4.2+ MB\n"
     ]
    }
   ],
   "source": [
    "df.info()"
   ]
  },
  {
   "cell_type": "code",
   "execution_count": null,
   "id": "5d81400a",
   "metadata": {},
   "outputs": [],
   "source": []
  },
  {
   "cell_type": "markdown",
   "id": "36416888",
   "metadata": {},
   "source": [
    "### Sección 3.2 - Verificación de Outliers y Análisis Descriptivo"
   ]
  },
  {
   "cell_type": "markdown",
   "id": "e37d8955",
   "metadata": {},
   "source": [
    "**Eliminación de Outliers**"
   ]
  },
  {
   "cell_type": "code",
   "execution_count": 95,
   "id": "b47f630b",
   "metadata": {},
   "outputs": [
    {
     "data": {
      "text/plain": [
       "<AxesSubplot:xlabel='ID', ylabel='CNT_FAM_MEMBERS'>"
      ]
     },
     "execution_count": 95,
     "metadata": {},
     "output_type": "execute_result"
    },
    {
     "data": {
      "image/png": "[encoded data removed]",
      "text/plain": [
       "<Figure size 1008x432 with 9 Axes>"
      ]
     },
     "metadata": {
      "needs_background": "light"
     },
     "output_type": "display_data"
    }
   ],
   "source": [
    "# Verificamos presencia de Outliers\n",
    "\n",
    "fig, ax= plt.subplots(nrows= 3, ncols = 3, figsize= (14,6))\n",
    "\n",
    "sns.scatterplot(x='ID', y='CNT_CHILDREN', data=df, ax=ax[0][0], color= 'red')\n",
    "sns.scatterplot(x='ID', y='AMT_INCOME_TOTAL', data=df, ax=ax[0][1], color='red')\n",
    "sns.scatterplot(x='ID', y='DAYS_BIRTH', data=df, ax=ax[0][2])\n",
    "sns.scatterplot(x='ID', y='DAYS_EMPLOYED', data=df, ax=ax[1][0])\n",
    "sns.scatterplot(x='ID', y='FLAG_MOBIL', data=df, ax=ax[1][1])\n",
    "sns.scatterplot(x='ID', y='FLAG_WORK_PHONE', data=df, ax=ax[1][2])\n",
    "sns.scatterplot(x='ID', y='FLAG_PHONE', data=df, ax=ax[2][0])\n",
    "sns.scatterplot(x='ID', y='FLAG_EMAIL', data=df, ax=ax[2][1])\n",
    "sns.scatterplot(x='ID', y='CNT_FAM_MEMBERS', data=df, ax=ax[2][2], color= 'red')"
   ]
  },
  {
   "cell_type": "markdown",
   "id": "d088fc85",
   "metadata": {},
   "source": [
    "Observamos que las variables en rojo tienen outliers y los eliminamos"
   ]
  },
  {
   "cell_type": "code",
   "execution_count": 96,
   "id": "7b112061",
   "metadata": {},
   "outputs": [],
   "source": [
    "q_hi = df['CNT_CHILDREN'].quantile(0.999)\n",
    "q_low = df['CNT_CHILDREN'].quantile(0.001)\n",
    "df = df[(df['CNT_CHILDREN']>q_low) & (df['CNT_CHILDREN']<q_hi)]"
   ]
  },
  {
   "cell_type": "code",
   "execution_count": 97,
   "id": "b625e66f",
   "metadata": {},
   "outputs": [],
   "source": [
    "q_hi = df['AMT_INCOME_TOTAL'].quantile(0.999)\n",
    "q_low = df['AMT_INCOME_TOTAL'].quantile(0.001)\n",
    "df = df[(df['AMT_INCOME_TOTAL']>q_low) & (df['AMT_INCOME_TOTAL']<q_hi)]"
   ]
  },
  {
   "cell_type": "code",
   "execution_count": 98,
   "id": "9e38ccc7",
   "metadata": {},
   "outputs": [],
   "source": [
    "q_hi = df['CNT_FAM_MEMBERS'].quantile(0.999)\n",
    "q_low = df['CNT_FAM_MEMBERS'].quantile(0.001)\n",
    "df = df[(df['CNT_FAM_MEMBERS']>q_low) & (df['CNT_FAM_MEMBERS']<q_hi)]"
   ]
  },
  {
   "cell_type": "code",
   "execution_count": 99,
   "id": "51e9ce1a",
   "metadata": {},
   "outputs": [
    {
     "data": {
      "text/plain": [
       "<AxesSubplot:xlabel='ID', ylabel='CNT_FAM_MEMBERS'>"
      ]
     },
     "execution_count": 99,
     "metadata": {},
     "output_type": "execute_result"
    },
    {
     "data": {
      "image/png": "[encoded data removed]",
      "text/plain": [
       "<Figure size 1008x432 with 9 Axes>"
      ]
     },
     "metadata": {
      "needs_background": "light"
     },
     "output_type": "display_data"
    }
   ],
   "source": [
    "fig, ax= plt.subplots(nrows= 3, ncols = 3, figsize= (14,6))\n",
    "\n",
    "sns.scatterplot(x='ID', y='CNT_CHILDREN', data=df, ax=ax[0][0], color= 'red')\n",
    "sns.scatterplot(x='ID', y='AMT_INCOME_TOTAL', data=df, ax=ax[0][1], color='red')\n",
    "sns.scatterplot(x='ID', y='DAYS_BIRTH', data=df, ax=ax[0][2])\n",
    "sns.scatterplot(x='ID', y='DAYS_EMPLOYED', data=df, ax=ax[1][0])\n",
    "sns.scatterplot(x='ID', y='FLAG_MOBIL', data=df, ax=ax[1][1])\n",
    "sns.scatterplot(x='ID', y='FLAG_WORK_PHONE', data=df, ax=ax[1][2])\n",
    "sns.scatterplot(x='ID', y='FLAG_PHONE', data=df, ax=ax[2][0])\n",
    "sns.scatterplot(x='ID', y='FLAG_EMAIL', data=df, ax=ax[2][1])\n",
    "sns.scatterplot(x='ID', y='CNT_FAM_MEMBERS', data=df, ax=ax[2][2], color= 'red')"
   ]
  },
  {
   "cell_type": "markdown",
   "id": "305f2785",
   "metadata": {},
   "source": [
    "Se puede observar claramente el cambio de escala en el gráfico tras la remoción de outliers."
   ]
  },
  {
   "cell_type": "code",
   "execution_count": 100,
   "id": "2531f8c0",
   "metadata": {},
   "outputs": [
    {
     "data": {
      "text/plain": [
       "(7761, 22)"
      ]
     },
     "execution_count": 100,
     "metadata": {},
     "output_type": "execute_result"
    }
   ],
   "source": [
    "df.shape"
   ]
  },
  {
   "cell_type": "markdown",
   "id": "3683965f",
   "metadata": {},
   "source": [
    "***Observación:*** pasamos de **25134** clientes a **7761** cuando removemos outliers. Se eliminan alrededor del **70%** de los datos!"
   ]
  },
  {
   "cell_type": "markdown",
   "id": "4376c198",
   "metadata": {},
   "source": [
    "**Análisis Exploratorio**"
   ]
  },
  {
   "cell_type": "code",
   "execution_count": 101,
   "id": "0ca471f1",
   "metadata": {},
   "outputs": [],
   "source": [
    "# Eliminamos Scoring_Catagories\n",
    "\n",
    "df_corr = df.drop(columns = ['Scoring Categories'])"
   ]
  },
  {
   "cell_type": "code",
   "execution_count": 102,
   "id": "bc881733",
   "metadata": {},
   "outputs": [],
   "source": [
    "# Generamos las variables dummies donde haya categóricas\n",
    "\n",
    "df_corr = pd.get_dummies(df_corr, drop_first = True)"
   ]
  },
  {
   "cell_type": "code",
   "execution_count": 103,
   "id": "a69bfb28",
   "metadata": {},
   "outputs": [
    {
     "data": {
      "text/plain": [
       "array(['ID', 'CNT_CHILDREN', 'AMT_INCOME_TOTAL', 'DAYS_BIRTH',\n",
       "       'DAYS_EMPLOYED', 'FLAG_MOBIL', 'FLAG_WORK_PHONE', 'FLAG_PHONE',\n",
       "       'FLAG_EMAIL', 'CNT_FAM_MEMBERS', 'STATUS', 'MONTHS', 'Scoring',\n",
       "       'CODE_GENDER_M', 'FLAG_OWN_CAR_Y', 'FLAG_OWN_REALTY_Y',\n",
       "       'NAME_INCOME_TYPE_Pensioner', 'NAME_INCOME_TYPE_State servant',\n",
       "       'NAME_INCOME_TYPE_Student', 'NAME_INCOME_TYPE_Working',\n",
       "       'NAME_EDUCATION_TYPE_Higher education',\n",
       "       'NAME_EDUCATION_TYPE_Incomplete higher',\n",
       "       'NAME_EDUCATION_TYPE_Lower secondary',\n",
       "       'NAME_EDUCATION_TYPE_Secondary / secondary special',\n",
       "       'NAME_FAMILY_STATUS_Married', 'NAME_FAMILY_STATUS_Separated',\n",
       "       'NAME_FAMILY_STATUS_Single / not married',\n",
       "       'NAME_FAMILY_STATUS_Widow', 'NAME_HOUSING_TYPE_House / apartment',\n",
       "       'NAME_HOUSING_TYPE_Municipal apartment',\n",
       "       'NAME_HOUSING_TYPE_Office apartment',\n",
       "       'NAME_HOUSING_TYPE_Rented apartment',\n",
       "       'NAME_HOUSING_TYPE_With parents', 'OCCUPATION_TYPE_Cleaning staff',\n",
       "       'OCCUPATION_TYPE_Cooking staff', 'OCCUPATION_TYPE_Core staff',\n",
       "       'OCCUPATION_TYPE_Drivers', 'OCCUPATION_TYPE_HR staff',\n",
       "       'OCCUPATION_TYPE_High skill tech staff',\n",
       "       'OCCUPATION_TYPE_IT staff', 'OCCUPATION_TYPE_Laborers',\n",
       "       'OCCUPATION_TYPE_Low-skill Laborers', 'OCCUPATION_TYPE_Managers',\n",
       "       'OCCUPATION_TYPE_Medicine staff',\n",
       "       'OCCUPATION_TYPE_Private service staff',\n",
       "       'OCCUPATION_TYPE_Realty agents', 'OCCUPATION_TYPE_Sales staff',\n",
       "       'OCCUPATION_TYPE_Secretaries', 'OCCUPATION_TYPE_Security staff',\n",
       "       'OCCUPATION_TYPE_Waiters/barmen staff'], dtype=object)"
      ]
     },
     "execution_count": 103,
     "metadata": {},
     "output_type": "execute_result"
    }
   ],
   "source": [
    "df_corr.columns.values"
   ]
  },
  {
   "cell_type": "markdown",
   "id": "37f0d7ec",
   "metadata": {},
   "source": [
    "Observemos si hay alguna correlación preliminar entre la varaible `STATUS` y el resto de las variables presentes en el DataFrame."
   ]
  },
  {
   "cell_type": "code",
   "execution_count": 104,
   "id": "2820d971",
   "metadata": {},
   "outputs": [
    {
     "data": {
      "image/png": "[encoded data removed]",
      "text/plain": [
       "<Figure size 1080x1080 with 2 Axes>"
      ]
     },
     "metadata": {
      "needs_background": "light"
     },
     "output_type": "display_data"
    }
   ],
   "source": [
    "correlation = df_corr.corr()\n",
    "\n",
    "plt.figure(figsize=(15,15))\n",
    "axis_corr = sns.heatmap(correlation, vmin=-1, vmax=1, center=0,square=True, cmap=\"YlGnBu\")\n",
    "plt.show()"
   ]
  },
  {
   "cell_type": "markdown",
   "id": "2bad3578",
   "metadata": {},
   "source": [
    "**Observación:** A priori, vemos algun tipo de correlación con la variable `Scoring`. Pero esto tiene sentido ya que esta variable fue construida a partir de la propia variable `STATUS`. Por lo tanto, no le otorgamos relevancia a esta correlación."
   ]
  },
  {
   "cell_type": "markdown",
   "id": "ef6269f9",
   "metadata": {},
   "source": [
    "## Sección 4 - Modelos de Machine Learning\n",
    "___"
   ]
  },
  {
   "cell_type": "markdown",
   "id": "fdaac59d",
   "metadata": {},
   "source": [
    "### Introducción a la Sección 4."
   ]
  },
  {
   "cell_type": "markdown",
   "id": "18855455",
   "metadata": {},
   "source": [
    "Hasta aquí, hemos trabajado sobre el DataSet para que el mismo pueda ser utilizado en los Modelos de Clasificación que desarrollaremos en esta sección.\n",
    "\n",
    "<div> La sección 4 consta de 3 apartados que utilizamos para estructurar el trabajo.</div>\n",
    "\n",
    "En el **Apartado 4.1**, entrenaremos diferentes Modelos de Clasificación de manera individual. Luego, construiremos un Modelo de Ensamble para evaluar la capacidad de predicción de todos los Modelos de Clasificiación en conjunto. En esta primera instancia, trabajaremos **sin considerar la presencia de clases desabalanceadas dentro de las categorias del vector objetivo.**\n",
    "\n",
    "Luego, en el **Apartado 4.2**, utilizaremos el método **SMOTENC** para poder entrenar los Modelos de Clasificación nuevamente, **con la diferencia de que el conjunto de entrenamiento ahora cuenta con proporciones similares para las categories del vector objetivo.** En una última instancia, tambien haremos uso de una tecnica de **Feature Selection**, con el objetivo de reducir la dimensionalidad del DataSet en cuestión.\n",
    "\n",
    "Por último, en el **Apartado 4.3** construiremos un **Pipeline** que abarcara los siguientes pasos: \n",
    "- (a) Selección de Features \n",
    "- (b) Normalización \n",
    "- (c) Evaluación de Modelos de Clasificación \n",
    "\n",
    "En una primera instancia, explotaremos el potencial de **GridSearch** para obtener la mejor combinacion de hiperparametros de los Modelos de Clasificación **KNN** y **Árbol de Decisión**.\n",
    "En una segunda instancia, volveremos a usar el **GridSearch** pero esta vez para seleccionar el Modelo de Clasificación que tenga la mayor capacidad de predicción."
   ]
  },
  {
   "cell_type": "markdown",
   "id": "184b3d76",
   "metadata": {},
   "source": [
    "<img src='img_14_baby.png' align='left' width=35%/>"
   ]
  },
  {
   "cell_type": "markdown",
   "id": "f66d3902",
   "metadata": {},
   "source": [
    "### 4.1 - Modelos de Clasificación VS Modelo de Ensamble"
   ]
  },
  {
   "cell_type": "markdown",
   "id": "d198ddb8",
   "metadata": {},
   "source": [
    "A partir del DataFrame que obtuvimos al final de la sección anterior, generamos la matriz de features `X` y el vector target `Y` . \n",
    "\n",
    "Luego, vamos a generar los conjuntos de entranamiento y prueba para poder trabajar en los diferentes Modelos de Clasificación de Machine Learning."
   ]
  },
  {
   "cell_type": "code",
   "execution_count": 105,
   "id": "a7b4a1d7",
   "metadata": {},
   "outputs": [],
   "source": [
    "# Generamos las variables dummies para aquellos valores categóricos.\n",
    "\n",
    "df_dummies = pd.get_dummies(df, drop_first=True)"
   ]
  },
  {
   "cell_type": "code",
   "execution_count": 106,
   "id": "7784b3a1",
   "metadata": {},
   "outputs": [
    {
     "name": "stdout",
     "output_type": "stream",
     "text": [
      "X - Shape: (7761, 48)\n",
      "Y - Shape: (7761,) \n",
      "\n",
      "X Training - Percentage: 75%\n",
      "X Testing - Percentage: 25%\n"
     ]
    }
   ],
   "source": [
    "# Armamos las matrices X e Y.\n",
    "\n",
    "X = df_dummies.drop(columns = ['STATUS', \n",
    "                               'Scoring', \n",
    "                               'Scoring Categories_Medium', \n",
    "                               'Scoring Categories_High', \n",
    "                               'Scoring Categories_Very High'])\n",
    "print(f'X - Shape: {X.shape}')\n",
    "\n",
    "y = df_dummies['STATUS']\n",
    "print(f'Y - Shape: {y.shape} \\n')\n",
    "\n",
    "\n",
    "\n",
    "# Generamos los conjuntos de entrenamiento y testeo.\n",
    "\n",
    "X_train, X_test, y_train, y_test = train_test_split(X, y, random_state = 1)\n",
    "print(f'X Training - Percentage: {X_train.shape[0] / X.shape[0]:.0%}')\n",
    "print(f'X Testing - Percentage: {X_test.shape[0] / X.shape[0]:.0%}')"
   ]
  },
  {
   "cell_type": "markdown",
   "id": "2d9942ba",
   "metadata": {},
   "source": [
    "Eliminamos cualquier diferencia de escala que pueda existir entre las diferentes columnas del DataSet."
   ]
  },
  {
   "cell_type": "code",
   "execution_count": 107,
   "id": "eea4ae6b",
   "metadata": {},
   "outputs": [],
   "source": [
    "# Normalizamos los valores de X usando la clase StandardScaler.\n",
    "\n",
    "scaler = StandardScaler()\n",
    "\n",
    "X_train_scaled = scaler.fit_transform(X_train)\n",
    "X_test_scaled = scaler.transform(X_test)"
   ]
  },
  {
   "cell_type": "markdown",
   "id": "78a6c339",
   "metadata": {},
   "source": [
    "Ahora que tenemos los conjuntos de `X` e `Y`, procedemos a entrenar cada uno de los Modelos de Clasificación:\n",
    "\n",
    "- GaussianNB\n",
    "- KNN\n",
    "- Decesion Tree\n",
    "- Modelo de Ensamble (Combinando los 3 Modelos de Clasificación)\n",
    "- Modelo de Ensamble (Combinando 2 de los 3 Modelos de Clasificación)"
   ]
  },
  {
   "cell_type": "markdown",
   "id": "e22625ed",
   "metadata": {},
   "source": [
    "#### GaussianNB"
   ]
  },
  {
   "cell_type": "code",
   "execution_count": 111,
   "id": "aac1feb7",
   "metadata": {},
   "outputs": [
    {
     "name": "stdout",
     "output_type": "stream",
     "text": [
      "              precision    recall  f1-score   support\n",
      "\n",
      "           0       0.12      1.00      0.21       227\n",
      "           1       0.96      0.01      0.03      1714\n",
      "\n",
      "    accuracy                           0.13      1941\n",
      "   macro avg       0.54      0.50      0.12      1941\n",
      "weighted avg       0.86      0.13      0.05      1941\n",
      "\n",
      "Area bajo la curva ROC: 0.5781 \n",
      "\n",
      "Area bajo la curva Precision-Recall: 0.9078 \n",
      "\n"
     ]
    },
    {
     "data": {
      "image/png": "[encoded data removed]",
      "text/plain": [
       "<Figure size 432x288 with 2 Axes>"
      ]
     },
     "metadata": {
      "needs_background": "light"
     },
     "output_type": "display_data"
    }
   ],
   "source": [
    "# Instanciamos en modelo\n",
    "# Ajustamos / Entrenamos\n",
    "# Predecimos.\n",
    "# Calculamos la matriz de confusión, el AUC, y el AUC Presicion-Recall.\n",
    "\n",
    "\n",
    "gaussian = GaussianNB()\n",
    "\n",
    "gaussian_train = gaussian.fit(X_train_scaled, y_train)\n",
    "gaussian_predict = gaussian_train.predict(X_test_scaled)\n",
    "y_proba = gaussian.predict_proba(X_test_scaled)\n",
    "\n",
    "print(classification_report(y_test, gaussian_predict))\n",
    "    \n",
    "print(f'Area bajo la curva ROC: {np.round(roc_auc_score(y_test,y_proba[:,1]),4)} \\n')\n",
    "    \n",
    "precision, recall,threshold = precision_recall_curve(y_test,y_proba[:,1]);\n",
    "\n",
    "print(f'Area bajo la curva Precision-Recall: {np.round(auc(recall,precision),4)} \\n')\n",
    "\n",
    "plot_confusion_matrix(gaussian,X_test_scaled,y_test,cmap='Blues');\n"
   ]
  },
  {
   "cell_type": "markdown",
   "id": "a2ff7ece",
   "metadata": {},
   "source": [
    "#### KNN"
   ]
  },
  {
   "cell_type": "code",
   "execution_count": 112,
   "id": "2e3a822e",
   "metadata": {},
   "outputs": [
    {
     "name": "stdout",
     "output_type": "stream",
     "text": [
      "              precision    recall  f1-score   support\n",
      "\n",
      "           0       0.49      0.26      0.34       227\n",
      "           1       0.91      0.96      0.94      1714\n",
      "\n",
      "    accuracy                           0.88      1941\n",
      "   macro avg       0.70      0.61      0.64      1941\n",
      "weighted avg       0.86      0.88      0.87      1941\n",
      "\n",
      "Area bajo la curva ROC: 0.7196 \n",
      "\n",
      "Area bajo la curva Precision-Recall: 0.9559 \n",
      "\n"
     ]
    },
    {
     "data": {
      "image/png": "[encoded data removed]",
      "text/plain": [
       "<Figure size 432x288 with 2 Axes>"
      ]
     },
     "metadata": {
      "needs_background": "light"
     },
     "output_type": "display_data"
    }
   ],
   "source": [
    "# Instanciamos en modelo\n",
    "# Ajustamos / Entrenamos\n",
    "# Predecimos.\n",
    "# Calculamos la matriz de confusión, el AUC, y el AUC Presicion-Recall.\n",
    "\n",
    "knn = KNeighborsClassifier()\n",
    "\n",
    "knn_train = knn.fit(X_train_scaled, y_train)\n",
    "knn_predict = knn_train.predict(X_test_scaled)\n",
    "y_proba = knn.predict_proba(X_test_scaled)\n",
    "\n",
    "print(classification_report(y_test, knn_predict))\n",
    "    \n",
    "print(f'Area bajo la curva ROC: {np.round(roc_auc_score(y_test, y_proba[:,1]),4)} \\n')\n",
    "    \n",
    "precision, recall,threshold = precision_recall_curve(y_test, y_proba[:,1]);\n",
    "\n",
    "print(f'Area bajo la curva Precision-Recall: {np.round(auc(recall,precision),4)} \\n')\n",
    "\n",
    "plot_confusion_matrix(knn, X_test_scaled, y_test, cmap='Blues');"
   ]
  },
  {
   "cell_type": "markdown",
   "id": "296d508c",
   "metadata": {},
   "source": [
    "#### Árbol de Decisión"
   ]
  },
  {
   "cell_type": "code",
   "execution_count": 113,
   "id": "7ebf131f",
   "metadata": {},
   "outputs": [
    {
     "name": "stdout",
     "output_type": "stream",
     "text": [
      "              precision    recall  f1-score   support\n",
      "\n",
      "           0       0.33      0.38      0.36       227\n",
      "           1       0.92      0.90      0.91      1714\n",
      "\n",
      "    accuracy                           0.84      1941\n",
      "   macro avg       0.63      0.64      0.63      1941\n",
      "weighted avg       0.85      0.84      0.84      1941\n",
      "\n",
      "Area bajo la curva ROC: 0.6412 \n",
      "\n",
      "Area bajo la curva Precision-Recall: 0.9525 \n",
      "\n"
     ]
    },
    {
     "data": {
      "image/png": "[encoded data removed]",
      "text/plain": [
       "<Figure size 432x288 with 2 Axes>"
      ]
     },
     "metadata": {
      "needs_background": "light"
     },
     "output_type": "display_data"
    }
   ],
   "source": [
    "# Instanciamos en modelo\n",
    "# Ajustamos / Entrenamos\n",
    "# Predecimos.\n",
    "# Calculamos la matriz de confusión, el AUC, y el AUC Presicion-Recall.\n",
    "\n",
    "\n",
    "decision_tree = tree.DecisionTreeClassifier(criterion = 'gini')\n",
    "\n",
    "decision_tree_train = decision_tree.fit(X_train_scaled, y_train)\n",
    "decision_tree_predict = decision_tree_train.predict(X_test_scaled)\n",
    "y_proba_dt = decision_tree.predict_proba(X_test_scaled)\n",
    "\n",
    "print(classification_report(y_test, decision_tree_predict))\n",
    "    \n",
    "print(f'Area bajo la curva ROC: {np.round(roc_auc_score(y_test, y_proba_dt[:,1]),4)} \\n')\n",
    "    \n",
    "precision, recall,threshold = precision_recall_curve(y_test, y_proba_dt[:,1]);\n",
    "print(f'Area bajo la curva Precision-Recall: {np.round(auc(recall,precision),4)} \\n')\n",
    "\n",
    "plot_confusion_matrix(decision_tree, X_test_scaled, y_test, cmap='Blues');\n"
   ]
  },
  {
   "cell_type": "markdown",
   "id": "9f966bce",
   "metadata": {},
   "source": [
    "#### Modelo de Ensamble (Gaussian, KNN, Árbol de Decisión)"
   ]
  },
  {
   "cell_type": "code",
   "execution_count": 114,
   "id": "04652939",
   "metadata": {},
   "outputs": [],
   "source": [
    "from scipy.stats import mode"
   ]
  },
  {
   "cell_type": "code",
   "execution_count": 115,
   "id": "5ef36855",
   "metadata": {},
   "outputs": [
    {
     "name": "stdout",
     "output_type": "stream",
     "text": [
      "Confusion Matrix - Training: \n",
      " [[ 104  123]\n",
      " [ 202 1512]] \n",
      "\n",
      "Accuracy Score: 83%\n"
     ]
    }
   ],
   "source": [
    "# Creamos una función que nos permita ensambler los 3 modelos anteriores.\n",
    "\n",
    "def assemble_model(x, model_1, model_2, model_3):\n",
    "    prediction_1 = model_1.predict(x)\n",
    "    prediction_2 = model_2.predict(x)\n",
    "    prediction_3 = model_3.predict(x)\n",
    "    prediction = mode([prediction_1, prediction_2, prediction_3]).mode\n",
    "    prediction = np.transpose(prediction) \n",
    "    return prediction\n",
    "\n",
    "assemble_model_predict = assemble_model(X_test_scaled, \n",
    "                                        gaussian_train, \n",
    "                                        knn_train, \n",
    "                                        decision_tree_train)\n",
    "\n",
    "print(f'Confusion Matrix - Training: \\n {confusion_matrix(y_test, assemble_model_predict)} \\n')\n",
    "print(f'Accuracy Score: {accuracy_score(y_test, assemble_model_predict):.0%}')"
   ]
  },
  {
   "cell_type": "markdown",
   "id": "ada821a0",
   "metadata": {},
   "source": [
    "Observamos que el Modelo de Ensamble no necesariamente funciona mejor que los 3 Modelos de Clasificación de forma individual."
   ]
  },
  {
   "cell_type": "markdown",
   "id": "901770c1",
   "metadata": {},
   "source": [
    "Ahora probaremos como se comparta el Modelo de Ensamble, pero combinando unicamente de a 2 Modelos de Clasificación en cada ejecucion. De esta forma, tambien podremos descartar que no exista una combinación de 2 Modelos de Clasificación que tenga una mayor capacidad de predicción."
   ]
  },
  {
   "cell_type": "code",
   "execution_count": 116,
   "id": "504b2e1d",
   "metadata": {},
   "outputs": [
    {
     "name": "stdout",
     "output_type": "stream",
     "text": [
      "----- Gaussian/KNN ----- \n",
      "\n",
      "Confusion Matrix - Training: \n",
      " [[ 226    1]\n",
      " [1691   23]] \n",
      "\n",
      "Accuracy Score: 13% \n",
      "\n",
      "------------------------ \n",
      "\n",
      "----- Gaussian/Tree ----- \n",
      "\n",
      "Confusion Matrix - Training: \n",
      " [[ 226    1]\n",
      " [1693   21]] \n",
      "\n",
      "Accuracy Score: 13% \n",
      "\n",
      "------------------------- \n",
      "\n",
      "----- KNN/Tree ----- \n",
      "\n",
      "Confusion Matrix - Training: \n",
      " [[ 104  123]\n",
      " [ 204 1510]] \n",
      "\n",
      "Accuracy Score: 83% \n",
      "\n",
      "---------------------\n"
     ]
    }
   ],
   "source": [
    "def assemble_model(x, model_1, model_2):\n",
    "    prediction_1 = model_1.predict(x)\n",
    "    prediction_2 = model_2.predict(x)\n",
    "    prediction = mode([prediction_1, prediction_2]).mode\n",
    "    prediction = np.transpose(prediction) \n",
    "    return prediction\n",
    "\n",
    "## ----- Gaussian/KNN -----\n",
    "\n",
    "assemble_model_predict = assemble_model(X_test_scaled, \n",
    "                                        gaussian_train, \n",
    "                                        knn_train)\n",
    "\n",
    "print(f'----- Gaussian/KNN ----- \\n')\n",
    "print(f'Confusion Matrix - Training: \\n {confusion_matrix(y_test, assemble_model_predict)} \\n')\n",
    "print(f'Accuracy Score: {accuracy_score(y_test, assemble_model_predict):.0%} \\n')\n",
    "print(f'------------------------ \\n')\n",
    "\n",
    "## ----- Gaussian/Tree -----\n",
    "\n",
    "assemble_model_predict = assemble_model(X_test_scaled, \n",
    "                                        gaussian_train, \n",
    "                                        decision_tree_train)\n",
    "\n",
    "print(f'----- Gaussian/Tree ----- \\n')\n",
    "print(f'Confusion Matrix - Training: \\n {confusion_matrix(y_test, assemble_model_predict)} \\n')\n",
    "print(f'Accuracy Score: {accuracy_score(y_test, assemble_model_predict):.0%} \\n')\n",
    "print(f'------------------------- \\n')\n",
    "\n",
    "## ----- KNN/Tree -----\n",
    "\n",
    "assemble_model_predict = assemble_model(X_test_scaled, \n",
    "                                        knn_train, \n",
    "                                        decision_tree_train)\n",
    "\n",
    "print(f'----- KNN/Tree ----- \\n')\n",
    "print(f'Confusion Matrix - Training: \\n {confusion_matrix(y_test, assemble_model_predict)} \\n')\n",
    "print(f'Accuracy Score: {accuracy_score(y_test, assemble_model_predict):.0%} \\n')\n",
    "print(f'---------------------')"
   ]
  },
  {
   "cell_type": "markdown",
   "id": "3d37ef2b",
   "metadata": {},
   "source": [
    "**Primera Conclusión:** El modelo KNN es el que arroja mejor **Accuracy**."
   ]
  },
  {
   "cell_type": "markdown",
   "id": "35961f79",
   "metadata": {},
   "source": [
    "---\n",
    "#### Apéndice\n",
    "##### ¿Qué pasa si tambien incluimos las variables `Scoring` y `Scoring Categories` dentro de la Matriz de Features `X`?"
   ]
  },
  {
   "cell_type": "code",
   "execution_count": 117,
   "id": "4c863091",
   "metadata": {},
   "outputs": [
    {
     "name": "stdout",
     "output_type": "stream",
     "text": [
      "X - Shape: (7761, 48)\n",
      "Y - Shape: (7761,) \n",
      "\n",
      "X Training - Percentage: 75%\n",
      "X Testing - Percentage: 25%\n"
     ]
    }
   ],
   "source": [
    "X_scoring = df_dummies.drop(columns = ['STATUS'])\n",
    "print(f'X - Shape: {X.shape}')\n",
    "\n",
    "y_scoring = df_dummies['STATUS']\n",
    "print(f'Y - Shape: {y.shape} \\n')\n",
    "\n",
    "X_train_scoring, X_test_scoring, y_train_scoring, y_test_scoring = train_test_split(X_scoring, y_scoring, random_state = 1)\n",
    "print(f'X Training - Percentage: {X_train_scoring.shape[0] / X_scoring.shape[0]:.0%}')\n",
    "print(f'X Testing - Percentage: {X_test_scoring.shape[0] / X_scoring.shape[0]:.0%}')"
   ]
  },
  {
   "cell_type": "code",
   "execution_count": 118,
   "id": "0a758873",
   "metadata": {},
   "outputs": [],
   "source": [
    "scaler = StandardScaler()\n",
    "\n",
    "X_train_scoring_scaled = scaler.fit_transform(X_train_scoring)\n",
    "X_test_scoring_scaled = scaler.transform(X_test_scoring)"
   ]
  },
  {
   "cell_type": "markdown",
   "id": "ad9e049d",
   "metadata": {},
   "source": [
    "#### Gaussian - Incluyendo 'Scoring' y 'Scoring Categories'"
   ]
  },
  {
   "cell_type": "code",
   "execution_count": 119,
   "id": "91f3a3a6",
   "metadata": {},
   "outputs": [
    {
     "name": "stdout",
     "output_type": "stream",
     "text": [
      "Confusion Matrix - Training: \n",
      " [[ 226    1]\n",
      " [   0 1714]] \n",
      "\n",
      "Accuracy Score: 100%\n"
     ]
    }
   ],
   "source": [
    "gaussian = GaussianNB()\n",
    "\n",
    "gaussian_train = gaussian.fit(X_train_scoring_scaled, y_train)\n",
    "gaussian_predict = gaussian_train.predict(X_test_scoring_scaled)\n",
    "\n",
    "print(f'Confusion Matrix - Training: \\n {confusion_matrix(y_test_scoring, gaussian_predict)} \\n')\n",
    "print(f'Accuracy Score: {accuracy_score(y_test_scoring, gaussian_predict):.0%}')"
   ]
  },
  {
   "cell_type": "markdown",
   "id": "ebd5393a",
   "metadata": {},
   "source": [
    "#### KNN - Incluyendo 'Scoring' y 'Scoring Categories'"
   ]
  },
  {
   "cell_type": "code",
   "execution_count": 120,
   "id": "3bd76d13",
   "metadata": {},
   "outputs": [
    {
     "name": "stdout",
     "output_type": "stream",
     "text": [
      "Confusion Matrix - Training: \n",
      " [[ 111  116]\n",
      " [  63 1651]] \n",
      "\n",
      "Accuracy Score: 91%\n"
     ]
    }
   ],
   "source": [
    "knn = KNeighborsClassifier()\n",
    "\n",
    "knn_train = knn.fit(X_train_scoring_scaled, y_train)\n",
    "knn_predict = knn_train.predict(X_test_scoring_scaled)\n",
    "\n",
    "print(f'Confusion Matrix - Training: \\n {confusion_matrix(y_test_scoring, knn_predict)} \\n')\n",
    "print(f'Accuracy Score: {accuracy_score(y_test_scoring, knn_predict):.0%}')"
   ]
  },
  {
   "cell_type": "markdown",
   "id": "7303d4c4",
   "metadata": {},
   "source": [
    "#### Árbol de Decisión - Incluyendo 'Scoring' y 'Scoring Categories'"
   ]
  },
  {
   "cell_type": "code",
   "execution_count": 121,
   "id": "75813206",
   "metadata": {},
   "outputs": [
    {
     "name": "stdout",
     "output_type": "stream",
     "text": [
      "Confusion Matrix - Training: \n",
      " [[ 227    0]\n",
      " [   0 1714]] \n",
      "\n",
      "Accuracy Score: 100%\n"
     ]
    }
   ],
   "source": [
    "decision_tree = tree.DecisionTreeClassifier(criterion = 'gini')\n",
    "\n",
    "decision_tree_train = decision_tree.fit(X_train_scoring_scaled, y_train)\n",
    "decision_tree_predict = decision_tree_train.predict(X_test_scoring_scaled)\n",
    "\n",
    "print(f'Confusion Matrix - Training: \\n {confusion_matrix(y_test_scoring, decision_tree_predict)} \\n')\n",
    "print(f'Accuracy Score: {accuracy_score(y_test_scoring, decision_tree_predict):.0%}')"
   ]
  },
  {
   "cell_type": "markdown",
   "id": "79242100",
   "metadata": {},
   "source": [
    "**Nota Final**\n",
    "Como puede observarse facilmente, al incluir las variables `Scoring` y `Scoring Categories` tanto el primer como el tercer modelo llegan a una capacidad de prediccion del 100%. Esto se debe a que nuestra variable target, `STATUS`, se encuentra estrechamente relacionada con ellas. En consecuencia, las demas variables que se encuentran dentro de la Matriz de Features `X` pierden importancia y son dejadas de lado. Lo que es mas, las predicciones comienzan a ser realizadas casi en su totalidad en funcion de estas dos nuevas variables. Por este motivo, decidimos excluirlas en los siguientes pasos.\n",
    "\n",
    "---"
   ]
  },
  {
   "cell_type": "markdown",
   "id": "72752b4c",
   "metadata": {},
   "source": [
    "### 4.2 - Herramientas de Pre-Procesamiento"
   ]
  },
  {
   "cell_type": "markdown",
   "id": "6f1ad106",
   "metadata": {},
   "source": [
    "#### 4.2.1 Balanceo de Clases"
   ]
  },
  {
   "cell_type": "code",
   "execution_count": 122,
   "id": "b1bd804c",
   "metadata": {},
   "outputs": [
    {
     "name": "stdout",
     "output_type": "stream",
     "text": [
      "X - Shape: (7761, 48)\n",
      "Y - Shape: (7761,) \n",
      "\n",
      "X Training - Percentage: 75%\n",
      "X Testing - Percentage: 25%\n"
     ]
    }
   ],
   "source": [
    "# Partimos del df original, sin las dummies para poder trabajar con la técnica SMOTENC.\n",
    "\n",
    "X_unbalanced = df.drop(columns = ['STATUS', \n",
    "                                  'Scoring', \n",
    "                                  'Scoring Categories'])\n",
    "print(f'X - Shape: {X.shape}')\n",
    "\n",
    "y_unbalanced = df['STATUS']\n",
    "print(f'Y - Shape: {y.shape} \\n')\n",
    "\n",
    "\n",
    "\n",
    "# Separamos en train y test\n",
    "\n",
    "X_train_unbalanced, X_test_unbalanced, y_train_unbalanced, y_test_unbalanced = train_test_split(X_unbalanced, y_unbalanced, random_state = 1)\n",
    "print(f'X Training - Percentage: {X_train_unbalanced.shape[0] / X_unbalanced.shape[0]:.0%}')\n",
    "print(f'X Testing - Percentage: {X_test_unbalanced.shape[0] / X_unbalanced.shape[0]:.0%}')"
   ]
  },
  {
   "cell_type": "code",
   "execution_count": 123,
   "id": "1effa536",
   "metadata": {},
   "outputs": [
    {
     "name": "stdout",
     "output_type": "stream",
     "text": [
      "Absolute: \n",
      "1    5082\n",
      "0     738\n",
      "Name: STATUS, dtype: int64 \n",
      "\n",
      "Relative: \n",
      "1    0.873196\n",
      "0    0.126804\n",
      "Name: STATUS, dtype: float64\n"
     ]
    }
   ],
   "source": [
    "# Observamos la distribución de calses en Y desbalanceada\n",
    "\n",
    "print(f'Absolute: \\n{y_train_unbalanced.value_counts(normalize = False)} \\n')\n",
    "print(f'Relative: \\n{y_train_unbalanced.value_counts(normalize = True)}')"
   ]
  },
  {
   "cell_type": "markdown",
   "id": "83778fad",
   "metadata": {},
   "source": [
    "Puede observarse con claridad que existe un problema de **Clases Desbalanceadas**, dado que alrededor de un **88%** de las observaciones de la variable `STATUS` pertenecen a la Clase 1 y unicamente el **12%** de las observaciones pertenecen a la Clase 0. Es por ello que podemos hacer uso de `SMOTENC` para igualar la cantidad de observaciones que pertenecen a una y otra clase, y de esta manera, evitar incurrir en problemas al momento de la realizar las predicciones."
   ]
  },
  {
   "cell_type": "code",
   "execution_count": 124,
   "id": "710c47e2",
   "metadata": {},
   "outputs": [
    {
     "name": "stdout",
     "output_type": "stream",
     "text": [
      "Absolute: \n",
      "1    5082\n",
      "0    3811\n",
      "Name: STATUS, dtype: int64 \n",
      "\n",
      "Relative: \n",
      "1    0.571461\n",
      "0    0.428539\n",
      "Name: STATUS, dtype: float64 \n",
      "\n",
      "Ratio: \n",
      "0.75\n"
     ]
    }
   ],
   "source": [
    "# Identificamos las columnas categóricas de numéricas para trabajar con SMOTENC\n",
    "\n",
    "categorical = (X_train_unbalanced.dtypes == 'object').values\n",
    "numerical = np.logical_not(categorical)\n",
    "\n",
    "smotenc = SMOTENC(categorical_features = categorical, sampling_strategy = 0.75)\n",
    "\n",
    "X_train_resampled, y_train_resampled = smotenc.fit_resample(X_train_unbalanced, y_train_unbalanced)\n",
    "\n",
    "print(f'Absolute: \\n{y_train_resampled.value_counts(normalize = False)} \\n')\n",
    "print(f'Relative: \\n{y_train_resampled.value_counts(normalize = True)} \\n')\n",
    "print(f'Ratio: \\n{(y_train_resampled == 0).sum() / (y_train_resampled == 1).sum():.2f}')"
   ]
  },
  {
   "cell_type": "markdown",
   "id": "2ff69be2",
   "metadata": {},
   "source": [
    "Observamos que las clases ahora están mas balanceadas: \n",
    "- Clase 1: **57%** \n",
    "- Clase 0: **43%**"
   ]
  },
  {
   "cell_type": "code",
   "execution_count": 125,
   "id": "eda207bf",
   "metadata": {},
   "outputs": [
    {
     "name": "stdout",
     "output_type": "stream",
     "text": [
      "X Training - Shape: (8893, 48)\n",
      "X Testing - Shape: (1941, 48)\n"
     ]
    }
   ],
   "source": [
    "# Codificamos las variables categóricas\n",
    "\n",
    "one_hot_encoder = OneHotEncoder(drop = 'first', sparse = False)\n",
    "\n",
    "# ----- X Training -----\n",
    "\n",
    "X_train_dummies = one_hot_encoder.fit_transform(X_train_resampled.loc[:, categorical])\n",
    "\n",
    "X_train_dummies = pd.DataFrame(X_train_dummies)\n",
    "X_train_dummies.columns = [x for category in one_hot_encoder.categories_ for x in category[1:]]\n",
    "\n",
    "X_train_resampled = X_train_resampled.loc[:, numerical].join(X_train_dummies)\n",
    "\n",
    "# ----- X Testing -----\n",
    "\n",
    "X_test_dummies = one_hot_encoder.transform(X_test_unbalanced.loc[:, categorical])\n",
    "\n",
    "X_test_dummies = pd.DataFrame(X_test_dummies)\n",
    "X_test_dummies.index = X_test.index\n",
    "X_test_dummies.columns = [x for category in one_hot_encoder.categories_ for x in category[1:]]\n",
    "\n",
    "X_test_resampled = X_test_unbalanced.loc[:, numerical].join(X_test_dummies)\n",
    "\n",
    "print(f'X Training - Shape: {X_train_resampled.shape}')\n",
    "print(f'X Testing - Shape: {X_test_resampled.shape}')"
   ]
  },
  {
   "cell_type": "code",
   "execution_count": 126,
   "id": "dcc4c8b3",
   "metadata": {},
   "outputs": [],
   "source": [
    "# Normalizamos usando la instancia de la clase StandardScaler\n",
    "\n",
    "scaler = StandardScaler()\n",
    "\n",
    "X_train_resampled_scaled = scaler.fit_transform(X_train_resampled)\n",
    "X_test_resampled_scaled = scaler.transform(X_test_resampled)"
   ]
  },
  {
   "cell_type": "code",
   "execution_count": null,
   "id": "2d9e8c6e",
   "metadata": {},
   "outputs": [],
   "source": []
  },
  {
   "cell_type": "markdown",
   "id": "427a5259",
   "metadata": {},
   "source": [
    "Ahora estamos en condiciones de volver a entrenar los Modelos de Clasificación."
   ]
  },
  {
   "cell_type": "markdown",
   "id": "ebbd1e0a",
   "metadata": {},
   "source": [
    "#### Gaussian - Clases Balanceadas"
   ]
  },
  {
   "cell_type": "code",
   "execution_count": 127,
   "id": "55aef83e",
   "metadata": {},
   "outputs": [
    {
     "name": "stdout",
     "output_type": "stream",
     "text": [
      "              precision    recall  f1-score   support\n",
      "\n",
      "           0       0.12      0.91      0.21       227\n",
      "           1       0.88      0.09      0.16      1714\n",
      "\n",
      "    accuracy                           0.18      1941\n",
      "   macro avg       0.50      0.50      0.18      1941\n",
      "weighted avg       0.79      0.18      0.16      1941\n",
      "\n",
      "Area bajo la curva ROC: 0.5 \n",
      "\n",
      "Area bajo la curva Precision-Recall: 0.9415 \n",
      "\n"
     ]
    },
    {
     "data": {
      "image/png": "[encoded data removed]",
      "text/plain": [
       "<Figure size 432x288 with 2 Axes>"
      ]
     },
     "metadata": {
      "needs_background": "light"
     },
     "output_type": "display_data"
    }
   ],
   "source": [
    "gaussian = GaussianNB()\n",
    "\n",
    "gaussian_train = gaussian.fit(X_train_resampled_scaled, y_train_resampled)\n",
    "gaussian_predict = gaussian_train.predict(X_test_resampled_scaled)\n",
    "y_proba = gaussian.predict_proba(X_test_scaled)\n",
    "\n",
    "\n",
    "print(classification_report(y_test, gaussian_predict))\n",
    "    \n",
    "print(f'Area bajo la curva ROC: {np.round(roc_auc_score(y_test,y_proba[:,1]),4)} \\n')\n",
    "    \n",
    "precision, recall,threshold = precision_recall_curve(y_test,y_proba[:,1]);\n",
    "\n",
    "print(f'Area bajo la curva Precision-Recall: {np.round(auc(recall,precision),4)} \\n')\n",
    "\n",
    "plot_confusion_matrix(gaussian,X_test_scaled,y_test,cmap='Blues');"
   ]
  },
  {
   "cell_type": "markdown",
   "id": "59d20d39",
   "metadata": {},
   "source": [
    "#### KNN - Clases Balanceadas"
   ]
  },
  {
   "cell_type": "code",
   "execution_count": 128,
   "id": "b9b74396",
   "metadata": {},
   "outputs": [
    {
     "name": "stdout",
     "output_type": "stream",
     "text": [
      "              precision    recall  f1-score   support\n",
      "\n",
      "           0       0.29      0.36      0.32       227\n",
      "           1       0.91      0.89      0.90      1714\n",
      "\n",
      "    accuracy                           0.82      1941\n",
      "   macro avg       0.60      0.62      0.61      1941\n",
      "weighted avg       0.84      0.82      0.83      1941\n",
      "\n",
      "Area bajo la curva ROC: 0.6989 \n",
      "\n",
      "Area bajo la curva Precision-Recall: 0.9498 \n",
      "\n"
     ]
    },
    {
     "data": {
      "image/png": "[encoded data removed]",
      "text/plain": [
       "<Figure size 432x288 with 2 Axes>"
      ]
     },
     "metadata": {
      "needs_background": "light"
     },
     "output_type": "display_data"
    }
   ],
   "source": [
    "knn = KNeighborsClassifier()\n",
    "\n",
    "knn_train = knn.fit(X_train_resampled_scaled, y_train_resampled)\n",
    "knn_predict = knn_train.predict(X_test_resampled_scaled)\n",
    "y_proba = knn.predict_proba(X_test_scaled)\n",
    "\n",
    "\n",
    "print(classification_report(y_test, knn_predict))\n",
    "    \n",
    "print(f'Area bajo la curva ROC: {np.round(roc_auc_score(y_test, y_proba[:,1]),4)} \\n')\n",
    "    \n",
    "precision, recall,threshold = precision_recall_curve(y_test, y_proba[:,1]);\n",
    "\n",
    "print(f'Area bajo la curva Precision-Recall: {np.round(auc(recall,precision),4)} \\n')\n",
    "\n",
    "plot_confusion_matrix(knn, X_test_scaled, y_test, cmap='Blues');"
   ]
  },
  {
   "cell_type": "markdown",
   "id": "ead42372",
   "metadata": {},
   "source": [
    "#### Árbol de Decisión - Clases Balanceadas"
   ]
  },
  {
   "cell_type": "code",
   "execution_count": 129,
   "id": "a67f54c9",
   "metadata": {},
   "outputs": [
    {
     "name": "stdout",
     "output_type": "stream",
     "text": [
      "              precision    recall  f1-score   support\n",
      "\n",
      "           0       0.30      0.34      0.32       227\n",
      "           1       0.91      0.89      0.90      1714\n",
      "\n",
      "    accuracy                           0.83      1941\n",
      "   macro avg       0.61      0.62      0.61      1941\n",
      "weighted avg       0.84      0.83      0.84      1941\n",
      "\n",
      "Area bajo la curva ROC: 0.548 \n",
      "\n",
      "Area bajo la curva Precision-Recall: 0.918 \n",
      "\n"
     ]
    },
    {
     "data": {
      "image/png": "[encoded data removed]",
      "text/plain": [
       "<Figure size 432x288 with 2 Axes>"
      ]
     },
     "metadata": {
      "needs_background": "light"
     },
     "output_type": "display_data"
    }
   ],
   "source": [
    "decision_tree = tree.DecisionTreeClassifier(criterion = 'gini')\n",
    "\n",
    "decision_tree_train = decision_tree.fit(X_train_resampled_scaled, y_train_resampled)\n",
    "decision_tree_predict = decision_tree_train.predict(X_test_resampled_scaled)\n",
    "y_proba_dt = decision_tree.predict_proba(X_test_scaled)\n",
    "\n",
    "\n",
    "print(classification_report(y_test, decision_tree_predict))\n",
    "    \n",
    "print(f'Area bajo la curva ROC: {np.round(roc_auc_score(y_test, y_proba_dt[:,1]),4)} \\n')\n",
    "    \n",
    "precision, recall,threshold = precision_recall_curve(y_test, y_proba_dt[:,1]);\n",
    "print(f'Area bajo la curva Precision-Recall: {np.round(auc(recall,precision),4)} \\n')\n",
    "\n",
    "plot_confusion_matrix(decision_tree, X_test_scaled, y_test, cmap='Blues');"
   ]
  },
  {
   "cell_type": "markdown",
   "id": "859d8c7e",
   "metadata": {},
   "source": [
    "**Observación:** Como puede observarse, la capacidad de prediccion de los modelos no es necesariamente mejor luego de aplicar `SMOTENC` sobre los conjuntos de entrenamiento y prueba."
   ]
  },
  {
   "cell_type": "code",
   "execution_count": null,
   "id": "39c299e6",
   "metadata": {},
   "outputs": [],
   "source": []
  },
  {
   "cell_type": "markdown",
   "id": "02bed1f7",
   "metadata": {},
   "source": [
    "#### 4.2.2 Feature Selection"
   ]
  },
  {
   "cell_type": "code",
   "execution_count": 130,
   "id": "16ad7e0a",
   "metadata": {},
   "outputs": [
    {
     "name": "stderr",
     "output_type": "stream",
     "text": [
      "C:\\Users\\mgonz290\\Anaconda3\\envs\\dhdsblend2021\\lib\\site-packages\\sklearn\\feature_selection\\_univariate_selection.py:114: UserWarning: Features [5] are constant.\n",
      "  warnings.warn(\"Features %s are constant.\" % constant_features_idx,\n",
      "C:\\Users\\mgonz290\\Anaconda3\\envs\\dhdsblend2021\\lib\\site-packages\\sklearn\\feature_selection\\_univariate_selection.py:116: RuntimeWarning: invalid value encountered in true_divide\n",
      "  f = msb / msw\n"
     ]
    },
    {
     "data": {
      "text/html": [
       "<div>\n",
       "<style scoped>\n",
       "    .dataframe tbody tr th:only-of-type {\n",
       "        vertical-align: middle;\n",
       "    }\n",
       "\n",
       "    .dataframe tbody tr th {\n",
       "        vertical-align: top;\n",
       "    }\n",
       "\n",
       "    .dataframe thead th {\n",
       "        text-align: right;\n",
       "    }\n",
       "</style>\n",
       "<table border=\"1\" class=\"dataframe\">\n",
       "  <thead>\n",
       "    <tr style=\"text-align: right;\">\n",
       "      <th></th>\n",
       "      <th>Attribute</th>\n",
       "      <th>F Score</th>\n",
       "      <th>P Value</th>\n",
       "      <th>Support</th>\n",
       "    </tr>\n",
       "  </thead>\n",
       "  <tbody>\n",
       "    <tr>\n",
       "      <th>11</th>\n",
       "      <td>Scoring</td>\n",
       "      <td>2851.319052</td>\n",
       "      <td>0.000000e+00</td>\n",
       "      <td>True</td>\n",
       "    </tr>\n",
       "    <tr>\n",
       "      <th>51</th>\n",
       "      <td>Scoring Categories_Very High</td>\n",
       "      <td>402.885303</td>\n",
       "      <td>2.086772e-87</td>\n",
       "      <td>True</td>\n",
       "    </tr>\n",
       "    <tr>\n",
       "      <th>50</th>\n",
       "      <td>Scoring Categories_High</td>\n",
       "      <td>389.047972</td>\n",
       "      <td>1.532854e-84</td>\n",
       "      <td>True</td>\n",
       "    </tr>\n",
       "    <tr>\n",
       "      <th>49</th>\n",
       "      <td>Scoring Categories_Medium</td>\n",
       "      <td>383.480219</td>\n",
       "      <td>2.188541e-83</td>\n",
       "      <td>True</td>\n",
       "    </tr>\n",
       "    <tr>\n",
       "      <th>10</th>\n",
       "      <td>MONTHS</td>\n",
       "      <td>17.571250</td>\n",
       "      <td>2.798136e-05</td>\n",
       "      <td>True</td>\n",
       "    </tr>\n",
       "    <tr>\n",
       "      <th>9</th>\n",
       "      <td>CNT_FAM_MEMBERS</td>\n",
       "      <td>8.570884</td>\n",
       "      <td>3.425738e-03</td>\n",
       "      <td>True</td>\n",
       "    </tr>\n",
       "    <tr>\n",
       "      <th>13</th>\n",
       "      <td>FLAG_OWN_CAR_Y</td>\n",
       "      <td>7.969467</td>\n",
       "      <td>4.769408e-03</td>\n",
       "      <td>True</td>\n",
       "    </tr>\n",
       "    <tr>\n",
       "      <th>37</th>\n",
       "      <td>OCCUPATION_TYPE_High skill tech staff</td>\n",
       "      <td>7.238138</td>\n",
       "      <td>7.152377e-03</td>\n",
       "      <td>True</td>\n",
       "    </tr>\n",
       "    <tr>\n",
       "      <th>32</th>\n",
       "      <td>OCCUPATION_TYPE_Cleaning staff</td>\n",
       "      <td>7.107039</td>\n",
       "      <td>7.694094e-03</td>\n",
       "      <td>True</td>\n",
       "    </tr>\n",
       "    <tr>\n",
       "      <th>41</th>\n",
       "      <td>OCCUPATION_TYPE_Managers</td>\n",
       "      <td>7.048487</td>\n",
       "      <td>7.949422e-03</td>\n",
       "      <td>True</td>\n",
       "    </tr>\n",
       "    <tr>\n",
       "      <th>28</th>\n",
       "      <td>NAME_HOUSING_TYPE_Municipal apartment</td>\n",
       "      <td>7.000059</td>\n",
       "      <td>8.167141e-03</td>\n",
       "      <td>False</td>\n",
       "    </tr>\n",
       "    <tr>\n",
       "      <th>27</th>\n",
       "      <td>NAME_HOUSING_TYPE_House / apartment</td>\n",
       "      <td>6.800758</td>\n",
       "      <td>9.129374e-03</td>\n",
       "      <td>False</td>\n",
       "    </tr>\n",
       "    <tr>\n",
       "      <th>21</th>\n",
       "      <td>NAME_EDUCATION_TYPE_Lower secondary</td>\n",
       "      <td>5.677405</td>\n",
       "      <td>1.720870e-02</td>\n",
       "      <td>False</td>\n",
       "    </tr>\n",
       "    <tr>\n",
       "      <th>46</th>\n",
       "      <td>OCCUPATION_TYPE_Secretaries</td>\n",
       "      <td>5.595343</td>\n",
       "      <td>1.803274e-02</td>\n",
       "      <td>False</td>\n",
       "    </tr>\n",
       "  </tbody>\n",
       "</table>\n",
       "</div>"
      ],
      "text/plain": [
       "                                Attribute      F Score       P Value  Support\n",
       "11                                Scoring  2851.319052  0.000000e+00     True\n",
       "51           Scoring Categories_Very High   402.885303  2.086772e-87     True\n",
       "50                Scoring Categories_High   389.047972  1.532854e-84     True\n",
       "49              Scoring Categories_Medium   383.480219  2.188541e-83     True\n",
       "10                                 MONTHS    17.571250  2.798136e-05     True\n",
       "9                         CNT_FAM_MEMBERS     8.570884  3.425738e-03     True\n",
       "13                         FLAG_OWN_CAR_Y     7.969467  4.769408e-03     True\n",
       "37  OCCUPATION_TYPE_High skill tech staff     7.238138  7.152377e-03     True\n",
       "32         OCCUPATION_TYPE_Cleaning staff     7.107039  7.694094e-03     True\n",
       "41               OCCUPATION_TYPE_Managers     7.048487  7.949422e-03     True\n",
       "28  NAME_HOUSING_TYPE_Municipal apartment     7.000059  8.167141e-03    False\n",
       "27    NAME_HOUSING_TYPE_House / apartment     6.800758  9.129374e-03    False\n",
       "21    NAME_EDUCATION_TYPE_Lower secondary     5.677405  1.720870e-02    False\n",
       "46            OCCUPATION_TYPE_Secretaries     5.595343  1.803274e-02    False"
      ]
     },
     "execution_count": 130,
     "metadata": {},
     "output_type": "execute_result"
    }
   ],
   "source": [
    "def select_kbest_features(dataframe, target, k = 1):\n",
    "    feature_selector = SelectKBest(f_classif, k = k)    \n",
    "    _ = feature_selector.fit(dataframe.drop(target, axis = 1), dataframe[target])\n",
    "    \n",
    "    feature_scores = pd.DataFrame()\n",
    "    feature_scores[\"Attribute\"] = dataframe.drop(target, axis=1).columns\n",
    "    feature_scores[\"F Score\"] = feature_selector.scores_\n",
    "    feature_scores[\"P Value\"] = feature_selector.pvalues_\n",
    "    feature_scores[\"Support\"] = feature_selector.get_support()\n",
    "    \n",
    "    return feature_scores\n",
    "\n",
    "kbest_features = select_kbest_features(df_dummies, 'STATUS', k = 10)\n",
    "kbest_features = kbest_features.sort_values([\"F Score\", \"P Value\"], ascending = [False, False])\n",
    "kbest_features.head(14)"
   ]
  },
  {
   "cell_type": "markdown",
   "id": "230454b4",
   "metadata": {},
   "source": [
    "Aqui puede verse lo que habiamos explicado anteriormente de que las variables de `Scoring` y `Scoring Categories` se encuentran estrechamente relacionados con la variable `STATUS`."
   ]
  },
  {
   "cell_type": "markdown",
   "id": "c394d973",
   "metadata": {},
   "source": [
    "Por una cuestion de simplificar la ejecucion del Pipeline, realizaremos una reduccion de la dimensionalidad del DataSet. En este sentido, incluiremos en la Matriz de Features `X` unicamente las 10 variables mas representativas para con la Variable Objetivo `Y`."
   ]
  },
  {
   "cell_type": "markdown",
   "id": "72bd21eb",
   "metadata": {},
   "source": [
    "### 4.3 - Pipeline"
   ]
  },
  {
   "cell_type": "markdown",
   "id": "9a67b600",
   "metadata": {},
   "source": [
    "#### 4.3.1 - Construcción del Pipeline"
   ]
  },
  {
   "cell_type": "markdown",
   "id": "4eaba184",
   "metadata": {},
   "source": [
    "Comenzando armando una lista con aquellas columnas que fueron detectadas a traves de la tecnica de **Feature Selection**."
   ]
  },
  {
   "cell_type": "code",
   "execution_count": 131,
   "id": "8b64b2a2",
   "metadata": {},
   "outputs": [
    {
     "data": {
      "text/html": [
       "<div>\n",
       "<style scoped>\n",
       "    .dataframe tbody tr th:only-of-type {\n",
       "        vertical-align: middle;\n",
       "    }\n",
       "\n",
       "    .dataframe tbody tr th {\n",
       "        vertical-align: top;\n",
       "    }\n",
       "\n",
       "    .dataframe thead th {\n",
       "        text-align: right;\n",
       "    }\n",
       "</style>\n",
       "<table border=\"1\" class=\"dataframe\">\n",
       "  <thead>\n",
       "    <tr style=\"text-align: right;\">\n",
       "      <th></th>\n",
       "      <th>MONTHS</th>\n",
       "      <th>CNT_FAM_MEMBERS</th>\n",
       "      <th>FLAG_OWN_CAR_Y</th>\n",
       "      <th>OCCUPATION_TYPE_High skill tech staff</th>\n",
       "      <th>OCCUPATION_TYPE_Cleaning staff</th>\n",
       "      <th>OCCUPATION_TYPE_Managers</th>\n",
       "      <th>NAME_HOUSING_TYPE_Municipal apartment</th>\n",
       "      <th>NAME_HOUSING_TYPE_House / apartment</th>\n",
       "      <th>NAME_EDUCATION_TYPE_Lower secondary</th>\n",
       "      <th>OCCUPATION_TYPE_Secretaries</th>\n",
       "    </tr>\n",
       "  </thead>\n",
       "  <tbody>\n",
       "    <tr>\n",
       "      <th>29</th>\n",
       "      <td>39</td>\n",
       "      <td>3.0</td>\n",
       "      <td>0</td>\n",
       "      <td>0</td>\n",
       "      <td>0</td>\n",
       "      <td>1</td>\n",
       "      <td>0</td>\n",
       "      <td>1</td>\n",
       "      <td>0</td>\n",
       "      <td>0</td>\n",
       "    </tr>\n",
       "    <tr>\n",
       "      <th>30</th>\n",
       "      <td>13</td>\n",
       "      <td>3.0</td>\n",
       "      <td>0</td>\n",
       "      <td>0</td>\n",
       "      <td>0</td>\n",
       "      <td>1</td>\n",
       "      <td>0</td>\n",
       "      <td>1</td>\n",
       "      <td>0</td>\n",
       "      <td>0</td>\n",
       "    </tr>\n",
       "    <tr>\n",
       "      <th>31</th>\n",
       "      <td>55</td>\n",
       "      <td>3.0</td>\n",
       "      <td>0</td>\n",
       "      <td>0</td>\n",
       "      <td>0</td>\n",
       "      <td>1</td>\n",
       "      <td>0</td>\n",
       "      <td>1</td>\n",
       "      <td>0</td>\n",
       "      <td>0</td>\n",
       "    </tr>\n",
       "  </tbody>\n",
       "</table>\n",
       "</div>"
      ],
      "text/plain": [
       "    MONTHS  CNT_FAM_MEMBERS  FLAG_OWN_CAR_Y  \\\n",
       "29      39              3.0               0   \n",
       "30      13              3.0               0   \n",
       "31      55              3.0               0   \n",
       "\n",
       "    OCCUPATION_TYPE_High skill tech staff  OCCUPATION_TYPE_Cleaning staff  \\\n",
       "29                                      0                               0   \n",
       "30                                      0                               0   \n",
       "31                                      0                               0   \n",
       "\n",
       "    OCCUPATION_TYPE_Managers  NAME_HOUSING_TYPE_Municipal apartment  \\\n",
       "29                         1                                      0   \n",
       "30                         1                                      0   \n",
       "31                         1                                      0   \n",
       "\n",
       "    NAME_HOUSING_TYPE_House / apartment  NAME_EDUCATION_TYPE_Lower secondary  \\\n",
       "29                                    1                                    0   \n",
       "30                                    1                                    0   \n",
       "31                                    1                                    0   \n",
       "\n",
       "    OCCUPATION_TYPE_Secretaries  \n",
       "29                            0  \n",
       "30                            0  \n",
       "31                            0  "
      ]
     },
     "execution_count": 131,
     "metadata": {},
     "output_type": "execute_result"
    }
   ],
   "source": [
    "# Genero el vector de columnas\n",
    "columns = ['MONTHS', \n",
    "           'CNT_FAM_MEMBERS', \n",
    "           'FLAG_OWN_CAR_Y', \n",
    "           'OCCUPATION_TYPE_High skill tech staff', \n",
    "           'OCCUPATION_TYPE_Cleaning staff', \n",
    "           'OCCUPATION_TYPE_Managers', \n",
    "           'NAME_HOUSING_TYPE_Municipal apartment', \n",
    "           'NAME_HOUSING_TYPE_House / apartment', \n",
    "           'NAME_EDUCATION_TYPE_Lower secondary', \n",
    "           'OCCUPATION_TYPE_Secretaries']\n",
    "\n",
    "X[columns].head(3)"
   ]
  },
  {
   "cell_type": "code",
   "execution_count": 132,
   "id": "9778bed1",
   "metadata": {},
   "outputs": [
    {
     "data": {
      "text/html": [
       "<div>\n",
       "<style scoped>\n",
       "    .dataframe tbody tr th:only-of-type {\n",
       "        vertical-align: middle;\n",
       "    }\n",
       "\n",
       "    .dataframe tbody tr th {\n",
       "        vertical-align: top;\n",
       "    }\n",
       "\n",
       "    .dataframe thead th {\n",
       "        text-align: right;\n",
       "    }\n",
       "</style>\n",
       "<table border=\"1\" class=\"dataframe\">\n",
       "  <thead>\n",
       "    <tr style=\"text-align: right;\">\n",
       "      <th></th>\n",
       "      <th>MONTHS</th>\n",
       "      <th>CNT_FAM_MEMBERS</th>\n",
       "      <th>FLAG_OWN_CAR_Y</th>\n",
       "      <th>OCCUPATION_TYPE_High skill tech staff</th>\n",
       "      <th>OCCUPATION_TYPE_Cleaning staff</th>\n",
       "      <th>OCCUPATION_TYPE_Managers</th>\n",
       "      <th>NAME_HOUSING_TYPE_Municipal apartment</th>\n",
       "      <th>NAME_HOUSING_TYPE_House / apartment</th>\n",
       "      <th>NAME_EDUCATION_TYPE_Lower secondary</th>\n",
       "      <th>OCCUPATION_TYPE_Secretaries</th>\n",
       "    </tr>\n",
       "  </thead>\n",
       "  <tbody>\n",
       "    <tr>\n",
       "      <th>29</th>\n",
       "      <td>39</td>\n",
       "      <td>3.0</td>\n",
       "      <td>0</td>\n",
       "      <td>0</td>\n",
       "      <td>0</td>\n",
       "      <td>1</td>\n",
       "      <td>0</td>\n",
       "      <td>1</td>\n",
       "      <td>0</td>\n",
       "      <td>0</td>\n",
       "    </tr>\n",
       "    <tr>\n",
       "      <th>30</th>\n",
       "      <td>13</td>\n",
       "      <td>3.0</td>\n",
       "      <td>0</td>\n",
       "      <td>0</td>\n",
       "      <td>0</td>\n",
       "      <td>1</td>\n",
       "      <td>0</td>\n",
       "      <td>1</td>\n",
       "      <td>0</td>\n",
       "      <td>0</td>\n",
       "    </tr>\n",
       "    <tr>\n",
       "      <th>31</th>\n",
       "      <td>55</td>\n",
       "      <td>3.0</td>\n",
       "      <td>0</td>\n",
       "      <td>0</td>\n",
       "      <td>0</td>\n",
       "      <td>1</td>\n",
       "      <td>0</td>\n",
       "      <td>1</td>\n",
       "      <td>0</td>\n",
       "      <td>0</td>\n",
       "    </tr>\n",
       "  </tbody>\n",
       "</table>\n",
       "</div>"
      ],
      "text/plain": [
       "    MONTHS  CNT_FAM_MEMBERS  FLAG_OWN_CAR_Y  \\\n",
       "29      39              3.0               0   \n",
       "30      13              3.0               0   \n",
       "31      55              3.0               0   \n",
       "\n",
       "    OCCUPATION_TYPE_High skill tech staff  OCCUPATION_TYPE_Cleaning staff  \\\n",
       "29                                      0                               0   \n",
       "30                                      0                               0   \n",
       "31                                      0                               0   \n",
       "\n",
       "    OCCUPATION_TYPE_Managers  NAME_HOUSING_TYPE_Municipal apartment  \\\n",
       "29                         1                                      0   \n",
       "30                         1                                      0   \n",
       "31                         1                                      0   \n",
       "\n",
       "    NAME_HOUSING_TYPE_House / apartment  NAME_EDUCATION_TYPE_Lower secondary  \\\n",
       "29                                    1                                    0   \n",
       "30                                    1                                    0   \n",
       "31                                    1                                    0   \n",
       "\n",
       "    OCCUPATION_TYPE_Secretaries  \n",
       "29                            0  \n",
       "30                            0  \n",
       "31                            0  "
      ]
     },
     "execution_count": 132,
     "metadata": {},
     "output_type": "execute_result"
    }
   ],
   "source": [
    "# Creamos una clase para seleccionar las columnas y transformarlas\n",
    "\n",
    "class Selector(BaseEstimator, TransformerMixin):\n",
    "    \n",
    "    def __init__(self, selection):\n",
    "        self.selection = selection\n",
    "    \n",
    "    def fit(self, x, y = None):\n",
    "        return self\n",
    "    \n",
    "    def transform(self, x, y = None):\n",
    "        return x[self.selection]\n",
    "    \n",
    "selector = Selector(columns)\n",
    "selector.fit_transform(df_dummies).head(3)"
   ]
  },
  {
   "cell_type": "code",
   "execution_count": 133,
   "id": "d4c7da47",
   "metadata": {},
   "outputs": [],
   "source": [
    "# Creamos los pasos del pipeline e instanciamos.\n",
    "\n",
    "steps = [('Feature_Engineering', selector), \n",
    "        ('Pre_Processing', StandardScaler()), \n",
    "        ('Modeling', knn)]\n",
    "\n",
    "pipeline = Pipeline(steps)"
   ]
  },
  {
   "cell_type": "markdown",
   "id": "1eb6ad23",
   "metadata": {},
   "source": []
  },
  {
   "cell_type": "markdown",
   "id": "4ba52ef5",
   "metadata": {},
   "source": [
    "Ahora, haremos uso del poder combinado de **Pipeline** y **GridSearch** para buscar la mejor combinación de herramientas a utilizar al momento del modelaje. Esto se refiere tanto a herramientas de prepocesamiento como a hiperparametros del Modelo de Clasificación utilizado."
   ]
  },
  {
   "cell_type": "markdown",
   "id": "48247c76",
   "metadata": {},
   "source": [
    "#### 4.3.2 - Elección de Hiperparámetros"
   ]
  },
  {
   "cell_type": "markdown",
   "id": "d50dfcfc",
   "metadata": {},
   "source": [
    "##### KNN"
   ]
  },
  {
   "cell_type": "code",
   "execution_count": 134,
   "id": "42068490",
   "metadata": {},
   "outputs": [
    {
     "data": {
      "text/plain": [
       "GridSearchCV(cv=StratifiedKFold(n_splits=5, random_state=1, shuffle=True),\n",
       "             estimator=Pipeline(steps=[('Feature_Engineering',\n",
       "                                        Selector(selection=['MONTHS',\n",
       "                                                            'CNT_FAM_MEMBERS',\n",
       "                                                            'FLAG_OWN_CAR_Y',\n",
       "                                                            'OCCUPATION_TYPE_High '\n",
       "                                                            'skill tech staff',\n",
       "                                                            'OCCUPATION_TYPE_Cleaning '\n",
       "                                                            'staff',\n",
       "                                                            'OCCUPATION_TYPE_Managers',\n",
       "                                                            'NAME_HOUSING_TYPE_Municipal '\n",
       "                                                            'apartment',\n",
       "                                                            'NAME_HOUSING_TYPE_House...\n",
       "                                                                      'NAME_HOUSING_TYPE_Municipal '\n",
       "                                                                      'apartment',\n",
       "                                                                      'NAME_HOUSING_TYPE_House '\n",
       "                                                                      '/ '\n",
       "                                                                      'apartment',\n",
       "                                                                      'NAME_EDUCATION_TYPE_Lower '\n",
       "                                                                      'secondary',\n",
       "                                                                      'OCCUPATION_TYPE_Secretaries']),\n",
       "                                                  None],\n",
       "                          'Modeling': [KNeighborsClassifier(n_neighbors=16,\n",
       "                                                            weights='distance')],\n",
       "                          'Modeling__n_neighbors': range(2, 20, 2),\n",
       "                          'Modeling__weights': ['uniform', 'distance'],\n",
       "                          'Pre_Processing': [MinMaxScaler(), StandardScaler(),\n",
       "                                             None]}])"
      ]
     },
     "execution_count": 134,
     "metadata": {},
     "output_type": "execute_result"
    }
   ],
   "source": [
    "cv = StratifiedKFold(n_splits = 5, random_state = 1, shuffle = True)\n",
    "\n",
    "param_grid = [{'Feature_Engineering': [selector, None], \n",
    "               'Pre_Processing': [MinMaxScaler(), StandardScaler(), None], \n",
    "               'Modeling': [knn], \n",
    "               'Modeling__n_neighbors': range(2, 20, 2), \n",
    "               'Modeling__weights': ['uniform','distance']}]\n",
    "\n",
    "grid_search = GridSearchCV(pipeline, param_grid, cv = cv)\n",
    "\n",
    "grid_search.fit(X_train, y_train)"
   ]
  },
  {
   "cell_type": "code",
   "execution_count": 135,
   "id": "ed4fea4e",
   "metadata": {},
   "outputs": [
    {
     "name": "stdout",
     "output_type": "stream",
     "text": [
      "\u001b[1mBest Estimator:\u001b[0m Pipeline(steps=[('Feature_Engineering', None),\n",
      "                ('Pre_Processing', MinMaxScaler()),\n",
      "                ('Modeling',\n",
      "                 KNeighborsClassifier(n_neighbors=16, weights='distance'))]) \n",
      "\n",
      "\u001b[1mBest Parameters:\u001b[0m {'Feature_Engineering': None, 'Modeling': KNeighborsClassifier(n_neighbors=16, weights='distance'), 'Modeling__n_neighbors': 16, 'Modeling__weights': 'distance', 'Pre_Processing': MinMaxScaler()} \n",
      "\n",
      "\u001b[1mTraining Performance:\u001b[0m 87.77% \n",
      "\n",
      "\u001b[1mTesting Performance:\u001b[0m 87.84%\n"
     ]
    }
   ],
   "source": [
    "print(f'\\033[1mBest Estimator:\\033[0m {grid_search.best_estimator_} \\n')\n",
    "print(f'\\033[1mBest Parameters:\\033[0m {grid_search.best_params_} \\n')\n",
    "print(f'\\033[1mTraining Performance:\\033[0m {grid_search.best_score_:.2%} \\n')\n",
    "print(f'\\033[1mTesting Performance:\\033[0m {grid_search.best_estimator_.score(X_test, y_test):.2%}')"
   ]
  },
  {
   "cell_type": "markdown",
   "id": "817ac202",
   "metadata": {},
   "source": []
  },
  {
   "cell_type": "markdown",
   "id": "95bb39c1",
   "metadata": {},
   "source": [
    "##### Árbol de Decisión"
   ]
  },
  {
   "cell_type": "code",
   "execution_count": 136,
   "id": "8a7981c5",
   "metadata": {},
   "outputs": [
    {
     "data": {
      "text/plain": [
       "GridSearchCV(cv=StratifiedKFold(n_splits=5, random_state=1, shuffle=True),\n",
       "             estimator=Pipeline(steps=[('Feature_Engineering',\n",
       "                                        Selector(selection=['MONTHS',\n",
       "                                                            'CNT_FAM_MEMBERS',\n",
       "                                                            'FLAG_OWN_CAR_Y',\n",
       "                                                            'OCCUPATION_TYPE_High '\n",
       "                                                            'skill tech staff',\n",
       "                                                            'OCCUPATION_TYPE_Cleaning '\n",
       "                                                            'staff',\n",
       "                                                            'OCCUPATION_TYPE_Managers',\n",
       "                                                            'NAME_HOUSING_TYPE_Municipal '\n",
       "                                                            'apartment',\n",
       "                                                            'NAME_HOUSING_TYPE_House...\n",
       "                                                                      'OCCUPATION_TYPE_Managers',\n",
       "                                                                      'NAME_HOUSING_TYPE_Municipal '\n",
       "                                                                      'apartment',\n",
       "                                                                      'NAME_HOUSING_TYPE_House '\n",
       "                                                                      '/ '\n",
       "                                                                      'apartment',\n",
       "                                                                      'NAME_EDUCATION_TYPE_Lower '\n",
       "                                                                      'secondary',\n",
       "                                                                      'OCCUPATION_TYPE_Secretaries']),\n",
       "                                                  None],\n",
       "                          'Modeling': [DecisionTreeClassifier(max_depth=1)],\n",
       "                          'Modeling__criterion': ['gini', 'entropy'],\n",
       "                          'Modeling__max_depth': range(1, 20, 2),\n",
       "                          'Pre_Processing': [MinMaxScaler(), StandardScaler(),\n",
       "                                             None]}])"
      ]
     },
     "execution_count": 136,
     "metadata": {},
     "output_type": "execute_result"
    }
   ],
   "source": [
    "cv = StratifiedKFold(n_splits = 5, random_state = 1, shuffle = True)\n",
    "\n",
    "param_grid = [{'Feature_Engineering': [selector, None], \n",
    "               'Pre_Processing': [MinMaxScaler(), StandardScaler(), None], \n",
    "               'Modeling': [decision_tree], \n",
    "               'Modeling__criterion': ['gini', 'entropy'], \n",
    "               'Modeling__max_depth': range(1, 20, 2)}]\n",
    "\n",
    "grid_search = GridSearchCV(pipeline, param_grid, cv = cv)\n",
    "\n",
    "grid_search.fit(X_train, y_train)"
   ]
  },
  {
   "cell_type": "code",
   "execution_count": 137,
   "id": "9091539b",
   "metadata": {},
   "outputs": [
    {
     "name": "stdout",
     "output_type": "stream",
     "text": [
      "\u001b[1mBest Estimator:\u001b[0m Pipeline(steps=[('Feature_Engineering',\n",
      "                 Selector(selection=['MONTHS', 'CNT_FAM_MEMBERS',\n",
      "                                     'FLAG_OWN_CAR_Y',\n",
      "                                     'OCCUPATION_TYPE_High skill tech staff',\n",
      "                                     'OCCUPATION_TYPE_Cleaning staff',\n",
      "                                     'OCCUPATION_TYPE_Managers',\n",
      "                                     'NAME_HOUSING_TYPE_Municipal apartment',\n",
      "                                     'NAME_HOUSING_TYPE_House / apartment',\n",
      "                                     'NAME_EDUCATION_TYPE_Lower secondary',\n",
      "                                     'OCCUPATION_TYPE_Secretaries'])),\n",
      "                ('Pre_Processing', MinMaxScaler()),\n",
      "                ('Modeling', DecisionTreeClassifier(max_depth=1))]) \n",
      "\n",
      "\u001b[1mBest Parameters:\u001b[0m {'Feature_Engineering': Selector(selection=['MONTHS', 'CNT_FAM_MEMBERS', 'FLAG_OWN_CAR_Y',\n",
      "                    'OCCUPATION_TYPE_High skill tech staff',\n",
      "                    'OCCUPATION_TYPE_Cleaning staff',\n",
      "                    'OCCUPATION_TYPE_Managers',\n",
      "                    'NAME_HOUSING_TYPE_Municipal apartment',\n",
      "                    'NAME_HOUSING_TYPE_House / apartment',\n",
      "                    'NAME_EDUCATION_TYPE_Lower secondary',\n",
      "                    'OCCUPATION_TYPE_Secretaries']), 'Modeling': DecisionTreeClassifier(max_depth=1), 'Modeling__criterion': 'gini', 'Modeling__max_depth': 1, 'Pre_Processing': MinMaxScaler()} \n",
      "\n",
      "\u001b[1mTraining Performance:\u001b[0m 87.32% \n",
      "\n",
      "\u001b[1mTesting Performance:\u001b[0m 88.30%\n"
     ]
    }
   ],
   "source": [
    "print(f'\\033[1mBest Estimator:\\033[0m {grid_search.best_estimator_} \\n')\n",
    "print(f'\\033[1mBest Parameters:\\033[0m {grid_search.best_params_} \\n')\n",
    "print(f'\\033[1mTraining Performance:\\033[0m {grid_search.best_score_:.2%} \\n')\n",
    "print(f'\\033[1mTesting Performance:\\033[0m {grid_search.best_estimator_.score(X_test, y_test):.2%}')"
   ]
  },
  {
   "cell_type": "markdown",
   "id": "577cd21c",
   "metadata": {},
   "source": []
  },
  {
   "cell_type": "markdown",
   "id": "a542dd01",
   "metadata": {},
   "source": [
    "#### 4.3.3 - Elección del Mejor Modelo de Clasificación"
   ]
  },
  {
   "cell_type": "markdown",
   "id": "b9068413",
   "metadata": {},
   "source": [
    "Tambien podemos hacer uso de **Pipeline** y **GridSearch** para buscar el Modelo de Clasificación o la combinacion de Modelos de Clasificación que tenga mayor capacidad de predicion dentro del problema de negocio elegido."
   ]
  },
  {
   "cell_type": "code",
   "execution_count": 138,
   "id": "5120ca2c",
   "metadata": {},
   "outputs": [
    {
     "data": {
      "text/plain": [
       "GridSearchCV(cv=StratifiedKFold(n_splits=5, random_state=1, shuffle=True),\n",
       "             estimator=Pipeline(steps=[('Feature_Engineering',\n",
       "                                        Selector(selection=['MONTHS',\n",
       "                                                            'CNT_FAM_MEMBERS',\n",
       "                                                            'FLAG_OWN_CAR_Y',\n",
       "                                                            'OCCUPATION_TYPE_High '\n",
       "                                                            'skill tech staff',\n",
       "                                                            'OCCUPATION_TYPE_Cleaning '\n",
       "                                                            'staff',\n",
       "                                                            'OCCUPATION_TYPE_Managers',\n",
       "                                                            'NAME_HOUSING_TYPE_Municipal '\n",
       "                                                            'apartment',\n",
       "                                                            'NAME_HOUSING_TYPE_House...\n",
       "                                                                      'OCCUPATION_TYPE_Managers',\n",
       "                                                                      'NAME_HOUSING_TYPE_Municipal '\n",
       "                                                                      'apartment',\n",
       "                                                                      'NAME_HOUSING_TYPE_House '\n",
       "                                                                      '/ '\n",
       "                                                                      'apartment',\n",
       "                                                                      'NAME_EDUCATION_TYPE_Lower '\n",
       "                                                                      'secondary',\n",
       "                                                                      'OCCUPATION_TYPE_Secretaries']),\n",
       "                                                  None],\n",
       "                          'Modeling': [GaussianNB(),\n",
       "                                       KNeighborsClassifier(n_neighbors=16,\n",
       "                                                            weights='distance'),\n",
       "                                       DecisionTreeClassifier(max_depth=1)],\n",
       "                          'Pre_Processing': [MinMaxScaler(), StandardScaler(),\n",
       "                                             None]}])"
      ]
     },
     "execution_count": 138,
     "metadata": {},
     "output_type": "execute_result"
    }
   ],
   "source": [
    "best_knn = KNeighborsClassifier(n_neighbors = 16, weights = 'distance')\n",
    "best_decision_tree = tree.DecisionTreeClassifier(criterion = 'gini', max_depth = 1)\n",
    "\n",
    "cv = StratifiedKFold(n_splits = 5, random_state = 1, shuffle = True)\n",
    "\n",
    "param_grid = [{'Feature_Engineering': [selector, None], \n",
    "               'Pre_Processing': [MinMaxScaler(), StandardScaler(), None], \n",
    "               'Modeling': [gaussian, best_knn, best_decision_tree]}]\n",
    "\n",
    "grid_search = GridSearchCV(pipeline, param_grid, cv = cv)\n",
    "\n",
    "grid_search.fit(X_train, y_train)"
   ]
  },
  {
   "cell_type": "code",
   "execution_count": 139,
   "id": "4fcc84a3",
   "metadata": {},
   "outputs": [
    {
     "name": "stdout",
     "output_type": "stream",
     "text": [
      "\u001b[1mBest Estimator:\u001b[0m Pipeline(steps=[('Feature_Engineering', None),\n",
      "                ('Pre_Processing', MinMaxScaler()),\n",
      "                ('Modeling',\n",
      "                 KNeighborsClassifier(n_neighbors=16, weights='distance'))]) \n",
      "\n",
      "\u001b[1mBest Parameters:\u001b[0m {'Feature_Engineering': None, 'Modeling': KNeighborsClassifier(n_neighbors=16, weights='distance'), 'Pre_Processing': MinMaxScaler()} \n",
      "\n",
      "\u001b[1mTraining Performance:\u001b[0m 87.77% \n",
      "\n",
      "\u001b[1mTesting Performance:\u001b[0m 87.84%\n"
     ]
    }
   ],
   "source": [
    "print(f'\\033[1mBest Estimator:\\033[0m {grid_search.best_estimator_} \\n')\n",
    "print(f'\\033[1mBest Parameters:\\033[0m {grid_search.best_params_} \\n')\n",
    "print(f'\\033[1mTraining Performance:\\033[0m {grid_search.best_score_:.2%} \\n')\n",
    "print(f'\\033[1mTesting Performance:\\033[0m {grid_search.best_estimator_.score(X_test, y_test):.2%}')"
   ]
  },
  {
   "cell_type": "markdown",
   "id": "f976d7bf",
   "metadata": {},
   "source": []
  },
  {
   "cell_type": "markdown",
   "id": "7a920781",
   "metadata": {},
   "source": [
    "<img src=\"img_23_conclusion.jpg\" align='left' width=35%/>"
   ]
  },
  {
   "cell_type": "markdown",
   "id": "eb273e3a",
   "metadata": {},
   "source": [
    "## Sección 5 - Conclusiones Finales\n",
    "---"
   ]
  },
  {
   "cell_type": "markdown",
   "id": "abfc4345",
   "metadata": {},
   "source": [
    "A lo largo de toda esta Notebook, fuimos aplicando varias de las técnicas aprendidas durante el curso para resolver un problema en particular de riesgo crediticio.\n",
    "Comenzmos comprendiendo la estructura de los DataSets (forma, tipo de información, presencia de valores nulos, etc.) con el fin de poder unirlos y realizar un análisis exploratorio inicial.\n",
    "\n",
    "Una vez logrado el DataFrame sobre el cual vamos a trabajar, continuamos aplicando las técnicas de Machine Learning con el fin de poder predecir con un alto nivel de confianza el `STATUS` de los diferentes clientes {0: nunca tuvo deuda | 1: tuvo deuda}. Para realizar estas clasificaciones usamos Modelos de Clasificación tales como: **GaussianNB**, **KNN** y **Decision Tree**. Luego, combinando los 3 Modelos de Clasificación mencionados, comparamos los anteriores resultados contra el **Modelo de Ensamble**. Allí observamos que el Modelo de Ensamble no necesariamente tiene que tener una mejor performance.\n",
    "En este caso, KNN fue el que presentó la mayor capacidad de predicción.\n",
    "\n",
    "Luego armamos un **Pipeline** y entrenamos nuevamente los Modelos de Clasificación: (1) con **Clases Desbalanceadas**, (2) con **Clases Balanceadas**.\n",
    "\n",
    "Entonces, primero corrimos un **Pipeline** para hacer la mejor elección de hiperparámetros para cada uno de los Modelos de Clasificación construidos, arrojando los siguientes resultados:\n",
    "\n",
    "- KNN: Best Parameters: KNeighborsClassifier(n_neighbors=16, weights='distance')\n",
    "    - Training Performance: 87.77% \n",
    "    - Testing Performance: 87.84%**\n",
    "    \n",
    "\n",
    "- Arbol de Decisión: DecisionTreeClassifier(max_depth=1), 'Modeling__criterion': 'gini', 'Modeling__max_depth': 1\n",
    "    - Training Performance: 87.32% \n",
    "    - Testing Performance: 88.30%**\n",
    "    \n",
    "\n",
    "Fianlmente, volvimos a construir los Modelos de Clasificación en funcion de los mejores hiperparametros arrojados por el **Pipeline**. A partir de ello, volvimos a ejecutar el **Pipeline** para obtener aquel Modelo de Clasificación que disponga de la mayor capacidad de predicción.\n",
    "\n",
    "- Best Parameters: {'Feature_Engineering': None, 'Modeling': KNeighborsClassifier(n_neighbors=16, weights='distance'), 'Pre_Processing': MinMaxScaler()} \n",
    "\n",
    "    - Training Performance: 87.77% \n",
    "    - Testing Performance: 87.84%"
   ]
  },
  {
   "cell_type": "code",
   "execution_count": null,
   "id": "1d3a7a30",
   "metadata": {},
   "outputs": [],
   "source": []
  }
 ],
 "metadata": {
  "kernelspec": {
   "display_name": "Python 3 (ipykernel)",
   "language": "python",
   "name": "python3"
  },
  "language_info": {
   "codemirror_mode": {
    "name": "ipython",
    "version": 3
   },
   "file_extension": ".py",
   "mimetype": "text/x-python",
   "name": "python",
   "nbconvert_exporter": "python",
   "pygments_lexer": "ipython3",
   "version": "3.8.11"
  }
 },
 "nbformat": 4,
 "nbformat_minor": 5
}
