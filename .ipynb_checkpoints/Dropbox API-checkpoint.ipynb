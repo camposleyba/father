{
 "cells": [
  {
   "cell_type": "code",
   "execution_count": 15,
   "id": "a8df8c62-b65c-4a59-9f63-24e61fb4421a",
   "metadata": {},
   "outputs": [
    {
     "name": "stdout",
     "output_type": "stream",
     "text": [
      "1. Go to: https://www.dropbox.com/oauth2/authorize?response_type=code&client_id=ngx7pmj915az7b6\n",
      "2. Click \"Allow\" (you might have to log in first).\n",
      "3. Copy the authorization code.\n"
     ]
    },
    {
     "name": "stdin",
     "output_type": "stream",
     "text": [
      "Enter the authorization code here:  UHZL_FzSjaEAAAAAAAAZ3UuaL7_WR4jBRjfy-G6hXHI\n"
     ]
    },
    {
     "name": "stdout",
     "output_type": "stream",
     "text": [
      "Successfully set up client!\n"
     ]
    }
   ],
   "source": [
    "import dropbox\n",
    "from dropbox import DropboxOAuth2FlowNoRedirect\n",
    "\n",
    "'''\n",
    "This example walks through a basic oauth flow using the existing long-lived token type\n",
    "Populate your app key and app secret in order to run this locally\n",
    "'''\n",
    "APP_KEY = \"ngx7pmj915az7b6\"\n",
    "APP_SECRET = \"3h0o8xzqs0mscz1\"\n",
    "\n",
    "auth_flow = DropboxOAuth2FlowNoRedirect(APP_KEY, APP_SECRET)\n",
    "\n",
    "authorize_url = auth_flow.start()\n",
    "print(\"1. Go to: \" + authorize_url)\n",
    "print(\"2. Click \\\"Allow\\\" (you might have to log in first).\")\n",
    "print(\"3. Copy the authorization code.\")\n",
    "auth_code = input(\"Enter the authorization code here: \").strip()\n",
    "\n",
    "try:\n",
    "    oauth_result = auth_flow.finish(auth_code)\n",
    "except Exception as e:\n",
    "    print('Error: %s' % (e,))\n",
    "    exit(1)\n",
    "\n",
    "with dropbox.Dropbox(oauth2_access_token=oauth_result.access_token) as dbx:\n",
    "    dbx.users_get_current_account()\n",
    "    print(\"Successfully set up client!\")"
   ]
  },
  {
   "cell_type": "code",
   "execution_count": 18,
   "id": "8ce7107c-9c36-4cdf-85c4-e6288351b21a",
   "metadata": {},
   "outputs": [],
   "source": [
    "file_from = r\"C:\\Users\\016434613\\Desktop\\test.txt\"  \n",
    "file_to = '/test.txt'     \n",
    "def upload_file(file_from, file_to):\n",
    "    f = open(file_from, 'rb')\n",
    "    dbx.files_upload(f.read(), file_to)\n",
    "upload_file(file_from,file_to)"
   ]
  },
  {
   "cell_type": "code",
   "execution_count": 18,
   "id": "e5a3f85b-9c00-4ed6-b164-d45d0789dc39",
   "metadata": {},
   "outputs": [
    {
     "data": {
      "text/plain": [
       "<RequestsCookieJar[Cookie(version=0, name='locale', value='en', port=None, port_specified=False, domain='.dropbox.com', domain_specified=True, domain_initial_dot=False, path='/', path_specified=True, secure=True, expires=1809617420, discard=False, comment=None, comment_url=None, rest={}, rfc2109=False), Cookie(version=0, name='t', value='s2azkPYXM0HwjdLfl6kSWbWb', port=None, port_specified=False, domain='.dropbox.com', domain_specified=True, domain_initial_dot=False, path='/', path_specified=True, secure=True, expires=1746545420, discard=False, comment=None, comment_url=None, rest={'HttpOnly': None}, rfc2109=False), Cookie(version=0, name='__Host-js_csrf', value='s2azkPYXM0HwjdLfl6kSWbWb', port=None, port_specified=False, domain='www.dropbox.com', domain_specified=False, domain_initial_dot=False, path='/', path_specified=True, secure=True, expires=1746545420, discard=False, comment=None, comment_url=None, rest={}, rfc2109=False), Cookie(version=0, name='gvc', value='MTI3MzMxNzYyMTU5MzEwODA0MzgyOTA0OTE0NTQzMTQ4Mzk2MTcx', port=None, port_specified=False, domain='www.dropbox.com', domain_specified=False, domain_initial_dot=False, path='/', path_specified=True, secure=True, expires=1809617420, discard=False, comment=None, comment_url=None, rest={'HttpOnly': None}, rfc2109=False)]>"
      ]
     },
     "execution_count": 18,
     "metadata": {},
     "output_type": "execute_result"
    }
   ],
   "source": [
    "import dropbox\n",
    "from dropbox import DropboxOAuth2FlowNoRedirect\n",
    "import requests, pickle\n",
    "\n",
    "APP_KEY = \"ngx7pmj915az7b6\"\n",
    "APP_SECRET = \"3h0o8xzqs0mscz1\"\n",
    "\n",
    "auth_flow3 = DropboxOAuth2FlowNoRedirect(APP_KEY,\n",
    "                                         consumer_secret=APP_SECRET,\n",
    "                                         token_access_type='offline')\n",
    "\n",
    "authorize_url = auth_flow3.start()\n",
    "\n",
    "r = requests.get(authorize_url)\n",
    "file = r\"C:\\Users\\016434613\\Desktop\\test_cookie.txt\"\n",
    "with open(file,'wb') as f:\n",
    "    pickle.dump(r.cookies, f)\n",
    "\n",
    "with open(file, 'rb') as f:\n",
    "    al=pickle.load(f)\n",
    "al\n",
    "#r2 = requests.post(authorize_url,cookies=al)\n",
    "#r2#authorize_url\n",
    "#r.read()\n",
    "#print(\"2. Click \\\"Allow\\\" (you might have to log in first).\")\n",
    "#print(\"3. Copy the authorization code.\")\n",
    "#auth_code = input(\"Enter the authorization code here: \").strip()\n",
    "\n",
    "#try:\n",
    "#oauth_result = auth_flow3.finish(request.args)\n",
    "#print(oauth_result)\n",
    "    # Oauth token has all granted user scopes\n",
    "#    assert 'files.metadata.write' in oauth_result.scope\n",
    "#    assert 'files.metadata.read' in oauth_result.scope\n",
    "#    assert 'files.content.read' in oauth_result.scope\n",
    "#    assert 'files.content.write' in oauth_result.scope\n",
    "#    print(oauth_result.scope)  # Printing for example\n",
    "#except Exception as e:\n",
    "#    print('Error: %s' % (e,))\n",
    "#    exit(1)\n",
    "\n",
    "#with dropbox.Dropbox(oauth2_access_token=oauth_result.access_token,\n",
    "#                     oauth2_access_token_expiration=oauth_result.expires_at,\n",
    "#                     oauth2_refresh_token=oauth_result.refresh_token,\n",
    "#                     app_key=APP_KEY,\n",
    "#                     app_secret=APP_SECRET):\n",
    "#    print(\"Successfully set up client!\")"
   ]
  },
  {
   "cell_type": "code",
   "execution_count": 47,
   "id": "a3eba01b-8ef4-4eb4-aa2c-46f7e02bd496",
   "metadata": {},
   "outputs": [
    {
     "name": "stdout",
     "output_type": "stream",
     "text": [
      "Go to the following URL and allow access:\n",
      "https://www.dropbox.com/oauth2/authorize?client_id=ngx7pmj915az7b6&response_type=code\n"
     ]
    },
    {
     "name": "stdin",
     "output_type": "stream",
     "text": [
      "Enter the code: UHZL_FzSjaEAAAAAAAAZ8-dqPUdj2CzaJ-M2OKBKJVo\n"
     ]
    },
    {
     "data": {
      "text/plain": [
       "'sl.BHLJXhOqXlXsQZgr0dq4yBrdfS2dL-xvkzzJQm7nfbHlTMHv0vwc0eIx_QFhKS1rocfdVYaCI4aYdZRoWemx7x3PEPFzlYfpqPf8Pqc1ck6JQFvyWqB9lksQskY_nDsqMxYoFK78Yv1Z'"
      ]
     },
     "execution_count": 47,
     "metadata": {},
     "output_type": "execute_result"
    }
   ],
   "source": [
    "import requests\n",
    "import json\n",
    "\n",
    "app_key = \"ngx7pmj915az7b6\"\n",
    "app_secret = \"3h0o8xzqs0mscz1\"\n",
    "\n",
    "# build the authorization URL:\n",
    "authorization_url = \"https://www.dropbox.com/oauth2/authorize?client_id=%s&response_type=code\" % app_key\n",
    "\n",
    "# send the user to the authorization URL:\n",
    "print('Go to the following URL and allow access:')\n",
    "print(authorization_url)\n",
    "\n",
    "# get the authorization code from the user:\n",
    "authorization_code = input('Enter the code:')\n",
    "\n",
    "# exchange the authorization code for an access token:\n",
    "token_url = \"https://api.dropboxapi.com/oauth2/token\"\n",
    "params = {\n",
    "    \"code\": authorization_code,\n",
    "    \"grant_type\": \"authorization_code\",\n",
    "    \"client_id\": app_key,\n",
    "    \"client_secret\": app_secret\n",
    "}\n",
    "r = requests.post(token_url, data=params)\n",
    "r = r.json()\n",
    "#r = json.loads(r.text)\n",
    "access_token = r['access_token']\n",
    "access_token"
   ]
  },
  {
   "cell_type": "code",
   "execution_count": 28,
   "id": "eff11fb5-f3d7-4ff9-81ab-ccae0aaa0169",
   "metadata": {},
   "outputs": [
    {
     "data": {
      "text/plain": [
       "'sl.BHILUvTLzq3MEJxexytLMLlAXCegoXzIOjoeul0GNBimiflrpVsFO-vuHtpmcNWahsSV4afvOXamc4pJqMi49CN7L6y8ROl-ijosIICSD8j6olnyjTOaslQs2vC_RlSYi1cNnQV7mrSv'"
      ]
     },
     "execution_count": 28,
     "metadata": {},
     "output_type": "execute_result"
    }
   ],
   "source": [
    "import json\n",
    "datos = r.text\n",
    "dictdatos = json.loads(datos)\n",
    "acc = dictdatos['access_token']\n",
    "acc"
   ]
  },
  {
   "cell_type": "code",
   "execution_count": 2,
   "id": "25e873a4-1a84-49e0-9f36-b8f3811537dd",
   "metadata": {},
   "outputs": [
    {
     "name": "stdout",
     "output_type": "stream",
     "text": [
      "https://www.dropbox.com/oauth2/authorize?client_id=ngx7pmj915az7b6&response_type=code&token_access_type=offline\n"
     ]
    },
    {
     "name": "stdin",
     "output_type": "stream",
     "text": [
      "Insert auth code: UHZL_FzSjaEAAAAAAAAZ9xsQCLP66GYhdoxctOpBZKk\n"
     ]
    },
    {
     "name": "stdout",
     "output_type": "stream",
     "text": [
      "Successfully set up client!\n"
     ]
    }
   ],
   "source": [
    "import requests\n",
    "import dropbox\n",
    "\n",
    "app_key = \"ngx7pmj915az7b6\"\n",
    "app_secret = \"3h0o8xzqs0mscz1\"\n",
    "\n",
    "auth_url=\"https://www.dropbox.com/oauth2/authorize\"\n",
    "params={\"client_id\":app_key,\n",
    "        \"response_type\":\"code\",\n",
    "        \"token_access_type\":\"offline\"\n",
    "       }\n",
    "\n",
    "r = requests.get(auth_url, params=params)\n",
    "print(r.url)\n",
    "\n",
    "authorization_code=input('Insert auth code:')\n",
    "\n",
    "token_url = \"https://api.dropboxapi.com/oauth2/token\"\n",
    "\n",
    "params_ = {\n",
    "    \"code\": authorization_code,\n",
    "    \"grant_type\": \"authorization_code\",\n",
    "    \"client_id\": app_key,\n",
    "    \"client_secret\": app_secret\n",
    "}\n",
    "\n",
    "r = requests.post(token_url, data=params_)\n",
    "r = r.json()\n",
    "access_token = r['access_token']\n",
    "\n",
    "with dropbox.Dropbox(oauth2_access_token=access_token) as dbx:\n",
    "    dbx.users_get_current_account()\n",
    "    print(\"Successfully set up client!\")"
   ]
  },
  {
   "cell_type": "code",
   "execution_count": null,
   "id": "1f235353-d0ad-4f59-8a02-fac0cc099a9b",
   "metadata": {},
   "outputs": [],
   "source": []
  }
 ],
 "metadata": {
  "kernelspec": {
   "display_name": "Python 3 (ipykernel)",
   "language": "python",
   "name": "python3"
  },
  "language_info": {
   "codemirror_mode": {
    "name": "ipython",
    "version": 3
   },
   "file_extension": ".py",
   "mimetype": "text/x-python",
   "name": "python",
   "nbconvert_exporter": "python",
   "pygments_lexer": "ipython3",
   "version": "3.9.7"
  }
 },
 "nbformat": 4,
 "nbformat_minor": 5
}
