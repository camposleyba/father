{
 "cells": [
  {
   "cell_type": "code",
   "execution_count": 15,
   "id": "a8df8c62-b65c-4a59-9f63-24e61fb4421a",
   "metadata": {},
   "outputs": [
    {
     "name": "stdout",
     "output_type": "stream",
     "text": [
      "1. Go to: https://www.dropbox.com/oauth2/authorize?response_type=code&client_id=ngx7pmj915az7b6\n",
      "2. Click \"Allow\" (you might have to log in first).\n",
      "3. Copy the authorization code.\n"
     ]
    },
    {
     "name": "stdin",
     "output_type": "stream",
     "text": [
      "Enter the authorization code here:  UHZL_FzSjaEAAAAAAAAZ3UuaL7_WR4jBRjfy-G6hXHI\n"
     ]
    },
    {
     "name": "stdout",
     "output_type": "stream",
     "text": [
      "Successfully set up client!\n"
     ]
    }
   ],
   "source": [
    "import dropbox\n",
    "from dropbox import DropboxOAuth2FlowNoRedirect\n",
    "\n",
    "'''\n",
    "This example walks through a basic oauth flow using the existing long-lived token type\n",
    "Populate your app key and app secret in order to run this locally\n",
    "'''\n",
    "APP_KEY = \"ngx7pmj915az7b6\"\n",
    "APP_SECRET = \"3h0o8xzqs0mscz1\"\n",
    "\n",
    "auth_flow = DropboxOAuth2FlowNoRedirect(APP_KEY, APP_SECRET)\n",
    "\n",
    "authorize_url = auth_flow.start()\n",
    "print(\"1. Go to: \" + authorize_url)\n",
    "print(\"2. Click \\\"Allow\\\" (you might have to log in first).\")\n",
    "print(\"3. Copy the authorization code.\")\n",
    "auth_code = input(\"Enter the authorization code here: \").strip()\n",
    "\n",
    "try:\n",
    "    oauth_result = auth_flow.finish(auth_code)\n",
    "except Exception as e:\n",
    "    print('Error: %s' % (e,))\n",
    "    exit(1)\n",
    "\n",
    "with dropbox.Dropbox(oauth2_access_token=oauth_result.access_token) as dbx:\n",
    "    dbx.users_get_current_account()\n",
    "    print(\"Successfully set up client!\")"
   ]
  },
  {
   "cell_type": "code",
   "execution_count": 18,
   "id": "8ce7107c-9c36-4cdf-85c4-e6288351b21a",
   "metadata": {},
   "outputs": [],
   "source": [
    "file_from = r\"C:\\Users\\016434613\\Desktop\\test.txt\"  \n",
    "file_to = '/test.txt'     \n",
    "def upload_file(file_from, file_to):\n",
    "    f = open(file_from, 'rb')\n",
    "    dbx.files_upload(f.read(), file_to)\n",
    "upload_file(file_from,file_to)"
   ]
  },
  {
   "cell_type": "code",
   "execution_count": 6,
   "id": "e5a3f85b-9c00-4ed6-b164-d45d0789dc39",
   "metadata": {},
   "outputs": [
    {
     "name": "stdout",
     "output_type": "stream",
     "text": [
      "{'APP_KEY': 'ngx7pmj915az7b6', 'APP_SECRET': '3h0o8xzqs0mscz1', 'scope': ['files.content.read', 'files.content.write'], 'oauth2_refresh_token': 'umL4MHr08g4AAAAAAAAAAaqByVBeHag_oxZLTbB7P_Cb_XQkfUTOLcHjqC73hBst'}\n",
      "Successfully set up client!\n"
     ]
    }
   ],
   "source": [
    "import dropbox\n",
    "from dropbox import DropboxOAuth2FlowNoRedirect\n",
    "import requests, pickle\n",
    "import webbrowser\n",
    "import os.path\n",
    "\n",
    "\n",
    "exists = os.path.exists(\"credentials\")\n",
    "if exists:\n",
    "    with open(\"credentials\", \"rb\") as f:\n",
    "        dict_ = pickle.load(f)\n",
    "\n",
    "else:\n",
    "    auth_flow3 = DropboxOAuth2FlowNoRedirect(APP_KEY,\n",
    "                                             consumer_secret=APP_SECRET,\n",
    "                                             token_access_type='offline',\n",
    "                                             scope=['files.content.read', 'files.content.write'])\n",
    "\n",
    "    authorize_url = auth_flow3.start()\n",
    "\n",
    "\n",
    "    webbrowser.open(authorize_url)\n",
    "    auth_code = input(\"Enter the authorization code here: \").strip()\n",
    "\n",
    "    try:\n",
    "        oauth_result = auth_flow3.finish(auth_code)\n",
    "        print(oauth_result)\n",
    "        # Oauth token has all granted user scopes\n",
    "        assert 'files.metadata.write' in oauth_result.scope\n",
    "        assert 'files.metadata.read' in oauth_result.scope\n",
    "        assert 'files.content.read' in oauth_result.scope\n",
    "        assert 'files.content.write' in oauth_result.scope\n",
    "        print(oauth_result.scope)  # Printing for example\n",
    "    except Exception as e:\n",
    "        print('Error: %s' % (e,))\n",
    "        exit(1)\n",
    "    \n",
    "    with open(\"credentials\", \"rb\") as f:\n",
    "        dict_ = pickle.load(f)\n",
    "\n",
    "    scope=['files.content.read', 'files.content.write']      \n",
    "    credentials = {\n",
    "\n",
    "       \"APP_KEY\":dict_['APP_KEY']\n",
    "       \"APP_SECRET\":dict_['APP_SECRET']\n",
    "       \"scope\":scope,\n",
    "       \"oauth2_refresh_token\":oauth_result.refresh_token\n",
    "\n",
    "\n",
    "    }\n",
    "\n",
    "    with open(\"credentials\", \"wb\") as f:\n",
    "        pickle.dump(credentials, f)\n",
    "\n",
    "\n",
    "\n",
    "with dropbox.Dropbox(oauth2_refresh_token=dict_['oauth2_refresh_token'],\n",
    "                     app_key=dict_['APP_KEY'],\n",
    "                     app_secret=dict_['APP_SECRET']):\n",
    "    print(\"Successfully set up client!\")"
   ]
  },
  {
   "cell_type": "code",
   "execution_count": 47,
   "id": "a3eba01b-8ef4-4eb4-aa2c-46f7e02bd496",
   "metadata": {},
   "outputs": [
    {
     "name": "stdout",
     "output_type": "stream",
     "text": [
      "Go to the following URL and allow access:\n",
      "https://www.dropbox.com/oauth2/authorize?client_id=ngx7pmj915az7b6&response_type=code\n"
     ]
    },
    {
     "name": "stdin",
     "output_type": "stream",
     "text": [
      "Enter the code: UHZL_FzSjaEAAAAAAAAZ8-dqPUdj2CzaJ-M2OKBKJVo\n"
     ]
    },
    {
     "data": {
      "text/plain": [
       "'sl.BHLJXhOqXlXsQZgr0dq4yBrdfS2dL-xvkzzJQm7nfbHlTMHv0vwc0eIx_QFhKS1rocfdVYaCI4aYdZRoWemx7x3PEPFzlYfpqPf8Pqc1ck6JQFvyWqB9lksQskY_nDsqMxYoFK78Yv1Z'"
      ]
     },
     "execution_count": 47,
     "metadata": {},
     "output_type": "execute_result"
    }
   ],
   "source": [
    "import requests\n",
    "import json\n",
    "\n",
    "app_key = \"ngx7pmj915az7b6\"\n",
    "app_secret = \"3h0o8xzqs0mscz1\"\n",
    "\n",
    "# build the authorization URL:\n",
    "authorization_url = \"https://www.dropbox.com/oauth2/authorize?client_id=%s&response_type=code\" % app_key\n",
    "\n",
    "# send the user to the authorization URL:\n",
    "print('Go to the following URL and allow access:')\n",
    "print(authorization_url)\n",
    "\n",
    "# get the authorization code from the user:\n",
    "authorization_code = input('Enter the code:')\n",
    "\n",
    "# exchange the authorization code for an access token:\n",
    "token_url = \"https://api.dropboxapi.com/oauth2/token\"\n",
    "params = {\n",
    "    \"code\": authorization_code,\n",
    "    \"grant_type\": \"authorization_code\",\n",
    "    \"client_id\": app_key,\n",
    "    \"client_secret\": app_secret\n",
    "}\n",
    "r = requests.post(token_url, data=params)\n",
    "r = r.json()\n",
    "#r = json.loads(r.text)\n",
    "access_token = r['access_token']\n",
    "access_token"
   ]
  },
  {
   "cell_type": "code",
   "execution_count": 28,
   "id": "eff11fb5-f3d7-4ff9-81ab-ccae0aaa0169",
   "metadata": {},
   "outputs": [
    {
     "data": {
      "text/plain": [
       "'sl.BHILUvTLzq3MEJxexytLMLlAXCegoXzIOjoeul0GNBimiflrpVsFO-vuHtpmcNWahsSV4afvOXamc4pJqMi49CN7L6y8ROl-ijosIICSD8j6olnyjTOaslQs2vC_RlSYi1cNnQV7mrSv'"
      ]
     },
     "execution_count": 28,
     "metadata": {},
     "output_type": "execute_result"
    }
   ],
   "source": [
    "import json\n",
    "datos = r.text\n",
    "dictdatos = json.loads(datos)\n",
    "acc = dictdatos['access_token']\n",
    "acc"
   ]
  },
  {
   "cell_type": "code",
   "execution_count": 18,
   "id": "25e873a4-1a84-49e0-9f36-b8f3811537dd",
   "metadata": {},
   "outputs": [
    {
     "name": "stdin",
     "output_type": "stream",
     "text": [
      "Input redirected URL: https://localhost:8000/#access_token=sl.BHNI-a289qXuw7udvsp0C1FKpvK1uIAJ3RbEGOp1W-8uO1y8RnRCqUcOGTzYn4HBYHl2PA4cWKAFnL9PR1GXv3D8EDDvFON2JVj20qFCs5B_C7o95uxnB0uQQyf-PwKZp3uyiw0N5DS5&token_type=bearer&expires_in=14399&scope=account_info.read+account_info.write+contacts.read+contacts.write+file_requests.read+file_requests.write+files.content.read+files.content.write+files.metadata.read+files.metadata.write+sharing.read+sharing.write&uid=170420263&account_id=dbid%3AAACy2FWmIcWPHJTfKacmR4GYv0dCsIQoF0I\n"
     ]
    },
    {
     "data": {
      "text/plain": [
       "'sl.BHNI-a289qXuw7udvsp0C1FKpvK1uIAJ3RbEGOp1W-8uO1y8RnRCqUcOGTzYn4HBYHl2PA4cWKAFnL9PR1GXv3D8EDDvFON2JVj20qFCs5B_C7o95uxnB0uQQyf-PwKZp3uyiw0N5DS5'"
      ]
     },
     "execution_count": 18,
     "metadata": {},
     "output_type": "execute_result"
    }
   ],
   "source": [
    "import requests\n",
    "import webbrowser\n",
    "import re\n",
    "\n",
    "\n",
    "app_key = \"ngx7pmj915az7b6\"\n",
    "app_secret = \"3h0o8xzqs0mscz1\"\n",
    "redirect_uri=\"https://localhost:8000\"\n",
    "auth_url=\"https://www.dropbox.com/oauth2/authorize\"\n",
    "\n",
    "params={\"client_id\":app_key,\n",
    "        \"response_type\":\"token\",\n",
    "        \"redirect_uri\":redirect_uri\n",
    "       }\n",
    "\n",
    "r = requests.get(auth_url, params=params)\n",
    "a = webbrowser.open(r.url)\n",
    "\n",
    "x = input(\"Input redirected URL:\")\n",
    "\n",
    "ifile = r\"C:\\Users\\016434613\\Desktop\\re_url.txt\"\n",
    "with open(ifile,\"w\") as f:\n",
    "    f.write(x)\n",
    "with open(ifile, \"r\") as f:\n",
    "    z = f.readline().strip()\n",
    "z_ = re.search(r\"access_token=\",z)\n",
    "z_1 = re.search(r\"&token_type=\",z)\n",
    "access_token = z[z_.span()[1]:z_1.span()[0]]\n",
    "access_token"
   ]
  },
  {
   "cell_type": "code",
   "execution_count": 14,
   "id": "1f235353-d0ad-4f59-8a02-fac0cc099a9b",
   "metadata": {},
   "outputs": [
    {
     "data": {
      "text/plain": [
       "['http://localhost:8000/']"
      ]
     },
     "execution_count": 14,
     "metadata": {},
     "output_type": "execute_result"
    }
   ],
   "source": [
    "a"
   ]
  },
  {
   "cell_type": "code",
   "execution_count": 41,
   "id": "2d9da2bd-bd9d-47a0-880e-599c842859e9",
   "metadata": {},
   "outputs": [
    {
     "ename": "AttributeError",
     "evalue": "'str' object has no attribute 'url'",
     "output_type": "error",
     "traceback": [
      "\u001b[1;31m---------------------------------------------------------------------------\u001b[0m",
      "\u001b[1;31mAttributeError\u001b[0m                            Traceback (most recent call last)",
      "\u001b[1;32mC:\\Users\\016434~1\\AppData\\Local\\Temp/ipykernel_20716/589548438.py\u001b[0m in \u001b[0;36m<module>\u001b[1;34m\u001b[0m\n\u001b[0;32m     16\u001b[0m \u001b[0mr\u001b[0m \u001b[1;33m=\u001b[0m \u001b[0mrequests\u001b[0m\u001b[1;33m.\u001b[0m\u001b[0mget\u001b[0m\u001b[1;33m(\u001b[0m\u001b[0mauth_url\u001b[0m\u001b[1;33m,\u001b[0m \u001b[0mparams\u001b[0m\u001b[1;33m=\u001b[0m\u001b[0mparams\u001b[0m\u001b[1;33m)\u001b[0m\u001b[1;33m\u001b[0m\u001b[1;33m\u001b[0m\u001b[0m\n\u001b[0;32m     17\u001b[0m \u001b[0murl\u001b[0m \u001b[1;33m=\u001b[0m \u001b[0mr\u001b[0m\u001b[1;33m.\u001b[0m\u001b[0murl\u001b[0m\u001b[1;33m\u001b[0m\u001b[1;33m\u001b[0m\u001b[0m\n\u001b[1;32m---> 18\u001b[1;33m \u001b[0mr\u001b[0m\u001b[1;33m.\u001b[0m\u001b[0mconnection\u001b[0m\u001b[1;33m.\u001b[0m\u001b[0mrequest_url\u001b[0m\u001b[1;33m(\u001b[0m\u001b[0murl\u001b[0m\u001b[1;33m,\u001b[0m\u001b[1;34m''\u001b[0m\u001b[1;33m)\u001b[0m\u001b[1;33m\u001b[0m\u001b[1;33m\u001b[0m\u001b[0m\n\u001b[0m",
      "\u001b[1;32m~\\Python39\\lib\\site-packages\\requests\\adapters.py\u001b[0m in \u001b[0;36mrequest_url\u001b[1;34m(self, request, proxies)\u001b[0m\n\u001b[0;32m    341\u001b[0m         \u001b[1;33m:\u001b[0m\u001b[0mrtype\u001b[0m\u001b[1;33m:\u001b[0m \u001b[0mstr\u001b[0m\u001b[1;33m\u001b[0m\u001b[1;33m\u001b[0m\u001b[0m\n\u001b[0;32m    342\u001b[0m         \"\"\"\n\u001b[1;32m--> 343\u001b[1;33m         \u001b[0mproxy\u001b[0m \u001b[1;33m=\u001b[0m \u001b[0mselect_proxy\u001b[0m\u001b[1;33m(\u001b[0m\u001b[0mrequest\u001b[0m\u001b[1;33m.\u001b[0m\u001b[0murl\u001b[0m\u001b[1;33m,\u001b[0m \u001b[0mproxies\u001b[0m\u001b[1;33m)\u001b[0m\u001b[1;33m\u001b[0m\u001b[1;33m\u001b[0m\u001b[0m\n\u001b[0m\u001b[0;32m    344\u001b[0m         \u001b[0mscheme\u001b[0m \u001b[1;33m=\u001b[0m \u001b[0murlparse\u001b[0m\u001b[1;33m(\u001b[0m\u001b[0mrequest\u001b[0m\u001b[1;33m.\u001b[0m\u001b[0murl\u001b[0m\u001b[1;33m)\u001b[0m\u001b[1;33m.\u001b[0m\u001b[0mscheme\u001b[0m\u001b[1;33m\u001b[0m\u001b[1;33m\u001b[0m\u001b[0m\n\u001b[0;32m    345\u001b[0m \u001b[1;33m\u001b[0m\u001b[0m\n",
      "\u001b[1;31mAttributeError\u001b[0m: 'str' object has no attribute 'url'"
     ]
    }
   ],
   "source": [
    "import requests\n",
    "import webbrowser\n",
    "import re\n",
    "\n",
    "\n",
    "app_key = \"ngx7pmj915az7b6\"\n",
    "app_secret = \"3h0o8xzqs0mscz1\"\n",
    "redirect_uri=\"https://localhost:8000\"\n",
    "auth_url=\"https://www.dropbox.com/oauth2/authorize\"\n",
    "\n",
    "params={\"client_id\":app_key,\n",
    "        \"response_type\":\"token\",\n",
    "        \"redirect_uri\":redirect_uri\n",
    "       }\n",
    "\n",
    "r = requests.get(auth_url, params=params)\n",
    "url = r.url\n",
    "r.connection.request_url(url,'')"
   ]
  },
  {
   "cell_type": "code",
   "execution_count": null,
   "id": "6f6af2cf-b475-4cd1-abee-244d91cf5f72",
   "metadata": {},
   "outputs": [],
   "source": []
  }
 ],
 "metadata": {
  "kernelspec": {
   "display_name": "Python 3 (ipykernel)",
   "language": "python",
   "name": "python3"
  },
  "language_info": {
   "codemirror_mode": {
    "name": "ipython",
    "version": 3
   },
   "file_extension": ".py",
   "mimetype": "text/x-python",
   "name": "python",
   "nbconvert_exporter": "python",
   "pygments_lexer": "ipython3",
   "version": "3.9.7"
  }
 },
 "nbformat": 4,
 "nbformat_minor": 5
}
