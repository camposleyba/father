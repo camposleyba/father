{
 "cells": [
  {
   "cell_type": "code",
   "execution_count": null,
   "metadata": {},
   "outputs": [],
   "source": [
    "# initial setup\n",
    "%run \"../../../common/0_notebooks_base_setup.py\"    "
   ]
  },
  {
   "cell_type": "markdown",
   "metadata": {},
   "source": [
    "---\n",
    "\n",
    "<img src='../../../common/logo_DH.png' align='left' width=35%/>\n"
   ]
  },
  {
   "cell_type": "markdown",
   "metadata": {},
   "source": [
    "# Introduccion a Machine Learning I\n",
    "\n",
    "---"
   ]
  },
  {
   "cell_type": "markdown",
   "metadata": {},
   "source": [
    "En esta práctica vamos a presentar preguntas para que desarrollen en forma concisa las respuestas."
   ]
  },
  {
   "cell_type": "markdown",
   "metadata": {},
   "source": [
    "## Pregunta 1\n",
    "\n",
    "Cual es la diferencia principal entre un modelo de aprendizaje supervisado y uno no supervisado?"
   ]
  },
  {
   "cell_type": "markdown",
   "metadata": {},
   "source": [
    "### Respuesta\n",
    "\n",
    "<img src=\"https://raw.githubusercontent.com/Digital-House-DATA/ds_blend_2021_img/master/M3/CLASE_18_Intro_ML_1/Presentacion/img/M3_CLASE_18_supervisado.jpg\" align=\"center\" alt=\"tablon\" width=50% height=30% />\n",
    "\n",
    "\n",
    "Los algoritmos de aprendizaje supervisado tiene las features de las observaciones y **una variable target asociada**.\n",
    "\n",
    "<img src=\"img/M3_CLASE_18_chk_003.PNG\" align=\"center\" width=60% height=35%/>\n",
    "<div class='epigraph' align=\"center\"><i>Ejemplo aprendizaje supervisado (variable target Survived)</i></div><br>"
   ]
  },
  {
   "cell_type": "markdown",
   "metadata": {},
   "source": [
    "<img src=\"https://raw.githubusercontent.com/Digital-House-DATA/ds_blend_2021_img/master/M3/CLASE_18_Intro_ML_1/Presentacion/img/M3_CLASE_18_nosupervisado.jpg\" align=\"center\" alt=\"tablon\" width=50% height=30% />\n",
    "\n",
    "El aprendizaje no supervisado se caracteriza por **no tener una variable target**. El algoritmo genera los labels o target para cada observación.\n",
    "\n",
    "<img src=\"img/M3_CLASE_18_chk_002.PNG\" align=\"center\" width=60% height=35%/>\n",
    "<div class='epigraph' align=\"center\"><i>Ejemplo aprendizaje no supervisado (sin variable target)</i></div><br>"
   ]
  },
  {
   "cell_type": "markdown",
   "metadata": {},
   "source": [
    "## Pregunta 2\n",
    "\n",
    "Que tipos de problemas se resuelven con modelos de clasificación y cuáles con modelos de regresión?"
   ]
  },
  {
   "cell_type": "markdown",
   "metadata": {},
   "source": [
    "### Respuesta\n",
    "\n",
    "Como vimos antes, en los tipos de modelos supervisados tenemos *una variable target* que representa el label asociado a cada observación que debemos predecir.\n",
    "\n",
    "Si esa variable target u objetivo es una **variable continua (o cuantitativa)** se trata de un *modelo de regresión*.\n",
    "\n",
    "<img src=\"img/M3_CLASE_18_chk_004.PNG\" align=\"center\" width=60% height=35%/>\n",
    "<div class='epigraph' align=\"center\"><i>Ejemplo regresión (target aprox_price_usd)</i></div><br>\n",
    "\n",
    "Si la variable target es una **variable categórica (o cualitativa)**, nos encontramos ante un *modelo de clasificación*.\n",
    "\n",
    "<img src=\"img/M3_CLASE_18_chk_005.PNG\" align=\"center\" width=60% height=35%/>\n",
    "<div class='epigraph' align=\"center\"><i>Ejemplo clasificación (target resolution)</i></div><br>"
   ]
  },
  {
   "cell_type": "markdown",
   "metadata": {},
   "source": [
    "## Pregunta 3\n",
    "\n",
    "Por qué es necesario hacer un análisis exploratorio de los datos antes de construir un modelo?"
   ]
  },
  {
   "cell_type": "markdown",
   "metadata": {},
   "source": [
    "### Respuesta\n",
    "\n",
    "* Necesitamos saber si todos los registros están completos, y si no, como completarlos o eliminarlos.\n",
    "\n",
    "* Para conocer qué tipo de pregunta podemos contestar. Por ejemplo, si se puede predecir el valor de una variable continua, o de una categoria (dependiendo de cual sea la variable target).\n",
    "\n",
    "* Para ver entre los modelos disponibles cuáles se pueden usar para responder las preguntas."
   ]
  },
  {
   "cell_type": "markdown",
   "metadata": {},
   "source": [
    "## Pregunta 4\n",
    "\n",
    "Por qué es importante separar entrenamiento y testing?"
   ]
  },
  {
   "cell_type": "markdown",
   "metadata": {},
   "source": [
    "### Respuesta\n",
    "\n",
    "Porque cuando generamos un modelo sobre el dataset, es deseable tener una noción acerca de cómo se comporta frente a datos nunca antes vistos.\n",
    "\n",
    "<img src=\"https://raw.githubusercontent.com/Digital-House-DATA/ds_blend_2021_img/master/M3/CLASE_18_Intro_ML_1/Presentacion/img/M3_CLASE_18_traintest_002.PNG\" align=\"center\" alt=\"Train_test\" width=70% height=40% />\n",
    "\n",
    "Por eso se recomienda seleccionar una porcion de las observaciones (en general un 70%) *para entrenar, generar el modelo*. Y reservar el restante 30% para *armar el dataset de testing*."
   ]
  },
  {
   "cell_type": "markdown",
   "metadata": {},
   "source": [
    "## Pregunta 5\n",
    "\n",
    "Sobre qué conjunto de datos se evalúa el punto 6 de la metodología de trabajo?"
   ]
  },
  {
   "cell_type": "markdown",
   "metadata": {},
   "source": [
    "### Respuesta\n",
    "\n",
    "El punto 6 de la metodología de trabajo indica: *predecir etiquetas para datos desconocidos*.\n",
    "\n",
    "Una vez que el modelo ya está entrenado, debemos evaluarlo con **nuevos datos** que no fueron parte del training set. Para ello, disponemos del *conjunto de testing*.\n",
    "\n",
    "Por ejemplo, con el dataset de entrenamiento:\n",
    "<img src=\"img/M3_CLASE_18_chk_007.PNG\" align=\"center\" width=50% height=30%/>\n",
    "\n",
    "Generamos un modelo:\n",
    "<img src=\"img/M3_CLASE_18_chk_006.PNG\" align=\"center\" width=50% height=30%/>\n",
    "\n",
    "Y luego lo probamos con una observacion del dataset de testing:\n",
    "<img src=\"img/M3_CLASE_18_chk_008.PNG\" align=\"center\" width=50% height=30%/>"
   ]
  },
  {
   "cell_type": "markdown",
   "metadata": {},
   "source": [
    "## Pregunta 6\n",
    "\n",
    "Determinar que valor de sesgo y varianza tienen cada uno de estos graficos.\n",
    "\n",
    "<img src=\"img/M3_CLASE_18_chk_001.PNG\" align=\"center\" width=40% height=25%/>"
   ]
  },
  {
   "cell_type": "markdown",
   "metadata": {},
   "source": [
    "### Respuesta\n",
    "\n",
    "* En el primer caso, el modelo tiene underfitting, ya que no puede predecir bien ni el dataset de entrenamiento. Entonces tiene alto sesgo y baja varianza.\n",
    "\n",
    "* el segundo caso es un modelo correcto, donde tanto el sesgo como la varianza tienen un valor medio.\n",
    "\n",
    "* el último tiene overfitting, donde el modelo se ajusta a todos las observaciones del dataset de entrenamiento. Entonces tiene bajo sesgo y alta varianza."
   ]
  },
  {
   "cell_type": "markdown",
   "metadata": {},
   "source": [
    "## Pregunta 7\n",
    "\n",
    "Dados varios modelos entrenados que resuelven el mismo problema, cómo decidirian cuál usar?"
   ]
  },
  {
   "cell_type": "markdown",
   "metadata": {},
   "source": [
    "### Respuesta\n",
    "\n",
    "Tenemos que seleccionar el modelo que tiene mejor performance sobre el dataset de testing.\n",
    "\n",
    "<img src=\"img/M3_CLASE_18_chk_010.PNG\" align=\"center\" width=30% height=10%/>"
   ]
  },
  {
   "cell_type": "markdown",
   "metadata": {},
   "source": [
    "## Pregunta 8\n",
    "\n",
    "Menciona algún uso común de cross validation."
   ]
  },
  {
   "cell_type": "markdown",
   "metadata": {},
   "source": [
    "### Respuesta\n",
    "\n",
    "Recordemos que Cross Validation consiste en dividir el dataset en k grupos, y luego armar k folds. Cada fold se compone de k-1 grupos de train y un grupo de test. Es decir que entrenamos el modelo con los k-1 grupos y testeamos con el grupo restante. Y así seguimos con cada fold.\n",
    "\n",
    "<img src=\"img/M3_CLASE_18_chk_009.PNG\" align=\"center\" width=40% height=25%/>\n",
    "<div class='epigraph' align=\"center\"><i>Cross Validation</i></div><br>\n",
    "\n",
    "Un uso común es la comparación de modelos. Realizamos cross validation usando distintos modelos, o bien el mismo modelo con distintos hiperparámetros, sobre el mismo dataset. Y luego comparamos la performance de cada uno.\n"
   ]
  },
  {
   "cell_type": "code",
   "execution_count": null,
   "metadata": {},
   "outputs": [],
   "source": []
  }
 ],
 "metadata": {
  "kernelspec": {
   "display_name": "Python 3",
   "language": "python",
   "name": "python3"
  },
  "language_info": {
   "codemirror_mode": {
    "name": "ipython",
    "version": 3
   },
   "file_extension": ".py",
   "mimetype": "text/x-python",
   "name": "python",
   "nbconvert_exporter": "python",
   "pygments_lexer": "ipython3",
   "version": "3.8.10"
  }
 },
 "nbformat": 4,
 "nbformat_minor": 4
}
