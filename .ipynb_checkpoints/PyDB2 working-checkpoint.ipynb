{
 "cells": [
  {
   "cell_type": "markdown",
   "id": "0cd65f7a-2617-43fb-b119-697559617e45",
   "metadata": {},
   "source": [
    "### Pre-requisitos para que funcione correctamente\n",
    "<ul>\n",
    "    <li> Instalar nueva version 11.5 del pc catalog</li>\n",
    "    <li> Usar version modificada del .bat setup_cmd para setear las conexiones(la tengo yo)</li>\n",
    "    <li> Carpeta utils, tiene que tener licencia 11.5 (la tengo yo puesta) y los GSKit nuevos version 8.50.89 al 27/4</li>\n",
    "    <li> El conection string, además de lo que figura en github --> <a href=\"https://github.com/ibmdb/python-ibmdb#api\" target=\"_blank\">IBM_DB API</a>, tiene que tener los parametros security=ssl,SSLClientKeystoredb=<b>dir donde esta el ibmca.kdb</b>;SSLClientKeystoreDBPassword=<b>psw que se optiene del .bat setup_cmd</b></li> \n",
    "</ul>"
   ]
  },
  {
   "cell_type": "code",
   "execution_count": 1,
   "id": "a0a65a74-2370-418c-aa2e-239daadf0e83",
   "metadata": {},
   "outputs": [
    {
     "data": {
      "text/html": [
       "<div>\n",
       "<style scoped>\n",
       "    .dataframe tbody tr th:only-of-type {\n",
       "        vertical-align: middle;\n",
       "    }\n",
       "\n",
       "    .dataframe tbody tr th {\n",
       "        vertical-align: top;\n",
       "    }\n",
       "\n",
       "    .dataframe thead th {\n",
       "        text-align: right;\n",
       "    }\n",
       "</style>\n",
       "<table border=\"1\" class=\"dataframe\">\n",
       "  <thead>\n",
       "    <tr style=\"text-align: right;\">\n",
       "      <th></th>\n",
       "      <th>CTY</th>\n",
       "      <th>LC</th>\n",
       "      <th>MAJ</th>\n",
       "      <th>MINOR</th>\n",
       "      <th>SMIN</th>\n",
       "      <th>AMTLOC</th>\n",
       "    </tr>\n",
       "  </thead>\n",
       "  <tbody>\n",
       "    <tr>\n",
       "      <th>0</th>\n",
       "      <td>613</td>\n",
       "      <td>03</td>\n",
       "      <td>173</td>\n",
       "      <td>0140</td>\n",
       "      <td>0000</td>\n",
       "      <td>-21282.6</td>\n",
       "    </tr>\n",
       "    <tr>\n",
       "      <th>1</th>\n",
       "      <td>613</td>\n",
       "      <td>03</td>\n",
       "      <td>173</td>\n",
       "      <td>0140</td>\n",
       "      <td>0000</td>\n",
       "      <td>-21526.7</td>\n",
       "    </tr>\n",
       "    <tr>\n",
       "      <th>2</th>\n",
       "      <td>613</td>\n",
       "      <td>03</td>\n",
       "      <td>173</td>\n",
       "      <td>0140</td>\n",
       "      <td>0000</td>\n",
       "      <td>-21526.7</td>\n",
       "    </tr>\n",
       "    <tr>\n",
       "      <th>3</th>\n",
       "      <td>613</td>\n",
       "      <td>03</td>\n",
       "      <td>173</td>\n",
       "      <td>0140</td>\n",
       "      <td>0000</td>\n",
       "      <td>-21526.7</td>\n",
       "    </tr>\n",
       "    <tr>\n",
       "      <th>4</th>\n",
       "      <td>613</td>\n",
       "      <td>03</td>\n",
       "      <td>173</td>\n",
       "      <td>0140</td>\n",
       "      <td>0000</td>\n",
       "      <td>-21526.7</td>\n",
       "    </tr>\n",
       "  </tbody>\n",
       "</table>\n",
       "</div>"
      ],
      "text/plain": [
       "   CTY  LC  MAJ MINOR  SMIN   AMTLOC\n",
       "0  613  03  173  0140  0000 -21282.6\n",
       "1  613  03  173  0140  0000 -21526.7\n",
       "2  613  03  173  0140  0000 -21526.7\n",
       "3  613  03  173  0140  0000 -21526.7\n",
       "4  613  03  173  0140  0000 -21526.7"
      ]
     },
     "execution_count": 1,
     "metadata": {},
     "output_type": "execute_result"
    }
   ],
   "source": [
    "import ibm_db\n",
    "import ibm_db_dbi as dbi\n",
    "import pandas as pd\n",
    "\n",
    "\n",
    "\n",
    "conn=dbi.connect(\"DATABASE=USIBMVRDP1H;HOSTNAME=usibmvrdp1h.ssiplex.pok.ibm.com;PORT=5520;PROTOCOL=TCPIP;UID=ar16434;PWD=No_tengocovid23;Security=SSL;SSLClientKeystoredb=C:\\Program Files\\IBM\\DB2\\DB2COPY1\\DB2\\ibmca.kdb;SSLClientKeystoreDBPassword=n0nexp1r;\", \"\", \"\")\n",
    "\n",
    "sql = ''' select cty, lc,maj,minor,smin,amtloc \n",
    "            from lrpcc.ladetail_cm_d \n",
    "                where cty='613' '''\n",
    "\n",
    "df2=pd.read_sql(sql,conn)\n",
    "df2.head()"
   ]
  },
  {
   "cell_type": "code",
   "execution_count": null,
   "id": "7bec30af-3ec6-4d87-83ad-a98cce08f9dd",
   "metadata": {},
   "outputs": [],
   "source": []
  }
 ],
 "metadata": {
  "kernelspec": {
   "display_name": "Python 3 (ipykernel)",
   "language": "python",
   "name": "python3"
  },
  "language_info": {
   "codemirror_mode": {
    "name": "ipython",
    "version": 3
   },
   "file_extension": ".py",
   "mimetype": "text/x-python",
   "name": "python",
   "nbconvert_exporter": "python",
   "pygments_lexer": "ipython3",
   "version": "3.9.7"
  }
 },
 "nbformat": 4,
 "nbformat_minor": 5
}
