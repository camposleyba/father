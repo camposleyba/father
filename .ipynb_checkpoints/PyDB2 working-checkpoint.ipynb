{
 "cells": [
  {
   "cell_type": "markdown",
   "id": "0cd65f7a-2617-43fb-b119-697559617e45",
   "metadata": {},
   "source": [
    "### Pre-requisitos para que funcione correctamente\n",
    "<ul>\n",
    "    <li>pip install ibm_db</li>\n",
    "    <li> Instalar nueva version DB2 11.5 del <a href=\"https://w3-01.ibm.com/download/standardsoftware/PC/lang_en/issiCatalogPC.html\" target=\"_blank\">pc@catalog</a></li>\n",
    "    <li> Usar version modificada del .bat setup_cmd para setear las conexiones (la tengo yo)</li>\n",
    "    <li> Carpeta utils, tiene que tener licencia 11.5 (la tengo yo) y los GSKit nuevos version 8.50.89 al 27/4</li>\n",
    "    <li> El conection string, además de lo que figura en github --> <a href=\"https://github.com/ibmdb/python-ibmdb#api\" target=\"_blank\">IBM_DB API</a>, tiene que tener los parametros security=ssl,SSLClientKeystoredb=<b>Dir ibmca.kdb</b>;SSLClientKeystoreDBPassword=<b>Psw .kdb (.bat)</b></li>\n",
    "    <li>hostname, database name, port datos claves que tienen que estar bien en ODBC</li>\n",
    "</ul>"
   ]
  },
  {
   "cell_type": "code",
   "execution_count": 5,
   "id": "a0a65a74-2370-418c-aa2e-239daadf0e83",
   "metadata": {},
   "outputs": [
    {
     "name": "stdout",
     "output_type": "stream",
     "text": [
      "Report run successfully\n"
     ]
    }
   ],
   "source": [
    "import ibm_db\n",
    "import ibm_db_dbi as dbi\n",
    "import pandas as pd\n",
    "\n",
    "''' Usando dbi, podemos directamente usar el metodo de pandas read_sql y tener un dataframe directo del resultado '''\n",
    "\n",
    "uid=\"ar16434\"\n",
    "psw=\"No_tengocovid23\"\n",
    "SSLClientKeystoredb=\"C:\\Program Files\\IBM\\DB2\\DB2COPY1\\DB2\\ibmca.kdb\"\n",
    "SSLClientKeystoreDBPassword=\"n0nexp1r\"\n",
    "\n",
    "conn=dbi.connect(\"DATABASE=USIBMVRDP1H;HOSTNAME=usibmvrdp1h.ssiplex.pok.ibm.com;PORT=5520;PROTOCOL=TCPIP;UID=\"+uid+\";PWD=\"+psw+\";Security=SSL;SSLClientKeystoredb=\"+SSLClientKeystoredb+\";SSLClientKeystoreDBPassword=\"+SSLClientKeystoreDBPassword+\";\", \"\", \"\")\n",
    "\n",
    "sql = ''' SELECT CTY, DIV, LC, TOLI, MAJ, MINOR, SMIN, LERU, FID, SRC, ACCID, ACCTMO,\n",
    "             ACCTYEAR, AMTLOC, AMTDLR, AMTLOC_REP, AMTDLR_REP, VOUCHER_NBR,\n",
    "             OEM_PROD_ID, DESCR1, LOCFLD1\n",
    "          FROM LRPCC.LADETAIL_PM_D\n",
    "          WHERE (CTY = '613' AND MAJ = '601' AND LERU IN ('001977')\n",
    "             AND LC IN ('01', '04')) '''\n",
    "\n",
    "df2=pd.read_sql(sql,conn)\n",
    "df2.to_excel(r\"C:\\Users\\016434613\\Desktop\\dept1977_exp.xlsx\", index=False)\n",
    "print(\"Report run successfully\")"
   ]
  },
  {
   "cell_type": "code",
   "execution_count": null,
   "id": "7bec30af-3ec6-4d87-83ad-a98cce08f9dd",
   "metadata": {},
   "outputs": [],
   "source": []
  }
 ],
 "metadata": {
  "kernelspec": {
   "display_name": "Python 3 (ipykernel)",
   "language": "python",
   "name": "python3"
  },
  "language_info": {
   "codemirror_mode": {
    "name": "ipython",
    "version": 3
   },
   "file_extension": ".py",
   "mimetype": "text/x-python",
   "name": "python",
   "nbconvert_exporter": "python",
   "pygments_lexer": "ipython3",
   "version": "3.9.7"
  }
 },
 "nbformat": 4,
 "nbformat_minor": 5
}
