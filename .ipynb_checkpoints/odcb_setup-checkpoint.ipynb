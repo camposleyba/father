{
 "cells": [
  {
   "cell_type": "code",
   "execution_count": 19,
   "id": "b0ec33c0-f4ac-436f-800a-d21a58c1d05c",
   "metadata": {},
   "outputs": [
    {
     "name": "stdin",
     "output_type": "stream",
     "text": [
      "What DB do you want to setup?: ICFS\n"
     ]
    },
    {
     "name": "stdout",
     "output_type": "stream",
     "text": [
      "File successfully created!\n"
     ]
    }
   ],
   "source": [
    "import pandas as pd\n",
    "import os\n",
    "\n",
    "#### Pendiente hablar con Brunito para que haya un TKinter que le permita\n",
    "#### al usuario elegir en base a los DB_ALIAS ya en el DF\n",
    "\n",
    "user = os.environ.get(\"USERNAME\")\n",
    "parm_dict = {}\n",
    "keys_list = ['NODE','DB_ALIAS','DB_NAME','DB_HOST','PORT','AUTH','DCSOPT','SECURITY']\n",
    "key_dict = {'NODE':'Location','DB_ALIAS':'Alias','DB_NAME':'Target Database',\n",
    "            'DB_HOST':'Host name','PORT':'Port','AUTH':'Authentication',\n",
    "            'DCSOPT':'DCS Options','SECURITY':'USE SSL'}\n",
    "\n",
    "excel_path=r\"C:\\Users\" +\"\\\\\" +user + \"\\Desktop\\Todo\\DB2SSL\\DB2 Database Setup with SSL_.xlsm\"\n",
    "\n",
    "df = pd.read_excel(excel_path,sheet_name=\"DB2Setup\")\n",
    "\n",
    "db = input(\"What DB do you want to setup?:\")\n",
    "\n",
    "df_todict = df.loc[df['Alias']==db]\n",
    "\n",
    "for key in keys_list:\n",
    "    parm_dict[key] = df_todict.iloc[0][key_dict[key]]\n",
    "\n",
    "uncata1 = \"db2cmd -c -w -i db2 uncatalog node {}\".format(parm_dict['NODE'])\n",
    "uncata2 = \"db2cmd -c -w -i db2 uncatalog odbc data source {}\".format(parm_dict['DB_ALIAS'])\n",
    "uncata3 = \"db2cmd -c -w -i db2 uncatalog db {}\".format(parm_dict['DB_ALIAS'])\n",
    "uncata4 = \"db2cmd -c -w -i db2 uncatalog dcs db {}\".format(parm_dict['DB_ALIAS'])\n",
    "cata1 = \"db2cmd -c -w -i db2 catalog tcpip node {} remote {} server {} security {}\".format(parm_dict['NODE'],parm_dict['DB_HOST'],parm_dict['PORT'],parm_dict['SECURITY'])\n",
    "cata2 = \"db2cmd -c -w -i db2 catalog db {} as {} at node {} authentication {}\".format(parm_dict['DB_ALIAS'],parm_dict['DB_ALIAS'],parm_dict['NODE'],parm_dict['AUTH'])\n",
    "cata3 = \"db2cmd -c -w -i db2 catalog dcs db {} as {} parms '{}'\".format(parm_dict['DB_ALIAS'],parm_dict['DB_NAME'],parm_dict['DCSOPT'])\n",
    "cata4 = \"db2cmd -c -w -i db2 catalog user odbc data source {}\".format(parm_dict['DB_ALIAS'])\n",
    "\n",
    "command_list = [uncata1,uncata2,uncata3,uncata4,cata1,cata2,cata3,cata4]\n",
    "\n",
    "outfile=r\"C:\\Users\" +\"\\\\\" +user +\"\\Desktop\\Bat Files\\odbc_setup.cmd\"\n",
    "with open(outfile,\"w\") as f:\n",
    "    for c in command_list:\n",
    "        f.write(c+\"\\n\")\n",
    "print(\"File successfully created!\")"
   ]
  },
  {
   "cell_type": "code",
   "execution_count": null,
   "id": "4a028634-2b2f-4d09-a58b-696606cbb7bc",
   "metadata": {},
   "outputs": [],
   "source": []
  }
 ],
 "metadata": {
  "kernelspec": {
   "display_name": "Python 3 (ipykernel)",
   "language": "python",
   "name": "python3"
  },
  "language_info": {
   "codemirror_mode": {
    "name": "ipython",
    "version": 3
   },
   "file_extension": ".py",
   "mimetype": "text/x-python",
   "name": "python",
   "nbconvert_exporter": "python",
   "pygments_lexer": "ipython3",
   "version": "3.9.7"
  }
 },
 "nbformat": 4,
 "nbformat_minor": 5
}
