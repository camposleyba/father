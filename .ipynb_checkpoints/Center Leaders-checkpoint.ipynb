{
 "cells": [
  {
   "cell_type": "markdown",
   "id": "b84e33d8-0fd3-4985-bd1a-537e8dccecdb",
   "metadata": {},
   "source": [
    "<h2>JSON encoder and decoder</h2>\n",
    "<img src=\"JSON.png\" alt=\"JSON explanation\">\n",
    "\n",
    "<i>La respuesta del servidor siempre es un string, asi que hay que decodificarla con JSON para que se convierta literalmente en las estructuras que están dadas por el string (i.e Dict, Lists, etc)</i>"
   ]
  },
  {
   "cell_type": "code",
   "execution_count": 24,
   "id": "f99cd01a-066a-4a7f-9a44-fdda01e27cfe",
   "metadata": {},
   "outputs": [
    {
     "name": "stdout",
     "output_type": "stream",
     "text": [
      "Report created in: 19.07 minutes\n"
     ]
    }
   ],
   "source": [
    "import pandas as pd\n",
    "import time\n",
    "from center_leaders_functions import *\n",
    "import warnings\n",
    "\n",
    "start = time.time()\n",
    "\n",
    "warnings.filterwarnings('ignore')\n",
    "df_Grois = centerLead(\"047825613\",\"Moises Groisman\",\"BA\")\n",
    "df_Wong = centerLead(\"095728778\",\"Hou Chung Wong\",\"KL\")\n",
    "df_Leho = centerLead(\"A50757693\",\"Róbert Lehocký\",\"SK\")\n",
    "df_Castillo = centerLead(\"026956613\",\"Francisco del Castillo\",\"BA\")\n",
    "\n",
    "df_1_BA = reportFunc(dataframe=df_Grois, loc=\"BA\")\n",
    "df_2_BA = reportFunc(dataframe=df_1_BA, loc=\"BA\")\n",
    "df_1_KL = reportFunc(dataframe=df_Wong, loc=\"KL\")\n",
    "df_2_KL = reportFunc(dataframe=df_1_KL, loc=\"KL\")\n",
    "df_1_SK = reportFunc(dataframe=df_Leho, loc=\"SK\")\n",
    "df_2_SK = reportFunc(dataframe=df_1_SK, loc=\"SK\")\n",
    "df_1_Cas = reportFuncDT(dataframedt=df_Castillo)\n",
    "\n",
    "df_g = {\"Reports\":\"Moises Groisman\",\"Serials\":\"047825613\",\"isManager\":True,\"Location\":\"BA\",\"Email\":\"groisman@ar.ibm.com\",\"Manager\":\"Hector Lopez\",\"EmpType\":\"IBM employee, Regular\",\"Job_title\":\"IBM Accounting Buenos Aires Leader\"}\n",
    "df_Grois = df_Grois.append(df_g, ignore_index=True)\n",
    "df_all = df_Grois.append(df_1_BA)\n",
    "df_all = df_all.append(df_2_BA)\n",
    "df_w = {\"Reports\":\"Hou Chung Wong\",\"Serials\":\"095728778\",\"isManager\":True,\"Location\":\"KL\",\"Email\":\"wonghc@my.ibm.com\",\"Manager\":\"Hector Lopez\",\"EmpType\":\"IBM employee, Regular\",\"Job_title\":\"IBM Accounting Kuala Lumpur Leader\"}\n",
    "df_Wong = df_Wong.append(df_w, ignore_index=True)\n",
    "df_all = df_all.append(df_Wong)\n",
    "df_all = df_all.append(df_1_KL)\n",
    "df_all = df_all.append(df_2_KL)\n",
    "df_r = {\"Reports\":\"Róbert Lehocký\",\"Serials\":\"A50757693\",\"isManager\":True,\"Location\":\"SK\",\"Email\":\"robert.lehocky@sk.ibm.com\",\"Manager\":\"Hector Lopez\",\"EmpType\":\"IBM employee, Regular\",\"Job_title\":\"IBM Accounting Bratislava Leader\"}\n",
    "df_Leho = df_Leho.append(df_r, ignore_index=True)\n",
    "df_all = df_all.append(df_Leho)\n",
    "df_all = df_all.append(df_1_SK)\n",
    "df_all = df_all.append(df_2_SK)\n",
    "df_f = {\"Reports\":\"Francisco del Castillo\",\"Serials\":\"026956613\",\"isManager\":True,\"Location\":\"BA\",\"Email\":\"castillo@ar.ibm.com\",\"Manager\":\"Chris Wright\",\"EmpType\":\"IBM employee, Regular\",\"Job_title\":\"Senior Manager, IBM Accounting Digital Transformation\"}\n",
    "df_Castillo = df_Castillo.append(df_f, ignore_index=True)\n",
    "df_all = df_all.append(df_Castillo)\n",
    "df_all = df_all.append(df_1_Cas)\n",
    "\n",
    "df_all = df_all.loc[df_all['EmpType']!=\"IBM employee, Leave of Absence\"]\n",
    "df_all = df_all.loc[df_all['EmpType']!=\"non-IBM employee, Contractor\"]\n",
    "df_all = df_all.loc[df_all['EmpType']!=\"non-IBM employee, Vendor\"]\n",
    "\n",
    "df_add_count = df_all.loc[df_all['isManager']==True]\n",
    "\n",
    "list_count = calculateRepo(df_add_count)\n",
    "df_add_count['RepoCount']=list_count\n",
    "\n",
    "df_add_count = df_add_count.loc[:,['Serials','RepoCount']]\n",
    "\n",
    "df_all = df_all.merge(df_add_count, on=\"Serials\", how=\"left\")\n",
    "\n",
    "df_all.fillna(value=0,inplace=True)\n",
    "\n",
    "df_all.to_excel(r\"C:\\Users\\016434613\\Desktop\\CenterLeaders-Report.xlsx\", index=False)\n",
    "\n",
    "end = time.time()\n",
    "mins = (end-start)/60.00\n",
    "string = \"Report created in: {:.2f} minutes\".format(mins)\n",
    "print(string)"
   ]
  },
  {
   "cell_type": "markdown",
   "id": "c7703807-3a19-43df-98f6-6aaf8d74517f",
   "metadata": {},
   "source": [
    "## To run only Francisco's org reports"
   ]
  },
  {
   "cell_type": "code",
   "execution_count": 28,
   "id": "eceea71b-c20d-4968-af97-dddf63a016b6",
   "metadata": {},
   "outputs": [
    {
     "name": "stdout",
     "output_type": "stream",
     "text": [
      "Report created in: 17.30 seconds\n"
     ]
    }
   ],
   "source": [
    "import pandas as pd\n",
    "import time\n",
    "from center_leaders_functions import *\n",
    "import warnings\n",
    "\n",
    "start = time.time()\n",
    "\n",
    "warnings.filterwarnings('ignore')\n",
    "\n",
    "df_Castillo = centerLead(\"026956613\",\"Francisco del Castillo\",\"BA\")\n",
    "df_1_Cas = reportFuncDT(dataframedt=df_Castillo)\n",
    "df_f = {\"Reports\":\"Francisco del Castillo\",\"Serials\":\"026956613\",\"isManager\":True,\"Location\":\"BA\",\"Email\":\"castillo@ar.ibm.com\",\"Manager\":\"Chris Wright\",\"EmpType\":\"IBM employee, Regular\",\"Job_title\":\"Senior Manager, IBM Accounting Digital Transformation\"}\n",
    "df_Castillo = df_Castillo.append(df_f, ignore_index=True)\n",
    "df_all = df_Castillo\n",
    "df_all = df_all.append(df_1_Cas)\n",
    "\n",
    "df_all = df_all.loc[df_all['EmpType']!=\"IBM employee, Leave of Absence\"]\n",
    "df_all = df_all.loc[df_all['EmpType']!=\"non-IBM employee, Contractor\"]\n",
    "df_all = df_all.loc[df_all['EmpType']!=\"non-IBM employee, Vendor\"]\n",
    "\n",
    "df_add_count = df_all.loc[df_all['isManager']==True]\n",
    "\n",
    "list_count = calculateRepo(df_add_count)\n",
    "df_add_count['RepoCount']=list_count\n",
    "\n",
    "df_add_count = df_add_count.loc[:,['Serials','RepoCount']]\n",
    "\n",
    "df_all = df_all.merge(df_add_count, on=\"Serials\", how=\"left\")\n",
    "\n",
    "df_all.fillna(value=0,inplace=True)\n",
    "\n",
    "df_all.to_excel(r\"C:\\Users\\016434613\\Desktop\\Francisco_only.xlsx\", index=False)\n",
    "\n",
    "end = time.time()\n",
    "mins = (end-start)/60.00\n",
    "if mins < 1:\n",
    "    mins = end-start\n",
    "    string = \"Report created in: {:.2f} seconds\".format(mins)\n",
    "else:\n",
    "    string = \"Report created in: {:.2f} minutes\".format(mins)\n",
    "print(string)"
   ]
  },
  {
   "cell_type": "code",
   "execution_count": null,
   "id": "23d1d3cb-6844-4ea7-8618-2e673f03900c",
   "metadata": {},
   "outputs": [],
   "source": []
  }
 ],
 "metadata": {
  "kernelspec": {
   "display_name": "Python 3 (ipykernel)",
   "language": "python",
   "name": "python3"
  },
  "language_info": {
   "codemirror_mode": {
    "name": "ipython",
    "version": 3
   },
   "file_extension": ".py",
   "mimetype": "text/x-python",
   "name": "python",
   "nbconvert_exporter": "python",
   "pygments_lexer": "ipython3",
   "version": "3.9.7"
  }
 },
 "nbformat": 4,
 "nbformat_minor": 5
}
