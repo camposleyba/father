{
 "cells": [
  {
   "cell_type": "code",
   "execution_count": 2,
   "id": "274dc243-2169-404c-93b1-80fdc92b296b",
   "metadata": {},
   "outputs": [],
   "source": [
    "import pandas as pd\n",
    "import numpy as np\n",
    "import glob\n",
    "import re\n",
    "from urllib import request as req\n",
    "import json\n",
    "\n",
    "mgrserials = ['016434613','A01130693','A51733693','900688897']\n",
    "mgrname = {'016434613':'Martin Campos','A01130693':'Marek Tarkos','A51733693':'Andrej Csiaki','900688897':'Melissa Bledsoe'}\n",
    "devnames = {}\n",
    "\n",
    "for mgr in mgrserials:\n",
    "    request = req.urlopen(\"https://unified-profile-api.us-south-k8s.intranet.ibm.com/v3/profiles/\" + mgr + \"/teamResolved\")\n",
    "    datos = request.read().decode()\n",
    "    dictdatos = json.loads(datos)\n",
    "    devlist = dictdatos['content']['functional']['reports']\n",
    "    for dev in devlist:\n",
    "        #method setdefault(key,[]) sirve para poner una primera key con una lista vacia, si no, tira error de que no existe la key\n",
    "        devnames.setdefault(mgrname[mgr], []).append(dev['nameDisplay'])\n",
    "        \n",
    "### Create Lists ###\n",
    "devlistmc = devnames['Martin Campos']\n",
    "\n",
    "df6 = pd.DataFrame(devlistmc, columns=['Developer'])\n",
    "df6.loc[df6['Developer']==\"Pablo (Paul) Iacovone\",'Developer']=\"Pablo Iacovone\"\n",
    "df6.loc[df6['Developer']==\"Santiago Akira Kitashima\",'Developer']=\"Santiago Kitashima\"\n",
    "df6.loc[df6['Developer']==\"Ezequiel Ricardo Ferlauto\",'Developer']=\"Ezequiel Ferlauto\"\n",
    "df6.loc[df6['Developer']==\"Andrés Lopez Grosman\",'Developer']=\"Andres Grosman\"\n",
    "df6.loc[df6['Developer']==\"Dario Cesar Atach\",'Developer']=\"Dario Atach\"\n",
    "df6['Manager'] = \"Martin Campos\"\n",
    "\n",
    "df6.to_excel(r\"C:\\Users\\016434613\\Desktop\\Reports.xlsx\", index=False)"
   ]
  },
  {
   "cell_type": "code",
   "execution_count": null,
   "id": "8cc4dc9a-83e2-45ef-bbca-e5eae89e4f8b",
   "metadata": {},
   "outputs": [],
   "source": []
  }
 ],
 "metadata": {
  "kernelspec": {
   "display_name": "Python 3 (ipykernel)",
   "language": "python",
   "name": "python3"
  },
  "language_info": {
   "codemirror_mode": {
    "name": "ipython",
    "version": 3
   },
   "file_extension": ".py",
   "mimetype": "text/x-python",
   "name": "python",
   "nbconvert_exporter": "python",
   "pygments_lexer": "ipython3",
   "version": "3.9.7"
  }
 },
 "nbformat": 4,
 "nbformat_minor": 5
}
