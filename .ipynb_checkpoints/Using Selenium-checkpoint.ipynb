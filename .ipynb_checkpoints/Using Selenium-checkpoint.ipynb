{
 "cells": [
  {
   "cell_type": "code",
   "execution_count": 1,
   "id": "04e04a26-8c27-4c8a-9ddf-7d62b9db5263",
   "metadata": {},
   "outputs": [
    {
     "ename": "TimeoutException",
     "evalue": "Message: \nStacktrace:\nBacktrace:\n\tOrdinal0 [0x002F7413+2389011]\n\tOrdinal0 [0x00289F61+1941345]\n\tOrdinal0 [0x0017C658+837208]\n\tOrdinal0 [0x001A91DD+1020381]\n\tOrdinal0 [0x001A949B+1021083]\n\tOrdinal0 [0x001D6032+1204274]\n\tOrdinal0 [0x001C4194+1130900]\n\tOrdinal0 [0x001D4302+1196802]\n\tOrdinal0 [0x001C3F66+1130342]\n\tOrdinal0 [0x0019E546+976198]\n\tOrdinal0 [0x0019F456+980054]\n\tGetHandleVerifier [0x004A9632+1727522]\n\tGetHandleVerifier [0x0055BA4D+2457661]\n\tGetHandleVerifier [0x0038EB81+569713]\n\tGetHandleVerifier [0x0038DD76+566118]\n\tOrdinal0 [0x00290B2B+1968939]\n\tOrdinal0 [0x00295988+1989000]\n\tOrdinal0 [0x00295A75+1989237]\n\tOrdinal0 [0x0029ECB1+2026673]\n\tBaseThreadInitThunk [0x771AFA29+25]\n\tRtlGetAppContainerNamedObjectPath [0x77717A7E+286]\n\tRtlGetAppContainerNamedObjectPath [0x77717A4E+238]\n\t(No symbol) [0x00000000]\n",
     "output_type": "error",
     "traceback": [
      "\u001b[1;31m---------------------------------------------------------------------------\u001b[0m",
      "\u001b[1;31mTimeoutException\u001b[0m                          Traceback (most recent call last)",
      "\u001b[1;32mC:\\Users\\016434~1\\AppData\\Local\\Temp/ipykernel_16528/2857983813.py\u001b[0m in \u001b[0;36m<module>\u001b[1;34m\u001b[0m\n\u001b[0;32m     29\u001b[0m     \u001b[0mmydriver\u001b[0m\u001b[1;33m.\u001b[0m\u001b[0mget\u001b[0m\u001b[1;33m(\u001b[0m\u001b[1;34m\"https://progress.us1a.cirrus.ibm.com/digital-transformation/task/\"\u001b[0m\u001b[1;33m+\u001b[0m\u001b[0ml\u001b[0m\u001b[1;33m)\u001b[0m\u001b[1;33m\u001b[0m\u001b[1;33m\u001b[0m\u001b[0m\n\u001b[0;32m     30\u001b[0m     \u001b[0mwait\u001b[0m \u001b[1;33m=\u001b[0m \u001b[0mWebDriverWait\u001b[0m\u001b[1;33m(\u001b[0m\u001b[0mmydriver\u001b[0m\u001b[1;33m,\u001b[0m \u001b[1;36m30\u001b[0m\u001b[1;33m)\u001b[0m\u001b[1;33m\u001b[0m\u001b[1;33m\u001b[0m\u001b[0m\n\u001b[1;32m---> 31\u001b[1;33m     \u001b[0melement\u001b[0m \u001b[1;33m=\u001b[0m \u001b[0mwait\u001b[0m\u001b[1;33m.\u001b[0m\u001b[0muntil\u001b[0m\u001b[1;33m(\u001b[0m\u001b[0mEC\u001b[0m\u001b[1;33m.\u001b[0m\u001b[0melement_to_be_clickable\u001b[0m\u001b[1;33m(\u001b[0m\u001b[1;33m(\u001b[0m\u001b[0mBy\u001b[0m\u001b[1;33m.\u001b[0m\u001b[0mID\u001b[0m\u001b[1;33m,\u001b[0m \u001b[1;34m'mat-tab-label-0-1'\u001b[0m\u001b[1;33m)\u001b[0m\u001b[1;33m)\u001b[0m\u001b[1;33m)\u001b[0m\u001b[1;33m\u001b[0m\u001b[1;33m\u001b[0m\u001b[0m\n\u001b[0m\u001b[0;32m     32\u001b[0m     \u001b[1;32mtry\u001b[0m\u001b[1;33m:\u001b[0m\u001b[1;33m\u001b[0m\u001b[1;33m\u001b[0m\u001b[0m\n\u001b[0;32m     33\u001b[0m         \u001b[0mtimeelem\u001b[0m \u001b[1;33m=\u001b[0m \u001b[0mmydriver\u001b[0m\u001b[1;33m.\u001b[0m\u001b[0mfind_element_by_class_name\u001b[0m\u001b[1;33m(\u001b[0m\u001b[1;34m'ng-tns-c229-23'\u001b[0m\u001b[1;33m)\u001b[0m\u001b[1;33m.\u001b[0m\u001b[0mget_attribute\u001b[0m\u001b[1;33m(\u001b[0m\u001b[1;34m\"textContent\"\u001b[0m\u001b[1;33m)\u001b[0m\u001b[1;33m\u001b[0m\u001b[1;33m\u001b[0m\u001b[0m\n",
      "\u001b[1;32m~\\Python39\\lib\\site-packages\\selenium\\webdriver\\support\\wait.py\u001b[0m in \u001b[0;36muntil\u001b[1;34m(self, method, message)\u001b[0m\n\u001b[0;32m     87\u001b[0m             \u001b[1;32mif\u001b[0m \u001b[0mtime\u001b[0m\u001b[1;33m.\u001b[0m\u001b[0mtime\u001b[0m\u001b[1;33m(\u001b[0m\u001b[1;33m)\u001b[0m \u001b[1;33m>\u001b[0m \u001b[0mend_time\u001b[0m\u001b[1;33m:\u001b[0m\u001b[1;33m\u001b[0m\u001b[1;33m\u001b[0m\u001b[0m\n\u001b[0;32m     88\u001b[0m                 \u001b[1;32mbreak\u001b[0m\u001b[1;33m\u001b[0m\u001b[1;33m\u001b[0m\u001b[0m\n\u001b[1;32m---> 89\u001b[1;33m         \u001b[1;32mraise\u001b[0m \u001b[0mTimeoutException\u001b[0m\u001b[1;33m(\u001b[0m\u001b[0mmessage\u001b[0m\u001b[1;33m,\u001b[0m \u001b[0mscreen\u001b[0m\u001b[1;33m,\u001b[0m \u001b[0mstacktrace\u001b[0m\u001b[1;33m)\u001b[0m\u001b[1;33m\u001b[0m\u001b[1;33m\u001b[0m\u001b[0m\n\u001b[0m\u001b[0;32m     90\u001b[0m \u001b[1;33m\u001b[0m\u001b[0m\n\u001b[0;32m     91\u001b[0m     \u001b[1;32mdef\u001b[0m \u001b[0muntil_not\u001b[0m\u001b[1;33m(\u001b[0m\u001b[0mself\u001b[0m\u001b[1;33m,\u001b[0m \u001b[0mmethod\u001b[0m\u001b[1;33m,\u001b[0m \u001b[0mmessage\u001b[0m\u001b[1;33m=\u001b[0m\u001b[1;34m''\u001b[0m\u001b[1;33m)\u001b[0m\u001b[1;33m:\u001b[0m\u001b[1;33m\u001b[0m\u001b[1;33m\u001b[0m\u001b[0m\n",
      "\u001b[1;31mTimeoutException\u001b[0m: Message: \nStacktrace:\nBacktrace:\n\tOrdinal0 [0x002F7413+2389011]\n\tOrdinal0 [0x00289F61+1941345]\n\tOrdinal0 [0x0017C658+837208]\n\tOrdinal0 [0x001A91DD+1020381]\n\tOrdinal0 [0x001A949B+1021083]\n\tOrdinal0 [0x001D6032+1204274]\n\tOrdinal0 [0x001C4194+1130900]\n\tOrdinal0 [0x001D4302+1196802]\n\tOrdinal0 [0x001C3F66+1130342]\n\tOrdinal0 [0x0019E546+976198]\n\tOrdinal0 [0x0019F456+980054]\n\tGetHandleVerifier [0x004A9632+1727522]\n\tGetHandleVerifier [0x0055BA4D+2457661]\n\tGetHandleVerifier [0x0038EB81+569713]\n\tGetHandleVerifier [0x0038DD76+566118]\n\tOrdinal0 [0x00290B2B+1968939]\n\tOrdinal0 [0x00295988+1989000]\n\tOrdinal0 [0x00295A75+1989237]\n\tOrdinal0 [0x0029ECB1+2026673]\n\tBaseThreadInitThunk [0x771AFA29+25]\n\tRtlGetAppContainerNamedObjectPath [0x77717A7E+286]\n\tRtlGetAppContainerNamedObjectPath [0x77717A4E+238]\n\t(No symbol) [0x00000000]\n"
     ]
    }
   ],
   "source": [
    "import warnings\n",
    "from selenium import webdriver\n",
    "from selenium.webdriver.common.by import By\n",
    "from selenium.webdriver.support.ui import WebDriverWait\n",
    "from selenium.webdriver.support import expected_conditions as EC\n",
    "import time\n",
    "import pandas as pd\n",
    "\n",
    "warnings.filterwarnings('ignore')\n",
    "filepath_=r\"C:\\Users\\016434613\\Desktop\\Specification.xlsx\"\n",
    "timeelem_list = []\n",
    "df_Spec = pd.read_excel(filepath_,sheet_name=\"Sheet1\")\n",
    "lista = df_Spec['TASK ID'].tolist()\n",
    "\n",
    "\n",
    "mydriver = webdriver.Chrome(\"chromedriver.exe\")\n",
    "mydriver.get(\"https://progress.us1a.cirrus.ibm.com/digital-transformation/filter/own\")\n",
    "w3id = mydriver.find_element_by_xpath('//*[@id=\"credsDiv\"]/label')\n",
    "w3id.click()\n",
    "user = mydriver.find_element_by_xpath('//*[@id=\"user-name-input\"]')\n",
    "user.send_keys('marcamp@ar.ibm.com')\n",
    "psw = mydriver.find_element_by_xpath('//*[@id=\"password-input\"]')\n",
    "psw.send_keys('MyNporsiempre2026.')\n",
    "button = mydriver.find_element_by_xpath('//*[@id=\"login-button\"]')\n",
    "button.click()\n",
    "time.sleep(15)\n",
    "\n",
    "for l in lista:\n",
    "    mydriver.get(\"https://progress.us1a.cirrus.ibm.com/digital-transformation/task/\"+l)\n",
    "    wait = WebDriverWait(mydriver, 30)\n",
    "    element = wait.until(EC.element_to_be_clickable((By.ID, 'mat-tab-label-0-1')))\n",
    "    try:\n",
    "        timeelem = mydriver.find_element_by_class_name('ng-tns-c229-23').get_attribute(\"textContent\")\n",
    "        timeelem_=timeelem[25:37]\n",
    "        timeelem_list.append(timeelem_)\n",
    "    except:\n",
    "        timeelem = mydriver.find_elements_by_class_name('ng-tns-c229-23')\n",
    "        fin = len(timeelem)\n",
    "        if fin > 0:\n",
    "            timeelem_=timeelem[fin-1].get_attribute(\"textContent\")\n",
    "            timeelem_list.append(timeelem_)\n",
    "        else:\n",
    "            temeelm_list.append('No date')\n",
    "\n",
    "mydriver.close()\n",
    "df_Spec['Last_Updated']=timeelem_list\n",
    "df_Spec.to_excel(r\"C:\\Users\\016434613\\Desktop\\Specification.xlsx\", index=False)\n",
    "print('Report successfully updated')"
   ]
  },
  {
   "cell_type": "code",
   "execution_count": 3,
   "id": "f9f92663-8db7-4219-ac34-2ee071adae2b",
   "metadata": {},
   "outputs": [
    {
     "data": {
      "text/plain": [
       "46"
      ]
     },
     "execution_count": 3,
     "metadata": {},
     "output_type": "execute_result"
    }
   ],
   "source": [
    "len(timeelem_list)"
   ]
  },
  {
   "cell_type": "code",
   "execution_count": 34,
   "id": "1e1235f5-7e7b-470d-8291-6d7153f00968",
   "metadata": {},
   "outputs": [
    {
     "data": {
      "text/plain": [
       "'8 months agob'"
      ]
     },
     "execution_count": 34,
     "metadata": {},
     "output_type": "execute_result"
    }
   ],
   "source": [
    "mydriver = webdriver.Chrome(\"chromedriver.exe\")\n",
    "\n",
    "mydriver.get(\"https://progress.us1a.cirrus.ibm.com/digital-transformation/task/604723c3311434129f856027\")\n",
    "w3id = mydriver.find_element_by_xpath('//*[@id=\"credsDiv\"]/label')\n",
    "w3id.click()\n",
    "user = mydriver.find_element_by_xpath('//*[@id=\"user-name-input\"]')\n",
    "user.send_keys('marcamp@ar.ibm.com')\n",
    "psw = mydriver.find_element_by_xpath('//*[@id=\"password-input\"]')\n",
    "psw.send_keys('MyNporsiempre2026.')\n",
    "button = mydriver.find_element_by_xpath('//*[@id=\"login-button\"]')\n",
    "button.click()\n",
    "#textm = mydriver.find_element_by_xpath('//*[@id=\"sms_0_item\"]')\n",
    "#textm.click()\n",
    "time.sleep(15)\n",
    "timeelem = mydriver.find_element_by_class_name('ng-tns-c229-23').get_attribute(\"textContent\")\n",
    "mydriver.close()\n",
    "text = timeelem[25:37]\n",
    "text"
   ]
  },
  {
   "cell_type": "code",
   "execution_count": 30,
   "id": "cf7dbc3a-c729-4cc9-a157-51c3cd255f45",
   "metadata": {},
   "outputs": [
    {
     "data": {
      "text/plain": [
       "3"
      ]
     },
     "execution_count": 30,
     "metadata": {},
     "output_type": "execute_result"
    }
   ],
   "source": [
    "lista = ['1','2','3']\n",
    "fin = len(lista)\n",
    "fin"
   ]
  },
  {
   "cell_type": "code",
   "execution_count": null,
   "id": "d3ca6f33-93b6-4665-acb5-8f0c6e8ca579",
   "metadata": {},
   "outputs": [],
   "source": []
  }
 ],
 "metadata": {
  "kernelspec": {
   "display_name": "Python 3 (ipykernel)",
   "language": "python",
   "name": "python3"
  },
  "language_info": {
   "codemirror_mode": {
    "name": "ipython",
    "version": 3
   },
   "file_extension": ".py",
   "mimetype": "text/x-python",
   "name": "python",
   "nbconvert_exporter": "python",
   "pygments_lexer": "ipython3",
   "version": "3.9.7"
  }
 },
 "nbformat": 4,
 "nbformat_minor": 5
}
