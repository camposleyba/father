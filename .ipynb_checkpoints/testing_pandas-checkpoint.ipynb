{
 "cells": [
  {
   "cell_type": "markdown",
   "id": "09639fdc-a612-4d5d-8b59-6555a3e0c7cb",
   "metadata": {},
   "source": [
    "# Testing Pandas library\n",
    "\n",
    "<h5>Using 2 scritps, 1 for Metric Display web page, 1 to create home made report based of Progress and ATA, ODA, etc box spreadsheet</h5>\n",
    "<br>"
   ]
  },
  {
   "cell_type": "markdown",
   "id": "1da2e63b-4374-4a77-83da-53109034e3a8",
   "metadata": {},
   "source": [
    "### Script to delete the existent dtTasks_ file on downloads"
   ]
  },
  {
   "cell_type": "code",
   "execution_count": 45,
   "id": "bc953edf-505a-40ec-b767-dd9b62543474",
   "metadata": {},
   "outputs": [
    {
     "data": {
      "text/plain": [
       "CompletedProcess(args='del /f C:\\\\Users\\\\016434613\\\\Downloads\\\\dtTasks_*.xlsx', returncode=0, stdout=b'', stderr=b'')"
      ]
     },
     "execution_count": 45,
     "metadata": {},
     "output_type": "execute_result"
    }
   ],
   "source": [
    "import subprocess\n",
    "subprocess.run(\"del /f C:\\\\Users\\\\016434613\\\\Downloads\\\\dtTasks_*.xlsx\", shell=True, capture_output=True)"
   ]
  },
  {
   "cell_type": "markdown",
   "id": "929f379a-9d4a-49a5-9517-da0aefefb742",
   "metadata": {},
   "source": [
    "### Script to run with selenium master file link"
   ]
  },
  {
   "cell_type": "code",
   "execution_count": 1,
   "id": "ad927b1e-d90f-4384-880d-6cb3e47f9d81",
   "metadata": {},
   "outputs": [
    {
     "name": "stderr",
     "output_type": "stream",
     "text": [
      "C:\\Users\\016434~1\\AppData\\Local\\Temp/ipykernel_24292/1085608280.py:4: DeprecationWarning: executable_path has been deprecated, please pass in a Service object\n",
      "  mydriver = webdriver.Chrome(\"chromedriver.exe\")\n"
     ]
    }
   ],
   "source": [
    "from selenium import webdriver\n",
    "import time\n",
    "\n",
    "mydriver = webdriver.Chrome(\"chromedriver.exe\")\n",
    "mydriver.get(\"https://progress.us1a.cirrus.ibm.com/api/rpt/dt/1600277460000/ms/jas8n38daai/1/1600431650693\")\n",
    "time.sleep(20)\n",
    "mydriver.close()"
   ]
  },
  {
   "cell_type": "code",
   "execution_count": 2,
   "id": "4b830d5b-68d4-40fb-a0fb-a9a0eec7c495",
   "metadata": {},
   "outputs": [
    {
     "name": "stderr",
     "output_type": "stream",
     "text": [
      "C:\\Users\\016434613\\Python39\\lib\\site-packages\\pandas\\core\\frame.py:4906: SettingWithCopyWarning: \n",
      "A value is trying to be set on a copy of a slice from a DataFrame\n",
      "\n",
      "See the caveats in the documentation: https://pandas.pydata.org/pandas-docs/stable/user_guide/indexing.html#returning-a-view-versus-a-copy\n",
      "  return super().drop(\n"
     ]
    }
   ],
   "source": [
    "import pandas as pd\n",
    "import numpy as np\n",
    "\n",
    "import glob\n",
    "import re\n",
    "\n",
    "filepath = r\"C:\\Users\\016434613\\Downloads\"\n",
    "filepath_ = \"\"\n",
    "\n",
    "\n",
    "# Acá estamos obteniendo todos los files que terminen con .xlsx\n",
    "all_files = glob.glob(filepath + \"\\\\*.xls*\")\n",
    "for f in all_files:\n",
    "    # de esa lista buscamos especificamente el que tenga \\\\dtTasks_ para agarrar nuestro file\n",
    "    s = re.search(r\"\\\\dtTasks_\",f)\n",
    "    if s != None:\n",
    "        filepath_ = f\n",
    "\n",
    "#Usamos la ruta que obtuvimos arriba\n",
    "if filepath_ != \"\":\n",
    "    df = pd.read_excel(filepath_,sheet_name=\"DT Tasks\")\n",
    "df = df.rename(columns={'ROBOT NUMBER':'ROBOT_NUMBER'})\n",
    "\n",
    "df_lindo = df.loc[:,['ORIGIN RELEASE','STATUS','ROBOT_NUMBER','TITLE','AUTOMATION TYPE','REGIONS','MANUAL EXECUTION DURATION (hours per year)']]\n",
    "df_lindo = df_lindo.rename(columns={'MANUAL EXECUTION DURATION (hours per year)':'SAVING HS'})\n",
    "\n",
    "df_ATA = pd.read_excel(r\"C:\\Users\\016434613\\Box\\ATA Other\\ATA-ODA-WBA-RPA number assigment.xlsx\",sheet_name=\"ATA\")\n",
    "df_ATA = df_ATA.rename(columns={'Task #':'ROBOT_NUMBER'})\n",
    "\n",
    "\n",
    "#########################################################################\n",
    "#########################################################################\n",
    "\n",
    "df3 = df_lindo\n",
    "df_ATA_2 = df_ATA.loc[:,['ROBOT_NUMBER','Developer']]\n",
    "\n",
    "\n",
    "df4 = df3.merge(df_ATA_2, on=\"ROBOT_NUMBER\", how=\"left\")\n",
    "df4['ORIGIN RELEASE'] = df4['ORIGIN RELEASE'].apply(lambda x: str(x))\n",
    "df4['QUARTER'] = df4['ORIGIN RELEASE'].apply(lambda x: x[4:7]+x[11:15])\n",
    "\n",
    "#df4['QUARTER'] = df4['QUARTER'].apply(lambda x: '4Q' if x == 'Dec2021' else '4Q' if x == 'Nov2021' else '4Q' if x == 'Oct2021' else 'Other')\n",
    "df4['QUARTER'] = df4['QUARTER'].apply(lambda x: '1Q' if x == 'Jan2022' else '1Q' if x == 'Feb2022' else '1Q' if x == 'Mar2022' else 'Other')\n",
    "\n",
    "\n",
    "df5 = df4.loc[df4['QUARTER']=='1Q',]\n",
    "df5.drop(columns=[\"ORIGIN RELEASE\"],inplace=True)\n",
    "\n",
    "\n",
    "#########################################################################\n",
    "#########################################################################\n",
    "\n",
    "df_ODA = pd.read_excel(r\"C:\\Users\\016434613\\Box\\ATA Other\\ATA-ODA-WBA-RPA number assigment.xlsx\",sheet_name=\"ODA\")\n",
    "df_ODA = df_ODA.rename(columns={'Task #':'ROBOT_NUMBER'})\n",
    "df_ODA = df_ODA.loc[:,['ROBOT_NUMBER','Developer']]\n",
    "df5 = df5.merge(df_ODA, on=\"ROBOT_NUMBER\", how=\"left\")\n",
    "\n",
    "df5['Developer'] = df5.apply(lambda x: x['Developer_x'] if str(x['Developer_y'])==\"nan\" else x['Developer_y'],axis=1)\n",
    "df5.drop(columns=['Developer_y','Developer_x'],inplace=True)\n",
    "\n",
    "#df5.loc[df5['ROBOT_NUMBER']==\"ATA000\",'Developer']=\"Michele Lobina\""
   ]
  },
  {
   "cell_type": "markdown",
   "id": "7d2b6ef7-748e-4a31-b676-044584cb7b8d",
   "metadata": {},
   "source": [
    "### Script to obtain mgr reports from bluepages API "
   ]
  },
  {
   "cell_type": "code",
   "execution_count": 3,
   "id": "9cd65814-c4bd-4afd-9c9d-57615d6f9238",
   "metadata": {},
   "outputs": [],
   "source": [
    "from urllib import request as req\n",
    "import json\n",
    "\n",
    "mgrserials = ['016434613','A01130693','A51733693','900688897']\n",
    "mgrname = {'016434613':'Martin Campos','A01130693':'Marek Tarkos','A51733693':'Andrej Csiaki','900688897':'Melissa Bledsoe'}\n",
    "devnames = {}\n",
    "for mgr in mgrserials:\n",
    "    request = req.urlopen(\"https://unified-profile-api.us-south-k8s.intranet.ibm.com/v3/profiles/\" + mgr + \"/teamResolved\")\n",
    "    datos = request.read().decode()\n",
    "    dictdatos = json.loads(datos)\n",
    "    devlist = dictdatos['content']['functional']['reports']\n",
    "    for dev in devlist:\n",
    "        #method setdefault(key,[]) sirve para poner una primera key con una lista vacia, si no, tira error de que no existe la key\n",
    "        devnames.setdefault(mgrname[mgr], []).append(dev['nameDisplay'])"
   ]
  },
  {
   "cell_type": "code",
   "execution_count": 4,
   "id": "e1816963-44c0-4bf8-9477-9d0d8a8d9aa8",
   "metadata": {},
   "outputs": [],
   "source": [
    "### Create Lists ###\n",
    "devlistmc = devnames['Martin Campos']\n",
    "devlistmt = devnames['Marek Tarkos']\n",
    "devlistac = devnames['Andrej Csiaki']\n",
    "devlistmb = devnames['Melissa Bledsoe']\n",
    "\n",
    "### Create 2 dimension df, 1 column with the list, second column value fixed de Mgr ###\n",
    "df6 = pd.DataFrame(devlistmc, columns=['Developer'])\n",
    "df6.loc[df6['Developer']==\"Pablo (Paul) Iacovone\",'Developer']=\"Pablo Iacovone\"\n",
    "df6.loc[df6['Developer']==\"Santiago Akira Kitashima\",'Developer']=\"Santiago Kitashima\"\n",
    "df6.loc[df6['Developer']==\"Ezequiel Ricardo Ferlauto\",'Developer']=\"Ezequiel Ferlauto\"\n",
    "df6.loc[df6['Developer']==\"Andrés Lopez Grosman\",'Developer']=\"Andres Grosman\"\n",
    "df6.loc[df6['Developer']==\"Dario Cesar Atach\",'Developer']=\"Dario Atach\"\n",
    "df6['Manager'] = \"Martin Campos\"\n",
    "\n",
    "df7 = pd.DataFrame(devlistmt, columns=['Developer'])\n",
    "df7.loc[df7['Developer']==\"Viera Babčancová\",'Developer']=\"Viera Babcancova\"\n",
    "df7.loc[df7['Developer']==\"Milan Babčanec\",'Developer']=\"Milan Babcanec\"\n",
    "df7.loc[df7['Developer']==\"Adam Balák\",'Developer']=\"Adam Balak\"\n",
    "df7.loc[df7['Developer']==\"Peter Blahut\",'Developer']=\"Peter Blahut\"\n",
    "df7.loc[df7['Developer']==\"Viera Csiaki\",'Developer']=\"Viera Csiaki\"\n",
    "df7.loc[df7['Developer']==\"Barbora Depešová\",'Developer']=\"Barbora Depesova\"\n",
    "df7.loc[df7['Developer']==\"Richard Hantke\",'Developer']=\"Richard Hantke\"\n",
    "df7.loc[df7['Developer']==\"Lenka Holáňová\",'Developer']=\"Lenka Holanova\"\n",
    "df7.loc[df7['Developer']==\"Andrea Hrčková\",'Developer']=\"Andrea Hrckova\"\n",
    "df7.loc[df7['Developer']==\"Miroslav Kocian\",'Developer']=\"Miroslav Kocian\"\n",
    "df7.loc[df7['Developer']==\"Kristína Margetinová\",'Developer']=\"Kristina Margetinova\"\n",
    "df7.loc[df7['Developer']==\"Lucia Mikuš\",'Developer']=\"Lucia Mikus\"\n",
    "df7.loc[df7['Developer']==\"Soňa Olšová\",'Developer']=\"Sona Olsova\"\n",
    "df7.loc[df7['Developer']==\"Marta Pancotti\",'Developer']=\"Marta Pancotti\"\n",
    "df7.loc[df7['Developer']==\"Nina Tadlánková\",'Developer']=\"Nina Tadlankova\"\n",
    "df7.loc[df7['Developer']==\"Ivan Trubač\",'Developer']=\"Ivan Trubac\"\n",
    "df7.loc[df7['Developer']==\"Kristína Vojtová\",'Developer']=\"Kristina Vojtova\"\n",
    "df7.loc[df7['Developer']==\"Lubomir Cmiko (Lubo)\",'Developer']=\"Lubomir Cmiko\"\n",
    "df7.loc[df7['Developer']==\"Radomíra Šulová\",'Developer']=\"Radomira Sulova\"\n",
    "df7['Manager'] = \"Marek Tarkos\"\n",
    "\n",
    "df8 = pd.DataFrame(devlistac, columns=['Developer'])\n",
    "df8.loc[df8['Developer']==\"Marián Chrást\",'Developer']=\"Marian Chrast\"\n",
    "df8.loc[df8['Developer']==\"Massimo Cireddu\",'Developer']=\"Massimo Cireddu\"\n",
    "df8.loc[df8['Developer']==\"Katarina Kadlecova\",'Developer']=\"Katarina Kadlecova\"\n",
    "df8.loc[df8['Developer']==\"Marta Kapolková\",'Developer']=\"Marta Kapolkova\"\n",
    "df8.loc[df8['Developer']==\"Nikolaj Kniha\",'Developer']=\"Nikolaj Kniha\"\n",
    "df8.loc[df8['Developer']==\"Veronika Krchnáková\",'Developer']=\"Veronika Krchnakova\"\n",
    "df8.loc[df8['Developer']==\"Michele Lobina\",'Developer']=\"Michele Lobina\"\n",
    "df8.loc[df8['Developer']==\"Vladimír Maťo\",'Developer']=\"Vladimir Maťo\"\n",
    "df8.loc[df8['Developer']==\"Veronika Miklovičová\",'Developer']=\"Veronika Miklovicova\"\n",
    "df8.loc[df8['Developer']==\"Richard Nerodolík\",'Developer']=\"Richard Nerodolik\"\n",
    "df8.loc[df8['Developer']==\"Micheál O'Reilly\",'Developer']=\"Mícheál O'Reilly\"\n",
    "df8.loc[df8['Developer']==\"Michala Ožóg\",'Developer']=\"Michala Ozog\"\n",
    "df8.loc[df8['Developer']==\"Branislav Podoba\",'Developer']=\"Branislav Podoba\"\n",
    "df8.loc[df8['Developer']==\"Andre Daniel Rodrigues\",'Developer']=\"Andre Rodrigues\"\n",
    "df8.loc[df8['Developer']==\"Terézia Straková\",'Developer']=\"Terezia Strakova\"\n",
    "df8.loc[df8['Developer']==\"Lenka Tarkošová\",'Developer']=\"Lenka Tarkosova\"\n",
    "df8.loc[df8['Developer']==\"Valentína Vargová\",'Developer']=\"Valentina Vargova\"\n",
    "df8.loc[df8['Developer']==\"Marek Štípala\",'Developer']=\"Marek Stipala\"\n",
    "df8['Manager'] = \"Andrej Csiaki\"\n",
    "\n",
    "df9 = pd.DataFrame(devlistmb, columns=['Developer'])\n",
    "df9.loc[df9['Developer']==\"Gabe Hutson\",'Developer']=\"Gabriel Hutson\"\n",
    "df9['Manager'] = \"Melissa Bledsoe\"\n",
    "\n",
    "\n",
    "### Append results into one df - df10 ####\n",
    "df10 = df6\n",
    "df10 = df10.append(df7)\n",
    "df10 = df10.append(df8)\n",
    "df10 = df10.append(df9)"
   ]
  },
  {
   "cell_type": "code",
   "execution_count": 5,
   "id": "7629d258-d995-44ac-8054-306e9119f14f",
   "metadata": {},
   "outputs": [],
   "source": [
    "df5 = df5.merge(df10, on=\"Developer\", how=\"left\")\n",
    "#df5.loc[df5[\"ROBOT_NUMBER\"]==\"ODA112\",\"Developer\"]=\"Bruno Secchiari\"\n",
    "#df5.loc[df5[\"ROBOT_NUMBER\"]==\"ODA127\",\"Developer\"]=\"Bruno Secchiari\"\n",
    "df5['Count']=1\n",
    "df5 = df5.loc[:,['Manager','Developer','Count','SAVING HS','QUARTER','ROBOT_NUMBER','TITLE','STATUS','AUTOMATION TYPE','REGIONS']]\n",
    "df5.to_excel(r\"C:\\Users\\016434613\\Desktop\\Home Made Report.xlsx\", index=False)"
   ]
  },
  {
   "cell_type": "markdown",
   "id": "515fac1d-c0f3-4ffb-b2a9-885d08b0db41",
   "metadata": {},
   "source": [
    "#### Para buscar en progress con el task id: https://progress.us1a.cirrus.ibm.com/digital-transformation/task/"
   ]
  },
  {
   "cell_type": "markdown",
   "id": "e699eba9-5d47-4c8b-afa9-a389be00dbae",
   "metadata": {},
   "source": [
    "### Backlog Report"
   ]
  },
  {
   "cell_type": "code",
   "execution_count": 6,
   "id": "b051e5df-4867-4e73-9d37-969249acc606",
   "metadata": {},
   "outputs": [],
   "source": [
    "df_Back = pd.read_excel(filepath_,sheet_name=\"DT Tasks\")\n",
    "df_Back = df_Back.rename(columns={'DSL/SUPERVISOR (NAME)':'DSL','ROBOT NUMBER':'ROBOT_NUMBER','AUTOMATION TYPE':'AUTOMATION_TYPE','MANUAL EXECUTION DURATION (hours per year)':'SAVING HS'})\n",
    "df_Back = df_Back.loc[:,['TASK ID','CERTIFIED','DSL','STATUS','ROBOT_NUMBER','TITLE','AUTOMATION_TYPE','REGIONS','SAVING HS']]\n",
    "df_Back = df_Back.loc[df_Back['STATUS']==\"Ready for development\"]\n",
    "df_Back['CERTIFIED'] = df_Back['CERTIFIED'].apply(lambda x: str(x))\n",
    "df_Back['CERTIFIED'] = df_Back['CERTIFIED'].apply(lambda x: x[4:7]+\" \"+x[11:15])\n",
    "df_Back = df_Back.loc[df_Back['ROBOT_NUMBER'].isnull()==True]\n",
    "df_Back.to_excel(r\"C:\\Users\\016434613\\Desktop\\Backlog.xlsx\", index=False)"
   ]
  },
  {
   "cell_type": "markdown",
   "id": "75e76336-0be8-49b8-8cf6-bc03d4119d50",
   "metadata": {},
   "source": [
    "### Specification Report"
   ]
  },
  {
   "cell_type": "code",
   "execution_count": 21,
   "id": "8a90ab34-2c33-4ed7-b628-01816b0850f7",
   "metadata": {},
   "outputs": [],
   "source": [
    "df_Spec  = pd.read_excel(filepath_,sheet_name=\"DT Tasks\")\n",
    "df_Spec = df_Spec.rename(columns={'DSL/SUPERVISOR (NAME)':'DSL','DSL/SUPERVISOR (EMAIL)':'DSL EMAIL','ROBOT NUMBER':'ROBOT_NUMBER','AUTOMATION TYPE':'AUTOMATION_TYPE','MANUAL EXECUTION DURATION (hours per year)':'SAVING HS'})\n",
    "df_Spec = df_Spec.loc[:,['TASK ID','CERTIFIED','DSL','DSL EMAIL','STATUS','ROBOT_NUMBER','TITLE','AUTOMATION_TYPE','REGIONS','SAVING HS']]\n",
    "df_Spec = df_Spec.loc[df_Spec['STATUS']==\"Specification\"]\n",
    "df_Spec['CERTIFIED'] = df_Spec['CERTIFIED'].apply(lambda x: str(x))\n",
    "df_Spec['CERTIFIED'] = df_Spec['CERTIFIED'].apply(lambda x: x[4:7]+\" \"+x[11:15])\n",
    "df_Spec.loc[df_Spec['CERTIFIED']=='fin ','CERTIFIED']=\"\"\n",
    "df_Spec = df_Spec.loc[df_Spec['ROBOT_NUMBER'].isnull()==True]\n",
    "df_Spec.drop(columns=['ROBOT_NUMBER','STATUS'],inplace=True)\n",
    "df_Spec.to_excel(r\"C:\\Users\\016434613\\Desktop\\Specification.xlsx\", index=False)"
   ]
  },
  {
   "cell_type": "markdown",
   "id": "c5268a28-e9ca-46de-a530-ff9bcac9a6af",
   "metadata": {},
   "source": [
    "### Validation Report"
   ]
  },
  {
   "cell_type": "code",
   "execution_count": 20,
   "id": "d1e6de14-66f9-42f3-ab81-6ada337c37ec",
   "metadata": {},
   "outputs": [],
   "source": [
    "df_Val = pd.read_excel(filepath_,sheet_name=\"DT Tasks\")\n",
    "df_Val = df_Val.rename(columns={'DSL/SUPERVISOR (NAME)':'DSL','DSL/SUPERVISOR (EMAIL)':'DSL EMAIL','ROBOT NUMBER':'ROBOT_NUMBER','AUTOMATION TYPE':'AUTOMATION_TYPE','MANUAL EXECUTION DURATION (hours per year)':'SAVING HS'})\n",
    "df_Val = df_Val.loc[:,['TASK ID','CERTIFIED','DSL','DSL EMAIL','STATUS','ROBOT_NUMBER','TITLE','AUTOMATION_TYPE','REGIONS','SAVING HS']]\n",
    "df_Val = df_Val.loc[df_Val['STATUS']==\"Validation\"]\n",
    "df_Val['CERTIFIED'] = df_Val['CERTIFIED'].apply(lambda x: str(x))\n",
    "df_Val['CERTIFIED'] = df_Val['CERTIFIED'].apply(lambda x: x[4:7]+\" \"+x[11:15])\n",
    "df_Val.loc[df_Val['CERTIFIED']=='fin ','CERTIFIED']=\"\"\n",
    "df_Val = df_Val.loc[df_Val['ROBOT_NUMBER'].isnull()==True]\n",
    "df_Val.drop(columns=['ROBOT_NUMBER','STATUS'],inplace=True)\n",
    "df_Val.to_excel(r\"C:\\Users\\016434613\\Desktop\\Validation.xlsx\", index=False)"
   ]
  },
  {
   "cell_type": "code",
   "execution_count": null,
   "id": "687b39fe-81cd-4d21-ad27-99538c741e34",
   "metadata": {},
   "outputs": [],
   "source": []
  }
 ],
 "metadata": {
  "kernelspec": {
   "display_name": "Python 3 (ipykernel)",
   "language": "python",
   "name": "python3"
  },
  "language_info": {
   "codemirror_mode": {
    "name": "ipython",
    "version": 3
   },
   "file_extension": ".py",
   "mimetype": "text/x-python",
   "name": "python",
   "nbconvert_exporter": "python",
   "pygments_lexer": "ipython3",
   "version": "3.9.7"
  }
 },
 "nbformat": 4,
 "nbformat_minor": 5
}
