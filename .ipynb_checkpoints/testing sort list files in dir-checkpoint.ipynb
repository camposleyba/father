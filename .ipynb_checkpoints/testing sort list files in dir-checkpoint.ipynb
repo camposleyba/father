{
 "cells": [
  {
   "cell_type": "code",
   "execution_count": 4,
   "id": "c9fee625-c0c7-44c4-93b1-f2cc1234e557",
   "metadata": {},
   "outputs": [
    {
     "data": {
      "text/plain": [
       "'C:\\\\Users\\\\016434613\\\\Box\\\\MASTER REPORT\\\\Master Report 2022 3Q\\\\Master Report 2022 09 27 08_20 GMT.xlsx'"
      ]
     },
     "execution_count": 4,
     "metadata": {},
     "output_type": "execute_result"
    }
   ],
   "source": [
    "import pandas as pd\n",
    "import warnings\n",
    "import numpy as np\n",
    "import glob\n",
    "import re\n",
    "from urllib import request as req\n",
    "import json\n",
    "import os\n",
    "\n",
    "warnings.filterwarnings('ignore')\n",
    "\n",
    "filepath = r\"C:\\Users\\016434613\\Box\\MASTER REPORT\\Master Report 2022 3Q\"\n",
    "filepath_ = \"\"\n",
    "\n",
    "\n",
    "all_files = glob.glob(filepath+\"\\\\*.xlsx\")\n",
    "all_files = sorted(all_files, reverse=True)\n",
    "all_files[0]"
   ]
  },
  {
   "cell_type": "code",
   "execution_count": null,
   "id": "87ee0079-389d-4c13-addd-a2f5228c4f7d",
   "metadata": {},
   "outputs": [],
   "source": []
  }
 ],
 "metadata": {
  "kernelspec": {
   "display_name": "Python 3 (ipykernel)",
   "language": "python",
   "name": "python3"
  },
  "language_info": {
   "codemirror_mode": {
    "name": "ipython",
    "version": 3
   },
   "file_extension": ".py",
   "mimetype": "text/x-python",
   "name": "python",
   "nbconvert_exporter": "python",
   "pygments_lexer": "ipython3",
   "version": "3.9.7"
  }
 },
 "nbformat": 4,
 "nbformat_minor": 5
}
