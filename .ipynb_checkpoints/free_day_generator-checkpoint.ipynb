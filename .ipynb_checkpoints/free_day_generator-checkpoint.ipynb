{
 "cells": [
  {
   "cell_type": "code",
   "execution_count": 9,
   "id": "eed08620-bd38-46fe-b6f6-04391a014743",
   "metadata": {},
   "outputs": [
    {
     "data": {
      "text/plain": [
       "['Bruno Secchiari', 'Andres Grosman', 'Laura Bisaccia']"
      ]
     },
     "execution_count": 9,
     "metadata": {},
     "output_type": "execute_result"
    }
   ],
   "source": [
    "from random import randint\n",
    "\n",
    "dev_list = ['Pablo Iacovone','Santiago Kitashima','Martin Spadoni',\n",
    "'Laura Bisaccia','Andres Grosman','Bruno Secchiari','Ezequiel Ferlauto',\n",
    "'Florencia Castelvero','Dario Atach']\n",
    "\n",
    "free_day_list = []\n",
    "\n",
    "for i in range(3):\n",
    "    num = randint(0,len(dev_list))\n",
    "    free_day_list.append(dev_list[num])\n",
    "    dev_list.remove(dev_list[num])\n",
    "    \n",
    "free_day_list"
   ]
  },
  {
   "cell_type": "code",
   "execution_count": null,
   "id": "a9574995-96aa-4801-b1c8-2769d3c21d14",
   "metadata": {},
   "outputs": [],
   "source": []
  }
 ],
 "metadata": {
  "kernelspec": {
   "display_name": "Python 3 (ipykernel)",
   "language": "python",
   "name": "python3"
  },
  "language_info": {
   "codemirror_mode": {
    "name": "ipython",
    "version": 3
   },
   "file_extension": ".py",
   "mimetype": "text/x-python",
   "name": "python",
   "nbconvert_exporter": "python",
   "pygments_lexer": "ipython3",
   "version": "3.9.7"
  }
 },
 "nbformat": 4,
 "nbformat_minor": 5
}
