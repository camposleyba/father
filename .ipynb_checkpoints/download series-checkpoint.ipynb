{
 "cells": [
  {
   "cell_type": "code",
   "execution_count": 7,
   "id": "696b1f31-5408-49ab-a9b2-7fc87b642b75",
   "metadata": {},
   "outputs": [
    {
     "name": "stdin",
     "output_type": "stream",
     "text": [
      "Ingrese la serie o peli que quiere ver:  black bird s01e06\n",
      "\n",
      "Choose with a number which link to use starting from 0: \n",
      "\n",
      "0 - 5346673/Black-Bird-S01E06-720p-WEB-x265-MiNX-TGx/\"\n",
      "1 - 5346695/Black-Bird-S01E06-WEB-x264-PHOENiX/\"\n",
      "2 - 5346668/Black-Bird-S01E06-1080p-WEB-H264-GLHF-TGx/\"\n",
      "3 - 5346847/Black-Bird-S01E06-You-Promised-1080p-ATVP-WEBRip-DDP5-1-x264-NTb-TGx/\"\n",
      "4 - 5346664/Black-Bird-S01E06-720p-WEB-h264-KOGi-TGx/\"\n",
      "5 - 5347927/Black-Bird-S01E06-2022-Apple-TV-4K-to-1080p-HEVC-OPUS-HR-DR/\"\n",
      "6 - 5348735/Black-Bird-S01E06-Me-l-avevi-promesso-DLMux-1080p-E-AC3-AC3-ITA-ENG-SUBS-mkv/\"\n",
      "7 - 5349298/Black-Bird-S01E06-You-Promised-2160p-ATVP-WEBMux-HEVC-HDR-ITA-ENG-DDP5-1-Atmos-x265-BlackBit-mkv/\"\n",
      "8 - 5346818/Black-Bird-S01E06-WEBRip-x264-XEN0N/\"\n",
      "\n",
      " 2\n"
     ]
    },
    {
     "name": "stdout",
     "output_type": "stream",
     "text": [
      "magnet:?xt=urn:btih:791AFE9FF3FDB17284D17FCFA74D0473BC4AC8A7&dn=Black.Bird.S01E06.1080p.WEB.H264-GLHF%5BTGx%5D&tr=udp%3A%2F%2Fopen.stealth.si%3A80%2Fannounce&tr=udp%3A%2F%2Ftracker.tiny-vps.com%3A6969%2Fannounce&tr=udp%3A%2F%2Ftracker.opentrackr.org%3A1337%2Fannounce&tr=udp%3A%2F%2Ftracker.torrent.eu.org%3A451%2Fannounce&tr=udp%3A%2F%2Fexplodie.org%3A6969%2Fannounce&tr=udp%3A%2F%2Ftracker.cyberia.is%3A6969%2Fannounce&tr=udp%3A%2F%2Fipv4.tracker.harry.lu%3A80%2Fannounce&tr=udp%3A%2F%2Fp4p.arenabg.com%3A1337%2Fannounce&tr=udp%3A%2F%2Ftracker.birkenwald.de%3A6969%2Fannounce&tr=udp%3A%2F%2Ftracker.moeking.me%3A6969%2Fannounce&tr=udp%3A%2F%2Fopentor.org%3A2710%2Fannounce&tr=udp%3A%2F%2Ftracker.dler.org%3A6969%2Fannounce&tr=udp%3A%2F%2F9.rarbg.me%3A2970%2Fannounce&tr=https%3A%2F%2Ftracker.foreverpirates.co%3A443%2Fannounce&tr=udp%3A%2F%2Ftracker.opentrackr.org%3A1337%2Fannounce&tr=http%3A%2F%2Ftracker.openbittorrent.com%3A80%2Fannounce&tr=udp%3A%2F%2Fopentracker.i2p.rocks%3A6969%2Fannounce&tr=udp%3A%2F%2Ftracker.internetwarriors.net%3A1337%2Fannounce&tr=udp%3A%2F%2Ftracker.leechers-paradise.org%3A6969%2Fannounce&tr=udp%3A%2F%2Fcoppersurfer.tk%3A6969%2Fannounce&tr=udp%3A%2F%2Ftracker.zer0day.to%3A1337%2Fannounce\n"
     ]
    },
    {
     "name": "stdin",
     "output_type": "stream",
     "text": [
      "Desea proseguir? Y/N: y\n"
     ]
    },
    {
     "name": "stdout",
     "output_type": "stream",
     "text": [
      "Successfully set up client!\n",
      "File subido exitosamente!\n"
     ]
    }
   ],
   "source": [
    "from movieSeries_search import *\n",
    "import dropbox\n",
    "from dropbox import DropboxOAuth2FlowNoRedirect\n",
    "import warnings\n",
    "import time\n",
    "import requests\n",
    "import webbrowser\n",
    "import re\n",
    "import os.path\n",
    "import pickle\n",
    "from Reports.Create_Credentials import createCredentials\n",
    "\n",
    "warnings.filterwarnings('ignore')\n",
    "\n",
    "cr = createCredentials()\n",
    "\n",
    "dire = input(\"Ingrese la serie o peli que quiere ver: \")\n",
    "dire = dire.replace(\" \", \"+\")\n",
    "\n",
    "tolink = search_movie_series(dire)\n",
    "if tolink != \"There is no torrent for the movie or series you choosed!\":\n",
    "    tosend = search_magnetLink(tolink)\n",
    "    print(tosend)\n",
    "else:\n",
    "    print(tolink)\n",
    "\n",
    "a = input(\"Desea proseguir? Y/N:\")\n",
    "a = a.lower()\n",
    "str_movie = r\"C:\\Users\\016434613\\Desktop\"\n",
    "movie=dire+\".txt\"\n",
    "full_dire = str_movie + \"\\\\\" + movie\n",
    "\n",
    "if a == \"y\":   \n",
    "    with open(full_dire,\"w\") as outfile:\n",
    "        outfile.write(tosend)   \n",
    "    exists = os.path.exists('credentials')\n",
    "    if exists:\n",
    "        dict_= cr.load('credentials')\n",
    "        \n",
    "        with dropbox.Dropbox(oauth2_refresh_token=dict_['oauth2_refresh_token'],\n",
    "                             app_key=dict_['APP_KEY'],\n",
    "                            ) as dbx:\n",
    "            print(\"Successfully set up client!\")\n",
    "\n",
    "        dire = dire.replace(\"+\",\" \")\n",
    "\n",
    "        file_from = full_dire  \n",
    "        file_to = '/movies/'+dire+'.txt' \n",
    "        \n",
    "        def upload_file(file_from, file_to):\n",
    "            f = open(file_from, 'rb')\n",
    "            dbx.files_upload(f.read(), file_to)\n",
    "            \n",
    "        upload_file(file_from,file_to)\n",
    "        \n",
    "        print(\"File subido exitosamente!\")\n",
    "    else:\n",
    "        with open(\"APP_SECRETS\", \"rb\") as f:\n",
    "            APP_S = pickle.load(f)\n",
    "        auth_flow3 = DropboxOAuth2FlowNoRedirect(APP_S['APP_KEY'],\n",
    "                                                 use_pkce=True, \n",
    "                                                 token_access_type='offline')\n",
    "\n",
    "        authorize_url = auth_flow3.start()\n",
    "        webbrowser.open(authorize_url)\n",
    "        auth_code = input(\"Enter the authorization code here: \").strip()\n",
    "\n",
    "        try:\n",
    "            oauth_result = auth_flow3.finish(auth_code)\n",
    "            print(oauth_result)\n",
    "        except Exception as e:\n",
    "            print('Error: %s' % (e,))\n",
    "            exit(1)\n",
    "           \n",
    "        credentials = {\n",
    "           \"APP_KEY\":APP_S['APP_KEY'],\n",
    "           \"oauth2_refresh_token\":oauth_result.refresh_token,\n",
    "        }\n",
    "\n",
    "        cr.createWithDict('credentials',dict_cred=credentials)\n",
    "        \n",
    "        print(\"Credentials file created to upload to Dropbox, try again!\")\n",
    "else:\n",
    "    print(\"No tenemos link para subir\")\n",
    "    "
   ]
  },
  {
   "cell_type": "code",
   "execution_count": 8,
   "id": "4531453d-7a6d-40e9-aef0-831f3c812540",
   "metadata": {},
   "outputs": [
    {
     "name": "stdout",
     "output_type": "stream",
     "text": [
      "File subido exitosamente!\n"
     ]
    }
   ],
   "source": [
    "file_from = r\"C:\\Users\\016434613\\Desktop\\Black.Bird.S01E06.You Promised (Español (Latinoamérica)).srt\"\n",
    "file_to = '/movies/BlackBird_E06.srt'\n",
    "def upload_file(file_from, file_to):\n",
    "    f = open(file_from, 'rb')\n",
    "    dbx.files_upload(f.read(), file_to)\n",
    "upload_file(file_from,file_to)\n",
    "print(\"File subido exitosamente!\")"
   ]
  },
  {
   "cell_type": "code",
   "execution_count": null,
   "id": "b4708a24-928f-44c6-8b4d-7bdb688c5895",
   "metadata": {},
   "outputs": [],
   "source": []
  }
 ],
 "metadata": {
  "kernelspec": {
   "display_name": "Python 3 (ipykernel)",
   "language": "python",
   "name": "python3"
  },
  "language_info": {
   "codemirror_mode": {
    "name": "ipython",
    "version": 3
   },
   "file_extension": ".py",
   "mimetype": "text/x-python",
   "name": "python",
   "nbconvert_exporter": "python",
   "pygments_lexer": "ipython3",
   "version": "3.9.7"
  }
 },
 "nbformat": 4,
 "nbformat_minor": 5
}
