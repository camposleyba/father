{
 "cells": [
  {
   "cell_type": "code",
   "execution_count": 1,
   "id": "696b1f31-5408-49ab-a9b2-7fc87b642b75",
   "metadata": {},
   "outputs": [
    {
     "name": "stdin",
     "output_type": "stream",
     "text": [
      "Ingrese la serie o peli que quiere ver:  thor ragnarok\n",
      "\n",
      "Choose with a number which link to use starting from 0: \n",
      "\n",
      "0 - 2745751/Thor-Ragnarok-2017-1080p-WEB-DL-X264-AC3-EVO/\"\n",
      "1 - 2807320/Thor-Ragnarok-2017-BluRay-1080p-YTS-YIFY/\"\n",
      "2 - 2807314/Thor-Ragnarok-2017-BluRay-720p-YTS-YIFY/\"\n",
      "3 - 2745866/Thor-Ragnarok-2017-720p-WEB-DL-1GB-MkvCage/\"\n",
      "4 - 2567980/Thor-Ragnarok-2017-NEW-FULL-HDCAM-ENG-X264-DADDY/\"\n",
      "5 - 2745890/Thor-Ragnarok-2017-1080p-WEB-DL-AC3-6CH-2-4GB-MkvCage/\"\n",
      "6 - 2809279/Thor-Ragnarok-2017-MULTI-1080p-BluRay-x264-VENUE/\"\n",
      "7 - 2836886/Thor-Ragnarok-2017-720p-BluRay-x264-Dual-Audio-Hindi-5-1-English-5-1-ESubs-Downloadhub/\"\n",
      "8 - 2550861/Thor-Ragnarok-2017-ENG-HDCAM-x264-JellyBean/\"\n",
      "9 - 2815743/Thor-Ragnarok-2017-720p-H264-italian-english-Ac3-5-1-sub-ita-eng-MIRCrew/\"\n",
      "10 - 2809286/Thor-Ragnarok-2017-FRENCH-720p-BluRay-x264-VENUE/\"\n",
      "11 - 2745790/Thor-Ragnarok-2017-HDRip-XviD-AC3-EVO/\"\n",
      "12 - 2852838/Thor-Ragnarok-2017-1080p-BluRay-x264-ESubs-2GB-TorrentCounter/\"\n",
      "13 - 2830628/Thor-Ragnarok-2017-BluRay-3D-YTS-YIFY/\"\n",
      "14 - 2809290/Thor-Ragnarok-2017-FRENCH-BDRip-x264-VENUE/\"\n",
      "15 - 2852834/Thor-Ragnarok-2017-720p-BluRay-x264-ESubs-1GB-TorrentCounter/\"\n",
      "16 - 2808016/Thor-Ragnarok-2017-1080p-BluRay-YTS-ME-YIFY/\"\n",
      "17 - 2808513/Thor-Ragnarok-2017-720p-BluRay-x264-ESubs-Multi-Audio-Hindi-Clean-Tel-Line-English-1-4GB-MovCr/\"\n",
      "18 - 2909001/Thor-Ragnarok-2017-1080p-Bluray-x265-DTS-Omikron/\"\n",
      "19 - 2806995/Thor-Ragnarok-2017-720p-BluRay-YTS-ME-YIFY/\"\n",
      "\n",
      " 0\n"
     ]
    },
    {
     "ename": "AttributeError",
     "evalue": "'NoneType' object has no attribute 'span'",
     "output_type": "error",
     "traceback": [
      "\u001b[1;31m---------------------------------------------------------------------------\u001b[0m",
      "\u001b[1;31mAttributeError\u001b[0m                            Traceback (most recent call last)",
      "\u001b[1;32mC:\\Users\\016434~1\\AppData\\Local\\Temp/ipykernel_15376/1719827846.py\u001b[0m in \u001b[0;36m<module>\u001b[1;34m\u001b[0m\n\u001b[0;32m     20\u001b[0m \u001b[0mtolink\u001b[0m \u001b[1;33m=\u001b[0m \u001b[0msearch_movie_series\u001b[0m\u001b[1;33m(\u001b[0m\u001b[0mdire\u001b[0m\u001b[1;33m)\u001b[0m\u001b[1;33m\u001b[0m\u001b[1;33m\u001b[0m\u001b[0m\n\u001b[0;32m     21\u001b[0m \u001b[1;32mif\u001b[0m \u001b[0mtolink\u001b[0m \u001b[1;33m!=\u001b[0m \u001b[1;34m\"There is no torrent for the movie or series you choosed!\"\u001b[0m\u001b[1;33m:\u001b[0m\u001b[1;33m\u001b[0m\u001b[1;33m\u001b[0m\u001b[0m\n\u001b[1;32m---> 22\u001b[1;33m     \u001b[0mtosend\u001b[0m \u001b[1;33m=\u001b[0m \u001b[0msearch_magnetLink\u001b[0m\u001b[1;33m(\u001b[0m\u001b[0mtolink\u001b[0m\u001b[1;33m)\u001b[0m\u001b[1;33m\u001b[0m\u001b[1;33m\u001b[0m\u001b[0m\n\u001b[0m\u001b[0;32m     23\u001b[0m     \u001b[0mprint\u001b[0m\u001b[1;33m(\u001b[0m\u001b[0mtosend\u001b[0m\u001b[1;33m)\u001b[0m\u001b[1;33m\u001b[0m\u001b[1;33m\u001b[0m\u001b[0m\n\u001b[0;32m     24\u001b[0m \u001b[1;32melse\u001b[0m\u001b[1;33m:\u001b[0m\u001b[1;33m\u001b[0m\u001b[1;33m\u001b[0m\u001b[0m\n",
      "\u001b[1;32m~\\Dev\\movieSeries_search.py\u001b[0m in \u001b[0;36msearch_magnetLink\u001b[1;34m(l)\u001b[0m\n\u001b[0;32m     37\u001b[0m     \u001b[0mdatos_\u001b[0m \u001b[1;33m=\u001b[0m \u001b[0mdatos\u001b[0m\u001b[1;33m[\u001b[0m\u001b[0mposini\u001b[0m\u001b[1;33m:\u001b[0m\u001b[1;33m]\u001b[0m\u001b[1;33m\u001b[0m\u001b[1;33m\u001b[0m\u001b[0m\n\u001b[0;32m     38\u001b[0m     \u001b[0msear\u001b[0m \u001b[1;33m=\u001b[0m \u001b[0mre\u001b[0m\u001b[1;33m.\u001b[0m\u001b[0msearch\u001b[0m\u001b[1;33m(\u001b[0m\u001b[1;34mr\" onclick=\"\u001b[0m\u001b[1;33m,\u001b[0m\u001b[0mdatos_\u001b[0m\u001b[1;33m)\u001b[0m\u001b[1;33m\u001b[0m\u001b[1;33m\u001b[0m\u001b[0m\n\u001b[1;32m---> 39\u001b[1;33m     \u001b[0mposfin\u001b[0m \u001b[1;33m=\u001b[0m \u001b[0msear\u001b[0m\u001b[1;33m.\u001b[0m\u001b[0mspan\u001b[0m\u001b[1;33m(\u001b[0m\u001b[1;33m)\u001b[0m\u001b[1;33m[\u001b[0m\u001b[1;36m1\u001b[0m\u001b[1;33m]\u001b[0m\u001b[1;33m\u001b[0m\u001b[1;33m\u001b[0m\u001b[0m\n\u001b[0m\u001b[0;32m     40\u001b[0m     \u001b[0mlink_\u001b[0m \u001b[1;33m=\u001b[0m \u001b[0mdatos_\u001b[0m\u001b[1;33m[\u001b[0m\u001b[1;36m6\u001b[0m\u001b[1;33m:\u001b[0m\u001b[0mposfin\u001b[0m\u001b[1;33m-\u001b[0m\u001b[1;36m10\u001b[0m\u001b[1;33m]\u001b[0m\u001b[1;33m\u001b[0m\u001b[1;33m\u001b[0m\u001b[0m\n\u001b[0;32m     41\u001b[0m     \u001b[1;32mreturn\u001b[0m \u001b[0mlink_\u001b[0m\u001b[1;33m\u001b[0m\u001b[1;33m\u001b[0m\u001b[0m\n",
      "\u001b[1;31mAttributeError\u001b[0m: 'NoneType' object has no attribute 'span'"
     ]
    }
   ],
   "source": [
    "from movieSeries_search import *\n",
    "import dropbox\n",
    "from dropbox import DropboxOAuth2FlowNoRedirect\n",
    "import warnings\n",
    "import time\n",
    "import requests\n",
    "import webbrowser\n",
    "import re\n",
    "import os.path\n",
    "import pickle\n",
    "from Reports.Create_Credentials import createCredentials\n",
    "\n",
    "warnings.filterwarnings('ignore')\n",
    "\n",
    "cr = createCredentials()\n",
    "\n",
    "dire = input(\"Ingrese la serie o peli que quiere ver: \")\n",
    "dire = dire.replace(\" \", \"+\")\n",
    "\n",
    "tolink = search_movie_series(dire)\n",
    "if tolink != \"There is no torrent for the movie or series you choosed!\":\n",
    "    tosend = search_magnetLink(tolink)\n",
    "    print(tosend)\n",
    "else:\n",
    "    print(tolink)\n",
    "\n",
    "a = input(\"Desea proseguir? Y/N:\")\n",
    "a = a.lower()\n",
    "str_movie = r\"C:\\Users\\016434613\\Desktop\"\n",
    "movie=dire+\".txt\"\n",
    "full_dire = str_movie + \"\\\\\" + movie\n",
    "\n",
    "if a == \"y\":   \n",
    "    with open(full_dire,\"w\") as outfile:\n",
    "        outfile.write(tosend)   \n",
    "    exists = os.path.exists('credentials')\n",
    "    if exists:\n",
    "        dict_= cr.load('credentials')\n",
    "        \n",
    "        with dropbox.Dropbox(oauth2_refresh_token=dict_['oauth2_refresh_token'],\n",
    "                             app_key=dict_['APP_KEY'],\n",
    "                            ) as dbx:\n",
    "            print(\"Successfully set up client!\")\n",
    "\n",
    "        dire = dire.replace(\"+\",\" \")\n",
    "\n",
    "        file_from = full_dire  \n",
    "        file_to = '/movies/'+dire+'.txt' \n",
    "        \n",
    "        def upload_file(file_from, file_to):\n",
    "            f = open(file_from, 'rb')\n",
    "            dbx.files_upload(f.read(), file_to)\n",
    "            \n",
    "        upload_file(file_from,file_to)\n",
    "        \n",
    "        print(\"File subido exitosamente!\")\n",
    "    else:\n",
    "        with open(\"APP_SECRETS\", \"rb\") as f:\n",
    "            APP_S = pickle.load(f)\n",
    "        auth_flow3 = DropboxOAuth2FlowNoRedirect(APP_S['APP_KEY'],\n",
    "                                                 use_pkce=True, \n",
    "                                                 token_access_type='offline')\n",
    "\n",
    "        authorize_url = auth_flow3.start()\n",
    "        webbrowser.open(authorize_url)\n",
    "        auth_code = input(\"Enter the authorization code here: \").strip()\n",
    "\n",
    "        try:\n",
    "            oauth_result = auth_flow3.finish(auth_code)\n",
    "            print(oauth_result)\n",
    "        except Exception as e:\n",
    "            print('Error: %s' % (e,))\n",
    "            exit(1)\n",
    "           \n",
    "        credentials = {\n",
    "           \"APP_KEY\":APP_S['APP_KEY'],\n",
    "           \"oauth2_refresh_token\":oauth_result.refresh_token,\n",
    "        }\n",
    "\n",
    "        cr.createWithDict('credentials',dict_cred=credentials)\n",
    "        \n",
    "        print(\"Credentials file created to upload to Dropbox, try again!\")\n",
    "else:\n",
    "    print(\"No tenemos link para subir\")\n",
    "    "
   ]
  },
  {
   "cell_type": "code",
   "execution_count": 7,
   "id": "4531453d-7a6d-40e9-aef0-831f3c812540",
   "metadata": {},
   "outputs": [
    {
     "name": "stdout",
     "output_type": "stream",
     "text": [
      "File subido exitosamente!\n"
     ]
    }
   ],
   "source": [
    "file_from = r\"C:\\Users\\016434613\\Desktop\\The Woman King 2022 1080p WEB-DL DDP5.1 H 264-EVO.srt\"\n",
    "file_to = '/movies/woman_king.srt'\n",
    "def upload_file(file_from, file_to):\n",
    "    f = open(file_from, 'rb')\n",
    "    dbx.files_upload(f.read(), file_to)\n",
    "upload_file(file_from,file_to)\n",
    "print(\"File subido exitosamente!\")"
   ]
  },
  {
   "cell_type": "code",
   "execution_count": 3,
   "id": "b4708a24-928f-44c6-8b4d-7bdb688c5895",
   "metadata": {},
   "outputs": [
    {
     "name": "stdout",
     "output_type": "stream",
     "text": [
      "ngx7pmj915az7b6 -- aa8VmSFd_EQAAAAAAAAAAQuPvxcLONSdcHlL1a1o2-07owDiZQLObeCVsSDcPFZX\n"
     ]
    }
   ],
   "source": [
    "from Reports.Create_Credentials import createCredentials\n",
    "cr = createCredentials()\n",
    "dict_= cr.load('credentials')\n",
    "print(dict_['APP_KEY'], \"--\", dict_['oauth2_refresh_token'])"
   ]
  },
  {
   "cell_type": "code",
   "execution_count": 4,
   "id": "39bef6c5-dc7a-460f-8f3c-e29e0780859e",
   "metadata": {},
   "outputs": [
    {
     "name": "stdin",
     "output_type": "stream",
     "text": [
      "Ingrese la serie o peli que quiere ver:  ted lasso s03e07\n"
     ]
    }
   ],
   "source": [
    "from urllib.request import Request, urlopen\n",
    "import requests\n",
    "import re\n",
    "import pandas as pd\n",
    "import time\n",
    "\n",
    "\n",
    "start = time.time()\n",
    "\n",
    "dire = input(\"Ingrese la serie o peli que quiere ver: \")\n",
    "dire = dire.replace(\" \", \"+\")\n",
    "\n",
    "req = Request(\"https://thepiratebay0.org/search/\"+dire+\"/1/99/0\", headers={'User-Agent': 'Mozilla/5.0'})\n",
    "web = urlopen(req)\n",
    "datos = web.read().decode()\n",
    "\n",
    "magnet_url_list = re.findall(r\"(\\\"magnet:\\?xt=urn:btih:(.*?)announce\\\")\",datos)\n",
    "magnet_url_list\n",
    "\n",
    "magnet_list_final = []\n",
    "names_list = re.findall(r\"(class=\\\"detLink\\\" title=(.*?)>)\",datos)\n",
    "names_list_final = []\n",
    "\n",
    "for magnet in magnet_url_list:\n",
    "    magnet_list_final.append(magnet[0][1:-1])\n",
    "    \n",
    "for name in names_list:\n",
    "    names_list_final.append(name[1][13:-1])\n",
    "\n",
    "dire = dire.replace(\"+\", \" \")\n",
    "\n",
    "df = pd.DataFrame({'Ripeado por':names_list_final, 'Magent_url': magnet_list_final})\n",
    "df.to_excel(r'C:\\Users\\016434613\\Desktop\\\\'+dire+'.xlsx')\n",
    "\n",
    "end = time.time()\n",
    "mins = (end-start)/60.00\n",
    "if mins < 1:\n",
    "    mins = end-start\n",
    "    print('Reports created/updated in: {:.2f} seconds'.format(mins))\n",
    "else:\n",
    "    print('Reports created/updated in: {:.2f} minutes'.format(mins))"
   ]
  },
  {
   "cell_type": "code",
   "execution_count": null,
   "id": "ac1a3dad-10ef-4661-8b1f-549d466b2d0c",
   "metadata": {},
   "outputs": [],
   "source": []
  }
 ],
 "metadata": {
  "kernelspec": {
   "display_name": "Python 3 (ipykernel)",
   "language": "python",
   "name": "python3"
  },
  "language_info": {
   "codemirror_mode": {
    "name": "ipython",
    "version": 3
   },
   "file_extension": ".py",
   "mimetype": "text/x-python",
   "name": "python",
   "nbconvert_exporter": "python",
   "pygments_lexer": "ipython3",
   "version": "3.9.7"
  }
 },
 "nbformat": 4,
 "nbformat_minor": 5
}
