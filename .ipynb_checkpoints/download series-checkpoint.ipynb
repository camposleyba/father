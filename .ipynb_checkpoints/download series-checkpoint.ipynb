{
 "cells": [
  {
   "cell_type": "code",
   "execution_count": null,
   "id": "696b1f31-5408-49ab-a9b2-7fc87b642b75",
   "metadata": {},
   "outputs": [],
   "source": [
    "from urllib.request import Request, urlopen\n",
    "import re\n",
    "dire = input(\"Ingrese la serie o peli que quiere ver: \")\n",
    "dire = dire.replace(\" \", \"+\")\n",
    "request = Request(\"https://1337x.to/search/\"+dire+\"/1/\", headers={'User-Agent': 'Mozilla/5.0'})\n",
    "web = urlopen(request)\n",
    "datos = web.read().decode()\n",
    "#datos\n",
    "sear = re.search(r\"<a href=\\\"/torrent/\",datos )\n",
    "posini = sear.span()[0]\n",
    "\n",
    "datos2 = datos[posini:]\n",
    "\n",
    "sear = re.search(r\"\\/\\\">\",datos2 )\n",
    "\n",
    "posfin = sear.span()[1]\n",
    "\n",
    "link = datos2[10:posfin-2]\n",
    "link"
   ]
  },
  {
   "cell_type": "code",
   "execution_count": null,
   "id": "5f0aadde-60fd-4826-85e1-5e16d3f051fd",
   "metadata": {},
   "outputs": [],
   "source": [
    "request = Request(\"https://1337x.to/\"+link, headers={'User-Agent': 'Mozilla/5.0'})\n",
    "web = urlopen(request)\n",
    "datos = web.read().decode()\n",
    "datos"
   ]
  }
 ],
 "metadata": {
  "kernelspec": {
   "display_name": "Python 3 (ipykernel)",
   "language": "python",
   "name": "python3"
  },
  "language_info": {
   "codemirror_mode": {
    "name": "ipython",
    "version": 3
   },
   "file_extension": ".py",
   "mimetype": "text/x-python",
   "name": "python",
   "nbconvert_exporter": "python",
   "pygments_lexer": "ipython3",
   "version": "3.9.7"
  }
 },
 "nbformat": 4,
 "nbformat_minor": 5
}
