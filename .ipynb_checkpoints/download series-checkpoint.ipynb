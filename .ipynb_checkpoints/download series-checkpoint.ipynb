{
 "cells": [
  {
   "cell_type": "code",
   "execution_count": 7,
   "id": "696b1f31-5408-49ab-a9b2-7fc87b642b75",
   "metadata": {},
   "outputs": [
    {
     "name": "stdin",
     "output_type": "stream",
     "text": [
      "Ingrese la serie o peli que quiere ver:  new amsterdam s03e08\n"
     ]
    },
    {
     "name": "stdout",
     "output_type": "stream",
     "text": [
      "magnet:?xt=urn:btih:59769D79675DA00A79355D799BA1EA9B376AC56C&dn=New.Amsterdam.2018.S03E08.WEB.x264-PHOENiX%5BTGx%5D+%E2%AD%90&tr=udp%3A%2F%2Fopen.stealth.si%3A80%2Fannounce&tr=udp%3A%2F%2Ftracker.tiny-vps.com%3A6969%2Fannounce&tr=udp%3A%2F%2Ffasttracker.foreverpirates.co%3A6969%2Fannounce&tr=udp%3A%2F%2Ftracker.opentrackr.org%3A1337%2Fannounce&tr=udp%3A%2F%2Fexplodie.org%3A6969%2Fannounce&tr=udp%3A%2F%2Ftracker.cyberia.is%3A6969%2Fannounce&tr=udp%3A%2F%2Fipv4.tracker.harry.lu%3A80%2Fannounce&tr=udp%3A%2F%2Ftracker.uw0.xyz%3A6969%2Fannounce&tr=udp%3A%2F%2Fopentracker.i2p.rocks%3A6969%2Fannounce&tr=udp%3A%2F%2Ftracker.birkenwald.de%3A6969%2Fannounce&tr=udp%3A%2F%2Ftracker.torrent.eu.org%3A451%2Fannounce&tr=udp%3A%2F%2Ftracker.moeking.me%3A6969%2Fannounce&tr=udp%3A%2F%2Fopentor.org%3A2710%2Fannounce&tr=udp%3A%2F%2Ftracker.dler.org%3A6969%2Fannounce&tr=udp%3A%2F%2Ftracker.zer0day.to%3A1337%2Fannounce&tr=udp%3A%2F%2Ftracker.leechers-paradise.org%3A6969%2Fannounce&tr=udp%3A%2F%2Fcoppersurfer.tk%3A6969%2Fannounce\n"
     ]
    }
   ],
   "source": [
    "from movieSeries_search import *\n",
    "\n",
    "dire = input(\"Ingrese la serie o peli que quiere ver: \")\n",
    "dire = dire.replace(\" \", \"+\")\n",
    "\n",
    "tolink = search_movie_series(dire)\n",
    "if tolink != \"There is no torrent for the movie or series you choosed!\":\n",
    "    print(search_magnetLink(tolink))\n",
    "else:\n",
    "    print(tolink)"
   ]
  },
  {
   "cell_type": "code",
   "execution_count": 45,
   "id": "a68b8771-7623-4f62-a56b-f3e48f561ff2",
   "metadata": {},
   "outputs": [
    {
     "data": {
      "text/plain": [
       "CompletedProcess(args='cmd', returncode=0, stdout=b'Microsoft Windows [Versi\\xa2n 10.0.19043.1348]\\r\\n(c) Microsoft Corporation. Todos los derechos reservados.\\r\\n\\r\\nC:\\\\Users\\\\016434613\\\\Dev>', stderr=b'')"
      ]
     },
     "execution_count": 45,
     "metadata": {},
     "output_type": "execute_result"
    }
   ],
   "source": [
    "import subprocess\n",
    "subprocess.run(\"cmd\",shell=True, capture_output=True)"
   ]
  },
  {
   "cell_type": "code",
   "execution_count": null,
   "id": "a563c1f6-54d7-4f78-88ac-c6ad79feed0f",
   "metadata": {},
   "outputs": [],
   "source": []
  }
 ],
 "metadata": {
  "kernelspec": {
   "display_name": "Python 3 (ipykernel)",
   "language": "python",
   "name": "python3"
  },
  "language_info": {
   "codemirror_mode": {
    "name": "ipython",
    "version": 3
   },
   "file_extension": ".py",
   "mimetype": "text/x-python",
   "name": "python",
   "nbconvert_exporter": "python",
   "pygments_lexer": "ipython3",
   "version": "3.9.7"
  }
 },
 "nbformat": 4,
 "nbformat_minor": 5
}
