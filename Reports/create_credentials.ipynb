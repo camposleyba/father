{
 "cells": [
  {
   "cell_type": "code",
   "execution_count": 1,
   "id": "791a742a-d52e-472b-a3a5-8414104ce204",
   "metadata": {},
   "outputs": [
    {
     "name": "stdin",
     "output_type": "stream",
     "text": [
      "Enter user id: \n",
      " marcamp@ar.ibm.com\n",
      "Enter your password: \n",
      " ··················\n"
     ]
    },
    {
     "name": "stdout",
     "output_type": "stream",
     "text": [
      "Credentials successfully created!\n"
     ]
    }
   ],
   "source": [
    "import getpass as gp\n",
    "from Create_Credentials import createCredentials\n",
    "\n",
    "user = input(\"Enter user id: \\n\")\n",
    "psw = gp.getpass(\"Enter your password: \\n\")\n",
    "\n",
    "cr = createCredentials(user, psw)\n",
    "\n",
    "cr.create(\"w3id_credentials\")"
   ]
  },
  {
   "cell_type": "code",
   "execution_count": 11,
   "id": "99ab0bb2-5661-4814-a262-14fbfa5bc24c",
   "metadata": {},
   "outputs": [
    {
     "name": "stdout",
     "output_type": "stream",
     "text": [
      "Creadentials stored are: \n",
      " user: marcamp@ar.ibm.com \n",
      " password: ******************\n"
     ]
    }
   ],
   "source": [
    "print(cr)"
   ]
  },
  {
   "cell_type": "code",
   "execution_count": 14,
   "id": "96b09064-506e-491e-aa31-c044e06d15ec",
   "metadata": {},
   "outputs": [],
   "source": [
    "from Create_Credentials import createCredentials\n",
    "\n",
    "cr = createCredentials()\n",
    "cr2 = cr.load(\"w3id_credentials\")"
   ]
  },
  {
   "cell_type": "code",
   "execution_count": 1,
   "id": "7549f1eb-0406-4f0c-b062-eb4aa91545d5",
   "metadata": {},
   "outputs": [
    {
     "name": "stdout",
     "output_type": "stream",
     "text": [
      "Help on class createCredentials in module Create_Credentials:\n",
      "\n",
      "class createCredentials(builtins.object)\n",
      " |  createCredentials(user='', psw='')\n",
      " |  \n",
      " |  Methods defined here:\n",
      " |  \n",
      " |  __init__(self, user='', psw='')\n",
      " |      Initialize self.  See help(type(self)) for accurate signature.\n",
      " |  \n",
      " |  create(self, name='credentials')\n",
      " |      Create function, takes 1 parameter which is the name of the credentials file to be created\n",
      " |      and locally saved.\n",
      " |      It uses pickle library to create a binary file with the user and password provided in the\n",
      " |      class initiation.\n",
      " |  \n",
      " |  load(self, name='credentials')\n",
      " |      Load function, is used to check the previously saved credentials on the file already provided on \n",
      " |      the create function\n",
      " |  \n",
      " |  ----------------------------------------------------------------------\n",
      " |  Data descriptors defined here:\n",
      " |  \n",
      " |  __dict__\n",
      " |      dictionary for instance variables (if defined)\n",
      " |  \n",
      " |  __weakref__\n",
      " |      list of weak references to the object (if defined)\n",
      "\n"
     ]
    }
   ],
   "source": [
    "from Create_Credentials import createCredentials\n",
    "help(createCredentials)"
   ]
  },
  {
   "cell_type": "code",
   "execution_count": null,
   "id": "4606a124-f592-45ed-826d-a87cb334384a",
   "metadata": {},
   "outputs": [],
   "source": []
  }
 ],
 "metadata": {
  "kernelspec": {
   "display_name": "Python 3 (ipykernel)",
   "language": "python",
   "name": "python3"
  },
  "language_info": {
   "codemirror_mode": {
    "name": "ipython",
    "version": 3
   },
   "file_extension": ".py",
   "mimetype": "text/x-python",
   "name": "python",
   "nbconvert_exporter": "python",
   "pygments_lexer": "ipython3",
   "version": "3.9.7"
  }
 },
 "nbformat": 4,
 "nbformat_minor": 5
}
