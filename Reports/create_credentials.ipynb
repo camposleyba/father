{
 "cells": [
  {
   "cell_type": "code",
   "execution_count": 1,
   "id": "791a742a-d52e-472b-a3a5-8414104ce204",
   "metadata": {},
   "outputs": [
    {
     "name": "stdin",
     "output_type": "stream",
     "text": [
      "Enter user id: \n",
      " ar16434\n",
      "Enter your password: \n",
      " ················\n"
     ]
    },
    {
     "name": "stdout",
     "output_type": "stream",
     "text": [
      "Credentials successfully created!\n"
     ]
    }
   ],
   "source": [
    "import getpass as gp\n",
    "from Create_Credentials import createCredentials\n",
    "\n",
    "user = input(\"Enter user id: \\n\")\n",
    "psw = gp.getpass(\"Enter your password: \\n\")\n",
    "\n",
    "cr = createCredentials(user, psw)\n",
    "\n",
    "cr.create(\"credentials\")"
   ]
  },
  {
   "cell_type": "code",
   "execution_count": null,
   "id": "96b09064-506e-491e-aa31-c044e06d15ec",
   "metadata": {},
   "outputs": [],
   "source": []
  }
 ],
 "metadata": {
  "kernelspec": {
   "display_name": "Python 3 (ipykernel)",
   "language": "python",
   "name": "python3"
  },
  "language_info": {
   "codemirror_mode": {
    "name": "ipython",
    "version": 3
   },
   "file_extension": ".py",
   "mimetype": "text/x-python",
   "name": "python",
   "nbconvert_exporter": "python",
   "pygments_lexer": "ipython3",
   "version": "3.9.7"
  }
 },
 "nbformat": 4,
 "nbformat_minor": 5
}
