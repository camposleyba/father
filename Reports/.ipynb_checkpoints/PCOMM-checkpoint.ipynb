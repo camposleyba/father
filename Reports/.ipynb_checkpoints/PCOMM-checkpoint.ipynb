{
 "cells": [
  {
   "cell_type": "code",
   "execution_count": 5,
   "id": "4f90c7aa-f432-43e8-b862-ce75f913dbdb",
   "metadata": {},
   "outputs": [
    {
     "name": "stdout",
     "output_type": "stream",
     "text": [
      "b'U'\n"
     ]
    }
   ],
   "source": [
    "from ibm import Instance\n",
    "\n",
    "instance = Instance(session='A')\n",
    "print(instance.get_text(row=4, column=8, length=1))\n",
    "# \"IPL\"\n",
    "instance.wait(1)\n",
    "# block execution for 1 second\n",
    "instance.send_keys(key='tso')\n",
    "instance.send_keys(key='[ENTER]')"
   ]
  },
  {
   "cell_type": "code",
   "execution_count": null,
   "id": "46fa9703-0d4a-4cbf-a9ff-d0a489e7f5ab",
   "metadata": {},
   "outputs": [],
   "source": [
    "from py3270 import Emulator\n",
    "# Connection to mainframe\n",
    "em = Emulator(visible=True, args=['-model', '3279-2'])\n",
    "em.connect(f'Y:STFMVS1.POK.IBM.COM:992')"
   ]
  }
 ],
 "metadata": {
  "kernelspec": {
   "display_name": "Python 3 (ipykernel)",
   "language": "python",
   "name": "python3"
  },
  "language_info": {
   "codemirror_mode": {
    "name": "ipython",
    "version": 3
   },
   "file_extension": ".py",
   "mimetype": "text/x-python",
   "name": "python",
   "nbconvert_exporter": "python",
   "pygments_lexer": "ipython3",
   "version": "3.9.7"
  }
 },
 "nbformat": 4,
 "nbformat_minor": 5
}
