{
 "cells": [
  {
   "cell_type": "code",
   "execution_count": 10,
   "id": "d02f4a37-09a3-4a09-81be-4a10dca73fd3",
   "metadata": {},
   "outputs": [
    {
     "ename": "KeyboardInterrupt",
     "evalue": "",
     "output_type": "error",
     "traceback": [
      "\u001b[1;31m---------------------------------------------------------------------------\u001b[0m",
      "\u001b[1;31mKeyboardInterrupt\u001b[0m                         Traceback (most recent call last)",
      "\u001b[1;32mC:\\Users\\016434~1\\AppData\\Local\\Temp/ipykernel_1992/3612432467.py\u001b[0m in \u001b[0;36m<module>\u001b[1;34m\u001b[0m\n\u001b[0;32m     59\u001b[0m     \u001b[0mopc\u001b[0m\u001b[1;33m=\u001b[0m\u001b[1;34m'15'\u001b[0m\u001b[1;33m\u001b[0m\u001b[1;33m\u001b[0m\u001b[0m\n\u001b[0;32m     60\u001b[0m     \u001b[0mem\u001b[0m\u001b[1;33m.\u001b[0m\u001b[0mfill_field\u001b[0m\u001b[1;33m(\u001b[0m\u001b[1;36m20\u001b[0m\u001b[1;33m,\u001b[0m \u001b[1;36m33\u001b[0m\u001b[1;33m,\u001b[0m \u001b[0mopc\u001b[0m\u001b[1;33m,\u001b[0m \u001b[0mlen\u001b[0m\u001b[1;33m(\u001b[0m\u001b[0mopc\u001b[0m\u001b[1;33m)\u001b[0m\u001b[1;33m)\u001b[0m\u001b[1;33m\u001b[0m\u001b[1;33m\u001b[0m\u001b[0m\n\u001b[1;32m---> 61\u001b[1;33m     \u001b[0mem\u001b[0m\u001b[1;33m.\u001b[0m\u001b[0msend_enter\u001b[0m\u001b[1;33m(\u001b[0m\u001b[1;33m)\u001b[0m\u001b[1;33m\u001b[0m\u001b[1;33m\u001b[0m\u001b[0m\n\u001b[0m\u001b[0;32m     62\u001b[0m     \u001b[0mtime\u001b[0m\u001b[1;33m.\u001b[0m\u001b[0msleep\u001b[0m\u001b[1;33m(\u001b[0m\u001b[1;36m2\u001b[0m\u001b[1;33m)\u001b[0m\u001b[1;33m\u001b[0m\u001b[1;33m\u001b[0m\u001b[0m\n\u001b[0;32m     63\u001b[0m     \u001b[0mopc\u001b[0m\u001b[1;33m=\u001b[0m\u001b[1;34m'30'\u001b[0m\u001b[1;33m\u001b[0m\u001b[1;33m\u001b[0m\u001b[0m\n",
      "\u001b[1;32m~\\Python39\\lib\\site-packages\\py3270\\__init__.py\u001b[0m in \u001b[0;36msend_enter\u001b[1;34m(self)\u001b[0m\n\u001b[0;32m    414\u001b[0m \u001b[1;33m\u001b[0m\u001b[0m\n\u001b[0;32m    415\u001b[0m     \u001b[1;32mdef\u001b[0m \u001b[0msend_enter\u001b[0m\u001b[1;33m(\u001b[0m\u001b[0mself\u001b[0m\u001b[1;33m)\u001b[0m\u001b[1;33m:\u001b[0m\u001b[1;33m\u001b[0m\u001b[1;33m\u001b[0m\u001b[0m\n\u001b[1;32m--> 416\u001b[1;33m         \u001b[0mself\u001b[0m\u001b[1;33m.\u001b[0m\u001b[0mexec_command\u001b[0m\u001b[1;33m(\u001b[0m\u001b[1;34mb\"Enter\"\u001b[0m\u001b[1;33m)\u001b[0m\u001b[1;33m\u001b[0m\u001b[1;33m\u001b[0m\u001b[0m\n\u001b[0m\u001b[0;32m    417\u001b[0m \u001b[1;33m\u001b[0m\u001b[0m\n\u001b[0;32m    418\u001b[0m     \u001b[1;32mdef\u001b[0m \u001b[0msend_pf3\u001b[0m\u001b[1;33m(\u001b[0m\u001b[0mself\u001b[0m\u001b[1;33m)\u001b[0m\u001b[1;33m:\u001b[0m\u001b[1;33m\u001b[0m\u001b[1;33m\u001b[0m\u001b[0m\n",
      "\u001b[1;32m~\\Python39\\lib\\site-packages\\py3270\\__init__.py\u001b[0m in \u001b[0;36mexec_command\u001b[1;34m(self, cmdstr)\u001b[0m\n\u001b[0;32m    306\u001b[0m         \u001b[0mc\u001b[0m \u001b[1;33m=\u001b[0m \u001b[0mCommand\u001b[0m\u001b[1;33m(\u001b[0m\u001b[0mself\u001b[0m\u001b[1;33m.\u001b[0m\u001b[0mapp\u001b[0m\u001b[1;33m,\u001b[0m \u001b[0mcmdstr\u001b[0m\u001b[1;33m)\u001b[0m\u001b[1;33m\u001b[0m\u001b[1;33m\u001b[0m\u001b[0m\n\u001b[0;32m    307\u001b[0m         \u001b[0mstart\u001b[0m \u001b[1;33m=\u001b[0m \u001b[0mtime\u001b[0m\u001b[1;33m.\u001b[0m\u001b[0mtime\u001b[0m\u001b[1;33m(\u001b[0m\u001b[1;33m)\u001b[0m\u001b[1;33m\u001b[0m\u001b[1;33m\u001b[0m\u001b[0m\n\u001b[1;32m--> 308\u001b[1;33m         \u001b[0mc\u001b[0m\u001b[1;33m.\u001b[0m\u001b[0mexecute\u001b[0m\u001b[1;33m(\u001b[0m\u001b[1;33m)\u001b[0m\u001b[1;33m\u001b[0m\u001b[1;33m\u001b[0m\u001b[0m\n\u001b[0m\u001b[0;32m    309\u001b[0m         \u001b[0melapsed\u001b[0m \u001b[1;33m=\u001b[0m \u001b[0mtime\u001b[0m\u001b[1;33m.\u001b[0m\u001b[0mtime\u001b[0m\u001b[1;33m(\u001b[0m\u001b[1;33m)\u001b[0m \u001b[1;33m-\u001b[0m \u001b[0mstart\u001b[0m\u001b[1;33m\u001b[0m\u001b[1;33m\u001b[0m\u001b[0m\n\u001b[0;32m    310\u001b[0m         \u001b[0mlog\u001b[0m\u001b[1;33m.\u001b[0m\u001b[0mdebug\u001b[0m\u001b[1;33m(\u001b[0m\u001b[1;34m\"elapsed execution: {0}\"\u001b[0m\u001b[1;33m.\u001b[0m\u001b[0mformat\u001b[0m\u001b[1;33m(\u001b[0m\u001b[0melapsed\u001b[0m\u001b[1;33m)\u001b[0m\u001b[1;33m)\u001b[0m\u001b[1;33m\u001b[0m\u001b[1;33m\u001b[0m\u001b[0m\n",
      "\u001b[1;32m~\\Python39\\lib\\site-packages\\py3270\\__init__.py\u001b[0m in \u001b[0;36mexecute\u001b[1;34m(self)\u001b[0m\n\u001b[0;32m     73\u001b[0m         \u001b[1;31m# 2: 'ok' or 'error' indicating whether the command succeeded or failed\u001b[0m\u001b[1;33m\u001b[0m\u001b[1;33m\u001b[0m\u001b[0m\n\u001b[0;32m     74\u001b[0m         \u001b[1;32mwhile\u001b[0m \u001b[1;32mTrue\u001b[0m\u001b[1;33m:\u001b[0m\u001b[1;33m\u001b[0m\u001b[1;33m\u001b[0m\u001b[0m\n\u001b[1;32m---> 75\u001b[1;33m             \u001b[0mline\u001b[0m \u001b[1;33m=\u001b[0m \u001b[0mself\u001b[0m\u001b[1;33m.\u001b[0m\u001b[0mapp\u001b[0m\u001b[1;33m.\u001b[0m\u001b[0mreadline\u001b[0m\u001b[1;33m(\u001b[0m\u001b[1;33m)\u001b[0m\u001b[1;33m\u001b[0m\u001b[1;33m\u001b[0m\u001b[0m\n\u001b[0m\u001b[0;32m     76\u001b[0m             \u001b[0mlog\u001b[0m\u001b[1;33m.\u001b[0m\u001b[0mdebug\u001b[0m\u001b[1;33m(\u001b[0m\u001b[1;34m\"stdout line: %s\"\u001b[0m\u001b[1;33m,\u001b[0m \u001b[0mline\u001b[0m\u001b[1;33m.\u001b[0m\u001b[0mrstrip\u001b[0m\u001b[1;33m(\u001b[0m\u001b[1;33m)\u001b[0m\u001b[1;33m)\u001b[0m\u001b[1;33m\u001b[0m\u001b[1;33m\u001b[0m\u001b[0m\n\u001b[0;32m     77\u001b[0m             \u001b[1;32mif\u001b[0m \u001b[1;32mnot\u001b[0m \u001b[0mline\u001b[0m\u001b[1;33m.\u001b[0m\u001b[0mstartswith\u001b[0m\u001b[1;33m(\u001b[0m\u001b[1;34m\"data:\"\u001b[0m\u001b[1;33m.\u001b[0m\u001b[0mencode\u001b[0m\u001b[1;33m(\u001b[0m\u001b[1;34m\"ascii\"\u001b[0m\u001b[1;33m)\u001b[0m\u001b[1;33m)\u001b[0m\u001b[1;33m:\u001b[0m\u001b[1;33m\u001b[0m\u001b[1;33m\u001b[0m\u001b[0m\n",
      "\u001b[1;32m~\\Python39\\lib\\site-packages\\py3270\\__init__.py\u001b[0m in \u001b[0;36mreadline\u001b[1;34m(self)\u001b[0m\n\u001b[0;32m    242\u001b[0m         \u001b[1;32mif\u001b[0m \u001b[0mself\u001b[0m\u001b[1;33m.\u001b[0m\u001b[0msocket_fh\u001b[0m \u001b[1;32mis\u001b[0m \u001b[1;32mNone\u001b[0m\u001b[1;33m:\u001b[0m\u001b[1;33m\u001b[0m\u001b[1;33m\u001b[0m\u001b[0m\n\u001b[0;32m    243\u001b[0m             \u001b[1;32mraise\u001b[0m \u001b[0mNotConnectedException\u001b[0m\u001b[1;33m\u001b[0m\u001b[1;33m\u001b[0m\u001b[0m\n\u001b[1;32m--> 244\u001b[1;33m         \u001b[1;32mreturn\u001b[0m \u001b[0mself\u001b[0m\u001b[1;33m.\u001b[0m\u001b[0msocket_fh\u001b[0m\u001b[1;33m.\u001b[0m\u001b[0mreadline\u001b[0m\u001b[1;33m(\u001b[0m\u001b[1;33m)\u001b[0m\u001b[1;33m\u001b[0m\u001b[1;33m\u001b[0m\u001b[0m\n\u001b[0m\u001b[0;32m    245\u001b[0m \u001b[1;33m\u001b[0m\u001b[0m\n\u001b[0;32m    246\u001b[0m \u001b[1;33m\u001b[0m\u001b[0m\n",
      "\u001b[1;32m~\\Python39\\lib\\socket.py\u001b[0m in \u001b[0;36mreadinto\u001b[1;34m(self, b)\u001b[0m\n\u001b[0;32m    702\u001b[0m         \u001b[1;32mwhile\u001b[0m \u001b[1;32mTrue\u001b[0m\u001b[1;33m:\u001b[0m\u001b[1;33m\u001b[0m\u001b[1;33m\u001b[0m\u001b[0m\n\u001b[0;32m    703\u001b[0m             \u001b[1;32mtry\u001b[0m\u001b[1;33m:\u001b[0m\u001b[1;33m\u001b[0m\u001b[1;33m\u001b[0m\u001b[0m\n\u001b[1;32m--> 704\u001b[1;33m                 \u001b[1;32mreturn\u001b[0m \u001b[0mself\u001b[0m\u001b[1;33m.\u001b[0m\u001b[0m_sock\u001b[0m\u001b[1;33m.\u001b[0m\u001b[0mrecv_into\u001b[0m\u001b[1;33m(\u001b[0m\u001b[0mb\u001b[0m\u001b[1;33m)\u001b[0m\u001b[1;33m\u001b[0m\u001b[1;33m\u001b[0m\u001b[0m\n\u001b[0m\u001b[0;32m    705\u001b[0m             \u001b[1;32mexcept\u001b[0m \u001b[0mtimeout\u001b[0m\u001b[1;33m:\u001b[0m\u001b[1;33m\u001b[0m\u001b[1;33m\u001b[0m\u001b[0m\n\u001b[0;32m    706\u001b[0m                 \u001b[0mself\u001b[0m\u001b[1;33m.\u001b[0m\u001b[0m_timeout_occurred\u001b[0m \u001b[1;33m=\u001b[0m \u001b[1;32mTrue\u001b[0m\u001b[1;33m\u001b[0m\u001b[1;33m\u001b[0m\u001b[0m\n",
      "\u001b[1;31mKeyboardInterrupt\u001b[0m: "
     ]
    }
   ],
   "source": [
    "from py3270 import Emulator\n",
    "import pandas as pd\n",
    "import time\n",
    "import warnings\n",
    "warnings.filterwarnings('ignore')\n",
    "\n",
    "\n",
    "\n",
    "na_list = ['649','897','650','625']\n",
    "\n",
    "cty_list = ['613',\n",
    "'625',\n",
    "'631',\n",
    "'649',\n",
    "'650',\n",
    "'655',\n",
    "'659',\n",
    "'661']\n",
    "\n",
    "df = pd.read_excel(r\"C:\\Users\\016434613\\Desktop\\LCA.xls\",sheet_name='Data',converters={'CTY':str,'MAJ':str,'MINOR':str,'SMIN':str})\n",
    "df.sort_values(by='CTY',axis=0, ascending=True,inplace=True)\n",
    "\n",
    "for cty in cty_list:\n",
    "    df_cty = df.loc[df['CTY']==cty]\n",
    "\n",
    "    if cty not in na_list:\n",
    "        opt = '51.15'\n",
    "    else:\n",
    "        opt = '50.15'\n",
    "\n",
    "    # Connection to mainframe\n",
    "    em = Emulator(visible=True,args=['-model', '3279-2'])\n",
    "    em.connect(f'Y:STFMVS1.POK.IBM.COM:992') #server:PORT\n",
    "    em.wait_for_field()\n",
    "    em.fill_field(9, 18, 'IMSP2', len('IMSP2')) #CLIENT\n",
    "    em.send_enter()\n",
    "    em.wait_for_field()\n",
    "\n",
    "    #credentials\n",
    "    usr='ledgrc3'\n",
    "    psw='juanmanueldel02'\n",
    "\n",
    "    em.fill_field(7, 10, usr, len(usr)) #USR\n",
    "    em.fill_field(9, 12, psw, len(psw)) #PSW\n",
    "    em.send_enter()\n",
    "    em.send_pf8()\n",
    "    em.wait_for_field()\n",
    "    em.fill_field(19, 31, opt, len(opt))\n",
    "    em.send_enter()\n",
    "    time.sleep(2)\n",
    "    ctry = cty\n",
    "    em.fill_field(22, 16, 'country;'+ctry, 11)\n",
    "    em.send_enter()\n",
    "    time.sleep(2)\n",
    "    opc='80'\n",
    "    em.fill_field(20, 33, opc, len(opc))\n",
    "    em.send_enter()\n",
    "    time.sleep(2)\n",
    "    opc='15'\n",
    "    em.fill_field(20, 33, opc, len(opc))\n",
    "    em.send_enter()\n",
    "    time.sleep(2)\n",
    "    opc='30'\n",
    "    em.fill_field(20, 33, opc, len(opc))\n",
    "    em.send_enter()\n",
    "    for i in range(2):\n",
    "        lc = df_cty['LC'][i]\n",
    "        toli = df_cty['TOLI'][i]\n",
    "        div = df_cty['DIV'][i]\n",
    "        maj = df_cty['MAJ'][i]\n",
    "        minor = df_cty['MINOR'][i]\n",
    "        em.fill_field(6, 5, lc, 2)\n",
    "        em.fill_field(6, 8, toli, 1)\n",
    "        em.fill_field(6, 10, div, 2)\n",
    "        em.fill_field(6, 13, maj, 3)\n",
    "        em.fill_field(6, 17, minor, 4)\n",
    "        em.send_enter()\n",
    "        time.sleep(2)\n",
    "        em.fill_field(7, 2, 'S', 1)\n",
    "        em.send_enter()\n",
    "        time.sleep(2)\n",
    "        smin = df_cty['SMIN'][i]\n",
    "        smin = smin[1:4]\n",
    "        em.fill_field(12, 5, smin, 3)\n",
    "        em.send_enter()\n",
    "        time.sleep(2)\n",
    "        em.send_pf2()\n",
    "        time.sleep(2)\n",
    "        em.send_pf2()\n",
    "        em.fill_field(13, 10, 'C', 1)\n",
    "        em.send_pf3()\n",
    "        time.sleep(2)\n",
    "        #em.wait_for_field()\n",
    "\n"
   ]
  },
  {
   "cell_type": "code",
   "execution_count": 9,
   "id": "9367c158-cb4f-428e-8604-7428350bff24",
   "metadata": {},
   "outputs": [
    {
     "data": {
      "text/plain": [
       "'0000'"
      ]
     },
     "execution_count": 9,
     "metadata": {},
     "output_type": "execute_result"
    }
   ],
   "source": [
    "from py3270 import Emulator\n",
    "import pandas as pd\n",
    "import time\n",
    "import warnings\n",
    "warnings.filterwarnings('ignore')\n",
    "\n",
    "\n",
    "\n",
    "na_list = ['649','897','650','625']\n",
    "\n",
    "cty_list = ['613',\n",
    "'625',\n",
    "'631',\n",
    "'649',\n",
    "'650',\n",
    "'655',\n",
    "'659',\n",
    "'661']\n",
    "\n",
    "df = pd.read_excel(r\"C:\\Users\\016434613\\Desktop\\LCA.xls\",sheet_name='Data',converters={'CTY':str,'MAJ':str,'MINOR':str,'SMIN':str})\n",
    "df.sort_values(by='CTY',axis=0, ascending=True,inplace=True)\n",
    "\n",
    "df_cty = df.loc[df['CTY']=='613']\n",
    "cty = df_cty['SMIN'][0]\n",
    "cty[0:4]"
   ]
  },
  {
   "cell_type": "code",
   "execution_count": 3,
   "id": "b6f7ebf7-e4b4-42f5-8af2-03c0c30437ea",
   "metadata": {},
   "outputs": [
    {
     "name": "stdout",
     "output_type": "stream",
     "text": [
      "Collecting xlrd\n",
      "  Using cached xlrd-2.0.1-py2.py3-none-any.whl (96 kB)\n",
      "Installing collected packages: xlrd\n",
      "Successfully installed xlrd-2.0.1\n",
      "\n",
      "[notice] A new release of pip available: 22.1.2 -> 23.0.1\n",
      "[notice] To update, run: C:\\Users\\016434613\\Python39\\python.exe -m pip install --upgrade pip\n",
      "Note: you may need to restart the kernel to use updated packages.\n"
     ]
    }
   ],
   "source": [
    "%pip install xlrd"
   ]
  },
  {
   "cell_type": "code",
   "execution_count": null,
   "id": "da150f36-2e90-4caf-ba85-11816e655308",
   "metadata": {},
   "outputs": [],
   "source": []
  }
 ],
 "metadata": {
  "kernelspec": {
   "display_name": "Python 3 (ipykernel)",
   "language": "python",
   "name": "python3"
  },
  "language_info": {
   "codemirror_mode": {
    "name": "ipython",
    "version": 3
   },
   "file_extension": ".py",
   "mimetype": "text/x-python",
   "name": "python",
   "nbconvert_exporter": "python",
   "pygments_lexer": "ipython3",
   "version": "3.9.7"
  }
 },
 "nbformat": 4,
 "nbformat_minor": 5
}
