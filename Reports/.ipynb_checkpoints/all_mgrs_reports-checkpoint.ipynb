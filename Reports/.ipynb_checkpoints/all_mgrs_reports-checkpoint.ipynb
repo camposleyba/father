{
 "cells": [
  {
   "cell_type": "code",
   "execution_count": 1,
   "id": "274dc243-2169-404c-93b1-80fdc92b296b",
   "metadata": {},
   "outputs": [
    {
     "name": "stdout",
     "output_type": "stream",
     "text": [
      "Report successfully created!\n"
     ]
    }
   ],
   "source": [
    "import pandas as pd\n",
    "import numpy as np\n",
    "import glob\n",
    "import re\n",
    "from urllib import request as req\n",
    "import json\n",
    "\n",
    "mgrserials = ['016434613','A01130693','A51733693','900688897']\n",
    "mgrname = {'016434613':'Martin Campos','A01130693':'Marek Tarkos','A51733693':'Andrej Csiaki','900688897':'Melissa Bledsoe'}\n",
    "devnames = {}\n",
    "\n",
    "for mgr in mgrserials:\n",
    "    request = req.urlopen(\"https://w3-unifiedprofile-api.dal1a.cirrus.ibm.com/v3/profiles/\" + mgr + \"/teamResolved\")\n",
    "    datos = request.read().decode()\n",
    "    dictdatos = json.loads(datos)\n",
    "    devlist = dictdatos['content']['functional']['reports']\n",
    "    for dev in devlist:\n",
    "        #method setdefault(key,[]) sirve para poner una primera key con una lista vacia, si no, tira error de que no existe la key\n",
    "        devnames.setdefault(mgrname[mgr], []).append(dev['nameDisplay'])\n",
    "        \n",
    "### Create Lists ###\n",
    "devlistmc = devnames['Martin Campos']\n",
    "devlistmt = devnames['Marek Tarkos']\n",
    "devlistac = devnames['Andrej Csiaki']\n",
    "devlistmb = devnames['Melissa Bledsoe']\n",
    "\n",
    "df_Campos = pd.DataFrame(devlistmc, columns=['Developer'])\n",
    "df_Campos['Manager'] = \"Martin Campos\"\n",
    "\n",
    "df_All = df_Campos\n",
    "\n",
    "df_All.to_excel(r\"C:\\Users\\016434613\\Desktop\\ReportsCampos.xlsx\", index=False)\n",
    "print(\"Report successfully created!\")"
   ]
  },
  {
   "cell_type": "markdown",
   "id": "126919a1-eec1-4104-8c64-5ad85ce44cc7",
   "metadata": {},
   "source": [
    "## Crear lista de listas, y luego por indice cada lista tendra el valor de la key de la lista Keys"
   ]
  },
  {
   "cell_type": "code",
   "execution_count": 6,
   "id": "be3b6a63-fd78-42d8-ac09-49c455e4da76",
   "metadata": {},
   "outputs": [
    {
     "name": "stdout",
     "output_type": "stream",
     "text": [
      "4\n"
     ]
    }
   ],
   "source": [
    "keys = list(devnames.keys())\n",
    "listas = [[] for i in range(len(devnames.keys()))]\n",
    "\n",
    "for i in range(len(listas)):\n",
    "    listas[i] = devnames[keys[i]]\n",
    "listas"
   ]
  }
 ],
 "metadata": {
  "kernelspec": {
   "display_name": "Python 3 (ipykernel)",
   "language": "python",
   "name": "python3"
  },
  "language_info": {
   "codemirror_mode": {
    "name": "ipython",
    "version": 3
   },
   "file_extension": ".py",
   "mimetype": "text/x-python",
   "name": "python",
   "nbconvert_exporter": "python",
   "pygments_lexer": "ipython3",
   "version": "3.9.7"
  }
 },
 "nbformat": 4,
 "nbformat_minor": 5
}
