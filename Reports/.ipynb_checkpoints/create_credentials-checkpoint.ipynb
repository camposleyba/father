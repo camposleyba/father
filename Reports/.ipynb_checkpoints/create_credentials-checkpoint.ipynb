{
 "cells": [
  {
   "cell_type": "code",
   "execution_count": 1,
   "id": "791a742a-d52e-472b-a3a5-8414104ce204",
   "metadata": {},
   "outputs": [
    {
     "name": "stdin",
     "output_type": "stream",
     "text": [
      "Enter user id: \n",
      " ar16434\n",
      "Enter your password: \n",
      " ················\n"
     ]
    }
   ],
   "source": [
    "import getpass as gp\n",
    "import pickle\n",
    "\n",
    "user = input(\"Enter user id: \\n\")\n",
    "psw = gp.getpass(\"Enter your password: \\n\")\n",
    "\n",
    "cred_dict = {\n",
    "    \"user\":user,\n",
    "    \"password\":psw\n",
    "}\n",
    "\n",
    "with open(\"credentials\", \"wb\") as f:\n",
    "    pickle.dump(cred_dict,f)"
   ]
  },
  {
   "cell_type": "code",
   "execution_count": null,
   "id": "c4046cf9-cbcb-457c-8b60-1c142b4beeb0",
   "metadata": {},
   "outputs": [],
   "source": []
  }
 ],
 "metadata": {
  "kernelspec": {
   "display_name": "Python 3 (ipykernel)",
   "language": "python",
   "name": "python3"
  },
  "language_info": {
   "codemirror_mode": {
    "name": "ipython",
    "version": 3
   },
   "file_extension": ".py",
   "mimetype": "text/x-python",
   "name": "python",
   "nbconvert_exporter": "python",
   "pygments_lexer": "ipython3",
   "version": "3.9.7"
  }
 },
 "nbformat": 4,
 "nbformat_minor": 5
}
