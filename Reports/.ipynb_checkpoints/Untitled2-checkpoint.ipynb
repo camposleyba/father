{
 "cells": [
  {
   "cell_type": "code",
   "execution_count": 52,
   "id": "329c3357-41ce-47a2-a7c6-73aac406923c",
   "metadata": {},
   "outputs": [],
   "source": [
    "import pandas as pd\n",
    "from pandas.io.json import json_normalize\n",
    "import json\n",
    "import warnings\n",
    "\n",
    "warnings.filterwarnings('ignore')\n",
    "\n",
    "with open(r\"C:\\Users\\016434613\\Downloads\\consolidation-accounting-v55.json\", encoding=\"utf8\") as data_file:    \n",
    "    d= json.load(data_file)  \n",
    "intents = d['workspace']['intents']\n",
    "d_ = json.dumps(intents)\n",
    "df = pd.read_json(d_)\n",
    "df = df.loc[:,['intent','examples']]\n",
    "lista = []\n",
    "df['new_examples']=''\n",
    "df['amt_examples']=0\n",
    "for i in range(df['examples'].size):\n",
    "    b = df['examples'][i]   \n",
    "    for z in b:\n",
    "        lista.append(z['text'])\n",
    "    df['new_examples'][i]=lista\n",
    "    df['amt_examples'][i]=len(lista)\n",
    "    lista=[]\n",
    "df.drop(columns='examples',inplace=True)\n",
    "df = df.rename(columns={'new_examples':'examples'})\n",
    "#df.to_excel(r\"C:\\Users\\016434613\\Desktop\\consolidation-accounting-v55.xlsx\",index=False)\n",
    "\n",
    "lista_ = d['workspace']['dialog_nodes']\n",
    "lista_\n",
    "\n",
    "dicto = {}\n",
    "for item in lista_:\n",
    "    try:\n",
    "        dicto[item['conditions']]=item['output']\n",
    "    except:\n",
    "        pass\n",
    "#dicto\n",
    "df_ = pd.DataFrame.from_dict(dicto, orient='index')\n",
    "df_.fillna(\"\", inplace=True)\n",
    "df_['intent'] = \"\"\n",
    "df_['intent'] = df_.index\n",
    "df_['intent'] = df_['intent'].apply(lambda x: x[1:])\n",
    "df_ = df_.rename(columns={'generic':'dialog1','text':'dialog2'})\n",
    "df_ = df_.loc[:,['intent','dialog1','dialog2']]\n",
    "\n",
    "df_merge = df.merge(df_,on='intent', how='right')\n",
    "df_merge.fillna(\"\", inplace=True)\n",
    "df_merge.to_excel(r\"C:\\Users\\016434613\\Desktop\\report_legible.xlsx\",index=False)"
   ]
  },
  {
   "cell_type": "code",
   "execution_count": 1,
   "id": "4e5e37eb-e492-4eb9-9b36-7baa5cb02ec5",
   "metadata": {},
   "outputs": [
    {
     "name": "stdout",
     "output_type": "stream",
     "text": [
      "Collecting fsspec\n",
      "  Using cached fsspec-2023.6.0-py3-none-any.whl (163 kB)\n",
      "Installing collected packages: fsspec\n",
      "Successfully installed fsspec-2023.6.0\n",
      "\n",
      "[notice] A new release of pip available: 22.1.2 -> 23.1.2\n",
      "[notice] To update, run: C:\\Users\\016434613\\Python39\\python.exe -m pip install --upgrade pip\n",
      "Note: you may need to restart the kernel to use updated packages.\n"
     ]
    }
   ],
   "source": [
    "%pip install fsspec"
   ]
  },
  {
   "cell_type": "code",
   "execution_count": null,
   "id": "ab86b722-01d7-4b51-9be7-42b2c029630e",
   "metadata": {},
   "outputs": [],
   "source": []
  }
 ],
 "metadata": {
  "kernelspec": {
   "display_name": "Python 3 (ipykernel)",
   "language": "python",
   "name": "python3"
  },
  "language_info": {
   "codemirror_mode": {
    "name": "ipython",
    "version": 3
   },
   "file_extension": ".py",
   "mimetype": "text/x-python",
   "name": "python",
   "nbconvert_exporter": "python",
   "pygments_lexer": "ipython3",
   "version": "3.9.7"
  }
 },
 "nbformat": 4,
 "nbformat_minor": 5
}
