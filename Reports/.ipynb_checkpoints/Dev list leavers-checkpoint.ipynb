{
 "cells": [
  {
   "cell_type": "code",
   "execution_count": 10,
   "id": "b046fc36-ac76-4f10-8233-56f986cbfdb6",
   "metadata": {},
   "outputs": [
    {
     "name": "stdout",
     "output_type": "stream",
     "text": [
      "Report Done!\n"
     ]
    }
   ],
   "source": [
    "import pandas as pd\n",
    "\n",
    "value_list = [\n",
    "'ATA261','ATA483','ATA489','ATA491','ATA492','ATA514',\n",
    "'ATA523','ATA529','ATA535','ATA541','ATA553','ATA563',\n",
    "'ATA564','ATA574','ATA575','ATA604','ATA606','ATA623',\n",
    "'ATA636','ATA639','ATA651','ATA652','ATA653','ATA660',\n",
    "'ATA661','ATA663','ATA686','ATA687','ATA690','ATA692',\n",
    "'ATA705','ATA720','ATA732','ATA788','ODA084','ODA088',\n",
    "'ATA471','ATA520','ATA521','ATA530','ATA542','ATA545',\n",
    "'ATA578','ATA585','ATA602','ATA642','ATA647','ATA649',\n",
    "'ATA656','ATA657','ATA674','ATA688','ATA695','ATA703',\n",
    "'ATA714','ATA730','ATA743','ATA768','ATA784','ODA064',\n",
    "'ATA329','ATA488','ATA528','ATA534','ATA560','ATA576',\n",
    "'ATA579','ATA584','ATA592','ATA594','ATA616','ATA630',\n",
    "'ATA631','ATA699','ATA700','ATA766','ATA771','ODA081',\n",
    "'ODA120','ODA126','ODA145','ATA593','ATA609','ATA622',\n",
    "'ATA633','ATA644','ATA646','ATA679','ATA696','ATA706',\n",
    "'ATA715','ATA716','ATA719','ATA737','ATA753','ATA762',\n",
    "'ATA778','ATA247','ATA431','ATA455','ATA505','ATA524',\n",
    "'ATA533','ATA536','ATA571','ATA572','ATA580','ATA628',\n",
    "'ATA629','ATA638','ATA645','ATA662','ATA680','ATA704',\n",
    "'ATA785'\n",
    "]\n",
    "\n",
    "\n",
    "df = pd.read_excel(r\"C:\\Users\\016434613\\Box\\ATA Public HUB\\Deployment Status\\2022 4Q\\Deployment Report & Metrics UTC 2022 12 15 4-59 AM.xlsx\",sheet_name='QVersions')\n",
    "df2 = df.loc[df['VERSION']==1]\n",
    "df2 = df2.loc[df2['STATUS']!='Discarded']\n",
    "df2 = df2.loc[df2['STATUS']!='Specification']\n",
    "df2 = df2.loc[df2['STATUS']!='Ready for development']\n",
    "df3 = df2.loc[df2['ROBOT NUMBER'].isin(value_list)]\n",
    "df3 = df3.loc[:,['ROBOT NUMBER','DEVELOPERS','STATUS']]\n",
    "df3.to_excel(r\"C:\\Users\\016434613\\Desktop\\Devs List.xlsx\", index=False)\n",
    "print('Report Done!')"
   ]
  },
  {
   "cell_type": "code",
   "execution_count": null,
   "id": "41a0b026-626b-4b73-814c-08dc2ce61f1c",
   "metadata": {},
   "outputs": [],
   "source": []
  }
 ],
 "metadata": {
  "kernelspec": {
   "display_name": "Python 3 (ipykernel)",
   "language": "python",
   "name": "python3"
  },
  "language_info": {
   "codemirror_mode": {
    "name": "ipython",
    "version": 3
   },
   "file_extension": ".py",
   "mimetype": "text/x-python",
   "name": "python",
   "nbconvert_exporter": "python",
   "pygments_lexer": "ipython3",
   "version": "3.9.7"
  }
 },
 "nbformat": 4,
 "nbformat_minor": 5
}
