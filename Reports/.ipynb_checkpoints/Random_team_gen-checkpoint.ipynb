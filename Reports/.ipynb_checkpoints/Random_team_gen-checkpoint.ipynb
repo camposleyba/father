{
 "cells": [
  {
   "cell_type": "code",
   "execution_count": 17,
   "id": "a2c0e7cd-93dc-4c15-8264-aae73b775df2",
   "metadata": {},
   "outputs": [
    {
     "name": "stdout",
     "output_type": "stream",
     "text": [
      "Equipo 1:\n",
      "---------------\n",
      "['Lau', 'Fede', 'Nico Mario', 'Facu P.', 'mancu'] \n",
      "\n",
      "Equipo 2:\n",
      "---------------\n",
      " ['Maxi', 'Alexis', 'Tincho', 'Mablar', 'Feli']\n"
     ]
    }
   ],
   "source": [
    "from random import randint\n",
    "\n",
    "team = ['Lau',\n",
    "'Mablar','Tincho','Fede','Alexis','Feli',\n",
    "'Nico Mario','Facu P.','mancu','Maxi'\n",
    "]\n",
    "other_team = []\n",
    "\n",
    "for i in range(5):\n",
    "    num = randint(0,len(team)-1)\n",
    "    other_team.append(team[num])\n",
    "    team.remove(team[num])\n",
    "print(\"Equipo 1:\\n---------------\\n{} \\n\\nEquipo 2:\\n---------------\\n {}\".format(team,other_team))"
   ]
  },
  {
   "cell_type": "code",
   "execution_count": null,
   "id": "d30bbc96-efc8-416e-8d19-1246de87ab18",
   "metadata": {},
   "outputs": [],
   "source": []
  }
 ],
 "metadata": {
  "kernelspec": {
   "display_name": "Python 3 (ipykernel)",
   "language": "python",
   "name": "python3"
  },
  "language_info": {
   "codemirror_mode": {
    "name": "ipython",
    "version": 3
   },
   "file_extension": ".py",
   "mimetype": "text/x-python",
   "name": "python",
   "nbconvert_exporter": "python",
   "pygments_lexer": "ipython3",
   "version": "3.9.7"
  }
 },
 "nbformat": 4,
 "nbformat_minor": 5
}
