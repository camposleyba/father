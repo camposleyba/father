{
 "cells": [
  {
   "cell_type": "markdown",
   "id": "07b3c012-2b78-44fb-941c-c63bdf921a08",
   "metadata": {},
   "source": [
    "<h1> Checklist para que funcione </h1>\n",
    "<hr>\n",
    "<ul>\n",
    "<li>Emulador --> <a href=\"https://w3-01.ibm.com/download/standardsoftware/PC/lang_en/issiCatalogPC.html?srchdata=3270\" target=\"_blank\">x3270</a></li>\n",
    "<br>\n",
    "<li>Para instalar la libreria ejecutar: --> <code>pip install py3270</code> </li>\n",
    "<br>\n",
    "<li> Agregar a la variable <b>PATH</b> la ruta del .exe del wc3270 </li>\n",
    "<br>\n",
    "<img src=\"PATH.png\" width=\"250\">\n",
    "<li> Documentacion de la libreria --> <a href=\"http://x3270.bgp.nu/\" target=\"_blank\">x3270 doc</a></li>\n",
    "<li> Link a github --> <a href=\"https://github.com/py3270/py3270\" target=\"_blank\">py3270</a></li> \n",
    "</ul>"
   ]
  },
  {
   "cell_type": "markdown",
   "id": "d73eba61-6ae5-4248-96fe-0733649a3c9e",
   "metadata": {},
   "source": [
    "<h1>Example:</h1>"
   ]
  },
  {
   "cell_type": "code",
   "execution_count": null,
   "id": "fca1faea-ddcc-4788-8d91-148e79d97a92",
   "metadata": {},
   "outputs": [],
   "source": [
    "from py3270 import Emulator\n",
    "import warnings\n",
    "warnings.filterwarnings('ignore')\n",
    "\n",
    "# Connection to mainframe\n",
    "em = Emulator(visible=True,args=['-model', '3279-2'])\n",
    "em.connect(f'Y:STFMVS1.POK.IBM.COM:992') #server:PORT\n",
    "em.wait_for_field()\n",
    "em.fill_field(9, 18, 'IMSP2', len('IMSP2')) #CLIENT\n",
    "em.send_enter()\n",
    "em.wait_for_field()\n",
    "\n",
    "#credentials\n",
    "em.fill_field(7, 10, 'xxxxxx', len('xxxxxx')) #USR\n",
    "em.fill_field(9, 12, 'xxxxxx', len('xxxxxx')) #PSW\n",
    "em.send_enter()"
   ]
  }
 ],
 "metadata": {
  "kernelspec": {
   "display_name": "Python 3 (ipykernel)",
   "language": "python",
   "name": "python3"
  },
  "language_info": {
   "codemirror_mode": {
    "name": "ipython",
    "version": 3
   },
   "file_extension": ".py",
   "mimetype": "text/x-python",
   "name": "python",
   "nbconvert_exporter": "python",
   "pygments_lexer": "ipython3",
   "version": "3.9.7"
  }
 },
 "nbformat": 4,
 "nbformat_minor": 5
}
