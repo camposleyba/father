{
 "cells": [
  {
   "cell_type": "code",
   "execution_count": 6,
   "id": "54c680aa-7453-43ab-b544-235d33ff1a80",
   "metadata": {},
   "outputs": [],
   "source": [
    "import pandas as pd\n",
    "import re\n",
    "import subprocess\n",
    "from selenium import webdriver\n",
    "from selenium.webdriver.common.by import By\n",
    "from selenium.webdriver.support.ui import WebDriverWait\n",
    "from selenium.webdriver.support import expected_conditions as EC\n",
    "import os\n",
    "import requests\n",
    "import json\n",
    "import time\n",
    "import pickle\n",
    "import warnings\n",
    "\n",
    "warnings.filterwarnings('ignore')\n",
    "\n",
    "filepath_ = r\"C:\\Users\\016434613\\Downloads\\progress_dt_tasks_details_report.xlsx\"\n",
    "#quarter = \n",
    "\n",
    "df = pd.read_excel(filepath_,sheet_name=\"Tasks\")\n",
    "df = df.rename(columns={'ROBOT NUMBER':'ROBOT_NUMBER'})\n",
    "\n",
    "df_lindo = df.loc[:,['ORIGIN RELEASE','STATUS','ROBOT_NUMBER','TITLE','AUTOMATION TYPE','REGIONS','MANUAL EXECUTION DURATION (hours per year)','CURRENT VERSION ID']]\n",
    "df_lindo = df_lindo.rename(columns={'MANUAL EXECUTION DURATION (hours per year)':'SAVING HS','CURRENT VERSION ID':'VERSION ID'})\n",
    "\n",
    "df4 = df_lindo\n",
    "df4['ORIGIN RELEASE'] = df4['ORIGIN RELEASE'].apply(lambda x: str(x))\n",
    "df4['QUARTER'] = df4['ORIGIN RELEASE'].apply(lambda x: x[4:7]+x[11:15])\n",
    "\n",
    "df4['QUARTER'] = df4['QUARTER'].apply(lambda x: '1Q21' if x == 'Mar2021' else '1Q21' if x == 'Feb2021' else '1Q21' if x == 'Jan2021' else x)\n",
    "df4['QUARTER'] = df4['QUARTER'].apply(lambda x: '2Q21' if x == 'Jun2021' else '2Q21' if x == 'May2021' else '2Q21' if x == 'Apr2021' else x)\n",
    "df4['QUARTER'] = df4['QUARTER'].apply(lambda x: '3Q21' if x == 'Sep2021' else '3Q21' if x == 'Aug2021' else '3Q21' if x == 'Jul2021' else x)\n",
    "df4['QUARTER'] = df4['QUARTER'].apply(lambda x: '4Q21' if x == 'Dec2021' else '4Q21' if x == 'Nov2021' else '4Q21' if x == 'Oct2021' else x)\n",
    "df4['QUARTER'] = df4['QUARTER'].apply(lambda x: '1Q22' if x == 'Jan2022' else '1Q22' if x == 'Feb2022' else '1Q22' if x == 'Mar2022' else x)\n",
    "df4['QUARTER'] = df4['QUARTER'].apply(lambda x: '2Q22' if x == 'Jun2022' else '2Q22' if x == 'May2022' else '2Q22' if x == 'Apr2022' else x)\n",
    "df4['QUARTER'] = df4['QUARTER'].apply(lambda x: '3Q22' if x == 'Sep2022' else '3Q22' if x == 'Aug2022' else '3Q22' if x == 'Jul2022' else x)\n",
    "df4['QUARTER'] = df4['QUARTER'].apply(lambda x: '4Q22' if x == 'Dec2022' else '4Q22' if x == 'Nov2022' else '4Q22' if x == 'Oct2022' else x)\n",
    "\n",
    "df5 = df4.loc[df4['STATUS']=='Ready for development',]\n",
    "df5.drop(columns=[\"ORIGIN RELEASE\"],inplace=True)\n",
    "\n",
    "filepath_ = r\"C:\\Users\\016434613\\Downloads\\progress_dt_tasks_master_report.xlsx\"\n",
    "\n",
    "df_Development = pd.read_excel(filepath_,sheet_name=\"Development (Iterations)\")\n",
    "\n",
    "df_Development = df_Development.loc[:,['VERSION ID','DEVELOPERS']]\n",
    "df_Development.drop_duplicates('VERSION ID',inplace=True)\n",
    "\n",
    "df_Development.reset_index(inplace=True, drop=True)\n",
    "\n",
    "df5 = df5.merge(df_Development, on=\"VERSION ID\", how=\"left\")\n",
    "df5 = df5.loc[df5['DEVELOPERS'].isnull(),]\n",
    "\n",
    "df5.to_excel(r\"C:\\Users\\016434613\\Desktop\\dashboard.xlsx\", index=False)"
   ]
  },
  {
   "cell_type": "code",
   "execution_count": null,
   "id": "ebdfda62-c774-4771-b09d-adeb5f8bd8c3",
   "metadata": {},
   "outputs": [],
   "source": []
  }
 ],
 "metadata": {
  "kernelspec": {
   "display_name": "Python 3 (ipykernel)",
   "language": "python",
   "name": "python3"
  },
  "language_info": {
   "codemirror_mode": {
    "name": "ipython",
    "version": 3
   },
   "file_extension": ".py",
   "mimetype": "text/x-python",
   "name": "python",
   "nbconvert_exporter": "python",
   "pygments_lexer": "ipython3",
   "version": "3.9.7"
  }
 },
 "nbformat": 4,
 "nbformat_minor": 5
}
