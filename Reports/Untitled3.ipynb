{
 "cells": [
  {
   "cell_type": "code",
   "execution_count": 10,
   "id": "eac332d0-3e50-4eef-855f-795ce1abd5c1",
   "metadata": {},
   "outputs": [
    {
     "name": "stdout",
     "output_type": "stream",
     "text": [
      "\n",
      "Dolar Blue:: \n",
      "------------\n",
      "Compra: 517,00 \n",
      "Venta: 522,00\n",
      "\n"
     ]
    }
   ],
   "source": [
    "import requests\n",
    "import re\n",
    "\n",
    "tit_=\"Dolar Blue:\"\n",
    "r = requests.get(\"https://www.cronista.com/MercadosOnline/moneda.html?id=ARSB\")\n",
    "search_text = r.text\n",
    "dolar = re.search(r'<td class=\"sell\">',search_text)\n",
    "pos0 = dolar.span()[0]\n",
    "new_search_text = search_text[pos0:]\n",
    "monto_venta_ini = re.search(r'</span>',new_search_text)\n",
    "pos0 = monto_venta_ini.span()[1]\n",
    "new_search_text_2 =  new_search_text[pos0:]\n",
    "monto_venta_fin = re.search(r'</div>',new_search_text_2)\n",
    "pos1 = monto_venta_fin.span()[0]\n",
    "dolar_venta = new_search_text_2[:pos1]\n",
    "dolar_ = re.search(r'<td class=\"buy\">',search_text)\n",
    "pos0 = dolar_.span()[0]\n",
    "new_search_text = search_text[pos0:]\n",
    "monto_venta_ini = re.search(r'</span>',new_search_text)\n",
    "pos0 = monto_venta_ini.span()[1]\n",
    "new_search_text_2 =  new_search_text[pos0:]\n",
    "monto_venta_fin = re.search(r'</div>',new_search_text_2)\n",
    "pos1 = monto_venta_fin.span()[0]\n",
    "dolar_compra = new_search_text_2[:pos1]\n",
    "\n",
    "print_str = \"\\n{}: \\n------------\\nCompra: {} \\nVenta: {}\\n\".format(tit_,dolar_compra,dolar_venta)\n",
    "print(print_str)"
   ]
  },
  {
   "cell_type": "code",
   "execution_count": null,
   "id": "4f6fc271-1d84-44c5-b6f5-76c5062a398d",
   "metadata": {},
   "outputs": [],
   "source": []
  }
 ],
 "metadata": {
  "kernelspec": {
   "display_name": "Python 3 (ipykernel)",
   "language": "python",
   "name": "python3"
  },
  "language_info": {
   "codemirror_mode": {
    "name": "ipython",
    "version": 3
   },
   "file_extension": ".py",
   "mimetype": "text/x-python",
   "name": "python",
   "nbconvert_exporter": "python",
   "pygments_lexer": "ipython3",
   "version": "3.9.7"
  }
 },
 "nbformat": 4,
 "nbformat_minor": 5
}
