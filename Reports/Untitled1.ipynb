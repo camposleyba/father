{
 "cells": [
  {
   "cell_type": "code",
   "execution_count": 4,
   "id": "bca8e069-d68a-4f15-bedb-5e7fb2e9626c",
   "metadata": {},
   "outputs": [],
   "source": [
    "import pandas as pd\n",
    "\n",
    "filepath=r\"C:\\Users\\016434613\\Downloads\\progress_dt_tasks_details_report.xlsx\"\n",
    "\n",
    "df = pd.read_excel(filepath,sheet_name=\"Tasks\")\n",
    "df = df.rename(columns={'DSL/SUPERVISOR (NAME)':'DSL','ROBOT NUMBER':'ROBOT_NUMBER','AUTOMATION TYPE':'AUTOMATION_TYPE'\n",
    "                        ,'MANUAL EXECUTION DURATION (hours per year)':'SAVING HS'})\n",
    "df = df.loc[:,['TASK ID','DSL','STATUS','ROBOT_NUMBER','TITLE','AUTOMATION_TYPE','PROCESSES','REGIONS','SAVING HS']]\n",
    "df = df.loc[df['PROCESSES']=='Inventory/Cost Accounting']\n",
    "df = df.loc[df['STATUS']!='Discarded']\n",
    "df = df.loc[df['STATUS']!='Sunset']\n",
    "df.to_excel(r\"C:\\Users\\016434613\\Desktop\\Inv-Cost_acct.xlsx\", index=False)"
   ]
  },
  {
   "cell_type": "code",
   "execution_count": null,
   "id": "a6efec81-1f88-40c1-bc9f-996a2a278a37",
   "metadata": {},
   "outputs": [],
   "source": []
  }
 ],
 "metadata": {
  "kernelspec": {
   "display_name": "Python 3 (ipykernel)",
   "language": "python",
   "name": "python3"
  },
  "language_info": {
   "codemirror_mode": {
    "name": "ipython",
    "version": 3
   },
   "file_extension": ".py",
   "mimetype": "text/x-python",
   "name": "python",
   "nbconvert_exporter": "python",
   "pygments_lexer": "ipython3",
   "version": "3.9.7"
  }
 },
 "nbformat": 4,
 "nbformat_minor": 5
}
