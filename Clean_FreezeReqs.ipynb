{
 "cells": [
  {
   "cell_type": "code",
   "execution_count": 30,
   "id": "0b27cfa3-d97e-40f1-bd5d-9ff10c626fd0",
   "metadata": {},
   "outputs": [],
   "source": [
    "import codecs\n",
    "reqFile = r\"C:\\Users\\016434613\\Desktop\\requirements.txt\"\n",
    "outFile = r\"C:\\Users\\016434613\\Desktop\\requirements_.txt\"\n",
    "package_list = []\n",
    "\n",
    "fp = codecs.open(reqFile, \"r\", \"utf-16\")\n",
    "installed_packages = fp.readlines()\n",
    "for package in installed_packages:\n",
    "    p = package[:-2].split(\"=\")\n",
    "    package_list.append(p[0])\n",
    "\n",
    "with open(outFile, 'w') as f:\n",
    "    for pack in package_list:\n",
    "        f.write(\"%s\\n\" % pack)"
   ]
  },
  {
   "cell_type": "code",
   "execution_count": null,
   "id": "94034258-3e5e-4928-8162-d71ad33bb84b",
   "metadata": {},
   "outputs": [],
   "source": []
  }
 ],
 "metadata": {
  "kernelspec": {
   "display_name": "Python 3 (ipykernel)",
   "language": "python",
   "name": "python3"
  },
  "language_info": {
   "codemirror_mode": {
    "name": "ipython",
    "version": 3
   },
   "file_extension": ".py",
   "mimetype": "text/x-python",
   "name": "python",
   "nbconvert_exporter": "python",
   "pygments_lexer": "ipython3",
   "version": "3.9.7"
  }
 },
 "nbformat": 4,
 "nbformat_minor": 5
}
