{
 "cells": [
  {
   "cell_type": "code",
   "execution_count": 1,
   "id": "0b27cfa3-d97e-40f1-bd5d-9ff10c626fd0",
   "metadata": {},
   "outputs": [
    {
     "name": "stdout",
     "output_type": "stream",
     "text": [
      "new_requirements file creado exitosamente!\n"
     ]
    }
   ],
   "source": [
    "from clean_pipfreezereqs import cleanReqs\n",
    "\n",
    "ifile=r'C:\\Users\\016434613\\Desktop\\requirements.txt'\n",
    "ofile=r'C:\\Users\\016434613\\Desktop\\new_requirements.txt'\n",
    "\n",
    "cr = cleanReqs(ifile,ofile)\n",
    "cr.create()"
   ]
  },
  {
   "cell_type": "code",
   "execution_count": 1,
   "id": "94034258-3e5e-4928-8162-d71ad33bb84b",
   "metadata": {},
   "outputs": [
    {
     "name": "stdout",
     "output_type": "stream",
     "text": [
      "Help on class cleanReqs in module clean_pipfreezereqs:\n",
      "\n",
      "class cleanReqs(builtins.object)\n",
      " |  cleanReqs(infile, outfile)\n",
      " |  \n",
      " |  Methods defined here:\n",
      " |  \n",
      " |  __init__(self, infile, outfile)\n",
      " |      Initialize self.  See help(type(self)) for accurate signature.\n",
      " |  \n",
      " |  create(self, encoding='utf-16', spl='=')\n",
      " |      Function create allows you to read a pip freeze encoded file (by default utf-16) and split (by default by '=') the\n",
      " |      version number of the different libraries to be installed and creates a new file with the listed libraries versionless.\n",
      " |  \n",
      " |  ----------------------------------------------------------------------\n",
      " |  Data descriptors defined here:\n",
      " |  \n",
      " |  __dict__\n",
      " |      dictionary for instance variables (if defined)\n",
      " |  \n",
      " |  __weakref__\n",
      " |      list of weak references to the object (if defined)\n",
      "\n"
     ]
    }
   ],
   "source": [
    "from clean_pipfreezereqs import cleanReqs\n",
    "help(cleanReqs)"
   ]
  },
  {
   "cell_type": "code",
   "execution_count": null,
   "id": "d1e55948-13f7-47d2-8177-582245719c27",
   "metadata": {},
   "outputs": [],
   "source": []
  }
 ],
 "metadata": {
  "kernelspec": {
   "display_name": "Python 3 (ipykernel)",
   "language": "python",
   "name": "python3"
  },
  "language_info": {
   "codemirror_mode": {
    "name": "ipython",
    "version": 3
   },
   "file_extension": ".py",
   "mimetype": "text/x-python",
   "name": "python",
   "nbconvert_exporter": "python",
   "pygments_lexer": "ipython3",
   "version": "3.9.7"
  }
 },
 "nbformat": 4,
 "nbformat_minor": 5
}
