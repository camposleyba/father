{
 "cells": [
  {
   "cell_type": "code",
   "execution_count": 2,
   "id": "b0ec33c0-f4ac-436f-800a-d21a58c1d05c",
   "metadata": {},
   "outputs": [
    {
     "name": "stdin",
     "output_type": "stream",
     "text": [
      "What DB do you want to setup?: DP1H\n"
     ]
    },
    {
     "name": "stdout",
     "output_type": "stream",
     "text": [
      "File successfully created!\n"
     ]
    }
   ],
   "source": [
    "import pandas as pd\n",
    "import os\n",
    "\n",
    "#### Pendiente hablar con Brunito para que haya un TKinter que le permita\n",
    "#### al usuario elegir en base a los DB_ALIAS ya en el DF\n",
    "\n",
    "user = os.environ.get(\"USERNAME\")\n",
    "parm_dict = {}\n",
    "keys_list = ['NODE','DB_ALIAS','DB_NAME','DB_HOST','PORT','AUTH','DCSOPT','SECURITY']\n",
    "key_dict = {'NODE':'Location','DB_ALIAS':'Alias','DB_NAME':'Target Database',\n",
    "            'DB_HOST':'Host name','PORT':'Port','AUTH':'Authentication',\n",
    "            'DCSOPT':'DCS Options','SECURITY':'USE SSL'}\n",
    "\n",
    "excel_path=r\"C:\\Users\" +\"\\\\\" +user + \"\\Desktop\\Todo\\DB2SSL\\DB2 Database Setup with SSL_.xlsm\"\n",
    "\n",
    "df = pd.read_excel(excel_path,sheet_name=\"DB2Setup\")\n",
    "values = df['Alias'].tolist()\n",
    "\n",
    "db = input(\"What DB do you want to setup?:\")\n",
    "\n",
    "df_todict = df.loc[df['Alias']==db]\n",
    "\n",
    "for key in keys_list:\n",
    "    parm_dict[key] = df_todict.iloc[0][key_dict[key]]\n",
    "\n",
    "uncata1 = \"db2cmd -c -w -i db2 uncatalog node {}\".format(parm_dict['NODE'])\n",
    "uncata2 = \"db2cmd -c -w -i db2 uncatalog odbc data source {}\".format(parm_dict['DB_ALIAS'])\n",
    "uncata3 = \"db2cmd -c -w -i db2 uncatalog db {}\".format(parm_dict['DB_ALIAS'])\n",
    "uncata4 = \"db2cmd -c -w -i db2 uncatalog dcs db {}\".format(parm_dict['DB_ALIAS'])\n",
    "cata1 = \"db2cmd -c -w -i db2 catalog tcpip node {} remote {} server {} security {}\".format(parm_dict['NODE'],parm_dict['DB_HOST'],parm_dict['PORT'],parm_dict['SECURITY'])\n",
    "cata2 = \"db2cmd -c -w -i db2 catalog db {} as {} at node {} authentication {}\".format(parm_dict['DB_ALIAS'],parm_dict['DB_ALIAS'],parm_dict['NODE'],parm_dict['AUTH'])\n",
    "cata3 = \"db2cmd -c -w -i db2 catalog dcs db {} as {} parms '{}'\".format(parm_dict['DB_ALIAS'],parm_dict['DB_NAME'],parm_dict['DCSOPT'])\n",
    "cata4 = \"db2cmd -c -w -i db2 catalog user odbc data source {}\".format(parm_dict['DB_ALIAS'])\n",
    "\n",
    "command_list = [uncata1,uncata2,uncata3,uncata4,cata1,cata2,cata3,cata4]\n",
    "\n",
    "outfile=r\"C:\\Users\" +\"\\\\\" +user +\"\\Desktop\\Bat Files\\odbc_setup.cmd\"\n",
    "with open(outfile,\"w\") as f:\n",
    "    for c in command_list:\n",
    "        f.write(c+\"\\n\")\n",
    "print(\"File successfully created!\")"
   ]
  },
  {
   "cell_type": "code",
   "execution_count": 2,
   "id": "4a028634-2b2f-4d09-a58b-696606cbb7bc",
   "metadata": {},
   "outputs": [
    {
     "data": {
      "text/plain": [
       "['EUHADBM0',\n",
       " 'AAAPDBEQ',\n",
       " 'QHBO1SSL',\n",
       " 'QHBD2SSL',\n",
       " 'DP1H',\n",
       " 'BHPRDFPD',\n",
       " 'EUHADB2A',\n",
       " 'DB2P2',\n",
       " 'EUBADB2A',\n",
       " 'ENDCDSNU',\n",
       " 'MWNCDSNB',\n",
       " 'EHNIDB2N',\n",
       " 'UKMFG5',\n",
       " 'EUB1DB2B',\n",
       " 'EUB1DBM0',\n",
       " 'UKDEV3',\n",
       " 'EUDADBM0',\n",
       " 'BDW',\n",
       " 'FIWBDW',\n",
       " 'QHBD1',\n",
       " 'SSLPODS',\n",
       " 'SSLPAGE',\n",
       " 'MWNCDGS0',\n",
       " 'NORDMVS1',\n",
       " 'ICFS']"
      ]
     },
     "execution_count": 2,
     "metadata": {},
     "output_type": "execute_result"
    }
   ],
   "source": [
    "values"
   ]
  },
  {
   "cell_type": "code",
   "execution_count": null,
   "id": "d2d1fccf-d340-4b47-bf3e-0126d34bba24",
   "metadata": {},
   "outputs": [],
   "source": []
  }
 ],
 "metadata": {
  "kernelspec": {
   "display_name": "Python 3 (ipykernel)",
   "language": "python",
   "name": "python3"
  },
  "language_info": {
   "codemirror_mode": {
    "name": "ipython",
    "version": 3
   },
   "file_extension": ".py",
   "mimetype": "text/x-python",
   "name": "python",
   "nbconvert_exporter": "python",
   "pygments_lexer": "ipython3",
   "version": "3.9.7"
  }
 },
 "nbformat": 4,
 "nbformat_minor": 5
}
