{
 "cells": [
  {
   "cell_type": "code",
   "execution_count": null,
   "id": "d9c46010-6bc0-4b5a-8e86-5eea0e6e2833",
   "metadata": {},
   "outputs": [],
   "source": [
    "import warnings\n",
    "import subprocess\n",
    "from selenium import webdriver\n",
    "import time\n",
    "\n",
    "warnings.filterwarnings('ignore')\n",
    "\n",
    "# This sentence takes care of deleting old mater report on downloads folder\n",
    "subprocess.run(\"del /f C:\\\\Users\\\\016434613\\\\Downloads\\\\master_progress_report_*.xlsx\", shell=True, capture_output=True)\n",
    "\n",
    "mydriver = webdriver.Chrome(\"chromedriver.exe\")\n",
    "mydriver.get(\"https://progress.us1a.cirrus.ibm.com/api/rpt/mst/1588760663192/lf/bd3hd8xaj/0/1588760727599\")\n",
    "time.sleep(60)\n",
    "mydriver.close()\n",
    "print(\"Report successfully Downloaded!\")"
   ]
  },
  {
   "cell_type": "code",
   "execution_count": 1,
   "id": "e17a0c3e-099a-494f-8016-84580f8f88fa",
   "metadata": {},
   "outputs": [
    {
     "name": "stdout",
     "output_type": "stream",
     "text": [
      "Report successfully created!\n"
     ]
    }
   ],
   "source": [
    "import pandas as pd\n",
    "import warnings\n",
    "import numpy as np\n",
    "import glob\n",
    "import re\n",
    "from urllib import request as req\n",
    "import json\n",
    "\n",
    "warnings.filterwarnings('ignore')\n",
    "\n",
    "filepath_ = r\"C:\\Users\\016434613\\Downloads\\progress_dt_tasks_master_report.xlsx\"\n",
    "\n",
    "df_Ideas = pd.read_excel(filepath_,sheet_name=\"Ideas\")\n",
    "\n",
    "df_Ideas = df_Ideas.rename(columns={'CREATED BY (NAME)':'DSL','CREATED BY (EMAIL)':'DSL MAIL','LOCATIONS OF MANUAL EXECUTION':'LOCATIONS','MANUAL EXECUTION DURATION (hours per year)':'SAVING HS'})\n",
    "df_Ideas = df_Ideas.loc[:,['IDEA ID','CREATED','DSL','DSL MAIL','STATUS','TITLE','AUTOMATION TYPE','LOCATIONS','SAVING HS']]\n",
    "df_Ideas['CREATED'] = df_Ideas['CREATED'].apply(lambda x: str(x))\n",
    "df_Ideas['CREATED'] = df_Ideas['CREATED'].apply(lambda x: x[4:7]+\" \"+x[11:15])\n",
    "df_Ideas = df_Ideas.loc[df_Ideas['STATUS']==\"Submitted\"]\n",
    "df_Ideas.drop(columns=['STATUS'],inplace=True)\n",
    "df_Ideas['Count']=1\n",
    "df_Ideas.to_excel(r\"C:\\Users\\016434613\\Desktop\\Ideas.xlsx\", index=False)\n",
    "#df_Back\n",
    "print(\"Report successfully created!\")"
   ]
  },
  {
   "cell_type": "code",
   "execution_count": null,
   "id": "d999eee7-2814-4385-bb99-17c4758e05d0",
   "metadata": {},
   "outputs": [],
   "source": []
  }
 ],
 "metadata": {
  "kernelspec": {
   "display_name": "Python 3 (ipykernel)",
   "language": "python",
   "name": "python3"
  },
  "language_info": {
   "codemirror_mode": {
    "name": "ipython",
    "version": 3
   },
   "file_extension": ".py",
   "mimetype": "text/x-python",
   "name": "python",
   "nbconvert_exporter": "python",
   "pygments_lexer": "ipython3",
   "version": "3.9.7"
  }
 },
 "nbformat": 4,
 "nbformat_minor": 5
}
