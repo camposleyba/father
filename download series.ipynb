{
 "cells": [
  {
   "cell_type": "code",
   "execution_count": 2,
   "id": "696b1f31-5408-49ab-a9b2-7fc87b642b75",
   "metadata": {},
   "outputs": [
    {
     "name": "stdin",
     "output_type": "stream",
     "text": [
      "Ingrese la serie o peli que quiere ver:  new amsterdam s04e21\n"
     ]
    },
    {
     "name": "stdout",
     "output_type": "stream",
     "text": [
      "magnet:?xt=urn:btih:4E3E4B582732C4836DB05FD80D77D5E78BD6BFE7&dn=New.Amsterdam.2018.S04E21.1080p.WEB.h264-GOSSIP&tr=http%3A%2F%2Ftracker.trackerfix.com%3A80%2Fannounce&tr=udp%3A%2F%2F9.rarbg.me%3A2870%2Fannounce&tr=udp%3A%2F%2F9.rarbg.to%3A2840%2Fannounce&tr=udp%3A%2F%2Ftracker.slowcheetah.org%3A14780%2Fannounce&tr=udp%3A%2F%2Ftracker.tallpenguin.org%3A15710%2Fannounce&tr=udp%3A%2F%2Ftracker.opentrackr.org%3A1337%2Fannounce&tr=http%3A%2F%2Ftracker.openbittorrent.com%3A80%2Fannounce&tr=udp%3A%2F%2Fopentracker.i2p.rocks%3A6969%2Fannounce&tr=udp%3A%2F%2Ftracker.internetwarriors.net%3A1337%2Fannounce&tr=udp%3A%2F%2Ftracker.leechers-paradise.org%3A6969%2Fannounce&tr=udp%3A%2F%2Fcoppersurfer.tk%3A6969%2Fannounce&tr=udp%3A%2F%2Ftracker.zer0day.to%3A1337%2Fannounce\n"
     ]
    },
    {
     "name": "stdin",
     "output_type": "stream",
     "text": [
      "Desea proseguir? Y/N: y\n"
     ]
    },
    {
     "name": "stdout",
     "output_type": "stream",
     "text": [
      "Successfully set up client!\n",
      "File subido exitosamente!\n"
     ]
    }
   ],
   "source": [
    "from movieSeries_search import *\n",
    "import dropbox\n",
    "from dropbox import DropboxOAuth2FlowNoRedirect\n",
    "import warnings\n",
    "import time\n",
    "import requests\n",
    "import webbrowser\n",
    "import re\n",
    "import os.path\n",
    "import pickle\n",
    "\n",
    "warnings.filterwarnings('ignore')\n",
    "\n",
    "dire = input(\"Ingrese la serie o peli que quiere ver: \")\n",
    "dire = dire.replace(\" \", \"+\")\n",
    "\n",
    "tolink = search_movie_series(dire)\n",
    "if tolink != \"There is no torrent for the movie or series you choosed!\":\n",
    "    tosend = search_magnetLink(tolink)\n",
    "    print(tosend)\n",
    "else:\n",
    "    print(tolink)\n",
    "\n",
    "a = input(\"Desea proseguir? Y/N:\")\n",
    "a = a.lower()\n",
    "str_movie = r\"C:\\Users\\016434613\\Desktop\"\n",
    "movie=dire+\".txt\"\n",
    "full_dire = str_movie + \"\\\\\" + movie\n",
    "\n",
    "if a == \"y\":   \n",
    "    with open(full_dire,\"w\") as outfile:\n",
    "        outfile.write(tosend)   \n",
    "    exists = os.path.exists(\"credentials\")\n",
    "    if exists:\n",
    "        with open(\"credentials\", \"rb\") as f:\n",
    "            dict_ = pickle.load(f)\n",
    "    \n",
    "        with dropbox.Dropbox(oauth2_refresh_token=dict_['oauth2_refresh_token'],\n",
    "                             app_key=dict_['APP_KEY'],\n",
    "                            ) as dbx:\n",
    "            print(\"Successfully set up client!\")\n",
    "\n",
    "        dire = dire.replace(\"+\",\" \")\n",
    "\n",
    "        file_from = full_dire  \n",
    "        file_to = '/movies/'+dire+'.txt'     \n",
    "        def upload_file(file_from, file_to):\n",
    "            f = open(file_from, 'rb')\n",
    "            dbx.files_upload(f.read(), file_to)\n",
    "        upload_file(file_from,file_to)\n",
    "        print(\"File subido exitosamente!\")\n",
    "    else:\n",
    "        with open(\"APP_SECRETS\", \"rb\") as f:\n",
    "            APP_S = pickle.load(f)\n",
    "        auth_flow3 = DropboxOAuth2FlowNoRedirect(APP_S['APP_KEY'],\n",
    "                                                 use_pkce=True, \n",
    "                                                 token_access_type='offline')\n",
    "\n",
    "        authorize_url = auth_flow3.start()\n",
    "        webbrowser.open(authorize_url)\n",
    "        auth_code = input(\"Enter the authorization code here: \").strip()\n",
    "\n",
    "        try:\n",
    "            oauth_result = auth_flow3.finish(auth_code)\n",
    "            print(oauth_result)\n",
    "        except Exception as e:\n",
    "            print('Error: %s' % (e,))\n",
    "            exit(1)\n",
    "           \n",
    "        credentials = {\n",
    "           \"APP_KEY\":APP_S['APP_KEY'],\n",
    "           \"oauth2_refresh_token\":oauth_result.refresh_token,\n",
    "        }\n",
    "\n",
    "        with open(\"credentials\", \"wb\") as f:\n",
    "            pickle.dump(credentials, f)\n",
    "        print(\"Credentials file created to upload to Dropbox, try again!\")\n",
    "else:\n",
    "    print(\"No tenemos link para subir\")\n",
    "    "
   ]
  },
  {
   "cell_type": "code",
   "execution_count": 3,
   "id": "a68b8771-7623-4f62-a56b-f3e48f561ff2",
   "metadata": {},
   "outputs": [
    {
     "data": {
      "text/plain": [
       "['/es/search/sublanguageid-spa,spl/pimdbid-7817340/season-4',\n",
       " '/es/search/sublanguageid-spa,spl/imdbid-12053702',\n",
       " '/es/search/sublanguageid-spa,spl/imdbid-15433696',\n",
       " '/es/search/sublanguageid-spa,spl/imdbid-15478086',\n",
       " '/es/search/sublanguageid-spa,spl/imdbid-15523024',\n",
       " '/es/search/sublanguageid-spa,spl/imdbid-15567696',\n",
       " '/es/search/sublanguageid-spa,spl/imdbid-15567074',\n",
       " '/es/search/sublanguageid-spa,spl/imdbid-15731380',\n",
       " '/es/search/sublanguageid-spa,spl/imdbid-15786146',\n",
       " '/es/search/sublanguageid-spa,spl/imdbid-15839530',\n",
       " '/es/search/sublanguageid-spa,spl/imdbid-15980302',\n",
       " '/es/search/sublanguageid-spa,spl/imdbid-16240062',\n",
       " '/es/search/sublanguageid-spa,spl/imdbid-16743512',\n",
       " '/es/search/sublanguageid-spa,spl/imdbid-16914806',\n",
       " '/es/search/sublanguageid-spa,spl/imdbid-17038064',\n",
       " '/es/search/sublanguageid-spa,spl/imdbid-17477850',\n",
       " '/es/search/sublanguageid-spa,spl/imdbid-18245728',\n",
       " '/es/search/sublanguageid-spa,spl/imdbid-19071802',\n",
       " '/es/search/sublanguageid-spa,spl/imdbid-19783436',\n",
       " '/es/search/sublanguageid-spa,spl/imdbid-19857652',\n",
       " '/es/search/sublanguageid-spa,spl/imdbid-19284178',\n",
       " '/es/search/sublanguageid-spa,spl/imdbid-19864372']"
      ]
     },
     "execution_count": 3,
     "metadata": {},
     "output_type": "execute_result"
    }
   ],
   "source": [
    "import requests\n",
    "import re\n",
    "import webbrowser\n",
    "\n",
    "#https://www.opensubtitles.org/es/search/imdbid-3387648/sublanguageid-spa,spl/moviename-the%20taking%20of%20deborah%20logan\n",
    "\n",
    "listhref = []\n",
    "r = requests.get(\"https://www.opensubtitles.org/es/ssearch/sublanguageid-spa,spl/idmovie-674265\")\n",
    "search_text = r.text\n",
    "\n",
    "season4 = re.search(r'<span id=\"season-4\">',search_text)\n",
    "posi = season4.span()[0]\n",
    "narrow_text = search_text[posi:]\n",
    "season5 = re.search(r'<span id=\"season-5\">',narrow_text)\n",
    "posf = season5.span()[1]\n",
    "narrow_text = narrow_text[:posf]\n",
    "narrow_list = narrow_text.splitlines()\n",
    "\n",
    "for line in narrow_list:\n",
    "    a = re.search(r'/es/search/',line)\n",
    "    if a is not None:\n",
    "        posi = a.span()[0]\n",
    "        new_line = line[posi:]\n",
    "        b = re.search(r'\">',new_line)\n",
    "        if b is not None:\n",
    "            posf = b.span()[0]\n",
    "            listhref.append(new_line[:posf])\n",
    "t = requests.get(\"https://www.opensubtitles.org\"+listhref[7])\n",
    "text_respo = t.text\n",
    "text_respo\n",
    "#a_ = re.search(r'title=\"Descarga\" href=\"',text_respo)\n",
    "#if a_ is not None:\n",
    "#new_text = text_respo[a_.span()[1]:]\n",
    "#b_ = re.search(r'\">',new_text)\n",
    "#link_ = new_text[:b_.span()[0]]\n",
    "#webbrowser.open(link_)\n",
    "listhref"
   ]
  },
  {
   "cell_type": "code",
   "execution_count": 4,
   "id": "b9770dc9-7e1d-4d42-abb5-7d31031acd1f",
   "metadata": {},
   "outputs": [
    {
     "data": {
      "text/plain": [
       "{'APP_KEY': 'ngx7pmj915az7b6',\n",
       " 'APP_SECRET': '3h0o8xzqs0mscz1',\n",
       " 'scope': ['files.content.read', 'files.content.write'],\n",
       " 'oauth2_refresh_token': 'glkqG_srTcMAAAAAAAAAAUf3UskfKMDcv-NMf4qVZ8jGKEwJqRPZyk8Xv0HJx2NH',\n",
       " 'oauth2_access_token': 'sl.BHvkQKrEQXJhYJURL6xC7HpHliTTz4ciDRTBeDA6MiHM-dlAkvx3QvJchKqTv1Iqc_-Cvp-iE0lIFI_SFj9kHMUbpmOB1d872MlE-adDdXN-xVBysJ_JmMdN44oiiBv4iQDcbF8',\n",
       " 'oauth2_access_token_expiration': datetime.datetime(2022, 5, 17, 2, 20, 33, 526418)}"
      ]
     },
     "execution_count": 4,
     "metadata": {},
     "output_type": "execute_result"
    }
   ],
   "source": [
    "import pickle\n",
    "\n",
    "with open(\"credentials\", \"rb\") as f:\n",
    "    dict_ = pickle.load(f)\n",
    "dict_"
   ]
  },
  {
   "cell_type": "code",
   "execution_count": 4,
   "id": "4531453d-7a6d-40e9-aef0-831f3c812540",
   "metadata": {},
   "outputs": [
    {
     "name": "stdout",
     "output_type": "stream",
     "text": [
      "File subido exitosamente!\n"
     ]
    }
   ],
   "source": [
    "file_from = r\"C:\\Users\\016434613\\Downloads\\New Amsterdam 4x21 - Castles Made of Sand.MeGusta_mSD_GOSSIP_NTb.es-es.srt\"\n",
    "file_to = '/movies/new amstedam s04e21.srt'     \n",
    "def upload_file(file_from, file_to):\n",
    "    f = open(file_from, 'rb')\n",
    "    dbx.files_upload(f.read(), file_to)\n",
    "upload_file(file_from,file_to)\n",
    "print(\"File subido exitosamente!\")"
   ]
  },
  {
   "cell_type": "code",
   "execution_count": null,
   "id": "9cdc1285-e32b-474a-aa93-34d3018c3436",
   "metadata": {},
   "outputs": [],
   "source": []
  }
 ],
 "metadata": {
  "kernelspec": {
   "display_name": "Python 3 (ipykernel)",
   "language": "python",
   "name": "python3"
  },
  "language_info": {
   "codemirror_mode": {
    "name": "ipython",
    "version": 3
   },
   "file_extension": ".py",
   "mimetype": "text/x-python",
   "name": "python",
   "nbconvert_exporter": "python",
   "pygments_lexer": "ipython3",
   "version": "3.9.7"
  }
 },
 "nbformat": 4,
 "nbformat_minor": 5
}
