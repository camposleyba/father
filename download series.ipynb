{
 "cells": [
  {
   "cell_type": "code",
   "execution_count": 17,
   "id": "696b1f31-5408-49ab-a9b2-7fc87b642b75",
   "metadata": {},
   "outputs": [
    {
     "name": "stdin",
     "output_type": "stream",
     "text": [
      "Ingrese la serie o peli que quiere ver:  new amsterdam s03e08\n"
     ]
    },
    {
     "data": {
      "text/plain": [
       "'torrent/4843930/New-Amsterdam-2018-S03E08-WEB-x264-PHOENiX-TGx/'"
      ]
     },
     "execution_count": 17,
     "metadata": {},
     "output_type": "execute_result"
    }
   ],
   "source": [
    "from urllib.request import Request, urlopen\n",
    "import re\n",
    "dire = input(\"Ingrese la serie o peli que quiere ver: \")\n",
    "dire = dire.replace(\" \", \"+\")\n",
    "request = Request(\"https://1337x.to/search/\"+dire+\"/1/\", headers={'User-Agent': 'Mozilla/5.0'})\n",
    "web = urlopen(request)\n",
    "datos = web.read().decode()\n",
    "#datos\n",
    "sear = re.search(r\"<a href=\\\"/torrent/\",datos )\n",
    "posini = sear.span()[0]\n",
    "\n",
    "datos2 = datos[posini:]\n",
    "\n",
    "sear = re.search(r\"\\/\\\">\",datos2 )\n",
    "\n",
    "posfin = sear.span()[1]\n",
    "\n",
    "link = datos2[10:posfin-2]\n",
    "link"
   ]
  },
  {
   "cell_type": "code",
   "execution_count": 20,
   "id": "5f0aadde-60fd-4826-85e1-5e16d3f051fd",
   "metadata": {},
   "outputs": [
    {
     "data": {
      "text/plain": [
       "'magnet:?xt=urn:btih:59769D79675DA00A79355D799BA1EA9B376AC56C&dn=New.Amsterdam.2018.S03E08.WEB.x264-PHOENiX%5BTGx%5D+%E2%AD%90&tr=udp%3A%2F%2Fopen.stealth.si%3A80%2Fannounce&tr=udp%3A%2F%2Ftracker.tiny-vps.com%3A6969%2Fannounce&tr=udp%3A%2F%2Ffasttracker.foreverpirates.co%3A6969%2Fannounce&tr=udp%3A%2F%2Ftracker.opentrackr.org%3A1337%2Fannounce&tr=udp%3A%2F%2Fexplodie.org%3A6969%2Fannounce&tr=udp%3A%2F%2Ftracker.cyberia.is%3A6969%2Fannounce&tr=udp%3A%2F%2Fipv4.tracker.harry.lu%3A80%2Fannounce&tr=udp%3A%2F%2Ftracker.uw0.xyz%3A6969%2Fannounce&tr=udp%3A%2F%2Fopentracker.i2p.rocks%3A6969%2Fannounce&tr=udp%3A%2F%2Ftracker.birkenwald.de%3A6969%2Fannounce&tr=udp%3A%2F%2Ftracker.torrent.eu.org%3A451%2Fannounce&tr=udp%3A%2F%2Ftracker.moeking.me%3A6969%2Fannounce&tr=udp%3A%2F%2Fopentor.org%3A2710%2Fannounce&tr=udp%3A%2F%2Ftracker.dler.org%3A6969%2Fannounce&tr=udp%3A%2F%2Ftracker.zer0day.to%3A1337%2Fannounce&tr=udp%3A%2F%2Ftracker.leechers-paradise.org%3A6969%2Fannounce&tr=udp%3A%2F%2Fcoppersurfer.tk%3A6969%2Fannounce'"
      ]
     },
     "execution_count": 20,
     "metadata": {},
     "output_type": "execute_result"
    }
   ],
   "source": [
    "request = Request(\"https://1337x.to/\"+link, headers={'User-Agent': 'Mozilla/5.0'})\n",
    "web = urlopen(request)\n",
    "datos = web.read().decode()\n",
    "\n",
    "\n",
    "sear = re.search(r\"href=\\\"magnet:\\?xt=urn:btih:\",datos )\n",
    "#print(sear)\n",
    "\n",
    "posini = sear.span()[0]\n",
    "\n",
    "datos2 = datos[posini:]\n",
    "\n",
    "sear = re.search(r\" onclick=\",datos2)\n",
    "\n",
    "posfin = sear.span()[1]\n",
    "\n",
    "link2 = datos2[6:posfin-10]\n",
    "link2"
   ]
  },
  {
   "cell_type": "code",
   "execution_count": null,
   "id": "a68b8771-7623-4f62-a56b-f3e48f561ff2",
   "metadata": {},
   "outputs": [],
   "source": []
  }
 ],
 "metadata": {
  "kernelspec": {
   "display_name": "Python 3 (ipykernel)",
   "language": "python",
   "name": "python3"
  },
  "language_info": {
   "codemirror_mode": {
    "name": "ipython",
    "version": 3
   },
   "file_extension": ".py",
   "mimetype": "text/x-python",
   "name": "python",
   "nbconvert_exporter": "python",
   "pygments_lexer": "ipython3",
   "version": "3.9.7"
  }
 },
 "nbformat": 4,
 "nbformat_minor": 5
}
