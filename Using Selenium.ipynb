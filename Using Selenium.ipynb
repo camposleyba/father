{
 "cells": [
  {
   "cell_type": "code",
   "execution_count": 1,
   "id": "04e04a26-8c27-4c8a-9ddf-7d62b9db5263",
   "metadata": {},
   "outputs": [
    {
     "name": "stdout",
     "output_type": "stream",
     "text": [
      "Report successfully updated\n"
     ]
    }
   ],
   "source": [
    "import warnings\n",
    "from selenium import webdriver\n",
    "from selenium.webdriver.common.by import By\n",
    "from selenium.webdriver.support.ui import WebDriverWait\n",
    "from selenium.webdriver.support import expected_conditions as EC\n",
    "import time\n",
    "import pandas as pd\n",
    "\n",
    "warnings.filterwarnings('ignore')\n",
    "filepath_=r\"C:\\Users\\016434613\\Desktop\\Specification.xlsx\"\n",
    "timeelem_list = []\n",
    "df_Spec = pd.read_excel(filepath_,sheet_name=\"Sheet1\")\n",
    "list_ = df_Spec['TASK ID'].tolist()\n",
    "\n",
    "\n",
    "mydriver = webdriver.Chrome(\"chromedriver.exe\")\n",
    "mydriver.get(\"https://progress.us1a.cirrus.ibm.com/digital-transformation/filter/own\")\n",
    "w3id = mydriver.find_element_by_xpath('//*[@id=\"credsDiv\"]/label')\n",
    "w3id.click()\n",
    "user = mydriver.find_element_by_xpath('//*[@id=\"user-name-input\"]')\n",
    "user.send_keys('marcamp@ar.ibm.com')\n",
    "psw = mydriver.find_element_by_xpath('//*[@id=\"password-input\"]')\n",
    "psw.send_keys('MyNporsiempre2026.')\n",
    "button = mydriver.find_element_by_xpath('//*[@id=\"login-button\"]')\n",
    "button.click()\n",
    "time.sleep(15)\n",
    "\n",
    "for item_ in list_:\n",
    "    mydriver.get(\"https://progress.us1a.cirrus.ibm.com/digital-transformation/task/\"+item_)\n",
    "    time.sleep(12)\n",
    "    try:\n",
    "        timeelem = mydriver.find_elements_by_xpath('//*[@id=\"container-3\"]/div[1]/app-task-preview/div/div/task-preview-header/div/div[2]/div[2]/div[1]/div[2]/div/span[2]')\n",
    "        timeelem_list.append(timeelem[0].get_attribute(\"textContent\"))\n",
    "    except:\n",
    "        timeelem_list.append('Issues loading')\n",
    "mydriver.close()\n",
    "df_Spec['Last_Updated']=timeelem_list\n",
    "df_Spec.to_excel(r\"C:\\Users\\016434613\\Desktop\\Specification.xlsx\", index=False)\n",
    "print('Report successfully updated')"
   ]
  },
  {
   "cell_type": "code",
   "execution_count": 16,
   "id": "1e1235f5-7e7b-470d-8291-6d7153f00968",
   "metadata": {},
   "outputs": [
    {
     "name": "stdout",
     "output_type": "stream",
     "text": [
      "a year ago\n",
      "a year ago\n",
      "a year ago\n",
      "2 years ago\n"
     ]
    },
    {
     "ename": "KeyboardInterrupt",
     "evalue": "",
     "output_type": "error",
     "traceback": [
      "\u001b[1;31m---------------------------------------------------------------------------\u001b[0m",
      "\u001b[1;31mKeyboardInterrupt\u001b[0m                         Traceback (most recent call last)",
      "\u001b[1;32mC:\\Users\\016434~1\\AppData\\Local\\Temp/ipykernel_10892/72436584.py\u001b[0m in \u001b[0;36m<module>\u001b[1;34m\u001b[0m\n\u001b[0;32m     28\u001b[0m \u001b[1;32mfor\u001b[0m \u001b[0ml\u001b[0m \u001b[1;32min\u001b[0m \u001b[0mlista\u001b[0m\u001b[1;33m:\u001b[0m\u001b[1;33m\u001b[0m\u001b[1;33m\u001b[0m\u001b[0m\n\u001b[0;32m     29\u001b[0m     \u001b[0mmydriver\u001b[0m\u001b[1;33m.\u001b[0m\u001b[0mget\u001b[0m\u001b[1;33m(\u001b[0m\u001b[1;34m\"https://progress.us1a.cirrus.ibm.com/digital-transformation/task/\"\u001b[0m\u001b[1;33m+\u001b[0m\u001b[0ml\u001b[0m\u001b[1;33m)\u001b[0m\u001b[1;33m\u001b[0m\u001b[1;33m\u001b[0m\u001b[0m\n\u001b[1;32m---> 30\u001b[1;33m     \u001b[0mtime\u001b[0m\u001b[1;33m.\u001b[0m\u001b[0msleep\u001b[0m\u001b[1;33m(\u001b[0m\u001b[1;36m15\u001b[0m\u001b[1;33m)\u001b[0m\u001b[1;33m\u001b[0m\u001b[1;33m\u001b[0m\u001b[0m\n\u001b[0m\u001b[0;32m     31\u001b[0m     \u001b[1;31m#element = wait.until(EC.element_to_be_clickable((By.ID, 'mat-tab-label-0-1')))\u001b[0m\u001b[1;33m\u001b[0m\u001b[1;33m\u001b[0m\u001b[0m\n\u001b[0;32m     32\u001b[0m \u001b[1;33m\u001b[0m\u001b[0m\n",
      "\u001b[1;31mKeyboardInterrupt\u001b[0m: "
     ]
    }
   ],
   "source": [
    "import warnings\n",
    "from selenium import webdriver\n",
    "from selenium.webdriver.common.by import By\n",
    "from selenium.webdriver.support.ui import WebDriverWait\n",
    "from selenium.webdriver.support import expected_conditions as EC\n",
    "import time\n",
    "import pandas as pd\n",
    "\n",
    "warnings.filterwarnings('ignore')\n",
    "filepath_=r\"C:\\Users\\016434613\\Desktop\\Specification.xlsx\"\n",
    "timeelem_list = []\n",
    "df_Spec = pd.read_excel(filepath_,sheet_name=\"Sheet1\")\n",
    "lista = df_Spec['TASK ID'].tolist()\n",
    "\n",
    "\n",
    "mydriver = webdriver.Chrome(\"chromedriver.exe\")\n",
    "mydriver.get(\"https://progress.us1a.cirrus.ibm.com/digital-transformation/filter/own\")\n",
    "w3id = mydriver.find_element_by_xpath('//*[@id=\"credsDiv\"]/label')\n",
    "w3id.click()\n",
    "user = mydriver.find_element_by_xpath('//*[@id=\"user-name-input\"]')\n",
    "user.send_keys('marcamp@ar.ibm.com')\n",
    "psw = mydriver.find_element_by_xpath('//*[@id=\"password-input\"]')\n",
    "psw.send_keys('MyNporsiempre2026.')\n",
    "button = mydriver.find_element_by_xpath('//*[@id=\"login-button\"]')\n",
    "button.click()\n",
    "time.sleep(15)\n",
    "\n",
    "for l in lista:\n",
    "    mydriver.get(\"https://progress.us1a.cirrus.ibm.com/digital-transformation/task/\"+l)\n",
    "    time.sleep(15)\n",
    "    #element = wait.until(EC.element_to_be_clickable((By.ID, 'mat-tab-label-0-1')))\n",
    "    \n",
    "   # element = wait.until(EC.element_to_be_selected((By.CLASS_NAME, 'mat-tooltip-trigger ng-tns-c228-10')))\n",
    "    \n",
    "    timeelem = mydriver.find_elements_by_xpath('//*[@id=\"container-3\"]/div[1]/app-task-preview/div/div/task-preview-header/div/div[2]/div[2]/div[1]/div[2]/div/span[2]')\n",
    "    #timeelem_ = timeelem[-1].get_attribute(\"textContent\")\n",
    "    print(timeelem[0].get_attribute(\"textContent\"))\n"
   ]
  },
  {
   "cell_type": "code",
   "execution_count": 30,
   "id": "cf7dbc3a-c729-4cc9-a157-51c3cd255f45",
   "metadata": {},
   "outputs": [
    {
     "data": {
      "text/plain": [
       "3"
      ]
     },
     "execution_count": 30,
     "metadata": {},
     "output_type": "execute_result"
    }
   ],
   "source": [
    "lista = ['1','2','3']\n",
    "fin = len(lista)\n",
    "fin"
   ]
  },
  {
   "cell_type": "code",
   "execution_count": null,
   "id": "d3ca6f33-93b6-4665-acb5-8f0c6e8ca579",
   "metadata": {},
   "outputs": [],
   "source": []
  }
 ],
 "metadata": {
  "kernelspec": {
   "display_name": "Python 3 (ipykernel)",
   "language": "python",
   "name": "python3"
  },
  "language_info": {
   "codemirror_mode": {
    "name": "ipython",
    "version": 3
   },
   "file_extension": ".py",
   "mimetype": "text/x-python",
   "name": "python",
   "nbconvert_exporter": "python",
   "pygments_lexer": "ipython3",
   "version": "3.9.7"
  }
 },
 "nbformat": 4,
 "nbformat_minor": 5
}
