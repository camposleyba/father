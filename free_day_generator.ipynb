{
 "cells": [
  {
   "cell_type": "code",
   "execution_count": 60,
   "id": "eed08620-bd38-46fe-b6f6-04391a014743",
   "metadata": {},
   "outputs": [
    {
     "name": "stdout",
     "output_type": "stream",
     "text": [
      "Los Ganadores son: \n",
      "------------------\n",
      "<li>Laura Bisaccia</li>\n",
      "<li>Martin Spadoni</li>\n",
      "<li>Florencia Castelvero</li>\n"
     ]
    }
   ],
   "source": [
    "from random import randint\n",
    "\n",
    "dev_list = ['Martin Spadoni',\n",
    "'Laura Bisaccia','Florencia Castelvero','Dario Atach']\n",
    "\n",
    "free_day_list = []\n",
    "\n",
    "for i in range(3):\n",
    "    num = randint(0,len(dev_list)-1)\n",
    "    free_day_list.append(dev_list[num])\n",
    "    dev_list.remove(dev_list[num])\n",
    "    \n",
    "print(\"Los Ganadores son: \"+\"\\n\"+\"-\"*len(\"Los Ganadores son:\")+\"\\n\"+\"<li>{}</li>\\n<li>{}</li>\\n<li>{}</li>\".format(free_day_list[0],free_day_list[1],free_day_list[2]))"
   ]
  },
  {
   "cell_type": "code",
   "execution_count": null,
   "id": "7c4e9de8-a6dc-43db-9296-de68a3b6ff29",
   "metadata": {},
   "outputs": [],
   "source": []
  }
 ],
 "metadata": {
  "kernelspec": {
   "display_name": "Python 3 (ipykernel)",
   "language": "python",
   "name": "python3"
  },
  "language_info": {
   "codemirror_mode": {
    "name": "ipython",
    "version": 3
   },
   "file_extension": ".py",
   "mimetype": "text/x-python",
   "name": "python",
   "nbconvert_exporter": "python",
   "pygments_lexer": "ipython3",
   "version": "3.9.7"
  }
 },
 "nbformat": 4,
 "nbformat_minor": 5
}
