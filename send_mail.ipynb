{
 "cells": [
  {
   "cell_type": "code",
   "execution_count": 23,
   "id": "bcf7320e-2379-4c00-b97a-2da353647d4e",
   "metadata": {},
   "outputs": [
    {
     "name": "stdout",
     "output_type": "stream",
     "text": [
      "Email sent!\n"
     ]
    }
   ],
   "source": [
    "import smtplib\n",
    "from email.mime.multipart import MIMEMultipart\n",
    "from email.mime.text import MIMEText\n",
    "import datetime\n",
    "\n",
    "mydate = datetime.datetime.now()\n",
    "mes = mydate.strftime(\"%B\")\n",
    "\n",
    "dict_meses = {'January':'Enero','February':'Febrero','March':'Marzo','April':'Abril','May':'Mayo','June':'Junio',\n",
    "            'July':'Julio','August':'Agosto','September':'Septiembre','October':'Octubre','November':'Noviembre',\n",
    "              'December':'Diciembre'}\n",
    "\n",
    "mes_mail = dict_meses[mes]\n",
    "\n",
    "gmailUser = 'martcamposleyba@gmail.com'\n",
    "gmailPassword = 'MyNporsiempre17.'\n",
    "recipient_string=\"\"\n",
    "recipient = ['0088adm@bna.com.ar', '0088cai10@bna.com.ar','0088OFN6@bna.com.ar',\n",
    "             '0088pco@bna.com.ar','martcamposleyba@gmail.com','natalia__sosa@hotmail.com']\n",
    "\n",
    "for i in recipient:\n",
    "    recipient_string += i + \", \"\n",
    "recipient_string = recipient_string[:-2]\n",
    "\n",
    "message = \"Estimados,\\n\"+\"Quería consultar el saldo de la cuota abonar este mes.\\n\"+\"DNI: 33901827.\\n\"+\"Nombre: Martin Campos.\\n\"+\"Muchas gracias.\"\n",
    "\n",
    "msg = MIMEMultipart()\n",
    "msg['From'] = gmailUser\n",
    "msg['To'] = recipient_string\n",
    "msg['Subject'] = \"Cuota crédito hipotecario UVA mes: \" + mes_mail\n",
    "msg.attach(MIMEText(message))\n",
    "\n",
    "mailServer = smtplib.SMTP('smtp.gmail.com', 587)\n",
    "mailServer.ehlo()\n",
    "mailServer.starttls()\n",
    "mailServer.ehlo()\n",
    "mailServer.login(gmailUser, gmailPassword)\n",
    "mailServer.sendmail(gmailUser, recipient, msg.as_string())\n",
    "mailServer.close()\n",
    "print ('Email sent!')"
   ]
  }
 ],
 "metadata": {
  "kernelspec": {
   "display_name": "Python 3 (ipykernel)",
   "language": "python",
   "name": "python3"
  },
  "language_info": {
   "codemirror_mode": {
    "name": "ipython",
    "version": 3
   },
   "file_extension": ".py",
   "mimetype": "text/x-python",
   "name": "python",
   "nbconvert_exporter": "python",
   "pygments_lexer": "ipython3",
   "version": "3.9.7"
  }
 },
 "nbformat": 4,
 "nbformat_minor": 5
}
