{
 "cells": [
  {
   "cell_type": "markdown",
   "metadata": {},
   "source": [
    "### ODA112 - Audit BackUp Response - PwC Connect"
   ]
  },
  {
   "cell_type": "markdown",
   "metadata": {},
   "source": [
    "First, we import all the libraries we're going to work with across the application."
   ]
  },
  {
   "cell_type": "code",
   "execution_count": 1,
   "metadata": {},
   "outputs": [],
   "source": [
    "from boxsdk import OAuth2, Client\n",
    "from selenium import webdriver\n",
    "from selenium.webdriver.common.keys import Keys\n",
    "import re\n",
    "import pandas"
   ]
  },
  {
   "cell_type": "markdown",
   "metadata": {},
   "source": [
    "Then we log into our personal BOX account, through the ```Client ID```, ```Client Secret``` and ```Developer Token```. All of this variables are picked up from the application that was created in the BOX Developer Console."
   ]
  },
  {
   "cell_type": "code",
   "execution_count": 14,
   "metadata": {},
   "outputs": [],
   "source": [
    "authentication_method = OAuth2(client_id = '0voy64ajgdt0rxxibmeib0elopx7pufu', \n",
    "                               client_secret = 'G7UOuMABnMq4WYcjd9co88p7sAZFDMXU', \n",
    "                               access_token = 'bu8myZLWmX9NxMDhuIDNHhgEWBpCRWcd')\n",
    "my_client = Client(authentication_method)"
   ]
  },
  {
   "cell_type": "markdown",
   "metadata": {},
   "source": [
    "Then we obtain the Authentication URL for the BOX folder we've created in our personal BOX repository."
   ]
  },
  {
   "cell_type": "code",
   "execution_count": 9,
   "metadata": {},
   "outputs": [
    {
     "name": "stdout",
     "output_type": "stream",
     "text": [
      "https://account.box.com/api/oauth2/authorize?state=box_csrf_token_h5WpEjdol1CNoxAf&response_type=code&client_id=8f480o1hikhaclrk2xinr5oblchierem&redirect_uri=https%3A%2F%2Fapp.box.com%2Ffolder%2F142802142764\n"
     ]
    }
   ],
   "source": [
    "box_folder_link = 'https://app.box.com/folder/142802142764'\n",
    "authentication_url, csrf_token = authentication_method.get_authorization_url(box_folder_link)\n",
    "print(authentication_url)"
   ]
  },
  {
   "cell_type": "markdown",
   "metadata": {},
   "source": [
    "Interacting with Selenium, we open a new browser session - in this case with Google Chrome application - and refer to the Authentication URL. Through this course of action, we can automatically obtain the code that will be needed to retrieve the ```Access Token``` in the following step.  "
   ]
  },
  {
   "cell_type": "code",
   "execution_count": null,
   "metadata": {},
   "outputs": [],
   "source": [
    "chrome = webdriver.Chrome(r\"C:\\Users\\BrunoSecchiari\\Desktop\\ODA112 - Audit Backup Response - PwC Connect\\Chrome Drive\\chromedriver.exe\")\n",
    "\n",
    "chrome.get(authentication_url)\n",
    "\n",
    "login = chrome.find_element_by_name(\"login\")\n",
    "login.send_keys(\"brunosecchiari95@gmail.com\")\n",
    "password = chrome.find_element_by_name(\"password\")\n",
    "password.send_keys(\"vwjpnz95\")\n",
    "login_submit_button = chrome.find_element_by_name(\"login_submit\")\n",
    "login_submit_button.click()\n",
    "consent_accept_button = chrome.find_element_by_name(\"consent_accept\")\n",
    "consent_accept_button.click()\n",
    "\n",
    "login = chrome.find_element_by_name(\"login\")\n",
    "login.send_keys(\"brunosecchiari95@gmail.com\")\n",
    "login_submit_button = chrome.find_element_by_id(\"login-submit\")\n",
    "login_submit_button.click()\n",
    "password = chrome.find_element_by_name(\"password\")\n",
    "password.send_keys(\"vwjpnz95\")\n",
    "password_submit_button = chrome.find_element_by_id(\"login-submit-password\")\n",
    "password_submit_button.click()\n",
    "\n",
    "my_string = chrome.current_url\n",
    "position1 = re.search('code=', my_string)\n",
    "starting_position = position1.span()\n",
    "position2 = re.search('&state=', my_string)\n",
    "ending_position = position2.span()\n",
    "my_finalized_string = my_string[starting_position[1]:ending_position[0]]\n",
    "my_finalized_string"
   ]
  },
  {
   "cell_type": "markdown",
   "metadata": {},
   "source": [
    "We exchange the code that was part of the Authentication URL for the ```Access Token```, meaning we're now able to interact with BOX API."
   ]
  },
  {
   "cell_type": "code",
   "execution_count": 10,
   "metadata": {},
   "outputs": [],
   "source": [
    "authentication_code = 'pYzQ7kCBMnStsz7W56shkWG3IGjSaLnb'\n",
    "access_token, refresh_token = authentication_method.authenticate(authentication_code)"
   ]
  },
  {
   "cell_type": "markdown",
   "metadata": {},
   "source": [
    "Finally, we'll create all the functions that we're going to work with along the application."
   ]
  },
  {
   "cell_type": "markdown",
   "metadata": {},
   "source": [
    "##### Retrieve File ID Function"
   ]
  },
  {
   "cell_type": "code",
   "execution_count": 11,
   "metadata": {},
   "outputs": [],
   "source": [
    "def get_file_id(client, file_name, folder_id):\n",
    "    \n",
    "    file_id = None\n",
    "    file_name_with_extension = file_name.split('.')\n",
    "    file_name = file_name_with_extension[0]\n",
    "    file_extension = file_name_with_extension[1]\n",
    "    \n",
    "    my_list = my_client.search().query(query = f'\"{file_name}\"', extension = [f'{file_extension}'], limit = 1)\n",
    "    \n",
    "    for i in my_list:\n",
    "        file_id = i.id\n",
    "    if not file_id:\n",
    "        raise Exception(f'File was not found in Folder ID: {folder_id}.')\n",
    "    return file_id"
   ]
  },
  {
   "cell_type": "code",
   "execution_count": 12,
   "metadata": {},
   "outputs": [
    {
     "data": {
      "text/plain": [
       "'843349623986'"
      ]
     },
     "execution_count": 12,
     "metadata": {},
     "output_type": "execute_result"
    }
   ],
   "source": [
    "my_file_id = get_file_id(my_client, 'List of Entity - Batch 1.xlsx', '142803598097')\n",
    "my_file_id"
   ]
  },
  {
   "cell_type": "markdown",
   "metadata": {},
   "source": [
    "##### Create Shared Link Function"
   ]
  },
  {
   "cell_type": "code",
   "execution_count": 14,
   "metadata": {},
   "outputs": [],
   "source": [
    "def create_shared_link(client, file_id):\n",
    "\n",
    "    try:\n",
    "        my_shared_link = None\n",
    "        my_shared_link = client.file(file_id).get_shared_link(access = 'open', allow_download = True)\n",
    "        print(f\"Shared Link was successfully created for File ID '{file_id}'.\")\n",
    "        return my_shared_link\n",
    "    \n",
    "    except BoxAPIException as Error:\n",
    "        raise Exception(f\"An error ocurred while trying to create the Shared Link for File ID: '{file_id}'.\")"
   ]
  },
  {
   "cell_type": "code",
   "execution_count": 15,
   "metadata": {},
   "outputs": [
    {
     "name": "stdout",
     "output_type": "stream",
     "text": [
      "Shared Link was successfully created for File ID '841995560519'.\n"
     ]
    },
    {
     "data": {
      "text/plain": [
       "'https://app.box.com/s/9ttk4g3mkonnqs3lnq35e74af2n9ha0i'"
      ]
     },
     "execution_count": 15,
     "metadata": {},
     "output_type": "execute_result"
    }
   ],
   "source": [
    "create_shared_link(my_client, my_file_id)"
   ]
  },
  {
   "cell_type": "markdown",
   "metadata": {},
   "source": [
    "##### Retrieve Shared Link Function"
   ]
  },
  {
   "cell_type": "code",
   "execution_count": 16,
   "metadata": {},
   "outputs": [],
   "source": [
    "def get_shared_link(client, file_id):\n",
    "    \n",
    "    try:\n",
    "        my_shared_link = None\n",
    "        my_shared_link = client.file(file_id).get().shared_link\n",
    "        print(f\"The Shared Link for File ID '{file_id}' is the following: \")\n",
    "        return my_shared_link['download_url']\n",
    "    \n",
    "    except BoxAPIException as Error:\n",
    "        raise Exception(f\"An error ocurred while trying to obtain the Shared Link for File ID '{file_id}'.\")"
   ]
  },
  {
   "cell_type": "code",
   "execution_count": 17,
   "metadata": {},
   "outputs": [
    {
     "name": "stdout",
     "output_type": "stream",
     "text": [
      "The Shared Link for File ID '841995560519' is the following: \n"
     ]
    },
    {
     "data": {
      "text/plain": [
       "'https://app.box.com/shared/static/9ttk4g3mkonnqs3lnq35e74af2n9ha0i.xlsx'"
      ]
     },
     "execution_count": 17,
     "metadata": {},
     "output_type": "execute_result"
    }
   ],
   "source": [
    "get_shared_link(my_client, my_file_id)"
   ]
  },
  {
   "cell_type": "markdown",
   "metadata": {},
   "source": [
    "##### Upload Function"
   ]
  },
  {
   "cell_type": "code",
   "execution_count": 18,
   "metadata": {},
   "outputs": [],
   "source": [
    "def upload_file(client, folder_id, file_path):\n",
    "    \n",
    "    try:\n",
    "        file_for_upload = None\n",
    "        file_for_upload = client.folder(folder_id).upload(file_path)\n",
    "        print(f\"File was successfully uploaded to BOX Folder '{folder_id}' with the following File ID '{file_for_upload.id}'.\")\n",
    "    \n",
    "    except BoxAPIException as Error:\n",
    "        raise Exception(f\"An error ocurred while trying to upload the file to BOX Folder '{folder_id}'.\")"
   ]
  },
  {
   "cell_type": "code",
   "execution_count": 26,
   "metadata": {},
   "outputs": [
    {
     "name": "stdout",
     "output_type": "stream",
     "text": [
      "File was successfully uploaded to BOX Folder '140701906674' with the following File ID '841995560519'.\n"
     ]
    }
   ],
   "source": [
    "upload_file(my_client, '140701906674', \n",
    "            r\"C:\\Users\\BrunoSecchiari\\Desktop\\ODA112 - Audit Backup Response - PwC Connect\\List of Entity - Batch 1.xlsx\")"
   ]
  },
  {
   "cell_type": "markdown",
   "metadata": {},
   "source": [
    "##### Download Function"
   ]
  },
  {
   "cell_type": "code",
   "execution_count": 19,
   "metadata": {},
   "outputs": [],
   "source": [
    "def download_file(client, file_id, file_path):\n",
    "    \n",
    "    try:\n",
    "        download_path = None\n",
    "        download_path = open(file_path, 'wb')\n",
    "        client.file(file_id).download_to(download_path)\n",
    "        print(f\"File ID '{file_id}' was successfully downloaded.\")\n",
    "        \n",
    "    except BoxAPIException as Error:\n",
    "        raise Exception(f\"An error ocurred while trying to download File ID '{file_id}'.\")"
   ]
  },
  {
   "cell_type": "code",
   "execution_count": 20,
   "metadata": {},
   "outputs": [
    {
     "name": "stdout",
     "output_type": "stream",
     "text": [
      "File ID '841995560519' was successfully downloaded.\n"
     ]
    }
   ],
   "source": [
    "download_file(my_client, my_file_id, r\"C:\\Users\\BrunoSecchiari\\Desktop\\List of Entity - Batch 1.xlsx\")"
   ]
  },
  {
   "cell_type": "code",
   "execution_count": 43,
   "metadata": {},
   "outputs": [],
   "source": []
  }
 ],
 "metadata": {
  "kernelspec": {
   "display_name": "Python 3 (ipykernel)",
   "language": "python",
   "name": "python3"
  },
  "language_info": {
   "codemirror_mode": {
    "name": "ipython",
    "version": 3
   },
   "file_extension": ".py",
   "mimetype": "text/x-python",
   "name": "python",
   "nbconvert_exporter": "python",
   "pygments_lexer": "ipython3",
   "version": "3.8.11"
  }
 },
 "nbformat": 4,
 "nbformat_minor": 4
}
